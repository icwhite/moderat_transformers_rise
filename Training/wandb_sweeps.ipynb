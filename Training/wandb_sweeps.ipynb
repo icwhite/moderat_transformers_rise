{
 "cells": [
  {
   "cell_type": "code",
   "execution_count": null,
   "metadata": {},
   "outputs": [],
   "source": [
    "import wandb\n",
    "\n",
    "wandb.login()"
   ]
  },
  {
   "cell_type": "code",
   "execution_count": null,
   "metadata": {},
   "outputs": [],
   "source": [
    "# configure the sweep\n",
    "sweep_config = {\n",
    "    \"method\": \"random\"\n",
    "}\n",
    "\n",
    "metric = {\n",
    "    \"name\" : \"val/accuracy\",\n",
    "    \"goal\": \"maximize\"\n",
    "}\n",
    "\n",
    "sweep_config[\"metric\"] = metric\n",
    "\n",
    "parameters_dict = {\n",
    "    \"learning_rate\": {\n",
    "        \"distribution\": \"q_log_uniform_values\",\n",
    "        \"q\" : 10,\n",
    "        \"min\": 1e-7,\n",
    "        \"max\": 1e-3\n",
    "    },\n",
    "    \"weight_decay\": {\n",
    "        \"distribution\": \"q_log_uniform_values\",\n",
    "        \"q\": 10,\n",
    "        \"min\": 0,\n",
    "        \"max\": 1 \n",
    "    },\n",
    "    \"epochs\": {\n",
    "        \"value\": 1\n",
    "    }\n",
    "}\n",
    "\n",
    "sweep_config[\"parameters\"] = parameters_dict\n",
    "for dataset in DATASETS:\n",
    "    wandb_project_name = f\"encoder-t5-hyperparameter-search-{dataset}\"\n",
    "\n",
    "    \n",
    "    sweep_id = wandb.sweep(sweep_config, project=wandb_project_name)\n",
    "\n",
    "    source = f\"./Datasets/{dataset}-folds.csv\"\n",
    "    # gahhhhh\n"
   ]
  },
  {
   "cell_type": "code",
   "execution_count": null,
   "metadata": {},
   "outputs": [],
   "source": [
    "PROJECT_NAME = \"hyperparameter-search\"\n",
    "\n",
    "sweep_id = wandb.sweep(sweep_config, project=PROJECT_NAME)\n"
   ]
  },
  {
   "cell_type": "code",
   "execution_count": 2,
   "metadata": {},
   "outputs": [
    {
     "ename": "IndentationError",
     "evalue": "expected an indented block (1523657481.py, line 16)",
     "output_type": "error",
     "traceback": [
      "\u001b[0;36m  File \u001b[0;32m\"/tmp/ipykernel_20631/1523657481.py\"\u001b[0;36m, line \u001b[0;32m16\u001b[0m\n\u001b[0;31m    def train_epoch(model, loader, optimizer):\u001b[0m\n\u001b[0m                                              ^\u001b[0m\n\u001b[0;31mIndentationError\u001b[0m\u001b[0;31m:\u001b[0m expected an indented block\n"
     ]
    }
   ],
   "source": [
    "import torch\n",
    "import torch.optim as optim\n",
    "import torch.nn.functional as F\n",
    "import torch.nn as nn\n",
    "from torchvision import datasets, transforms\n",
    "\n",
    "device = torch.device(\"cuda\" if torch.cuda.is_available() else \"cpu\")\n",
    "\n",
    "def train(config=None):\n",
    "    # initialize a new wandb run\n",
    "    with wandb.init(config=config):\n",
    "        config = wandb.config\n",
    "        pass\n",
    "\n",
    "\n",
    "def train_epoch(model, loader, optimizer):\n",
    "    cumu_loss, cumu_accuracy = 0, 0\n",
    "    for batch in loader:\n",
    "        optimizer.zero_grad()\n",
    "        for _ in model.hparams.gradient_accumulation_steps:\n",
    "            loss, accuracy = model._step()\n",
    "\n",
    "            loss.backward()\n",
    "        optimizer.step()\n",
    "\n",
    "        wandb.log({\"batch loss\": loss.item()})\n",
    "    \n",
    "    return cumu_loss/len(loader), cumu_accuracy/len(loader)\n"
   ]
  },
  {
   "cell_type": "code",
   "execution_count": null,
   "metadata": {},
   "outputs": [],
   "source": []
  }
 ],
 "metadata": {
  "kernelspec": {
   "display_name": "Python 3 (ipykernel)",
   "language": "python",
   "name": "python3"
  },
  "language_info": {
   "codemirror_mode": {
    "name": "ipython",
    "version": 3
   },
   "file_extension": ".py",
   "mimetype": "text/x-python",
   "name": "python",
   "nbconvert_exporter": "python",
   "pygments_lexer": "ipython3",
   "version": "3.9.10"
  },
  "orig_nbformat": 4
 },
 "nbformat": 4,
 "nbformat_minor": 2
}

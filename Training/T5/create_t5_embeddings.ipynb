{
 "cells": [
  {
   "cell_type": "code",
   "execution_count": 142,
   "metadata": {},
   "outputs": [],
   "source": [
    "import setGPU, numpy as np, glob, csv\n",
    "from transformers import BertTokenizer, BertModel\n",
    "import torch, torch.nn as nn, torch.nn.functional as F"
   ]
  },
  {
   "cell_type": "code",
   "execution_count": 2,
   "metadata": {},
   "outputs": [
    {
     "ename": "NameError",
     "evalue": "name 'glob' is not defined",
     "output_type": "error",
     "traceback": [
      "\u001b[1;31m---------------------------------------------------------------------------\u001b[0m",
      "\u001b[1;31mNameError\u001b[0m                                 Traceback (most recent call last)",
      "\u001b[1;32m~\\AppData\\Local\\Temp/ipykernel_22596/1349794057.py\u001b[0m in \u001b[0;36m<module>\u001b[1;34m\u001b[0m\n\u001b[0;32m      3\u001b[0m \u001b[1;32mfrom\u001b[0m \u001b[0msklearn\u001b[0m\u001b[1;33m.\u001b[0m\u001b[0mmodel_selection\u001b[0m \u001b[1;32mimport\u001b[0m \u001b[0mtrain_test_split\u001b[0m\u001b[1;33m\u001b[0m\u001b[1;33m\u001b[0m\u001b[0m\n\u001b[0;32m      4\u001b[0m \u001b[1;33m\u001b[0m\u001b[0m\n\u001b[1;32m----> 5\u001b[1;33m \u001b[1;32mfor\u001b[0m \u001b[0msource\u001b[0m \u001b[1;32min\u001b[0m \u001b[0mglob\u001b[0m\u001b[1;33m.\u001b[0m\u001b[0mglob\u001b[0m\u001b[1;33m(\u001b[0m\u001b[0mSOURCE_PATH\u001b[0m\u001b[1;33m)\u001b[0m\u001b[1;33m:\u001b[0m\u001b[1;33m\u001b[0m\u001b[1;33m\u001b[0m\u001b[0m\n\u001b[0m\u001b[0;32m      6\u001b[0m     \u001b[0mlabels\u001b[0m \u001b[1;33m=\u001b[0m \u001b[1;33m[\u001b[0m\u001b[1;33m]\u001b[0m\u001b[1;33m\u001b[0m\u001b[1;33m\u001b[0m\u001b[0m\n\u001b[0;32m      7\u001b[0m     \u001b[0mfive_folds\u001b[0m \u001b[1;33m=\u001b[0m \u001b[1;33m[\u001b[0m\u001b[1;33m]\u001b[0m\u001b[1;33m\u001b[0m\u001b[1;33m\u001b[0m\u001b[0m\n",
      "\u001b[1;31mNameError\u001b[0m: name 'glob' is not defined"
     ]
    }
   ],
   "source": [
    "SOURCE_PATH = \"./Datasets/*-folds.csv\"\n",
    "\n",
    "from sklearn.model_selection import train_test_split\n",
    "\n",
    "for source in glob.glob(SOURCE_PATH):\n",
    "    labels = []\n",
    "    five_folds = []\n",
    "    ten_folds = []\n",
    "    train_test_split = []\n",
    "    encodings = []\n",
    "    \n",
    "    ### Load Data from csv\n",
    "    print('Load Dataset: {}...'.format(source.split('/')[-1]))\n",
    "    with open(source, encoding=\"utf-8\") as f_source:\n",
    "        reader = csv.DictReader(f_source)\n",
    "        for row in reader:\n",
    "            encodings.append(row['text'])\n",
    "            labels.append(float(row['label']))\n",
    "            five_folds.append(int(row['five_folds']))\n",
    "            ten_folds.append(int(row['ten_folds']))\n",
    "            train_test_split.append(int(row['train_test_split']))\n",
    "    \n",
    "    encodings = tokenizer(encodings, truncation=True, padding=True)\n",
    "    \n",
    "    train_X, train_y, test_X, test_y = train_test_split([encodings, labels], random_state=42)\n",
    "    \n",
    "    train_dataset = RPDataset(train_X, train_y)\n",
    "    test_dataset = RPDataset(test_X, test_y)"
   ]
  },
  {
   "cell_type": "code",
   "execution_count": 3,
   "metadata": {},
   "outputs": [],
   "source": [
    "import torch"
   ]
  }
 ],
 "metadata": {
  "kernelspec": {
   "display_name": "Python 3 (ipykernel)",
   "language": "python",
   "name": "python3"
  },
  "orig_nbformat": 4,
  "vscode": {
   "interpreter": {
    "hash": "822c11fc1520dc863eb71ed954e7df7c13a4f43f6dead24a015d5e39da55e1c6"
   }
  }
 },
 "nbformat": 4,
 "nbformat_minor": 2
}

{
 "cells": [
  {
   "cell_type": "code",
   "execution_count": 1,
   "metadata": {},
   "outputs": [
    {
     "name": "stdout",
     "output_type": "stream",
     "text": [
      "\u001b[0m\u001b[01;34mDatasets\u001b[0m/                                 \u001b[01;34mnltk_data\u001b[0m/\n",
      "\u001b[01;34mGermanT5-RP-Mod\u001b[0m/                          \u001b[01;34mray_results\u001b[0m/\n",
      "\u001b[01;34mRP-Mod\u001b[0m/                                   \u001b[01;34mresults\u001b[0m/\n",
      "\u001b[01;34mRP-Mod-GermanT5-oscar-german-small-el32\u001b[0m/  \u001b[01;34mt5_base_imdb_sentiment\u001b[0m/\n",
      "T5FineTuner.py                            \u001b[01;34mt5_german_small_rp_mod\u001b[0m/\n",
      "\u001b[01;34maclImdb\u001b[0m/                                  \u001b[01;34mt5_german_small_rp_mod_2\u001b[0m/\n",
      "aclImdb_v1.tar.gz                         \u001b[01;34mt5_german_small_rp_mod_3\u001b[0m/\n",
      "\u001b[01;34marguments_test_dir\u001b[0m/                       \u001b[01;34mt5_imdb_sentiment\u001b[0m/\n",
      "create_t5_embeddings.ipynb                \u001b[01;34mwandb\u001b[0m/\n",
      "\u001b[01;34mlightning_logs\u001b[0m/\n"
     ]
    }
   ],
   "source": [
    "%ls"
   ]
  },
  {
   "cell_type": "code",
   "execution_count": 30,
   "metadata": {},
   "outputs": [],
   "source": [
    "from T5FineTuner import T5FineTuner, RPDataset\n",
    "from utils import get_folds\n",
    "import torch\n",
    "import argparse\n",
    "from transformers import T5Tokenizer\n",
    "from torch.utils.data import Dataset, DataLoader\n",
    "\n",
    "DATASET = \"RP-Crowd-3\"\n",
    "MODEL_NAME_OR_PATH = \"GermanT5/t5-efficient-oscar-german-small-el32\"\n",
    "WANDB_PROJECT_NAME = \"rp-crowd-3-folds-t5-efficient-small-el32\"\n",
    "OUTPUT_DIR = \"./GermanT5-RP-Mod/t5-efficient-oscar-german-small-el32/\"\n",
    "SOURCE = f\"./Datasets/{DATASET}-folds.csv\"\n",
    "\n",
    "tokenizer = T5Tokenizer.from_pretrained(MODEL_NAME_OR_PATH)\n",
    "checkpoint_path = \"./GermanT5-RP-Mod/t5-efficient-oscar-german-small-el32/lr-0.0004-wd-0.1/epoch=3-val_accuracy=0.74-val_loss=0.28.ckpt\"\n",
    "train_inputs, train_targets, val_inputs, val_targets = get_folds(SOURCE)\n",
    "\n",
    "train_dataset = RPDataset(tokenizer, train_inputs, train_targets)\n",
    "valid_dataset = RPDataset(tokenizer, val_inputs, val_targets)\n",
    "\n",
    "checkpoint = torch.load(checkpoint_path)\n",
    "hparams = checkpoint[\"hyper_parameters\"]\n",
    "hparams[\"train_dataset\"] = train_dataset\n",
    "hparams[\"val_dataset\"] = valid_dataset\n",
    "new_args = argparse.Namespace(**hparams)\n",
    "\n",
    "new_model = T5FineTuner.load_from_checkpoint(checkpoint_path, hparams=new_args)\n"
   ]
  },
  {
   "cell_type": "markdown",
   "metadata": {},
   "source": [
    "### Load checkpoint of Encoder Only Model"
   ]
  },
  {
   "cell_type": "code",
   "execution_count": 32,
   "metadata": {},
   "outputs": [
    {
     "name": "stdout",
     "output_type": "stream",
     "text": [
      "huggingface/tokenizers: The current process just got forked, after parallelism has already been used. Disabling parallelism to avoid deadlocks...\n",
      "To disable this warning, you can either:\n",
      "\t- Avoid using `tokenizers` before the fork if possible\n",
      "\t- Explicitly set the environment variable TOKENIZERS_PARALLELISM=(true | false)\n",
      "Sun Jul 24 12:56:49 2022       \n",
      "+-----------------------------------------------------------------------------+\n",
      "| NVIDIA-SMI 470.103.01   Driver Version: 470.103.01   CUDA Version: 11.4     |\n",
      "|-------------------------------+----------------------+----------------------+\n",
      "| GPU  Name        Persistence-M| Bus-Id        Disp.A | Volatile Uncorr. ECC |\n",
      "| Fan  Temp  Perf  Pwr:Usage/Cap|         Memory-Usage | GPU-Util  Compute M. |\n",
      "|                               |                      |               MIG M. |\n",
      "|===============================+======================+======================|\n",
      "|   0  Quadro RTX 6000     Off  | 00000000:D8:00.0 Off |                  Off |\n",
      "| 35%   30C    P8     6W / 260W |  24211MiB / 24220MiB |      0%      Default |\n",
      "|                               |                      |                  N/A |\n",
      "+-------------------------------+----------------------+----------------------+\n",
      "                                                                               \n",
      "+-----------------------------------------------------------------------------+\n",
      "| Processes:                                                                  |\n",
      "|  GPU   GI   CI        PID   Type   Process name                  GPU Memory |\n",
      "|        ID   ID                                                   Usage      |\n",
      "|=============================================================================|\n",
      "+-----------------------------------------------------------------------------+\n"
     ]
    }
   ],
   "source": [
    "!nvidia-smi"
   ]
  },
  {
   "cell_type": "code",
   "execution_count": 34,
   "metadata": {},
   "outputs": [
    {
     "name": "stderr",
     "output_type": "stream",
     "text": [
      "Some weights of the model checkpoint at GermanT5/t5-efficient-oscar-german-small-el32 were not used when initializing T5EncoderModel: ['decoder.block.1.layer.0.SelfAttention.q.weight', 'decoder.block.4.layer.0.SelfAttention.v.weight', 'decoder.block.4.layer.0.SelfAttention.k.weight', 'decoder.block.3.layer.0.SelfAttention.v.weight', 'decoder.block.0.layer.1.EncDecAttention.k.weight', 'decoder.block.2.layer.1.EncDecAttention.k.weight', 'decoder.block.5.layer.2.layer_norm.weight', 'decoder.block.1.layer.0.layer_norm.weight', 'decoder.block.4.layer.1.layer_norm.weight', 'decoder.block.3.layer.2.layer_norm.weight', 'decoder.block.5.layer.0.SelfAttention.v.weight', 'decoder.block.4.layer.2.DenseReluDense.wi.weight', 'decoder.embed_tokens.weight', 'decoder.block.3.layer.1.layer_norm.weight', 'decoder.block.1.layer.1.EncDecAttention.k.weight', 'decoder.block.2.layer.0.SelfAttention.v.weight', 'decoder.block.5.layer.1.EncDecAttention.o.weight', 'decoder.block.2.layer.0.SelfAttention.o.weight', 'decoder.block.1.layer.0.SelfAttention.o.weight', 'decoder.block.3.layer.2.DenseReluDense.wi.weight', 'decoder.block.0.layer.0.SelfAttention.o.weight', 'decoder.block.0.layer.1.layer_norm.weight', 'decoder.block.1.layer.2.layer_norm.weight', 'decoder.block.0.layer.0.SelfAttention.v.weight', 'decoder.block.4.layer.2.layer_norm.weight', 'decoder.block.5.layer.0.SelfAttention.o.weight', 'decoder.block.2.layer.2.layer_norm.weight', 'decoder.block.3.layer.0.SelfAttention.k.weight', 'decoder.block.2.layer.1.layer_norm.weight', 'decoder.block.4.layer.1.EncDecAttention.o.weight', 'decoder.block.2.layer.0.layer_norm.weight', 'decoder.block.5.layer.1.EncDecAttention.v.weight', 'decoder.block.4.layer.0.SelfAttention.q.weight', 'decoder.block.2.layer.0.SelfAttention.k.weight', 'decoder.block.1.layer.1.EncDecAttention.q.weight', 'decoder.block.1.layer.0.SelfAttention.k.weight', 'decoder.block.5.layer.0.SelfAttention.k.weight', 'decoder.block.5.layer.1.EncDecAttention.q.weight', 'decoder.block.2.layer.1.EncDecAttention.q.weight', 'decoder.block.3.layer.1.EncDecAttention.o.weight', 'decoder.block.0.layer.1.EncDecAttention.q.weight', 'decoder.block.0.layer.0.layer_norm.weight', 'decoder.block.3.layer.0.SelfAttention.o.weight', 'decoder.block.3.layer.1.EncDecAttention.v.weight', 'decoder.block.1.layer.0.SelfAttention.v.weight', 'decoder.block.5.layer.2.DenseReluDense.wo.weight', 'decoder.block.1.layer.1.layer_norm.weight', 'decoder.block.1.layer.2.DenseReluDense.wo.weight', 'decoder.block.3.layer.0.layer_norm.weight', 'decoder.block.4.layer.0.SelfAttention.o.weight', 'decoder.final_layer_norm.weight', 'decoder.block.4.layer.0.layer_norm.weight', 'decoder.block.2.layer.1.EncDecAttention.o.weight', 'decoder.block.5.layer.1.layer_norm.weight', 'lm_head.weight', 'decoder.block.0.layer.2.DenseReluDense.wo.weight', 'decoder.block.5.layer.2.DenseReluDense.wi.weight', 'decoder.block.1.layer.1.EncDecAttention.o.weight', 'decoder.block.0.layer.2.DenseReluDense.wi.weight', 'decoder.block.1.layer.1.EncDecAttention.v.weight', 'decoder.block.0.layer.1.EncDecAttention.o.weight', 'decoder.block.1.layer.2.DenseReluDense.wi.weight', 'decoder.block.3.layer.0.SelfAttention.q.weight', 'decoder.block.3.layer.1.EncDecAttention.k.weight', 'decoder.block.4.layer.1.EncDecAttention.q.weight', 'decoder.block.4.layer.1.EncDecAttention.k.weight', 'decoder.block.2.layer.1.EncDecAttention.v.weight', 'decoder.block.0.layer.1.EncDecAttention.v.weight', 'decoder.block.0.layer.0.SelfAttention.relative_attention_bias.weight', 'decoder.block.4.layer.1.EncDecAttention.v.weight', 'decoder.block.0.layer.0.SelfAttention.q.weight', 'decoder.block.0.layer.2.layer_norm.weight', 'decoder.block.0.layer.0.SelfAttention.k.weight', 'decoder.block.2.layer.0.SelfAttention.q.weight', 'decoder.block.3.layer.1.EncDecAttention.q.weight', 'decoder.block.3.layer.2.DenseReluDense.wo.weight', 'decoder.block.5.layer.0.SelfAttention.q.weight', 'decoder.block.5.layer.1.EncDecAttention.k.weight', 'decoder.block.2.layer.2.DenseReluDense.wi.weight', 'decoder.block.2.layer.2.DenseReluDense.wo.weight', 'decoder.block.4.layer.2.DenseReluDense.wo.weight', 'decoder.block.5.layer.0.layer_norm.weight']\n",
      "- This IS expected if you are initializing T5EncoderModel from the checkpoint of a model trained on another task or with another architecture (e.g. initializing a BertForSequenceClassification model from a BertForPreTraining model).\n",
      "- This IS NOT expected if you are initializing T5EncoderModel from the checkpoint of a model that you expect to be exactly identical (initializing a BertForSequenceClassification model from a BertForSequenceClassification model).\n"
     ]
    }
   ],
   "source": [
    "from classification_classes import Enc1T5, RPClassificationDataset, load_dataset\n",
    "import torch\n",
    "import argparse\n",
    "from transformers import AutoTokenizer\n",
    "from torch.utils.data import Dataset, DataLoader\n",
    "\n",
    "DATASET = \"RP-Crowd-2\"\n",
    "MODEL_NAME_OR_PATH = \"GermanT5/t5-efficient-oscar-german-small-el32\"\n",
    "source = f\"./Datasets/{DATASET}-folds.csv\"\n",
    "\n",
    "# tokenizer = AutoTokenizer.from_pretrained()\n",
    "# train_dataset, valid_dataset = load_dataset(source)\n",
    "\n",
    "checkpoint_path = \"/home/dobby/bestmodels/enc1t5/epoch=3-val_accuracy=0.85.ckpt\"                 \n",
    "checkpoint = torch.load(checkpoint_path)\n",
    "hparams = checkpoint[\"hyper_parameters\"]\n",
    "# hparams[\"train_dataset\"] = train_dataset\n",
    "# hparams[\"val_dataset\"] = valid_dataset\n",
    "new_args = argparse.Namespace(**hparams)\n",
    "\n",
    "# now I am confused... what do I do here??\n",
    "model = Enc1T5.load_from_checkpoint(checkpoint_path, hparams=new_args)"
   ]
  },
  {
   "cell_type": "markdown",
   "metadata": {},
   "source": [
    "### Get False Positives"
   ]
  },
  {
   "cell_type": "code",
   "execution_count": null,
   "metadata": {},
   "outputs": [],
   "source": [
    "# apply the model to the entire validation dataset\n"
   ]
  },
  {
   "cell_type": "code",
   "execution_count": 35,
   "metadata": {},
   "outputs": [
    {
     "name": "stderr",
     "output_type": "stream",
     "text": [
      "Partition explainer:   5%|▌         | 7/139 [00:16<05:55,  2.69s/it]"
     ]
    },
    {
     "data": {
      "application/vnd.jupyter.widget-view+json": {
       "model_id": "2793a32076b2402f9f36aacded4754a6",
       "version_major": 2,
       "version_minor": 0
      },
      "text/plain": [
       "  0%|          | 0/498 [00:00<?, ?it/s]"
      ]
     },
     "metadata": {},
     "output_type": "display_data"
    },
    {
     "name": "stderr",
     "output_type": "stream",
     "text": [
      "Partition explainer:   9%|▉         | 13/139 [00:37<04:19,  2.06s/it]"
     ]
    },
    {
     "data": {
      "application/vnd.jupyter.widget-view+json": {
       "model_id": "a0ef138be80a4dae8932c8468eaa42fb",
       "version_major": 2,
       "version_minor": 0
      },
      "text/plain": [
       "  0%|          | 0/498 [00:00<?, ?it/s]"
      ]
     },
     "metadata": {},
     "output_type": "display_data"
    },
    {
     "name": "stderr",
     "output_type": "stream",
     "text": [
      "Partition explainer:  12%|█▏        | 16/139 [00:55<08:06,  3.96s/it]"
     ]
    },
    {
     "data": {
      "application/vnd.jupyter.widget-view+json": {
       "model_id": "4b41c2b6ab74492d8d99b3a07871ce2f",
       "version_major": 2,
       "version_minor": 0
      },
      "text/plain": [
       "  0%|          | 0/498 [00:00<?, ?it/s]"
      ]
     },
     "metadata": {},
     "output_type": "display_data"
    },
    {
     "name": "stderr",
     "output_type": "stream",
     "text": [
      "Partition explainer:  16%|█▌        | 22/139 [01:19<05:55,  3.04s/it]"
     ]
    },
    {
     "data": {
      "application/vnd.jupyter.widget-view+json": {
       "model_id": "0b7a6d272a444b4c903556bfb558deb1",
       "version_major": 2,
       "version_minor": 0
      },
      "text/plain": [
       "  0%|          | 0/498 [00:00<?, ?it/s]"
      ]
     },
     "metadata": {},
     "output_type": "display_data"
    },
    {
     "name": "stderr",
     "output_type": "stream",
     "text": [
      "Partition explainer:  17%|█▋        | 23/139 [01:26<08:03,  4.17s/it]"
     ]
    },
    {
     "data": {
      "application/vnd.jupyter.widget-view+json": {
       "model_id": "e213945332ba4924851a334ef5ea5d21",
       "version_major": 2,
       "version_minor": 0
      },
      "text/plain": [
       "  0%|          | 0/498 [00:00<?, ?it/s]"
      ]
     },
     "metadata": {},
     "output_type": "display_data"
    },
    {
     "name": "stderr",
     "output_type": "stream",
     "text": [
      "Partition explainer:  17%|█▋        | 24/139 [01:32<09:16,  4.84s/it]"
     ]
    },
    {
     "data": {
      "application/vnd.jupyter.widget-view+json": {
       "model_id": "10cf1f6d204c43dab5074d6c31b1424a",
       "version_major": 2,
       "version_minor": 0
      },
      "text/plain": [
       "  0%|          | 0/498 [00:00<?, ?it/s]"
      ]
     },
     "metadata": {},
     "output_type": "display_data"
    },
    {
     "name": "stderr",
     "output_type": "stream",
     "text": [
      "Partition explainer:  19%|█▊        | 26/139 [01:40<07:45,  4.12s/it]"
     ]
    },
    {
     "data": {
      "application/vnd.jupyter.widget-view+json": {
       "model_id": "353704c8aa2a44ab9d9f55c2ecffc088",
       "version_major": 2,
       "version_minor": 0
      },
      "text/plain": [
       "  0%|          | 0/498 [00:00<?, ?it/s]"
      ]
     },
     "metadata": {},
     "output_type": "display_data"
    },
    {
     "name": "stderr",
     "output_type": "stream",
     "text": [
      "Partition explainer:  22%|██▏       | 30/139 [02:04<07:41,  4.23s/it]"
     ]
    },
    {
     "data": {
      "application/vnd.jupyter.widget-view+json": {
       "model_id": "3837c408333c437ea1a28e6c1bc5a011",
       "version_major": 2,
       "version_minor": 0
      },
      "text/plain": [
       "  0%|          | 0/498 [00:00<?, ?it/s]"
      ]
     },
     "metadata": {},
     "output_type": "display_data"
    },
    {
     "name": "stderr",
     "output_type": "stream",
     "text": [
      "Partition explainer:  23%|██▎       | 32/139 [02:21<11:07,  6.24s/it]"
     ]
    },
    {
     "data": {
      "application/vnd.jupyter.widget-view+json": {
       "model_id": "f6f01102dda94e7ca490019574cdcfb0",
       "version_major": 2,
       "version_minor": 0
      },
      "text/plain": [
       "  0%|          | 0/498 [00:00<?, ?it/s]"
      ]
     },
     "metadata": {},
     "output_type": "display_data"
    },
    {
     "name": "stderr",
     "output_type": "stream",
     "text": [
      "Partition explainer:  24%|██▍       | 34/139 [02:35<10:41,  6.11s/it]"
     ]
    },
    {
     "data": {
      "application/vnd.jupyter.widget-view+json": {
       "model_id": "898997c554414be69e9aeb5e4ba1bd5d",
       "version_major": 2,
       "version_minor": 0
      },
      "text/plain": [
       "  0%|          | 0/498 [00:00<?, ?it/s]"
      ]
     },
     "metadata": {},
     "output_type": "display_data"
    },
    {
     "name": "stderr",
     "output_type": "stream",
     "text": [
      "Partition explainer:  26%|██▌       | 36/139 [02:41<07:43,  4.50s/it]"
     ]
    },
    {
     "data": {
      "application/vnd.jupyter.widget-view+json": {
       "model_id": "cc7e91682eb4476f87a5389e47221275",
       "version_major": 2,
       "version_minor": 0
      },
      "text/plain": [
       "  0%|          | 0/498 [00:00<?, ?it/s]"
      ]
     },
     "metadata": {},
     "output_type": "display_data"
    },
    {
     "name": "stderr",
     "output_type": "stream",
     "text": [
      "Partition explainer:  27%|██▋       | 37/139 [02:55<12:29,  7.35s/it]"
     ]
    },
    {
     "data": {
      "application/vnd.jupyter.widget-view+json": {
       "model_id": "85c5091619954b7494765ea6183611d5",
       "version_major": 2,
       "version_minor": 0
      },
      "text/plain": [
       "  0%|          | 0/498 [00:00<?, ?it/s]"
      ]
     },
     "metadata": {},
     "output_type": "display_data"
    },
    {
     "name": "stderr",
     "output_type": "stream",
     "text": [
      "Partition explainer:  28%|██▊       | 39/139 [03:10<11:25,  6.85s/it]"
     ]
    },
    {
     "data": {
      "application/vnd.jupyter.widget-view+json": {
       "model_id": "50e55764d8dd4ed49b32193ab654ae13",
       "version_major": 2,
       "version_minor": 0
      },
      "text/plain": [
       "  0%|          | 0/498 [00:00<?, ?it/s]"
      ]
     },
     "metadata": {},
     "output_type": "display_data"
    },
    {
     "name": "stderr",
     "output_type": "stream",
     "text": [
      "Partition explainer:  31%|███       | 43/139 [03:32<07:09,  4.48s/it]"
     ]
    },
    {
     "data": {
      "application/vnd.jupyter.widget-view+json": {
       "model_id": "213511aea95547edb16b014c4abb0115",
       "version_major": 2,
       "version_minor": 0
      },
      "text/plain": [
       "  0%|          | 0/498 [00:00<?, ?it/s]"
      ]
     },
     "metadata": {},
     "output_type": "display_data"
    },
    {
     "name": "stderr",
     "output_type": "stream",
     "text": [
      "Partition explainer:  37%|███▋      | 51/139 [03:56<03:22,  2.30s/it]"
     ]
    },
    {
     "data": {
      "application/vnd.jupyter.widget-view+json": {
       "model_id": "b87f3679ff6b47d2b0f4dd3d02733974",
       "version_major": 2,
       "version_minor": 0
      },
      "text/plain": [
       "  0%|          | 0/498 [00:00<?, ?it/s]"
      ]
     },
     "metadata": {},
     "output_type": "display_data"
    },
    {
     "name": "stderr",
     "output_type": "stream",
     "text": [
      "Partition explainer:  37%|███▋      | 52/139 [04:08<07:18,  5.04s/it]"
     ]
    },
    {
     "data": {
      "application/vnd.jupyter.widget-view+json": {
       "model_id": "679ca89d20684fee9090a6c93d74b8b7",
       "version_major": 2,
       "version_minor": 0
      },
      "text/plain": [
       "  0%|          | 0/498 [00:00<?, ?it/s]"
      ]
     },
     "metadata": {},
     "output_type": "display_data"
    },
    {
     "name": "stderr",
     "output_type": "stream",
     "text": [
      "Partition explainer:  40%|████      | 56/139 [04:20<04:06,  2.97s/it]"
     ]
    },
    {
     "data": {
      "application/vnd.jupyter.widget-view+json": {
       "model_id": "0e0b09ffa00b4f86a27653dcaef91f2f",
       "version_major": 2,
       "version_minor": 0
      },
      "text/plain": [
       "  0%|          | 0/498 [00:00<?, ?it/s]"
      ]
     },
     "metadata": {},
     "output_type": "display_data"
    },
    {
     "name": "stderr",
     "output_type": "stream",
     "text": [
      "Partition explainer:  42%|████▏     | 58/139 [04:28<04:16,  3.17s/it]"
     ]
    },
    {
     "data": {
      "application/vnd.jupyter.widget-view+json": {
       "model_id": "689b905452d848fca2f5ee2dbe90412d",
       "version_major": 2,
       "version_minor": 0
      },
      "text/plain": [
       "  0%|          | 0/498 [00:00<?, ?it/s]"
      ]
     },
     "metadata": {},
     "output_type": "display_data"
    },
    {
     "name": "stderr",
     "output_type": "stream",
     "text": [
      "Partition explainer:  42%|████▏     | 59/139 [04:40<07:46,  5.83s/it]"
     ]
    },
    {
     "data": {
      "application/vnd.jupyter.widget-view+json": {
       "model_id": "e821345b814d4838ab19b2cedc469cca",
       "version_major": 2,
       "version_minor": 0
      },
      "text/plain": [
       "  0%|          | 0/498 [00:00<?, ?it/s]"
      ]
     },
     "metadata": {},
     "output_type": "display_data"
    },
    {
     "name": "stderr",
     "output_type": "stream",
     "text": [
      "Partition explainer:  44%|████▍     | 61/139 [04:58<08:57,  6.89s/it]"
     ]
    },
    {
     "data": {
      "application/vnd.jupyter.widget-view+json": {
       "model_id": "dcd967c0cbe94d2883db3f9ae44eb50a",
       "version_major": 2,
       "version_minor": 0
      },
      "text/plain": [
       "  0%|          | 0/498 [00:00<?, ?it/s]"
      ]
     },
     "metadata": {},
     "output_type": "display_data"
    },
    {
     "name": "stderr",
     "output_type": "stream",
     "text": [
      "Partition explainer:  45%|████▍     | 62/139 [05:17<13:32, 10.55s/it]"
     ]
    },
    {
     "data": {
      "application/vnd.jupyter.widget-view+json": {
       "model_id": "b56175c326ce40e5b40eb9ea3224db6f",
       "version_major": 2,
       "version_minor": 0
      },
      "text/plain": [
       "  0%|          | 0/498 [00:00<?, ?it/s]"
      ]
     },
     "metadata": {},
     "output_type": "display_data"
    },
    {
     "name": "stderr",
     "output_type": "stream",
     "text": [
      "Partition explainer:  46%|████▌     | 64/139 [05:24<08:19,  6.66s/it]"
     ]
    },
    {
     "data": {
      "application/vnd.jupyter.widget-view+json": {
       "model_id": "d406e434495f4f3a832fa1588d052d4e",
       "version_major": 2,
       "version_minor": 0
      },
      "text/plain": [
       "  0%|          | 0/498 [00:00<?, ?it/s]"
      ]
     },
     "metadata": {},
     "output_type": "display_data"
    },
    {
     "name": "stderr",
     "output_type": "stream",
     "text": [
      "Partition explainer:  48%|████▊     | 67/139 [05:34<04:56,  4.11s/it]"
     ]
    },
    {
     "data": {
      "application/vnd.jupyter.widget-view+json": {
       "model_id": "6de30a3d70334aae8995243e4a2cb067",
       "version_major": 2,
       "version_minor": 0
      },
      "text/plain": [
       "  0%|          | 0/498 [00:00<?, ?it/s]"
      ]
     },
     "metadata": {},
     "output_type": "display_data"
    },
    {
     "name": "stderr",
     "output_type": "stream",
     "text": [
      "Partition explainer:  49%|████▉     | 68/139 [05:40<05:36,  4.74s/it]"
     ]
    },
    {
     "data": {
      "application/vnd.jupyter.widget-view+json": {
       "model_id": "5ef70d874dbd4ada9a3d34adce7ab186",
       "version_major": 2,
       "version_minor": 0
      },
      "text/plain": [
       "  0%|          | 0/498 [00:00<?, ?it/s]"
      ]
     },
     "metadata": {},
     "output_type": "display_data"
    },
    {
     "name": "stderr",
     "output_type": "stream",
     "text": [
      "Partition explainer:  50%|████▉     | 69/139 [05:46<06:02,  5.17s/it]"
     ]
    },
    {
     "data": {
      "application/vnd.jupyter.widget-view+json": {
       "model_id": "9bc4e30d7b174deabbeceebf92c1c009",
       "version_major": 2,
       "version_minor": 0
      },
      "text/plain": [
       "  0%|          | 0/498 [00:00<?, ?it/s]"
      ]
     },
     "metadata": {},
     "output_type": "display_data"
    },
    {
     "name": "stderr",
     "output_type": "stream",
     "text": [
      "Partition explainer:  52%|█████▏    | 72/139 [05:55<03:32,  3.17s/it]"
     ]
    },
    {
     "data": {
      "application/vnd.jupyter.widget-view+json": {
       "model_id": "dc2bf751c61344378379304fccee4986",
       "version_major": 2,
       "version_minor": 0
      },
      "text/plain": [
       "  0%|          | 0/498 [00:00<?, ?it/s]"
      ]
     },
     "metadata": {},
     "output_type": "display_data"
    },
    {
     "name": "stderr",
     "output_type": "stream",
     "text": [
      "Partition explainer:  53%|█████▎    | 73/139 [06:01<04:29,  4.08s/it]"
     ]
    },
    {
     "data": {
      "application/vnd.jupyter.widget-view+json": {
       "model_id": "493a85ee41184ef4966f2de2f6dade64",
       "version_major": 2,
       "version_minor": 0
      },
      "text/plain": [
       "  0%|          | 0/498 [00:00<?, ?it/s]"
      ]
     },
     "metadata": {},
     "output_type": "display_data"
    },
    {
     "name": "stderr",
     "output_type": "stream",
     "text": [
      "Partition explainer:  53%|█████▎    | 74/139 [06:14<07:13,  6.67s/it]"
     ]
    },
    {
     "data": {
      "application/vnd.jupyter.widget-view+json": {
       "model_id": "2e7032b8896b4c5988e73c325d1633a4",
       "version_major": 2,
       "version_minor": 0
      },
      "text/plain": [
       "  0%|          | 0/498 [00:00<?, ?it/s]"
      ]
     },
     "metadata": {},
     "output_type": "display_data"
    },
    {
     "name": "stderr",
     "output_type": "stream",
     "text": [
      "Partition explainer:  54%|█████▍    | 75/139 [06:26<09:00,  8.45s/it]"
     ]
    },
    {
     "data": {
      "application/vnd.jupyter.widget-view+json": {
       "model_id": "d1d9946d8c024771afd1bde491b59804",
       "version_major": 2,
       "version_minor": 0
      },
      "text/plain": [
       "  0%|          | 0/498 [00:00<?, ?it/s]"
      ]
     },
     "metadata": {},
     "output_type": "display_data"
    },
    {
     "name": "stderr",
     "output_type": "stream",
     "text": [
      "Partition explainer:  58%|█████▊    | 80/139 [06:42<03:08,  3.20s/it]"
     ]
    },
    {
     "data": {
      "application/vnd.jupyter.widget-view+json": {
       "model_id": "48c960c5dfd94a13af7c913a3f107a15",
       "version_major": 2,
       "version_minor": 0
      },
      "text/plain": [
       "  0%|          | 0/498 [00:00<?, ?it/s]"
      ]
     },
     "metadata": {},
     "output_type": "display_data"
    },
    {
     "name": "stderr",
     "output_type": "stream",
     "text": [
      "Partition explainer:  59%|█████▉    | 82/139 [06:59<05:15,  5.53s/it]"
     ]
    },
    {
     "data": {
      "application/vnd.jupyter.widget-view+json": {
       "model_id": "ea76a0ec8cd34e61845fb95bf739506d",
       "version_major": 2,
       "version_minor": 0
      },
      "text/plain": [
       "  0%|          | 0/498 [00:00<?, ?it/s]"
      ]
     },
     "metadata": {},
     "output_type": "display_data"
    },
    {
     "name": "stderr",
     "output_type": "stream",
     "text": [
      "Partition explainer:  61%|██████    | 85/139 [07:22<05:17,  5.87s/it]"
     ]
    },
    {
     "data": {
      "application/vnd.jupyter.widget-view+json": {
       "model_id": "7bf24bee58bf43a896daf30d15e599f7",
       "version_major": 2,
       "version_minor": 0
      },
      "text/plain": [
       "  0%|          | 0/498 [00:00<?, ?it/s]"
      ]
     },
     "metadata": {},
     "output_type": "display_data"
    },
    {
     "name": "stderr",
     "output_type": "stream",
     "text": [
      "Partition explainer:  63%|██████▎   | 87/139 [07:29<04:01,  4.65s/it]"
     ]
    },
    {
     "data": {
      "application/vnd.jupyter.widget-view+json": {
       "model_id": "8e1db8def5fd4e3dacb103a4255b0c6c",
       "version_major": 2,
       "version_minor": 0
      },
      "text/plain": [
       "  0%|          | 0/498 [00:00<?, ?it/s]"
      ]
     },
     "metadata": {},
     "output_type": "display_data"
    },
    {
     "name": "stderr",
     "output_type": "stream",
     "text": [
      "Partition explainer:  64%|██████▍   | 89/139 [07:43<04:33,  5.47s/it]"
     ]
    },
    {
     "data": {
      "application/vnd.jupyter.widget-view+json": {
       "model_id": "04e337facaf443a6bef08c9bae2bfa10",
       "version_major": 2,
       "version_minor": 0
      },
      "text/plain": [
       "  0%|          | 0/498 [00:00<?, ?it/s]"
      ]
     },
     "metadata": {},
     "output_type": "display_data"
    },
    {
     "name": "stderr",
     "output_type": "stream",
     "text": [
      "Partition explainer:  65%|██████▍   | 90/139 [07:52<05:19,  6.53s/it]"
     ]
    },
    {
     "data": {
      "application/vnd.jupyter.widget-view+json": {
       "model_id": "8b074d0bd2384c0287e39fcd7e12acc4",
       "version_major": 2,
       "version_minor": 0
      },
      "text/plain": [
       "  0%|          | 0/498 [00:00<?, ?it/s]"
      ]
     },
     "metadata": {},
     "output_type": "display_data"
    },
    {
     "name": "stderr",
     "output_type": "stream",
     "text": [
      "Partition explainer:  65%|██████▌   | 91/139 [08:03<06:27,  8.08s/it]"
     ]
    },
    {
     "data": {
      "application/vnd.jupyter.widget-view+json": {
       "model_id": "5a350e2bfaf647e7a9bdd3f6c6cc16da",
       "version_major": 2,
       "version_minor": 0
      },
      "text/plain": [
       "  0%|          | 0/498 [00:00<?, ?it/s]"
      ]
     },
     "metadata": {},
     "output_type": "display_data"
    },
    {
     "name": "stderr",
     "output_type": "stream",
     "text": [
      "Partition explainer:  66%|██████▌   | 92/139 [08:16<07:17,  9.32s/it]"
     ]
    },
    {
     "data": {
      "application/vnd.jupyter.widget-view+json": {
       "model_id": "635400426ee34b1aa24c6a65aada82b3",
       "version_major": 2,
       "version_minor": 0
      },
      "text/plain": [
       "  0%|          | 0/498 [00:00<?, ?it/s]"
      ]
     },
     "metadata": {},
     "output_type": "display_data"
    },
    {
     "name": "stderr",
     "output_type": "stream",
     "text": [
      "Partition explainer:  69%|██████▉   | 96/139 [08:39<03:54,  5.45s/it]"
     ]
    },
    {
     "data": {
      "application/vnd.jupyter.widget-view+json": {
       "model_id": "11ca2d3eba7c4e7fac6cfb7854d29a59",
       "version_major": 2,
       "version_minor": 0
      },
      "text/plain": [
       "  0%|          | 0/498 [00:00<?, ?it/s]"
      ]
     },
     "metadata": {},
     "output_type": "display_data"
    },
    {
     "name": "stderr",
     "output_type": "stream",
     "text": [
      "Partition explainer:  71%|███████   | 99/139 [08:53<02:59,  4.49s/it]"
     ]
    },
    {
     "data": {
      "application/vnd.jupyter.widget-view+json": {
       "model_id": "92751b63b9f64d529b6357607a583c3e",
       "version_major": 2,
       "version_minor": 0
      },
      "text/plain": [
       "  0%|          | 0/498 [00:00<?, ?it/s]"
      ]
     },
     "metadata": {},
     "output_type": "display_data"
    },
    {
     "name": "stderr",
     "output_type": "stream",
     "text": [
      "Partition explainer:  74%|███████▍  | 103/139 [09:13<02:27,  4.09s/it]"
     ]
    },
    {
     "data": {
      "application/vnd.jupyter.widget-view+json": {
       "model_id": "3b0d3c3dbe9b43a9b6f4e3575f51f83e",
       "version_major": 2,
       "version_minor": 0
      },
      "text/plain": [
       "  0%|          | 0/498 [00:00<?, ?it/s]"
      ]
     },
     "metadata": {},
     "output_type": "display_data"
    },
    {
     "name": "stderr",
     "output_type": "stream",
     "text": [
      "Partition explainer:  76%|███████▌  | 105/139 [09:28<02:59,  5.28s/it]"
     ]
    },
    {
     "data": {
      "application/vnd.jupyter.widget-view+json": {
       "model_id": "ca4696f8ee5440d6ac36296c59642626",
       "version_major": 2,
       "version_minor": 0
      },
      "text/plain": [
       "  0%|          | 0/498 [00:00<?, ?it/s]"
      ]
     },
     "metadata": {},
     "output_type": "display_data"
    },
    {
     "name": "stderr",
     "output_type": "stream",
     "text": [
      "Partition explainer:  77%|███████▋  | 107/139 [09:44<03:20,  6.25s/it]"
     ]
    },
    {
     "data": {
      "application/vnd.jupyter.widget-view+json": {
       "model_id": "740b10dc337949b2ab75a9e79a5113f3",
       "version_major": 2,
       "version_minor": 0
      },
      "text/plain": [
       "  0%|          | 0/498 [00:00<?, ?it/s]"
      ]
     },
     "metadata": {},
     "output_type": "display_data"
    },
    {
     "name": "stderr",
     "output_type": "stream",
     "text": [
      "Partition explainer:  80%|███████▉  | 111/139 [10:06<02:06,  4.51s/it]"
     ]
    },
    {
     "data": {
      "application/vnd.jupyter.widget-view+json": {
       "model_id": "92e11153c6ff4d00b733f029e1e7e714",
       "version_major": 2,
       "version_minor": 0
      },
      "text/plain": [
       "  0%|          | 0/498 [00:00<?, ?it/s]"
      ]
     },
     "metadata": {},
     "output_type": "display_data"
    },
    {
     "name": "stderr",
     "output_type": "stream",
     "text": [
      "Partition explainer:  83%|████████▎ | 115/139 [10:24<01:48,  4.51s/it]"
     ]
    },
    {
     "data": {
      "application/vnd.jupyter.widget-view+json": {
       "model_id": "08a4a4355dae4df6a94a0ca776686116",
       "version_major": 2,
       "version_minor": 0
      },
      "text/plain": [
       "  0%|          | 0/498 [00:00<?, ?it/s]"
      ]
     },
     "metadata": {},
     "output_type": "display_data"
    },
    {
     "name": "stderr",
     "output_type": "stream",
     "text": [
      "Partition explainer:  83%|████████▎ | 116/139 [10:42<03:14,  8.44s/it]"
     ]
    },
    {
     "data": {
      "application/vnd.jupyter.widget-view+json": {
       "model_id": "d31ebb6189ad45fc88c92142d28f2bac",
       "version_major": 2,
       "version_minor": 0
      },
      "text/plain": [
       "  0%|          | 0/498 [00:00<?, ?it/s]"
      ]
     },
     "metadata": {},
     "output_type": "display_data"
    },
    {
     "name": "stderr",
     "output_type": "stream",
     "text": [
      "Partition explainer:  86%|████████▌ | 119/139 [10:55<01:44,  5.23s/it]"
     ]
    },
    {
     "data": {
      "application/vnd.jupyter.widget-view+json": {
       "model_id": "c3c790ce852c4dd0a956d64e3a812a38",
       "version_major": 2,
       "version_minor": 0
      },
      "text/plain": [
       "  0%|          | 0/498 [00:00<?, ?it/s]"
      ]
     },
     "metadata": {},
     "output_type": "display_data"
    },
    {
     "name": "stderr",
     "output_type": "stream",
     "text": [
      "Partition explainer:  87%|████████▋ | 121/139 [11:08<01:39,  5.55s/it]"
     ]
    },
    {
     "data": {
      "application/vnd.jupyter.widget-view+json": {
       "model_id": "dda05cc6395c4931b777f4019cd3d6ba",
       "version_major": 2,
       "version_minor": 0
      },
      "text/plain": [
       "  0%|          | 0/498 [00:00<?, ?it/s]"
      ]
     },
     "metadata": {},
     "output_type": "display_data"
    },
    {
     "name": "stderr",
     "output_type": "stream",
     "text": [
      "Partition explainer:  88%|████████▊ | 122/139 [11:28<02:49,  9.95s/it]"
     ]
    },
    {
     "data": {
      "application/vnd.jupyter.widget-view+json": {
       "model_id": "9967f54897514484af09392895376d5a",
       "version_major": 2,
       "version_minor": 0
      },
      "text/plain": [
       "  0%|          | 0/498 [00:00<?, ?it/s]"
      ]
     },
     "metadata": {},
     "output_type": "display_data"
    },
    {
     "name": "stderr",
     "output_type": "stream",
     "text": [
      "Partition explainer:  92%|█████████▏| 128/139 [11:45<00:34,  3.10s/it]"
     ]
    },
    {
     "data": {
      "application/vnd.jupyter.widget-view+json": {
       "model_id": "dd9f98913dae4c1a8f78f48007a6fe8f",
       "version_major": 2,
       "version_minor": 0
      },
      "text/plain": [
       "  0%|          | 0/498 [00:00<?, ?it/s]"
      ]
     },
     "metadata": {},
     "output_type": "display_data"
    },
    {
     "name": "stderr",
     "output_type": "stream",
     "text": [
      "Partition explainer:  94%|█████████▍| 131/139 [12:06<00:36,  4.58s/it]"
     ]
    },
    {
     "data": {
      "application/vnd.jupyter.widget-view+json": {
       "model_id": "6e17d4c279394b25a68916091c32783e",
       "version_major": 2,
       "version_minor": 0
      },
      "text/plain": [
       "  0%|          | 0/498 [00:00<?, ?it/s]"
      ]
     },
     "metadata": {},
     "output_type": "display_data"
    },
    {
     "name": "stderr",
     "output_type": "stream",
     "text": [
      "Partition explainer:  95%|█████████▍| 132/139 [12:19<00:49,  7.04s/it]"
     ]
    },
    {
     "data": {
      "application/vnd.jupyter.widget-view+json": {
       "model_id": "f755dba56f9d4543a4e60b549734f1ba",
       "version_major": 2,
       "version_minor": 0
      },
      "text/plain": [
       "  0%|          | 0/498 [00:00<?, ?it/s]"
      ]
     },
     "metadata": {},
     "output_type": "display_data"
    },
    {
     "name": "stderr",
     "output_type": "stream",
     "text": [
      "Partition explainer:  96%|█████████▌| 133/139 [12:24<00:39,  6.62s/it]"
     ]
    },
    {
     "data": {
      "application/vnd.jupyter.widget-view+json": {
       "model_id": "4f52ba3ef42d4e9283de3891bf7c03f0",
       "version_major": 2,
       "version_minor": 0
      },
      "text/plain": [
       "  0%|          | 0/498 [00:00<?, ?it/s]"
      ]
     },
     "metadata": {},
     "output_type": "display_data"
    },
    {
     "name": "stderr",
     "output_type": "stream",
     "text": [
      "Partition explainer:  96%|█████████▋| 134/139 [12:37<00:42,  8.41s/it]"
     ]
    },
    {
     "data": {
      "application/vnd.jupyter.widget-view+json": {
       "model_id": "17bc6309361546b0a5f500da0002d89e",
       "version_major": 2,
       "version_minor": 0
      },
      "text/plain": [
       "  0%|          | 0/498 [00:00<?, ?it/s]"
      ]
     },
     "metadata": {},
     "output_type": "display_data"
    },
    {
     "name": "stderr",
     "output_type": "stream",
     "text": [
      "Partition explainer:  97%|█████████▋| 135/139 [12:53<00:42, 10.74s/it]"
     ]
    },
    {
     "data": {
      "application/vnd.jupyter.widget-view+json": {
       "model_id": "77abc180f3114e69bd09ade41e84a406",
       "version_major": 2,
       "version_minor": 0
      },
      "text/plain": [
       "  0%|          | 0/498 [00:00<?, ?it/s]"
      ]
     },
     "metadata": {},
     "output_type": "display_data"
    },
    {
     "name": "stderr",
     "output_type": "stream",
     "text": [
      "Partition explainer: 100%|██████████| 139/139 [13:07<00:00,  5.04s/it]"
     ]
    },
    {
     "data": {
      "application/vnd.jupyter.widget-view+json": {
       "model_id": "c7cd607c73274783a5f49d9e250d3701",
       "version_major": 2,
       "version_minor": 0
      },
      "text/plain": [
       "  0%|          | 0/498 [00:00<?, ?it/s]"
      ]
     },
     "metadata": {},
     "output_type": "display_data"
    },
    {
     "name": "stderr",
     "output_type": "stream",
     "text": [
      "Partition explainer: 140it [13:13,  5.88s/it]                         \n"
     ]
    }
   ],
   "source": [
    "import numpy as np\n",
    "import scipy as sp\n",
    "import shap\n",
    "\n",
    "tokenizer = AutoTokenizer.from_pretrained(MODEL_NAME_OR_PATH)\n",
    "\n",
    "# define a score function\n",
    "def f(x):\n",
    "    \"\"\"A function which takes a list of examples, x and returns a list of scores, val\"\"\"\n",
    "    # print(len(x))\n",
    "    # print(x)\n",
    "    batch = tokenizer.batch_encode_plus(\n",
    "        list(x), max_length=512, padding=True, truncation=True, return_tensors=\"pt\"\n",
    "    )\n",
    "    outputs = model(batch[\"input_ids\"], batch[\"attention_mask\"])[\"prediction\"].detach().numpy()\n",
    "    # print(tv)\n",
    "    # print(outputs)\n",
    "    # apply softmax to each row??\n",
    "    scores = (np.exp(outputs).T / np.exp(outputs).sum(-1)).T\n",
    "    # print(scores)\n",
    "    val = scores[:,1] # use one vs rest logit units\n",
    "    # print(val)\n",
    "    # val needs to be a list of the score\n",
    "    return val\n",
    "\n",
    "false_pos = np.load(\"./false_pos/RP-Mod-false-pos.csv.npy\", mmap_mode=\"r\")\n",
    "false_pos = [s[15:] for s in false_pos]\n",
    "# f(list(false_pos[:10]))\n",
    "\n",
    "explainer = shap.Explainer(f, tokenizer)\n",
    "\n",
    "\n",
    "# shap_values = explainer(false_pos[:10], batch_size=8)\n",
    "shap_values = explainer(false_pos, fixed_context=1, batch_size=8)"
   ]
  },
  {
   "cell_type": "code",
   "execution_count": 41,
   "metadata": {},
   "outputs": [],
   "source": [
    "#TODO: what is the correlation between SHAP score and how underrepresented these words are \n",
    "# in the dataset?\n",
    "import pandas as pd\n",
    "import scipy as sp\n",
    "\n",
    "mod_folds_df = pd.read_csv(\"./Datasets/RP-Mod-folds.csv\")\n",
    "train_df = mod_folds_df.loc[mod_folds_df[\"train_test_split\"] == 0]\n",
    "\n",
    "def score_underrepresentation(df, word, label_attr=\"label\", text_attr=\"text\"):\n",
    "    occ = df[np.array(df[text_attr].str.contains(word), dtype=bool)]\n",
    "    num_pos = len(occ.loc[occ[label_attr] == 1].drop_duplicates())\n",
    "    num_neg = len(occ.loc[occ[label_attr] == 0].drop_duplicates())\n",
    "    return num_pos/(num_neg + 1)\n"
   ]
  },
  {
   "cell_type": "code",
   "execution_count": null,
   "metadata": {},
   "outputs": [],
   "source": [
    "#TODO: create dataframe, where the columns are words, underrepresentation score, SHAP score\n"
   ]
  },
  {
   "cell_type": "code",
   "execution_count": 8,
   "metadata": {},
   "outputs": [
    {
     "data": {
      "text/plain": [
       ".values =\n",
       "array([-0.00050354, -0.05605525, -0.00404001,  0.09449696,  0.0202925 ,\n",
       "       -0.04756196, -0.00803574,  0.04582678, -0.0513271 ,  0.14837754,\n",
       "       -0.01956507, -0.00458249])\n",
       "\n",
       ".base_values =\n",
       "0.6096603870391846\n",
       "\n",
       ".data =\n",
       "array(['Sehr', ' sympathisch', ' diese', ' Frau', ' und', ' das', ' sagt',\n",
       "       ' hier', ' ein ', ' Mann', ' ', ''], dtype='<U12')"
      ]
     },
     "execution_count": 8,
     "metadata": {},
     "output_type": "execute_result"
    }
   ],
   "source": [
    "shap_values[0]"
   ]
  },
  {
   "cell_type": "code",
   "execution_count": 54,
   "metadata": {},
   "outputs": [],
   "source": [
    "import heapq\n",
    "from collections import OrderedDict\n",
    "\n",
    "words = OrderedDict()\n",
    "\n",
    "for val in shap_values:\n",
    "    for i in range(len(val.values)):\n",
    "        score = val.values[i]\n",
    "        word = val.data[i]\n",
    "        if word not in words.keys():\n",
    "            words[word] = [score]\n",
    "        else:\n",
    "            words[word].append(score)\n",
    "for key in words.keys():\n",
    "    words[key] = np.mean(words[key])\n",
    "words\n",
    "# largest = heapq.nlargest(100, words, key=words.get)\n",
    "largest = words.keys()\n",
    "# for word in largest:\n",
    "#     print(word, words[word])"
   ]
  },
  {
   "cell_type": "code",
   "execution_count": 55,
   "metadata": {},
   "outputs": [
    {
     "data": {
      "text/plain": [
       "(0.1416182821691077, 4.3566645025812035e-11)"
      ]
     },
     "execution_count": 55,
     "metadata": {},
     "output_type": "execute_result"
    }
   ],
   "source": [
    "underrepresentation_scores = []\n",
    "shap_scores = []\n",
    "for word in words.keys():\n",
    "    if word in largest:\n",
    "        underrepresentation_scores.append(score_underrepresentation(train_df, word))\n",
    "        shap_scores.append(words[word])\n",
    "sp.stats.pearsonr(underrepresentation_scores, shap_scores)"
   ]
  },
  {
   "cell_type": "code",
   "execution_count": 56,
   "metadata": {},
   "outputs": [
    {
     "data": {
      "text/html": [
       "<div>\n",
       "<style scoped>\n",
       "    .dataframe tbody tr th:only-of-type {\n",
       "        vertical-align: middle;\n",
       "    }\n",
       "\n",
       "    .dataframe tbody tr th {\n",
       "        vertical-align: top;\n",
       "    }\n",
       "\n",
       "    .dataframe thead th {\n",
       "        text-align: right;\n",
       "    }\n",
       "</style>\n",
       "<table border=\"1\" class=\"dataframe\">\n",
       "  <thead>\n",
       "    <tr style=\"text-align: right;\">\n",
       "      <th></th>\n",
       "      <th>words</th>\n",
       "      <th>shap</th>\n",
       "      <th>underrepresented</th>\n",
       "    </tr>\n",
       "  </thead>\n",
       "  <tbody>\n",
       "    <tr>\n",
       "      <th>0</th>\n",
       "      <td>Sehr</td>\n",
       "      <td>-0.000504</td>\n",
       "      <td>0.583333</td>\n",
       "    </tr>\n",
       "    <tr>\n",
       "      <th>1</th>\n",
       "      <td>sympathisch</td>\n",
       "      <td>-0.056055</td>\n",
       "      <td>1.000000</td>\n",
       "    </tr>\n",
       "    <tr>\n",
       "      <th>2</th>\n",
       "      <td>diese</td>\n",
       "      <td>0.020005</td>\n",
       "      <td>0.880952</td>\n",
       "    </tr>\n",
       "    <tr>\n",
       "      <th>3</th>\n",
       "      <td>Frau</td>\n",
       "      <td>0.086792</td>\n",
       "      <td>0.987342</td>\n",
       "    </tr>\n",
       "    <tr>\n",
       "      <th>4</th>\n",
       "      <td>und</td>\n",
       "      <td>-0.004066</td>\n",
       "      <td>0.772222</td>\n",
       "    </tr>\n",
       "    <tr>\n",
       "      <th>...</th>\n",
       "      <td>...</td>\n",
       "      <td>...</td>\n",
       "      <td>...</td>\n",
       "    </tr>\n",
       "    <tr>\n",
       "      <th>2142</th>\n",
       "      <td>wählen</td>\n",
       "      <td>0.002103</td>\n",
       "      <td>0.711538</td>\n",
       "    </tr>\n",
       "    <tr>\n",
       "      <th>2143</th>\n",
       "      <td>richtig</td>\n",
       "      <td>0.035320</td>\n",
       "      <td>0.594406</td>\n",
       "    </tr>\n",
       "    <tr>\n",
       "      <th>2144</th>\n",
       "      <td>Arg</td>\n",
       "      <td>-0.003833</td>\n",
       "      <td>0.461538</td>\n",
       "    </tr>\n",
       "    <tr>\n",
       "      <th>2145</th>\n",
       "      <td>iten</td>\n",
       "      <td>0.017260</td>\n",
       "      <td>0.721088</td>\n",
       "    </tr>\n",
       "    <tr>\n",
       "      <th>2146</th>\n",
       "      <td>Youtube</td>\n",
       "      <td>0.080520</td>\n",
       "      <td>0.571429</td>\n",
       "    </tr>\n",
       "  </tbody>\n",
       "</table>\n",
       "<p>2147 rows × 3 columns</p>\n",
       "</div>"
      ],
      "text/plain": [
       "             words      shap  underrepresented\n",
       "0             Sehr -0.000504          0.583333\n",
       "1      sympathisch -0.056055          1.000000\n",
       "2            diese  0.020005          0.880952\n",
       "3             Frau  0.086792          0.987342\n",
       "4              und -0.004066          0.772222\n",
       "...            ...       ...               ...\n",
       "2142        wählen  0.002103          0.711538\n",
       "2143       richtig  0.035320          0.594406\n",
       "2144           Arg -0.003833          0.461538\n",
       "2145          iten  0.017260          0.721088\n",
       "2146       Youtube  0.080520          0.571429\n",
       "\n",
       "[2147 rows x 3 columns]"
      ]
     },
     "execution_count": 56,
     "metadata": {},
     "output_type": "execute_result"
    }
   ],
   "source": [
    "df = pd.DataFrame({\"words\": words.keys(), \"shap\": shap_scores, \"underrepresented\": underrepresentation_scores})\n",
    "df"
   ]
  },
  {
   "cell_type": "code",
   "execution_count": 58,
   "metadata": {},
   "outputs": [],
   "source": [
    "df.to_csv(\"./false_pos/shap_underrepresented_scores.csv\")"
   ]
  },
  {
   "cell_type": "code",
   "execution_count": 29,
   "metadata": {},
   "outputs": [
    {
     "data": {
      "text/plain": [
       "(-0.3067348171046196, 0.03026463078329042)"
      ]
     },
     "execution_count": 29,
     "metadata": {},
     "output_type": "execute_result"
    }
   ],
   "source": [
    "n_largest = 50\n",
    "largest = heapq.nlargest(n_largest, words, key=words.get)\n",
    "\n",
    "underrepresentation_scores = []\n",
    "shap_scores = []\n",
    "for word in words.keys():\n",
    "    if word in largest:\n",
    "        underrepresentation_scores.append(score_underrepresentation(train_df, word))\n",
    "        shap_scores.append(words[word])\n",
    "\n",
    "sp.stats.pearsonr(underrepresentation_scores, shap_scores)"
   ]
  },
  {
   "cell_type": "code",
   "execution_count": 18,
   "metadata": {},
   "outputs": [
    {
     "data": {
      "text/plain": [
       "'brüh'"
      ]
     },
     "execution_count": 18,
     "metadata": {},
     "output_type": "execute_result"
    }
   ],
   "source": [
    "list(words.keys())[np.argmin(underrepresentation_scores)]"
   ]
  },
  {
   "cell_type": "code",
   "execution_count": 71,
   "metadata": {},
   "outputs": [
    {
     "data": {
      "text/html": [
       "<svg width=\"100%\" height=\"80px\"><line x1=\"0\" y1=\"33\" x2=\"100%\" y2=\"33\" style=\"stroke:rgb(150,150,150);stroke-width:1\" /><line x1=\"55.27270381783439%\" y1=\"33\" x2=\"55.27270381783439%\" y2=\"37\" style=\"stroke:rgb(150,150,150);stroke-width:1\" /><text x=\"55.27270381783439%\" y=\"27\" font-size=\"12px\" fill=\"rgb(120,120,120)\" dominant-baseline=\"bottom\" text-anchor=\"middle\">0.7</text><line x1=\"38.628172805617446%\" y1=\"33\" x2=\"38.628172805617446%\" y2=\"37\" style=\"stroke:rgb(150,150,150);stroke-width:1\" /><text x=\"38.628172805617446%\" y=\"27\" font-size=\"12px\" fill=\"rgb(120,120,120)\" dominant-baseline=\"bottom\" text-anchor=\"middle\">0.6</text><line x1=\"21.983641793400494%\" y1=\"33\" x2=\"21.983641793400494%\" y2=\"37\" style=\"stroke:rgb(150,150,150);stroke-width:1\" /><text x=\"21.983641793400494%\" y=\"27\" font-size=\"12px\" fill=\"rgb(120,120,120)\" dominant-baseline=\"bottom\" text-anchor=\"middle\">0.5</text><line x1=\"71.91723483005134%\" y1=\"33\" x2=\"71.91723483005134%\" y2=\"37\" style=\"stroke:rgb(150,150,150);stroke-width:1\" /><text x=\"71.91723483005134%\" y=\"27\" font-size=\"12px\" fill=\"rgb(120,120,120)\" dominant-baseline=\"bottom\" text-anchor=\"middle\">0.8</text><line x1=\"88.56176584226829%\" y1=\"33\" x2=\"88.56176584226829%\" y2=\"37\" style=\"stroke:rgb(150,150,150);stroke-width:1\" /><text x=\"88.56176584226829%\" y=\"27\" font-size=\"12px\" fill=\"rgb(120,120,120)\" dominant-baseline=\"bottom\" text-anchor=\"middle\">0.9</text><line x1=\"40.23609892225471%\" y1=\"33\" x2=\"40.23609892225471%\" y2=\"37\" style=\"stroke:rgb(150,150,150);stroke-width:1\" /><text x=\"40.23609892225471%\" y=\"27\" font-size=\"13px\" style=\"stroke:#ffffff;stroke-width:8px;\" fill=\"rgb(255,255,255)\" dominant-baseline=\"bottom\" text-anchor=\"middle\">0.60966</text><text x=\"40.23609892225471%\" y=\"27\" font-size=\"12px\" fill=\"rgb(120,120,120)\" dominant-baseline=\"bottom\" text-anchor=\"middle\">0.60966</text><text x=\"40.23609892225471%\" y=\"10\" font-size=\"12px\" fill=\"rgb(120,120,120)\" dominant-baseline=\"bottom\" text-anchor=\"middle\">base value</text><line x1=\"59.763899413292194%\" y1=\"33\" x2=\"59.763899413292194%\" y2=\"37\" style=\"stroke:rgb(150,150,150);stroke-width:1\" /><text x=\"59.763899413292194%\" y=\"27\" font-size=\"13px\" style=\"stroke:#ffffff;stroke-width:8px;\" font-weight=\"bold\" fill=\"rgb(255,255,255)\" dominant-baseline=\"bottom\" text-anchor=\"middle\">0.726983</text><text x=\"59.763899413292194%\" y=\"27\" font-size=\"13px\" font-weight=\"bold\" fill=\"rgb(0,0,0)\" dominant-baseline=\"bottom\" text-anchor=\"middle\">0.726983</text><text x=\"59.763899413292194%\" y=\"10\" font-size=\"12px\" fill=\"rgb(120,120,120)\" dominant-baseline=\"bottom\" text-anchor=\"middle\">f<tspan baseline-shift=\"sub\" font-size=\"8px\"></tspan>(inputs)</text><rect x=\"8.485708713056825%\" width=\"51.27819070023537%\" y=\"40\" height=\"18\" style=\"fill:rgb(255.0, 0.0, 81.08083606031792); stroke-width:0; stroke:rgb(0,0,0)\" /><line x1=\"34.762402267499915%\" x2=\"59.763899413292194%\" y1=\"60\" y2=\"60\" id=\"_fb_usieyiccwpusnzjovqwp_ind_9\" style=\"stroke:rgb(255.0, 0.0, 81.08083606031792);stroke-width:2; opacity: 0\"/><text x=\"47.26315084039605%\" y=\"71\" font-size=\"12px\" id=\"_fs_usieyiccwpusnzjovqwp_ind_9\" fill=\"rgb(255.0, 0.0, 81.08083606031792)\" style=\"opacity: 0\" dominant-baseline=\"middle\" text-anchor=\"middle\">0.15</text><svg x=\"34.762402267499915%\" y=\"40\" height=\"20\" width=\"25.00149714579228%\">  <svg x=\"0\" y=\"0\" width=\"100%\" height=\"100%\">    <text x=\"50%\" y=\"9\" font-size=\"12px\" fill=\"rgb(255,255,255)\" dominant-baseline=\"middle\" text-anchor=\"middle\">Mann</text>  </svg></svg><line x1=\"19.186201486306615%\" x2=\"34.762402267499915%\" y1=\"60\" y2=\"60\" id=\"_fb_usieyiccwpusnzjovqwp_ind_3\" style=\"stroke:rgb(255.0, 0.0, 81.08083606031792);stroke-width:2; opacity: 0\"/><text x=\"26.974301876903265%\" y=\"71\" font-size=\"12px\" id=\"_fs_usieyiccwpusnzjovqwp_ind_3\" fill=\"rgb(255.0, 0.0, 81.08083606031792)\" style=\"opacity: 0\" dominant-baseline=\"middle\" text-anchor=\"middle\">0.094</text><svg x=\"19.186201486306615%\" y=\"40\" height=\"20\" width=\"15.5762007811933%\">  <svg x=\"0\" y=\"0\" width=\"100%\" height=\"100%\">    <text x=\"50%\" y=\"9\" font-size=\"12px\" fill=\"rgb(255,255,255)\" dominant-baseline=\"middle\" text-anchor=\"middle\">Frau</text>  </svg></svg><line x1=\"11.710925172652209%\" x2=\"19.186201486306615%\" y1=\"60\" y2=\"60\" id=\"_fb_usieyiccwpusnzjovqwp_ind_7\" style=\"stroke:rgb(255.0, 0.0, 81.08083606031792);stroke-width:2; opacity: 0\"/><text x=\"15.448563329479413%\" y=\"71\" font-size=\"12px\" id=\"_fs_usieyiccwpusnzjovqwp_ind_7\" fill=\"rgb(255.0, 0.0, 81.08083606031792)\" style=\"opacity: 0\" dominant-baseline=\"middle\" text-anchor=\"middle\">0.045</text><svg x=\"11.710925172652209%\" y=\"40\" height=\"20\" width=\"7.4752763136544065%\">  <svg x=\"0\" y=\"0\" width=\"100%\" height=\"100%\">    <text x=\"50%\" y=\"9\" font-size=\"12px\" fill=\"rgb(255,255,255)\" dominant-baseline=\"middle\" text-anchor=\"middle\">hier</text>  </svg></svg><line x1=\"8.485708713056825%\" x2=\"11.710925172652209%\" y1=\"60\" y2=\"60\" id=\"_fb_usieyiccwpusnzjovqwp_ind_4\" style=\"stroke:rgb(255.0, 0.0, 81.08083606031792);stroke-width:2; opacity: 0\"/><text x=\"10.098316942854517%\" y=\"71\" font-size=\"12px\" id=\"_fs_usieyiccwpusnzjovqwp_ind_4\" fill=\"rgb(255.0, 0.0, 81.08083606031792)\" style=\"opacity: 0\" dominant-baseline=\"middle\" text-anchor=\"middle\">0.019</text><svg x=\"8.485708713056825%\" y=\"40\" height=\"20\" width=\"3.2252164595953836%\">  <svg x=\"0\" y=\"0\" width=\"100%\" height=\"100%\">    <text x=\"50%\" y=\"9\" font-size=\"12px\" fill=\"rgb(255,255,255)\" dominant-baseline=\"middle\" text-anchor=\"middle\">und</text>  </svg></svg><g transform=\"translate(0,0)\">  <svg x=\"34.762402267499915%\" y=\"40\" height=\"18\" overflow=\"visible\" width=\"30\">    <path d=\"M 0 -9 l 6 18 L 0 25\" fill=\"none\" style=\"stroke:rgb(255.0, 0.0, 81.08083606031792);stroke-width:2\" />  </svg></g><g transform=\"translate(2,0)\">  <svg x=\"34.762402267499915%\" y=\"40\" height=\"18\" overflow=\"visible\" width=\"30\">    <path d=\"M 0 -9 l 6 18 L 0 25\" fill=\"none\" style=\"stroke:rgb(255.0, 0.0, 81.08083606031792);stroke-width:2\" />  </svg></g><g transform=\"translate(4,0)\">  <svg x=\"34.762402267499915%\" y=\"40\" height=\"18\" overflow=\"visible\" width=\"30\">    <path d=\"M 0 -9 l 6 18 L 0 25\" fill=\"none\" style=\"stroke:rgb(255.0, 0.0, 81.08083606031792);stroke-width:2\" />  </svg></g><g transform=\"translate(6,0)\">  <svg x=\"34.762402267499915%\" y=\"40\" height=\"18\" overflow=\"visible\" width=\"30\">    <path d=\"M 0 -9 l 6 18 L 0 25\" fill=\"none\" style=\"stroke:rgb(255.0, 0.0, 81.08083606031792);stroke-width:2\" />  </svg></g><g transform=\"translate(-8,0)\">  <svg x=\"34.762402267499915%\" y=\"40\" height=\"18\" overflow=\"visible\" width=\"30\">    <path d=\"M 0 -9 l 6 18 L 0 25\" fill=\"none\" style=\"stroke:rgb(255.0, 0.0, 81.08083606031792);stroke-width:2\" />  </svg></g><g transform=\"translate(-6,0)\">  <svg x=\"34.762402267499915%\" y=\"40\" height=\"18\" overflow=\"visible\" width=\"30\">    <path d=\"M 0 -9 l 6 18 L 0 25\" fill=\"none\" style=\"stroke:rgb(255.0, 0.0, 81.08083606031792);stroke-width:2\" />  </svg></g><g transform=\"translate(-4,0)\">  <svg x=\"34.762402267499915%\" y=\"40\" height=\"18\" overflow=\"visible\" width=\"30\">    <path d=\"M 0 -9 l 6 18 L 0 25\" fill=\"none\" style=\"stroke:rgb(255.0, 0.0, 81.08083606031792);stroke-width:2\" />  </svg></g><g transform=\"translate(-2,0)\">  <svg x=\"34.762402267499915%\" y=\"40\" height=\"18\" overflow=\"visible\" width=\"30\">    <path d=\"M 0 -9 l 6 18 L 0 25\" fill=\"none\" style=\"stroke:rgb(255.0, 0.0, 81.08083606031792);stroke-width:2\" />  </svg></g><g transform=\"translate(0,0)\">  <svg x=\"19.186201486306615%\" y=\"40\" height=\"18\" overflow=\"visible\" width=\"30\">    <path d=\"M 0 -9 l 6 18 L 0 25\" fill=\"none\" style=\"stroke:rgb(255.0, 0.0, 81.08083606031792);stroke-width:2\" />  </svg></g><g transform=\"translate(2,0)\">  <svg x=\"19.186201486306615%\" y=\"40\" height=\"18\" overflow=\"visible\" width=\"30\">    <path d=\"M 0 -9 l 6 18 L 0 25\" fill=\"none\" style=\"stroke:rgb(255.0, 0.0, 81.08083606031792);stroke-width:2\" />  </svg></g><g transform=\"translate(4,0)\">  <svg x=\"19.186201486306615%\" y=\"40\" height=\"18\" overflow=\"visible\" width=\"30\">    <path d=\"M 0 -9 l 6 18 L 0 25\" fill=\"none\" style=\"stroke:rgb(255.0, 0.0, 81.08083606031792);stroke-width:2\" />  </svg></g><g transform=\"translate(6,0)\">  <svg x=\"19.186201486306615%\" y=\"40\" height=\"18\" overflow=\"visible\" width=\"30\">    <path d=\"M 0 -9 l 6 18 L 0 25\" fill=\"none\" style=\"stroke:rgb(255.0, 0.0, 81.08083606031792);stroke-width:2\" />  </svg></g><g transform=\"translate(-8,0)\">  <svg x=\"19.186201486306615%\" y=\"40\" height=\"18\" overflow=\"visible\" width=\"30\">    <path d=\"M 0 -9 l 6 18 L 0 25\" fill=\"none\" style=\"stroke:rgb(255.0, 0.0, 81.08083606031792);stroke-width:2\" />  </svg></g><g transform=\"translate(-6,0)\">  <svg x=\"19.186201486306615%\" y=\"40\" height=\"18\" overflow=\"visible\" width=\"30\">    <path d=\"M 0 -9 l 6 18 L 0 25\" fill=\"none\" style=\"stroke:rgb(255.0, 0.0, 81.08083606031792);stroke-width:2\" />  </svg></g><g transform=\"translate(-4,0)\">  <svg x=\"19.186201486306615%\" y=\"40\" height=\"18\" overflow=\"visible\" width=\"30\">    <path d=\"M 0 -9 l 6 18 L 0 25\" fill=\"none\" style=\"stroke:rgb(255.0, 0.0, 81.08083606031792);stroke-width:2\" />  </svg></g><g transform=\"translate(-2,0)\">  <svg x=\"19.186201486306615%\" y=\"40\" height=\"18\" overflow=\"visible\" width=\"30\">    <path d=\"M 0 -9 l 6 18 L 0 25\" fill=\"none\" style=\"stroke:rgb(255.0, 0.0, 81.08083606031792);stroke-width:2\" />  </svg></g><g transform=\"translate(0,0)\">  <svg x=\"11.710925172652209%\" y=\"40\" height=\"18\" overflow=\"visible\" width=\"30\">    <path d=\"M 0 -9 l 6 18 L 0 25\" fill=\"none\" style=\"stroke:rgb(255.0, 0.0, 81.08083606031792);stroke-width:2\" />  </svg></g><g transform=\"translate(2,0)\">  <svg x=\"11.710925172652209%\" y=\"40\" height=\"18\" overflow=\"visible\" width=\"30\">    <path d=\"M 0 -9 l 6 18 L 0 25\" fill=\"none\" style=\"stroke:rgb(255.0, 0.0, 81.08083606031792);stroke-width:2\" />  </svg></g><g transform=\"translate(4,0)\">  <svg x=\"11.710925172652209%\" y=\"40\" height=\"18\" overflow=\"visible\" width=\"30\">    <path d=\"M 0 -9 l 6 18 L 0 25\" fill=\"none\" style=\"stroke:rgb(255.0, 0.0, 81.08083606031792);stroke-width:2\" />  </svg></g><g transform=\"translate(6,0)\">  <svg x=\"11.710925172652209%\" y=\"40\" height=\"18\" overflow=\"visible\" width=\"30\">    <path d=\"M 0 -9 l 6 18 L 0 25\" fill=\"none\" style=\"stroke:rgb(255.0, 0.0, 81.08083606031792);stroke-width:2\" />  </svg></g><g transform=\"translate(-8,0)\">  <svg x=\"11.710925172652209%\" y=\"40\" height=\"18\" overflow=\"visible\" width=\"30\">    <path d=\"M 0 -9 l 6 18 L 0 25\" fill=\"none\" style=\"stroke:rgb(255.0, 0.0, 81.08083606031792);stroke-width:2\" />  </svg></g><g transform=\"translate(-6,0)\">  <svg x=\"11.710925172652209%\" y=\"40\" height=\"18\" overflow=\"visible\" width=\"30\">    <path d=\"M 0 -9 l 6 18 L 0 25\" fill=\"none\" style=\"stroke:rgb(255.0, 0.0, 81.08083606031792);stroke-width:2\" />  </svg></g><g transform=\"translate(-4,0)\">  <svg x=\"11.710925172652209%\" y=\"40\" height=\"18\" overflow=\"visible\" width=\"30\">    <path d=\"M 0 -9 l 6 18 L 0 25\" fill=\"none\" style=\"stroke:rgb(255.0, 0.0, 81.08083606031792);stroke-width:2\" />  </svg></g><g transform=\"translate(-2,0)\">  <svg x=\"11.710925172652209%\" y=\"40\" height=\"18\" overflow=\"visible\" width=\"30\">    <path d=\"M 0 -9 l 6 18 L 0 25\" fill=\"none\" style=\"stroke:rgb(255.0, 0.0, 81.08083606031792);stroke-width:2\" />  </svg></g><rect transform=\"translate(-8,0)\" x=\"59.763899413292194%\" y=\"40\" width=\"8\" height=\"18\" style=\"fill:rgb(255.0, 0.0, 81.08083606031792)\"/><g transform=\"translate(-11.5,0)\">  <svg x=\"8.485708713056825%\" y=\"40\" height=\"18\" overflow=\"visible\" width=\"30\">    <path d=\"M 10 -9 l 6 18 L 10 25 L 0 25 L 0 -9\" fill=\"#ffffff\" style=\"stroke:rgb(255,255,255);stroke-width:2\" />  </svg></g><g transform=\"translate(-1.5,0)\">  <svg x=\"59.763899413292194%\" y=\"40\" height=\"18\" overflow=\"visible\" width=\"30\">    <path d=\"M 0 -9 l 6 18 L 0 25\" fill=\"none\" style=\"stroke:rgb(255, 195, 213);stroke-width:2\" />  </svg></g><rect x=\"34.762402267499915%\" y=\"40\" height=\"20\" width=\"25.00149714579228%\"      onmouseover=\"document.getElementById('_tp_usieyiccwpusnzjovqwp_ind_9').style.textDecoration = 'underline';document.getElementById('_fs_usieyiccwpusnzjovqwp_ind_9').style.opacity = 1;document.getElementById('_fb_usieyiccwpusnzjovqwp_ind_9').style.opacity = 1;\"      onmouseout=\"document.getElementById('_tp_usieyiccwpusnzjovqwp_ind_9').style.textDecoration = 'none';document.getElementById('_fs_usieyiccwpusnzjovqwp_ind_9').style.opacity = 0;document.getElementById('_fb_usieyiccwpusnzjovqwp_ind_9').style.opacity = 0;\" style=\"fill:rgb(0,0,0,0)\" /><g transform=\"translate(-1.5,0)\">  <svg x=\"34.762402267499915%\" y=\"40\" height=\"18\" overflow=\"visible\" width=\"30\">    <path d=\"M 0 -9 l 6 18 L 0 25\" fill=\"none\" style=\"stroke:rgb(255, 195, 213);stroke-width:2\" />  </svg></g><rect x=\"19.186201486306615%\" y=\"40\" height=\"20\" width=\"15.5762007811933%\"      onmouseover=\"document.getElementById('_tp_usieyiccwpusnzjovqwp_ind_3').style.textDecoration = 'underline';document.getElementById('_fs_usieyiccwpusnzjovqwp_ind_3').style.opacity = 1;document.getElementById('_fb_usieyiccwpusnzjovqwp_ind_3').style.opacity = 1;\"      onmouseout=\"document.getElementById('_tp_usieyiccwpusnzjovqwp_ind_3').style.textDecoration = 'none';document.getElementById('_fs_usieyiccwpusnzjovqwp_ind_3').style.opacity = 0;document.getElementById('_fb_usieyiccwpusnzjovqwp_ind_3').style.opacity = 0;\" style=\"fill:rgb(0,0,0,0)\" /><g transform=\"translate(-1.5,0)\">  <svg x=\"19.186201486306615%\" y=\"40\" height=\"18\" overflow=\"visible\" width=\"30\">    <path d=\"M 0 -9 l 6 18 L 0 25\" fill=\"none\" style=\"stroke:rgb(255, 195, 213);stroke-width:2\" />  </svg></g><rect x=\"11.710925172652209%\" y=\"40\" height=\"20\" width=\"7.4752763136544065%\"      onmouseover=\"document.getElementById('_tp_usieyiccwpusnzjovqwp_ind_7').style.textDecoration = 'underline';document.getElementById('_fs_usieyiccwpusnzjovqwp_ind_7').style.opacity = 1;document.getElementById('_fb_usieyiccwpusnzjovqwp_ind_7').style.opacity = 1;\"      onmouseout=\"document.getElementById('_tp_usieyiccwpusnzjovqwp_ind_7').style.textDecoration = 'none';document.getElementById('_fs_usieyiccwpusnzjovqwp_ind_7').style.opacity = 0;document.getElementById('_fb_usieyiccwpusnzjovqwp_ind_7').style.opacity = 0;\" style=\"fill:rgb(0,0,0,0)\" /><rect x=\"8.485708713056825%\" y=\"40\" height=\"20\" width=\"3.2252164595953836%\"      onmouseover=\"document.getElementById('_tp_usieyiccwpusnzjovqwp_ind_4').style.textDecoration = 'underline';document.getElementById('_fs_usieyiccwpusnzjovqwp_ind_4').style.opacity = 1;document.getElementById('_fb_usieyiccwpusnzjovqwp_ind_4').style.opacity = 1;\"      onmouseout=\"document.getElementById('_tp_usieyiccwpusnzjovqwp_ind_4').style.textDecoration = 'none';document.getElementById('_fs_usieyiccwpusnzjovqwp_ind_4').style.opacity = 0;document.getElementById('_fb_usieyiccwpusnzjovqwp_ind_4').style.opacity = 0;\" style=\"fill:rgb(0,0,0,0)\" /><rect x=\"59.763899413292194%\" width=\"31.75039020919789%\" y=\"40\" height=\"18\" style=\"fill:rgb(0.0, 138.56128015770727, 250.76166088685738); stroke-width:0; stroke:rgb(0,0,0)\" /><line x1=\"59.763899413292194%\" x2=\"69.24640844641799%\" y1=\"60\" y2=\"60\" id=\"_fb_usieyiccwpusnzjovqwp_ind_1\" style=\"stroke:rgb(0.0, 138.56128015770727, 250.76166088685738);stroke-width:2; opacity: 0\"/><text x=\"64.50515392985508%\" y=\"71\" font-size=\"12px\" fill=\"rgb(0.0, 138.56128015770727, 250.76166088685738)\" id=\"_fs_usieyiccwpusnzjovqwp_ind_1\" style=\"opacity: 0\" dominant-baseline=\"middle\" text-anchor=\"middle\">-0.057</text><svg x=\"59.763899413292194%\" y=\"40\" height=\"20\" width=\"9.482509033125794%\">  <svg x=\"0\" y=\"0\" width=\"100%\" height=\"100%\">    <text x=\"50%\" y=\"9\" font-size=\"12px\" fill=\"rgb(255,255,255)\" dominant-baseline=\"middle\" text-anchor=\"middle\">sympathisch</text>  </svg></svg><line x1=\"69.24640844641799%\" x2=\"77.48481321406638%\" y1=\"60\" y2=\"60\" id=\"_fb_usieyiccwpusnzjovqwp_ind_8\" style=\"stroke:rgb(0.0, 138.56128015770727, 250.76166088685738);stroke-width:2; opacity: 0\"/><text x=\"73.36561083024219%\" y=\"71\" font-size=\"12px\" fill=\"rgb(0.0, 138.56128015770727, 250.76166088685738)\" id=\"_fs_usieyiccwpusnzjovqwp_ind_8\" style=\"opacity: 0\" dominant-baseline=\"middle\" text-anchor=\"middle\">-0.049</text><svg x=\"69.24640844641799%\" y=\"40\" height=\"20\" width=\"8.23840476764839%\">  <svg x=\"0\" y=\"0\" width=\"100%\" height=\"100%\">    <text x=\"50%\" y=\"9\" font-size=\"12px\" fill=\"rgb(255,255,255)\" dominant-baseline=\"middle\" text-anchor=\"middle\">ein</text>  </svg></svg><line x1=\"77.48481321406638%\" x2=\"85.55365406713055%\" y1=\"60\" y2=\"60\" id=\"_fb_usieyiccwpusnzjovqwp_ind_5\" style=\"stroke:rgb(0.0, 138.56128015770727, 250.76166088685738);stroke-width:2; opacity: 0\"/><text x=\"81.51923364059846%\" y=\"71\" font-size=\"12px\" fill=\"rgb(0.0, 138.56128015770727, 250.76166088685738)\" id=\"_fs_usieyiccwpusnzjovqwp_ind_5\" style=\"opacity: 0\" dominant-baseline=\"middle\" text-anchor=\"middle\">-0.048</text><svg x=\"77.48481321406638%\" y=\"40\" height=\"20\" width=\"8.068840853064174%\">  <svg x=\"0\" y=\"0\" width=\"100%\" height=\"100%\">    <text x=\"50%\" y=\"9\" font-size=\"12px\" fill=\"rgb(255,255,255)\" dominant-baseline=\"middle\" text-anchor=\"middle\">das</text>  </svg></svg><line x1=\"85.55365406713055%\" x2=\"88.50541728531468%\" y1=\"60\" y2=\"60\" id=\"_fb_usieyiccwpusnzjovqwp_ind_10\" style=\"stroke:rgb(0.0, 138.56128015770727, 250.76166088685738);stroke-width:2; opacity: 0\"/><text x=\"87.02953567622262%\" y=\"71\" font-size=\"12px\" fill=\"rgb(0.0, 138.56128015770727, 250.76166088685738)\" id=\"_fs_usieyiccwpusnzjovqwp_ind_10\" style=\"opacity: 0\" dominant-baseline=\"middle\" text-anchor=\"middle\">-0.018</text><svg x=\"85.55365406713055%\" y=\"40\" height=\"20\" width=\"2.9517632181841265%\">  <svg x=\"0\" y=\"0\" width=\"100%\" height=\"100%\">    <text x=\"50%\" y=\"9\" font-size=\"12px\" fill=\"rgb(255,255,255)\" dominant-baseline=\"middle\" text-anchor=\"middle\"></text>  </svg></svg><line x1=\"88.50541728531468%\" x2=\"89.99530350404527%\" y1=\"60\" y2=\"60\" id=\"_fb_usieyiccwpusnzjovqwp_ind_6\" style=\"stroke:rgb(0.0, 138.56128015770727, 250.76166088685738);stroke-width:2; opacity: 0\"/><text x=\"89.25036039467997%\" y=\"71\" font-size=\"12px\" fill=\"rgb(0.0, 138.56128015770727, 250.76166088685738)\" id=\"_fs_usieyiccwpusnzjovqwp_ind_6\" style=\"opacity: 0\" dominant-baseline=\"middle\" text-anchor=\"middle\">-0.009</text><svg x=\"88.50541728531468%\" y=\"40\" height=\"20\" width=\"1.4898862187305895%\">  <svg x=\"0\" y=\"0\" width=\"100%\" height=\"100%\">    <text x=\"50%\" y=\"9\" font-size=\"12px\" fill=\"rgb(255,255,255)\" dominant-baseline=\"middle\" text-anchor=\"middle\">sagt</text>  </svg></svg><line x1=\"89.99530350404527%\" x2=\"90.82011895859262%\" y1=\"60\" y2=\"60\" id=\"_fb_usieyiccwpusnzjovqwp_ind_2\" style=\"stroke:rgb(0.0, 138.56128015770727, 250.76166088685738);stroke-width:2; opacity: 0\"/><text x=\"90.40771123131894%\" y=\"71\" font-size=\"12px\" fill=\"rgb(0.0, 138.56128015770727, 250.76166088685738)\" id=\"_fs_usieyiccwpusnzjovqwp_ind_2\" style=\"opacity: 0\" dominant-baseline=\"middle\" text-anchor=\"middle\">-0.005</text><svg x=\"89.99530350404527%\" y=\"40\" height=\"20\" width=\"0.8248154545473483%\">  <svg x=\"0\" y=\"0\" width=\"100%\" height=\"100%\">    <text x=\"50%\" y=\"9\" font-size=\"12px\" fill=\"rgb(255,255,255)\" dominant-baseline=\"middle\" text-anchor=\"middle\">diese</text>  </svg></svg><line x1=\"90.82011895859262%\" x2=\"91.2781018127301%\" y1=\"60\" y2=\"60\" id=\"_fb_usieyiccwpusnzjovqwp_ind_11\" style=\"stroke:rgb(0.0, 138.56128015770727, 250.76166088685738);stroke-width:2; opacity: 0\"/><text x=\"91.04911038566135%\" y=\"71\" font-size=\"12px\" fill=\"rgb(0.0, 138.56128015770727, 250.76166088685738)\" id=\"_fs_usieyiccwpusnzjovqwp_ind_11\" style=\"opacity: 0\" dominant-baseline=\"middle\" text-anchor=\"middle\">-0.003</text><svg x=\"90.82011895859262%\" y=\"40\" height=\"20\" width=\"0.45798285413748374%\">  <svg x=\"0\" y=\"0\" width=\"100%\" height=\"100%\">    <text x=\"50%\" y=\"9\" font-size=\"12px\" fill=\"rgb(255,255,255)\" dominant-baseline=\"middle\" text-anchor=\"middle\"></text>  </svg></svg><line x1=\"91.2781018127301%\" x2=\"91.5142896224901%\" y1=\"60\" y2=\"60\" id=\"_fb_usieyiccwpusnzjovqwp_ind_0\" style=\"stroke:rgb(0.0, 138.56128015770727, 250.76166088685738);stroke-width:2; opacity: 0\"/><text x=\"91.3961957176101%\" y=\"71\" font-size=\"12px\" fill=\"rgb(0.0, 138.56128015770727, 250.76166088685738)\" id=\"_fs_usieyiccwpusnzjovqwp_ind_0\" style=\"opacity: 0\" dominant-baseline=\"middle\" text-anchor=\"middle\">-0.001</text><svg x=\"91.2781018127301%\" y=\"40\" height=\"20\" width=\"0.23618780975999698%\">  <svg x=\"0\" y=\"0\" width=\"100%\" height=\"100%\">    <text x=\"50%\" y=\"9\" font-size=\"12px\" fill=\"rgb(255,255,255)\" dominant-baseline=\"middle\" text-anchor=\"middle\">Sehr</text>  </svg></svg><g transform=\"translate(-8,0)\">  <svg x=\"69.24640844641799%\" y=\"40\" height=\"18\" overflow=\"visible\" width=\"30\">    <path d=\"M 8 -9 l -6 18 L 8 25\" fill=\"none\" style=\"stroke:rgb(0.0, 138.56128015770727, 250.76166088685738);stroke-width:2\" />  </svg></g><g transform=\"translate(-10,0)\">  <svg x=\"69.24640844641799%\" y=\"40\" height=\"18\" overflow=\"visible\" width=\"30\">    <path d=\"M 8 -9 l -6 18 L 8 25\" fill=\"none\" style=\"stroke:rgb(0.0, 138.56128015770727, 250.76166088685738);stroke-width:2\" />  </svg></g><g transform=\"translate(-12,0)\">  <svg x=\"69.24640844641799%\" y=\"40\" height=\"18\" overflow=\"visible\" width=\"30\">    <path d=\"M 8 -9 l -6 18 L 8 25\" fill=\"none\" style=\"stroke:rgb(0.0, 138.56128015770727, 250.76166088685738);stroke-width:2\" />  </svg></g><g transform=\"translate(-14,0)\">  <svg x=\"69.24640844641799%\" y=\"40\" height=\"18\" overflow=\"visible\" width=\"30\">    <path d=\"M 8 -9 l -6 18 L 8 25\" fill=\"none\" style=\"stroke:rgb(0.0, 138.56128015770727, 250.76166088685738);stroke-width:2\" />  </svg></g><g transform=\"translate(2,0)\">  <svg x=\"69.24640844641799%\" y=\"40\" height=\"18\" overflow=\"visible\" width=\"30\">    <path d=\"M 8 -9 l -6 18 L 8 25\" fill=\"none\" style=\"stroke:rgb(0.0, 138.56128015770727, 250.76166088685738);stroke-width:2\" />  </svg></g><g transform=\"translate(0,0)\">  <svg x=\"69.24640844641799%\" y=\"40\" height=\"18\" overflow=\"visible\" width=\"30\">    <path d=\"M 8 -9 l -6 18 L 8 25\" fill=\"none\" style=\"stroke:rgb(0.0, 138.56128015770727, 250.76166088685738);stroke-width:2\" />  </svg></g><g transform=\"translate(-2,0)\">  <svg x=\"69.24640844641799%\" y=\"40\" height=\"18\" overflow=\"visible\" width=\"30\">    <path d=\"M 8 -9 l -6 18 L 8 25\" fill=\"none\" style=\"stroke:rgb(0.0, 138.56128015770727, 250.76166088685738);stroke-width:2\" />  </svg></g><g transform=\"translate(-4,0)\">  <svg x=\"69.24640844641799%\" y=\"40\" height=\"18\" overflow=\"visible\" width=\"30\">    <path d=\"M 8 -9 l -6 18 L 8 25\" fill=\"none\" style=\"stroke:rgb(0.0, 138.56128015770727, 250.76166088685738);stroke-width:2\" />  </svg></g><g transform=\"translate(-8,0)\">  <svg x=\"77.48481321406638%\" y=\"40\" height=\"18\" overflow=\"visible\" width=\"30\">    <path d=\"M 8 -9 l -6 18 L 8 25\" fill=\"none\" style=\"stroke:rgb(0.0, 138.56128015770727, 250.76166088685738);stroke-width:2\" />  </svg></g><g transform=\"translate(-10,0)\">  <svg x=\"77.48481321406638%\" y=\"40\" height=\"18\" overflow=\"visible\" width=\"30\">    <path d=\"M 8 -9 l -6 18 L 8 25\" fill=\"none\" style=\"stroke:rgb(0.0, 138.56128015770727, 250.76166088685738);stroke-width:2\" />  </svg></g><g transform=\"translate(-12,0)\">  <svg x=\"77.48481321406638%\" y=\"40\" height=\"18\" overflow=\"visible\" width=\"30\">    <path d=\"M 8 -9 l -6 18 L 8 25\" fill=\"none\" style=\"stroke:rgb(0.0, 138.56128015770727, 250.76166088685738);stroke-width:2\" />  </svg></g><g transform=\"translate(-14,0)\">  <svg x=\"77.48481321406638%\" y=\"40\" height=\"18\" overflow=\"visible\" width=\"30\">    <path d=\"M 8 -9 l -6 18 L 8 25\" fill=\"none\" style=\"stroke:rgb(0.0, 138.56128015770727, 250.76166088685738);stroke-width:2\" />  </svg></g><g transform=\"translate(2,0)\">  <svg x=\"77.48481321406638%\" y=\"40\" height=\"18\" overflow=\"visible\" width=\"30\">    <path d=\"M 8 -9 l -6 18 L 8 25\" fill=\"none\" style=\"stroke:rgb(0.0, 138.56128015770727, 250.76166088685738);stroke-width:2\" />  </svg></g><g transform=\"translate(0,0)\">  <svg x=\"77.48481321406638%\" y=\"40\" height=\"18\" overflow=\"visible\" width=\"30\">    <path d=\"M 8 -9 l -6 18 L 8 25\" fill=\"none\" style=\"stroke:rgb(0.0, 138.56128015770727, 250.76166088685738);stroke-width:2\" />  </svg></g><g transform=\"translate(-2,0)\">  <svg x=\"77.48481321406638%\" y=\"40\" height=\"18\" overflow=\"visible\" width=\"30\">    <path d=\"M 8 -9 l -6 18 L 8 25\" fill=\"none\" style=\"stroke:rgb(0.0, 138.56128015770727, 250.76166088685738);stroke-width:2\" />  </svg></g><g transform=\"translate(-4,0)\">  <svg x=\"77.48481321406638%\" y=\"40\" height=\"18\" overflow=\"visible\" width=\"30\">    <path d=\"M 8 -9 l -6 18 L 8 25\" fill=\"none\" style=\"stroke:rgb(0.0, 138.56128015770727, 250.76166088685738);stroke-width:2\" />  </svg></g><g transform=\"translate(-8,0)\">  <svg x=\"85.55365406713055%\" y=\"40\" height=\"18\" overflow=\"visible\" width=\"30\">    <path d=\"M 8 -9 l -6 18 L 8 25\" fill=\"none\" style=\"stroke:rgb(0.0, 138.56128015770727, 250.76166088685738);stroke-width:2\" />  </svg></g><g transform=\"translate(-10,0)\">  <svg x=\"85.55365406713055%\" y=\"40\" height=\"18\" overflow=\"visible\" width=\"30\">    <path d=\"M 8 -9 l -6 18 L 8 25\" fill=\"none\" style=\"stroke:rgb(0.0, 138.56128015770727, 250.76166088685738);stroke-width:2\" />  </svg></g><g transform=\"translate(-12,0)\">  <svg x=\"85.55365406713055%\" y=\"40\" height=\"18\" overflow=\"visible\" width=\"30\">    <path d=\"M 8 -9 l -6 18 L 8 25\" fill=\"none\" style=\"stroke:rgb(0.0, 138.56128015770727, 250.76166088685738);stroke-width:2\" />  </svg></g><g transform=\"translate(-14,0)\">  <svg x=\"85.55365406713055%\" y=\"40\" height=\"18\" overflow=\"visible\" width=\"30\">    <path d=\"M 8 -9 l -6 18 L 8 25\" fill=\"none\" style=\"stroke:rgb(0.0, 138.56128015770727, 250.76166088685738);stroke-width:2\" />  </svg></g><g transform=\"translate(2,0)\">  <svg x=\"85.55365406713055%\" y=\"40\" height=\"18\" overflow=\"visible\" width=\"30\">    <path d=\"M 8 -9 l -6 18 L 8 25\" fill=\"none\" style=\"stroke:rgb(0.0, 138.56128015770727, 250.76166088685738);stroke-width:2\" />  </svg></g><g transform=\"translate(0,0)\">  <svg x=\"85.55365406713055%\" y=\"40\" height=\"18\" overflow=\"visible\" width=\"30\">    <path d=\"M 8 -9 l -6 18 L 8 25\" fill=\"none\" style=\"stroke:rgb(0.0, 138.56128015770727, 250.76166088685738);stroke-width:2\" />  </svg></g><g transform=\"translate(-2,0)\">  <svg x=\"85.55365406713055%\" y=\"40\" height=\"18\" overflow=\"visible\" width=\"30\">    <path d=\"M 8 -9 l -6 18 L 8 25\" fill=\"none\" style=\"stroke:rgb(0.0, 138.56128015770727, 250.76166088685738);stroke-width:2\" />  </svg></g><g transform=\"translate(-4,0)\">  <svg x=\"85.55365406713055%\" y=\"40\" height=\"18\" overflow=\"visible\" width=\"30\">    <path d=\"M 8 -9 l -6 18 L 8 25\" fill=\"none\" style=\"stroke:rgb(0.0, 138.56128015770727, 250.76166088685738);stroke-width:2\" />  </svg></g><g transform=\"translate(-8,0)\">  <svg x=\"88.50541728531468%\" y=\"40\" height=\"18\" overflow=\"visible\" width=\"30\">    <path d=\"M 8 -9 l -6 18 L 8 25\" fill=\"none\" style=\"stroke:rgb(0.0, 138.56128015770727, 250.76166088685738);stroke-width:2\" />  </svg></g><g transform=\"translate(-10,0)\">  <svg x=\"88.50541728531468%\" y=\"40\" height=\"18\" overflow=\"visible\" width=\"30\">    <path d=\"M 8 -9 l -6 18 L 8 25\" fill=\"none\" style=\"stroke:rgb(0.0, 138.56128015770727, 250.76166088685738);stroke-width:2\" />  </svg></g><g transform=\"translate(-12,0)\">  <svg x=\"88.50541728531468%\" y=\"40\" height=\"18\" overflow=\"visible\" width=\"30\">    <path d=\"M 8 -9 l -6 18 L 8 25\" fill=\"none\" style=\"stroke:rgb(0.0, 138.56128015770727, 250.76166088685738);stroke-width:2\" />  </svg></g><g transform=\"translate(-14,0)\">  <svg x=\"88.50541728531468%\" y=\"40\" height=\"18\" overflow=\"visible\" width=\"30\">    <path d=\"M 8 -9 l -6 18 L 8 25\" fill=\"none\" style=\"stroke:rgb(0.0, 138.56128015770727, 250.76166088685738);stroke-width:2\" />  </svg></g><g transform=\"translate(2,0)\">  <svg x=\"88.50541728531468%\" y=\"40\" height=\"18\" overflow=\"visible\" width=\"30\">    <path d=\"M 8 -9 l -6 18 L 8 25\" fill=\"none\" style=\"stroke:rgb(0.0, 138.56128015770727, 250.76166088685738);stroke-width:2\" />  </svg></g><g transform=\"translate(0,0)\">  <svg x=\"88.50541728531468%\" y=\"40\" height=\"18\" overflow=\"visible\" width=\"30\">    <path d=\"M 8 -9 l -6 18 L 8 25\" fill=\"none\" style=\"stroke:rgb(0.0, 138.56128015770727, 250.76166088685738);stroke-width:2\" />  </svg></g><g transform=\"translate(-2,0)\">  <svg x=\"88.50541728531468%\" y=\"40\" height=\"18\" overflow=\"visible\" width=\"30\">    <path d=\"M 8 -9 l -6 18 L 8 25\" fill=\"none\" style=\"stroke:rgb(0.0, 138.56128015770727, 250.76166088685738);stroke-width:2\" />  </svg></g><g transform=\"translate(-4,0)\">  <svg x=\"88.50541728531468%\" y=\"40\" height=\"18\" overflow=\"visible\" width=\"30\">    <path d=\"M 8 -9 l -6 18 L 8 25\" fill=\"none\" style=\"stroke:rgb(0.0, 138.56128015770727, 250.76166088685738);stroke-width:2\" />  </svg></g><g transform=\"translate(-8,0)\">  <svg x=\"89.99530350404527%\" y=\"40\" height=\"18\" overflow=\"visible\" width=\"30\">    <path d=\"M 8 -9 l -6 18 L 8 25\" fill=\"none\" style=\"stroke:rgb(0.0, 138.56128015770727, 250.76166088685738);stroke-width:2\" />  </svg></g><g transform=\"translate(-10,0)\">  <svg x=\"89.99530350404527%\" y=\"40\" height=\"18\" overflow=\"visible\" width=\"30\">    <path d=\"M 8 -9 l -6 18 L 8 25\" fill=\"none\" style=\"stroke:rgb(0.0, 138.56128015770727, 250.76166088685738);stroke-width:2\" />  </svg></g><g transform=\"translate(-12,0)\">  <svg x=\"89.99530350404527%\" y=\"40\" height=\"18\" overflow=\"visible\" width=\"30\">    <path d=\"M 8 -9 l -6 18 L 8 25\" fill=\"none\" style=\"stroke:rgb(0.0, 138.56128015770727, 250.76166088685738);stroke-width:2\" />  </svg></g><g transform=\"translate(-14,0)\">  <svg x=\"89.99530350404527%\" y=\"40\" height=\"18\" overflow=\"visible\" width=\"30\">    <path d=\"M 8 -9 l -6 18 L 8 25\" fill=\"none\" style=\"stroke:rgb(0.0, 138.56128015770727, 250.76166088685738);stroke-width:2\" />  </svg></g><g transform=\"translate(2,0)\">  <svg x=\"89.99530350404527%\" y=\"40\" height=\"18\" overflow=\"visible\" width=\"30\">    <path d=\"M 8 -9 l -6 18 L 8 25\" fill=\"none\" style=\"stroke:rgb(0.0, 138.56128015770727, 250.76166088685738);stroke-width:2\" />  </svg></g><g transform=\"translate(0,0)\">  <svg x=\"89.99530350404527%\" y=\"40\" height=\"18\" overflow=\"visible\" width=\"30\">    <path d=\"M 8 -9 l -6 18 L 8 25\" fill=\"none\" style=\"stroke:rgb(0.0, 138.56128015770727, 250.76166088685738);stroke-width:2\" />  </svg></g><g transform=\"translate(-2,0)\">  <svg x=\"89.99530350404527%\" y=\"40\" height=\"18\" overflow=\"visible\" width=\"30\">    <path d=\"M 8 -9 l -6 18 L 8 25\" fill=\"none\" style=\"stroke:rgb(0.0, 138.56128015770727, 250.76166088685738);stroke-width:2\" />  </svg></g><g transform=\"translate(-4,0)\">  <svg x=\"89.99530350404527%\" y=\"40\" height=\"18\" overflow=\"visible\" width=\"30\">    <path d=\"M 8 -9 l -6 18 L 8 25\" fill=\"none\" style=\"stroke:rgb(0.0, 138.56128015770727, 250.76166088685738);stroke-width:2\" />  </svg></g><g transform=\"translate(-8,0)\">  <svg x=\"90.82011895859262%\" y=\"40\" height=\"18\" overflow=\"visible\" width=\"30\">    <path d=\"M 8 -9 l -6 18 L 8 25\" fill=\"none\" style=\"stroke:rgb(0.0, 138.56128015770727, 250.76166088685738);stroke-width:2\" />  </svg></g><g transform=\"translate(-10,0)\">  <svg x=\"90.82011895859262%\" y=\"40\" height=\"18\" overflow=\"visible\" width=\"30\">    <path d=\"M 8 -9 l -6 18 L 8 25\" fill=\"none\" style=\"stroke:rgb(0.0, 138.56128015770727, 250.76166088685738);stroke-width:2\" />  </svg></g><g transform=\"translate(-12,0)\">  <svg x=\"90.82011895859262%\" y=\"40\" height=\"18\" overflow=\"visible\" width=\"30\">    <path d=\"M 8 -9 l -6 18 L 8 25\" fill=\"none\" style=\"stroke:rgb(0.0, 138.56128015770727, 250.76166088685738);stroke-width:2\" />  </svg></g><g transform=\"translate(-14,0)\">  <svg x=\"90.82011895859262%\" y=\"40\" height=\"18\" overflow=\"visible\" width=\"30\">    <path d=\"M 8 -9 l -6 18 L 8 25\" fill=\"none\" style=\"stroke:rgb(0.0, 138.56128015770727, 250.76166088685738);stroke-width:2\" />  </svg></g><g transform=\"translate(2,0)\">  <svg x=\"90.82011895859262%\" y=\"40\" height=\"18\" overflow=\"visible\" width=\"30\">    <path d=\"M 8 -9 l -6 18 L 8 25\" fill=\"none\" style=\"stroke:rgb(0.0, 138.56128015770727, 250.76166088685738);stroke-width:2\" />  </svg></g><g transform=\"translate(0,0)\">  <svg x=\"90.82011895859262%\" y=\"40\" height=\"18\" overflow=\"visible\" width=\"30\">    <path d=\"M 8 -9 l -6 18 L 8 25\" fill=\"none\" style=\"stroke:rgb(0.0, 138.56128015770727, 250.76166088685738);stroke-width:2\" />  </svg></g><g transform=\"translate(-2,0)\">  <svg x=\"90.82011895859262%\" y=\"40\" height=\"18\" overflow=\"visible\" width=\"30\">    <path d=\"M 8 -9 l -6 18 L 8 25\" fill=\"none\" style=\"stroke:rgb(0.0, 138.56128015770727, 250.76166088685738);stroke-width:2\" />  </svg></g><g transform=\"translate(-4,0)\">  <svg x=\"90.82011895859262%\" y=\"40\" height=\"18\" overflow=\"visible\" width=\"30\">    <path d=\"M 8 -9 l -6 18 L 8 25\" fill=\"none\" style=\"stroke:rgb(0.0, 138.56128015770727, 250.76166088685738);stroke-width:2\" />  </svg></g><g transform=\"translate(-8,0)\">  <svg x=\"91.2781018127301%\" y=\"40\" height=\"18\" overflow=\"visible\" width=\"30\">    <path d=\"M 8 -9 l -6 18 L 8 25\" fill=\"none\" style=\"stroke:rgb(0.0, 138.56128015770727, 250.76166088685738);stroke-width:2\" />  </svg></g><g transform=\"translate(-10,0)\">  <svg x=\"91.2781018127301%\" y=\"40\" height=\"18\" overflow=\"visible\" width=\"30\">    <path d=\"M 8 -9 l -6 18 L 8 25\" fill=\"none\" style=\"stroke:rgb(0.0, 138.56128015770727, 250.76166088685738);stroke-width:2\" />  </svg></g><g transform=\"translate(-12,0)\">  <svg x=\"91.2781018127301%\" y=\"40\" height=\"18\" overflow=\"visible\" width=\"30\">    <path d=\"M 8 -9 l -6 18 L 8 25\" fill=\"none\" style=\"stroke:rgb(0.0, 138.56128015770727, 250.76166088685738);stroke-width:2\" />  </svg></g><g transform=\"translate(-14,0)\">  <svg x=\"91.2781018127301%\" y=\"40\" height=\"18\" overflow=\"visible\" width=\"30\">    <path d=\"M 8 -9 l -6 18 L 8 25\" fill=\"none\" style=\"stroke:rgb(0.0, 138.56128015770727, 250.76166088685738);stroke-width:2\" />  </svg></g><g transform=\"translate(2,0)\">  <svg x=\"91.2781018127301%\" y=\"40\" height=\"18\" overflow=\"visible\" width=\"30\">    <path d=\"M 8 -9 l -6 18 L 8 25\" fill=\"none\" style=\"stroke:rgb(0.0, 138.56128015770727, 250.76166088685738);stroke-width:2\" />  </svg></g><g transform=\"translate(0,0)\">  <svg x=\"91.2781018127301%\" y=\"40\" height=\"18\" overflow=\"visible\" width=\"30\">    <path d=\"M 8 -9 l -6 18 L 8 25\" fill=\"none\" style=\"stroke:rgb(0.0, 138.56128015770727, 250.76166088685738);stroke-width:2\" />  </svg></g><g transform=\"translate(-2,0)\">  <svg x=\"91.2781018127301%\" y=\"40\" height=\"18\" overflow=\"visible\" width=\"30\">    <path d=\"M 8 -9 l -6 18 L 8 25\" fill=\"none\" style=\"stroke:rgb(0.0, 138.56128015770727, 250.76166088685738);stroke-width:2\" />  </svg></g><g transform=\"translate(-4,0)\">  <svg x=\"91.2781018127301%\" y=\"40\" height=\"18\" overflow=\"visible\" width=\"30\">    <path d=\"M 8 -9 l -6 18 L 8 25\" fill=\"none\" style=\"stroke:rgb(0.0, 138.56128015770727, 250.76166088685738);stroke-width:2\" />  </svg></g><rect transform=\"translate(0,0)\" x=\"59.763899413292194%\" y=\"40\" width=\"8\" height=\"18\" style=\"fill:rgb(0.0, 138.56128015770727, 250.76166088685738)\"/><g transform=\"translate(-6.0,0)\">  <svg x=\"91.5142896224901%\" y=\"40\" height=\"18\" overflow=\"visible\" width=\"30\">    <path d=\"M 8 -9 l -6 18 L 8 25 L 20 25 L 20 -9\" fill=\"#ffffff\" style=\"stroke:rgb(255,255,255);stroke-width:2\" />  </svg></g><g transform=\"translate(-6.0,0)\">  <svg x=\"69.24640844641799%\" y=\"40\" height=\"18\" overflow=\"visible\" width=\"30\">    <path d=\"M 8 -9 l -6 18 L 8 25\" fill=\"none\" style=\"stroke:rgb(208, 230, 250);stroke-width:2\" />  </svg></g><rect x=\"59.763899413292194%\" y=\"40\" height=\"20\" width=\"9.482509033125794%\"      onmouseover=\"document.getElementById('_tp_usieyiccwpusnzjovqwp_ind_1').style.textDecoration = 'underline';document.getElementById('_fs_usieyiccwpusnzjovqwp_ind_1').style.opacity = 1;document.getElementById('_fb_usieyiccwpusnzjovqwp_ind_1').style.opacity = 1;\"      onmouseout=\"document.getElementById('_tp_usieyiccwpusnzjovqwp_ind_1').style.textDecoration = 'none';document.getElementById('_fs_usieyiccwpusnzjovqwp_ind_1').style.opacity = 0;document.getElementById('_fb_usieyiccwpusnzjovqwp_ind_1').style.opacity = 0;\" style=\"fill:rgb(0,0,0,0)\" /><g transform=\"translate(-6.0,0)\">  <svg x=\"77.48481321406638%\" y=\"40\" height=\"18\" overflow=\"visible\" width=\"30\">    <path d=\"M 8 -9 l -6 18 L 8 25\" fill=\"none\" style=\"stroke:rgb(208, 230, 250);stroke-width:2\" />  </svg></g><rect x=\"69.24640844641799%\" y=\"40\" height=\"20\" width=\"8.23840476764839%\"      onmouseover=\"document.getElementById('_tp_usieyiccwpusnzjovqwp_ind_8').style.textDecoration = 'underline';document.getElementById('_fs_usieyiccwpusnzjovqwp_ind_8').style.opacity = 1;document.getElementById('_fb_usieyiccwpusnzjovqwp_ind_8').style.opacity = 1;\"      onmouseout=\"document.getElementById('_tp_usieyiccwpusnzjovqwp_ind_8').style.textDecoration = 'none';document.getElementById('_fs_usieyiccwpusnzjovqwp_ind_8').style.opacity = 0;document.getElementById('_fb_usieyiccwpusnzjovqwp_ind_8').style.opacity = 0;\" style=\"fill:rgb(0,0,0,0)\" /><g transform=\"translate(-6.0,0)\">  <svg x=\"85.55365406713055%\" y=\"40\" height=\"18\" overflow=\"visible\" width=\"30\">    <path d=\"M 8 -9 l -6 18 L 8 25\" fill=\"none\" style=\"stroke:rgb(208, 230, 250);stroke-width:2\" />  </svg></g><rect x=\"77.48481321406638%\" y=\"40\" height=\"20\" width=\"8.068840853064174%\"      onmouseover=\"document.getElementById('_tp_usieyiccwpusnzjovqwp_ind_5').style.textDecoration = 'underline';document.getElementById('_fs_usieyiccwpusnzjovqwp_ind_5').style.opacity = 1;document.getElementById('_fb_usieyiccwpusnzjovqwp_ind_5').style.opacity = 1;\"      onmouseout=\"document.getElementById('_tp_usieyiccwpusnzjovqwp_ind_5').style.textDecoration = 'none';document.getElementById('_fs_usieyiccwpusnzjovqwp_ind_5').style.opacity = 0;document.getElementById('_fb_usieyiccwpusnzjovqwp_ind_5').style.opacity = 0;\" style=\"fill:rgb(0,0,0,0)\" /><g transform=\"translate(-6.0,0)\">  <svg x=\"88.50541728531468%\" y=\"40\" height=\"18\" overflow=\"visible\" width=\"30\">    <path d=\"M 8 -9 l -6 18 L 8 25\" fill=\"none\" style=\"stroke:rgb(208, 230, 250);stroke-width:2\" />  </svg></g><rect x=\"85.55365406713055%\" y=\"40\" height=\"20\" width=\"2.9517632181841265%\"      onmouseover=\"document.getElementById('_tp_usieyiccwpusnzjovqwp_ind_10').style.textDecoration = 'underline';document.getElementById('_fs_usieyiccwpusnzjovqwp_ind_10').style.opacity = 1;document.getElementById('_fb_usieyiccwpusnzjovqwp_ind_10').style.opacity = 1;\"      onmouseout=\"document.getElementById('_tp_usieyiccwpusnzjovqwp_ind_10').style.textDecoration = 'none';document.getElementById('_fs_usieyiccwpusnzjovqwp_ind_10').style.opacity = 0;document.getElementById('_fb_usieyiccwpusnzjovqwp_ind_10').style.opacity = 0;\" style=\"fill:rgb(0,0,0,0)\" /><g transform=\"translate(-6.0,0)\">  <svg x=\"89.99530350404527%\" y=\"40\" height=\"18\" overflow=\"visible\" width=\"30\">    <path d=\"M 8 -9 l -6 18 L 8 25\" fill=\"none\" style=\"stroke:rgb(208, 230, 250);stroke-width:2\" />  </svg></g><rect x=\"88.50541728531468%\" y=\"40\" height=\"20\" width=\"1.4898862187305895%\"      onmouseover=\"document.getElementById('_tp_usieyiccwpusnzjovqwp_ind_6').style.textDecoration = 'underline';document.getElementById('_fs_usieyiccwpusnzjovqwp_ind_6').style.opacity = 1;document.getElementById('_fb_usieyiccwpusnzjovqwp_ind_6').style.opacity = 1;\"      onmouseout=\"document.getElementById('_tp_usieyiccwpusnzjovqwp_ind_6').style.textDecoration = 'none';document.getElementById('_fs_usieyiccwpusnzjovqwp_ind_6').style.opacity = 0;document.getElementById('_fb_usieyiccwpusnzjovqwp_ind_6').style.opacity = 0;\" style=\"fill:rgb(0,0,0,0)\" /><g transform=\"translate(-6.0,0)\">  <svg x=\"90.82011895859262%\" y=\"40\" height=\"18\" overflow=\"visible\" width=\"30\">    <path d=\"M 8 -9 l -6 18 L 8 25\" fill=\"none\" style=\"stroke:rgb(208, 230, 250);stroke-width:2\" />  </svg></g><rect x=\"89.99530350404527%\" y=\"40\" height=\"20\" width=\"0.8248154545473483%\"      onmouseover=\"document.getElementById('_tp_usieyiccwpusnzjovqwp_ind_2').style.textDecoration = 'underline';document.getElementById('_fs_usieyiccwpusnzjovqwp_ind_2').style.opacity = 1;document.getElementById('_fb_usieyiccwpusnzjovqwp_ind_2').style.opacity = 1;\"      onmouseout=\"document.getElementById('_tp_usieyiccwpusnzjovqwp_ind_2').style.textDecoration = 'none';document.getElementById('_fs_usieyiccwpusnzjovqwp_ind_2').style.opacity = 0;document.getElementById('_fb_usieyiccwpusnzjovqwp_ind_2').style.opacity = 0;\" style=\"fill:rgb(0,0,0,0)\" /><g transform=\"translate(-6.0,0)\">  <svg x=\"91.2781018127301%\" y=\"40\" height=\"18\" overflow=\"visible\" width=\"30\">    <path d=\"M 8 -9 l -6 18 L 8 25\" fill=\"none\" style=\"stroke:rgb(208, 230, 250);stroke-width:2\" />  </svg></g><rect x=\"90.82011895859262%\" y=\"40\" height=\"20\" width=\"0.45798285413748374%\"      onmouseover=\"document.getElementById('_tp_usieyiccwpusnzjovqwp_ind_11').style.textDecoration = 'underline';document.getElementById('_fs_usieyiccwpusnzjovqwp_ind_11').style.opacity = 1;document.getElementById('_fb_usieyiccwpusnzjovqwp_ind_11').style.opacity = 1;\"      onmouseout=\"document.getElementById('_tp_usieyiccwpusnzjovqwp_ind_11').style.textDecoration = 'none';document.getElementById('_fs_usieyiccwpusnzjovqwp_ind_11').style.opacity = 0;document.getElementById('_fb_usieyiccwpusnzjovqwp_ind_11').style.opacity = 0;\" style=\"fill:rgb(0,0,0,0)\" /><rect x=\"91.2781018127301%\" y=\"40\" height=\"20\" width=\"0.23618780975999698%\"      onmouseover=\"document.getElementById('_tp_usieyiccwpusnzjovqwp_ind_0').style.textDecoration = 'underline';document.getElementById('_fs_usieyiccwpusnzjovqwp_ind_0').style.opacity = 1;document.getElementById('_fb_usieyiccwpusnzjovqwp_ind_0').style.opacity = 1;\"      onmouseout=\"document.getElementById('_tp_usieyiccwpusnzjovqwp_ind_0').style.textDecoration = 'none';document.getElementById('_fs_usieyiccwpusnzjovqwp_ind_0').style.opacity = 0;document.getElementById('_fb_usieyiccwpusnzjovqwp_ind_0').style.opacity = 0;\" style=\"fill:rgb(0,0,0,0)\" /></svg><div align='center'><div style=\"color: rgb(120,120,120); font-size: 12px; margin-top: -15px;\">inputs</div><div style='display: inline; text-align: center;'\n",
       "    ><div style='display: none; color: #999; padding-top: 0px; font-size: 12px;'>-0.001</div\n",
       "        ><div id='_tp_usieyiccwpusnzjovqwp_ind_0'\n",
       "            style='display: inline; background: rgba(30.0, 136.0, 229.0, 0.006773618538324436); border-radius: 3px; padding: 0px'\n",
       "            onclick=\"\n",
       "            if (this.previousSibling.style.display == 'none') {\n",
       "                this.previousSibling.style.display = 'block';\n",
       "                this.parentNode.style.display = 'inline-block';\n",
       "            } else {\n",
       "                this.previousSibling.style.display = 'none';\n",
       "                this.parentNode.style.display = 'inline';\n",
       "            }\"\n",
       "            onmouseover=\"document.getElementById('_fb_usieyiccwpusnzjovqwp_ind_0').style.opacity = 1; document.getElementById('_fs_usieyiccwpusnzjovqwp_ind_0').style.opacity = 1;\"\n",
       "            onmouseout=\"document.getElementById('_fb_usieyiccwpusnzjovqwp_ind_0').style.opacity = 0; document.getElementById('_fs_usieyiccwpusnzjovqwp_ind_0').style.opacity = 0;\"\n",
       "        >Sehr</div></div><div style='display: inline; text-align: center;'\n",
       "    ><div style='display: none; color: #999; padding-top: 0px; font-size: 12px;'>-0.057</div\n",
       "        ><div id='_tp_usieyiccwpusnzjovqwp_ind_1'\n",
       "            style='display: inline; background: rgba(30.0, 136.0, 229.0, 0.3851455733808674); border-radius: 3px; padding: 0px'\n",
       "            onclick=\"\n",
       "            if (this.previousSibling.style.display == 'none') {\n",
       "                this.previousSibling.style.display = 'block';\n",
       "                this.parentNode.style.display = 'inline-block';\n",
       "            } else {\n",
       "                this.previousSibling.style.display = 'none';\n",
       "                this.parentNode.style.display = 'inline';\n",
       "            }\"\n",
       "            onmouseover=\"document.getElementById('_fb_usieyiccwpusnzjovqwp_ind_1').style.opacity = 1; document.getElementById('_fs_usieyiccwpusnzjovqwp_ind_1').style.opacity = 1;\"\n",
       "            onmouseout=\"document.getElementById('_fb_usieyiccwpusnzjovqwp_ind_1').style.opacity = 0; document.getElementById('_fs_usieyiccwpusnzjovqwp_ind_1').style.opacity = 0;\"\n",
       "        > sympathisch</div></div><div style='display: inline; text-align: center;'\n",
       "    ><div style='display: none; color: #999; padding-top: 0px; font-size: 12px;'>-0.005</div\n",
       "        ><div id='_tp_usieyiccwpusnzjovqwp_ind_2'\n",
       "            style='display: inline; background: rgba(30.0, 136.0, 229.0, 0.03042186571598325); border-radius: 3px; padding: 0px'\n",
       "            onclick=\"\n",
       "            if (this.previousSibling.style.display == 'none') {\n",
       "                this.previousSibling.style.display = 'block';\n",
       "                this.parentNode.style.display = 'inline-block';\n",
       "            } else {\n",
       "                this.previousSibling.style.display = 'none';\n",
       "                this.parentNode.style.display = 'inline';\n",
       "            }\"\n",
       "            onmouseover=\"document.getElementById('_fb_usieyiccwpusnzjovqwp_ind_2').style.opacity = 1; document.getElementById('_fs_usieyiccwpusnzjovqwp_ind_2').style.opacity = 1;\"\n",
       "            onmouseout=\"document.getElementById('_fb_usieyiccwpusnzjovqwp_ind_2').style.opacity = 0; document.getElementById('_fs_usieyiccwpusnzjovqwp_ind_2').style.opacity = 0;\"\n",
       "        > diese</div></div><div style='display: inline; text-align: center;'\n",
       "    ><div style='display: none; color: #999; padding-top: 0px; font-size: 12px;'>0.094</div\n",
       "        ><div id='_tp_usieyiccwpusnzjovqwp_ind_3'\n",
       "            style='display: inline; background: rgba(255.0, 13.0, 87.0, 0.6295107942166767); border-radius: 3px; padding: 0px'\n",
       "            onclick=\"\n",
       "            if (this.previousSibling.style.display == 'none') {\n",
       "                this.previousSibling.style.display = 'block';\n",
       "                this.parentNode.style.display = 'inline-block';\n",
       "            } else {\n",
       "                this.previousSibling.style.display = 'none';\n",
       "                this.parentNode.style.display = 'inline';\n",
       "            }\"\n",
       "            onmouseover=\"document.getElementById('_fb_usieyiccwpusnzjovqwp_ind_3').style.opacity = 1; document.getElementById('_fs_usieyiccwpusnzjovqwp_ind_3').style.opacity = 1;\"\n",
       "            onmouseout=\"document.getElementById('_fb_usieyiccwpusnzjovqwp_ind_3').style.opacity = 0; document.getElementById('_fs_usieyiccwpusnzjovqwp_ind_3').style.opacity = 0;\"\n",
       "        > Frau</div></div><div style='display: inline; text-align: center;'\n",
       "    ><div style='display: none; color: #999; padding-top: 0px; font-size: 12px;'>0.019</div\n",
       "        ><div id='_tp_usieyiccwpusnzjovqwp_ind_4'\n",
       "            style='display: inline; background: rgba(255.0, 13.0, 87.0, 0.12501485442661908); border-radius: 3px; padding: 0px'\n",
       "            onclick=\"\n",
       "            if (this.previousSibling.style.display == 'none') {\n",
       "                this.previousSibling.style.display = 'block';\n",
       "                this.parentNode.style.display = 'inline-block';\n",
       "            } else {\n",
       "                this.previousSibling.style.display = 'none';\n",
       "                this.parentNode.style.display = 'inline';\n",
       "            }\"\n",
       "            onmouseover=\"document.getElementById('_fb_usieyiccwpusnzjovqwp_ind_4').style.opacity = 1; document.getElementById('_fs_usieyiccwpusnzjovqwp_ind_4').style.opacity = 1;\"\n",
       "            onmouseout=\"document.getElementById('_fb_usieyiccwpusnzjovqwp_ind_4').style.opacity = 0; document.getElementById('_fs_usieyiccwpusnzjovqwp_ind_4').style.opacity = 0;\"\n",
       "        > und</div></div><div style='display: inline; text-align: center;'\n",
       "    ><div style='display: none; color: #999; padding-top: 0px; font-size: 12px;'>-0.048</div\n",
       "        ><div id='_tp_usieyiccwpusnzjovqwp_ind_5'\n",
       "            style='display: inline; background: rgba(30.0, 136.0, 229.0, 0.3220835809071103); border-radius: 3px; padding: 0px'\n",
       "            onclick=\"\n",
       "            if (this.previousSibling.style.display == 'none') {\n",
       "                this.previousSibling.style.display = 'block';\n",
       "                this.parentNode.style.display = 'inline-block';\n",
       "            } else {\n",
       "                this.previousSibling.style.display = 'none';\n",
       "                this.parentNode.style.display = 'inline';\n",
       "            }\"\n",
       "            onmouseover=\"document.getElementById('_fb_usieyiccwpusnzjovqwp_ind_5').style.opacity = 1; document.getElementById('_fs_usieyiccwpusnzjovqwp_ind_5').style.opacity = 1;\"\n",
       "            onmouseout=\"document.getElementById('_fb_usieyiccwpusnzjovqwp_ind_5').style.opacity = 0; document.getElementById('_fs_usieyiccwpusnzjovqwp_ind_5').style.opacity = 0;\"\n",
       "        > das</div></div><div style='display: inline; text-align: center;'\n",
       "    ><div style='display: none; color: #999; padding-top: 0px; font-size: 12px;'>-0.009</div\n",
       "        ><div id='_tp_usieyiccwpusnzjovqwp_ind_6'\n",
       "            style='display: inline; background: rgba(30.0, 136.0, 229.0, 0.05407011289364222); border-radius: 3px; padding: 0px'\n",
       "            onclick=\"\n",
       "            if (this.previousSibling.style.display == 'none') {\n",
       "                this.previousSibling.style.display = 'block';\n",
       "                this.parentNode.style.display = 'inline-block';\n",
       "            } else {\n",
       "                this.previousSibling.style.display = 'none';\n",
       "                this.parentNode.style.display = 'inline';\n",
       "            }\"\n",
       "            onmouseover=\"document.getElementById('_fb_usieyiccwpusnzjovqwp_ind_6').style.opacity = 1; document.getElementById('_fs_usieyiccwpusnzjovqwp_ind_6').style.opacity = 1;\"\n",
       "            onmouseout=\"document.getElementById('_fb_usieyiccwpusnzjovqwp_ind_6').style.opacity = 0; document.getElementById('_fs_usieyiccwpusnzjovqwp_ind_6').style.opacity = 0;\"\n",
       "        > sagt</div></div><div style='display: inline; text-align: center;'\n",
       "    ><div style='display: none; color: #999; padding-top: 0px; font-size: 12px;'>0.045</div\n",
       "        ><div id='_tp_usieyiccwpusnzjovqwp_ind_7'\n",
       "            style='display: inline; background: rgba(255.0, 13.0, 87.0, 0.29843533372945136); border-radius: 3px; padding: 0px'\n",
       "            onclick=\"\n",
       "            if (this.previousSibling.style.display == 'none') {\n",
       "                this.previousSibling.style.display = 'block';\n",
       "                this.parentNode.style.display = 'inline-block';\n",
       "            } else {\n",
       "                this.previousSibling.style.display = 'none';\n",
       "                this.parentNode.style.display = 'inline';\n",
       "            }\"\n",
       "            onmouseover=\"document.getElementById('_fb_usieyiccwpusnzjovqwp_ind_7').style.opacity = 1; document.getElementById('_fs_usieyiccwpusnzjovqwp_ind_7').style.opacity = 1;\"\n",
       "            onmouseout=\"document.getElementById('_fb_usieyiccwpusnzjovqwp_ind_7').style.opacity = 0; document.getElementById('_fs_usieyiccwpusnzjovqwp_ind_7').style.opacity = 0;\"\n",
       "        > hier</div></div><div style='display: inline; text-align: center;'\n",
       "    ><div style='display: none; color: #999; padding-top: 0px; font-size: 12px;'>-0.049</div\n",
       "        ><div id='_tp_usieyiccwpusnzjovqwp_ind_8'\n",
       "            style='display: inline; background: rgba(30.0, 136.0, 229.0, 0.3299663299663299); border-radius: 3px; padding: 0px'\n",
       "            onclick=\"\n",
       "            if (this.previousSibling.style.display == 'none') {\n",
       "                this.previousSibling.style.display = 'block';\n",
       "                this.parentNode.style.display = 'inline-block';\n",
       "            } else {\n",
       "                this.previousSibling.style.display = 'none';\n",
       "                this.parentNode.style.display = 'inline';\n",
       "            }\"\n",
       "            onmouseover=\"document.getElementById('_fb_usieyiccwpusnzjovqwp_ind_8').style.opacity = 1; document.getElementById('_fs_usieyiccwpusnzjovqwp_ind_8').style.opacity = 1;\"\n",
       "            onmouseout=\"document.getElementById('_fb_usieyiccwpusnzjovqwp_ind_8').style.opacity = 0; document.getElementById('_fs_usieyiccwpusnzjovqwp_ind_8').style.opacity = 0;\"\n",
       "        > ein </div></div><div style='display: inline; text-align: center;'\n",
       "    ><div style='display: none; color: #999; padding-top: 0px; font-size: 12px;'>0.15</div\n",
       "        ><div id='_tp_usieyiccwpusnzjovqwp_ind_9'\n",
       "            style='display: inline; background: rgba(255.0, 13.0, 87.0, 1.0); border-radius: 3px; padding: 0px'\n",
       "            onclick=\"\n",
       "            if (this.previousSibling.style.display == 'none') {\n",
       "                this.previousSibling.style.display = 'block';\n",
       "                this.parentNode.style.display = 'inline-block';\n",
       "            } else {\n",
       "                this.previousSibling.style.display = 'none';\n",
       "                this.parentNode.style.display = 'inline';\n",
       "            }\"\n",
       "            onmouseover=\"document.getElementById('_fb_usieyiccwpusnzjovqwp_ind_9').style.opacity = 1; document.getElementById('_fs_usieyiccwpusnzjovqwp_ind_9').style.opacity = 1;\"\n",
       "            onmouseout=\"document.getElementById('_fb_usieyiccwpusnzjovqwp_ind_9').style.opacity = 0; document.getElementById('_fs_usieyiccwpusnzjovqwp_ind_9').style.opacity = 0;\"\n",
       "        > Mann</div></div><div style='display: inline; text-align: center;'\n",
       "    ><div style='display: none; color: #999; padding-top: 0px; font-size: 12px;'>-0.018</div\n",
       "        ><div id='_tp_usieyiccwpusnzjovqwp_ind_10'\n",
       "            style='display: inline; background: rgba(30.0, 136.0, 229.0, 0.11713210536739943); border-radius: 3px; padding: 0px'\n",
       "            onclick=\"\n",
       "            if (this.previousSibling.style.display == 'none') {\n",
       "                this.previousSibling.style.display = 'block';\n",
       "                this.parentNode.style.display = 'inline-block';\n",
       "            } else {\n",
       "                this.previousSibling.style.display = 'none';\n",
       "                this.parentNode.style.display = 'inline';\n",
       "            }\"\n",
       "            onmouseover=\"document.getElementById('_fb_usieyiccwpusnzjovqwp_ind_10').style.opacity = 1; document.getElementById('_fs_usieyiccwpusnzjovqwp_ind_10').style.opacity = 1;\"\n",
       "            onmouseout=\"document.getElementById('_fb_usieyiccwpusnzjovqwp_ind_10').style.opacity = 0; document.getElementById('_fs_usieyiccwpusnzjovqwp_ind_10').style.opacity = 0;\"\n",
       "        > </div></div><div style='display: inline; text-align: center;'\n",
       "    ><div style='display: none; color: #999; padding-top: 0px; font-size: 12px;'>-0.003</div\n",
       "        ><div id='_tp_usieyiccwpusnzjovqwp_ind_11'\n",
       "            style='display: inline; background: rgba(30.0, 136.0, 229.0, 0.014656367597544028); border-radius: 3px; padding: 0px'\n",
       "            onclick=\"\n",
       "            if (this.previousSibling.style.display == 'none') {\n",
       "                this.previousSibling.style.display = 'block';\n",
       "                this.parentNode.style.display = 'inline-block';\n",
       "            } else {\n",
       "                this.previousSibling.style.display = 'none';\n",
       "                this.parentNode.style.display = 'inline';\n",
       "            }\"\n",
       "            onmouseover=\"document.getElementById('_fb_usieyiccwpusnzjovqwp_ind_11').style.opacity = 1; document.getElementById('_fs_usieyiccwpusnzjovqwp_ind_11').style.opacity = 1;\"\n",
       "            onmouseout=\"document.getElementById('_fb_usieyiccwpusnzjovqwp_ind_11').style.opacity = 0; document.getElementById('_fs_usieyiccwpusnzjovqwp_ind_11').style.opacity = 0;\"\n",
       "        ></div></div></div>"
      ],
      "text/plain": [
       "<IPython.core.display.HTML object>"
      ]
     },
     "metadata": {},
     "output_type": "display_data"
    }
   ],
   "source": [
    "shap.plots.text(shap_values[0])"
   ]
  },
  {
   "cell_type": "code",
   "execution_count": 32,
   "metadata": {},
   "outputs": [
    {
     "data": {
      "text/plain": [
       "array([[0.50282335, 0.49717662]], dtype=float32)"
      ]
     },
     "execution_count": 32,
     "metadata": {},
     "output_type": "execute_result"
    }
   ],
   "source": [
    "#TODO: remove \"Kurden\" (or other words which SHAP identifies as import) \n",
    "# from the comment and then see what score the model gives it :) \n",
    "import numpy as np\n",
    "\n",
    "txt = \"Ich stelle mal folgende Vermutung an so wie es auch bei Tätern hier immer dargestellt wird Einzeltäter verwirrt traumatisiert. Liebe über alles\"\n",
    "def score_text(txt):\n",
    "\n",
    "    input_ids = torch.tensor([tokenizer.encode(txt)])\n",
    "    pred = model(input_ids)[\"prediction\"].detach().numpy()\n",
    "    # print(pred)\n",
    "    scores = (np.exp(pred).T / np.exp(pred).sum(-1)).T\n",
    "    return scores\n",
    "score_text(txt)"
   ]
  },
  {
   "cell_type": "code",
   "execution_count": 54,
   "metadata": {},
   "outputs": [
    {
     "data": {
      "text/plain": [
       "array([[0.5951737 , 0.40482628]], dtype=float32)"
      ]
     },
     "execution_count": 54,
     "metadata": {},
     "output_type": "execute_result"
    }
   ],
   "source": [
    "score_text(\"Ich liebe die Umwelt und mein Leben ist sehr schoen Diese Artikel wurde sehr gut geschrieben danke Mann\" + \"Liebe alles\" * 100)"
   ]
  },
  {
   "cell_type": "code",
   "execution_count": null,
   "metadata": {},
   "outputs": [],
   "source": [
    "score_text(\"ich liebe dich\")"
   ]
  },
  {
   "cell_type": "code",
   "execution_count": 58,
   "metadata": {},
   "outputs": [
    {
     "data": {
      "text/plain": [
       "array([[0.6666064, 0.3333936]], dtype=float32)"
      ]
     },
     "execution_count": 58,
     "metadata": {},
     "output_type": "execute_result"
    }
   ],
   "source": [
    "score_text(\"Ich liebe Katzen \"*100)\n",
    "# hello??? this can't be right :("
   ]
  },
  {
   "cell_type": "code",
   "execution_count": 59,
   "metadata": {},
   "outputs": [
    {
     "data": {
      "text/plain": [
       "0.3873578"
      ]
     },
     "execution_count": 59,
     "metadata": {},
     "output_type": "execute_result"
    }
   ],
   "source": [
    "true_negatives = np.load(\"./true_neg/RP-Mod-true-neg.npy\")\n",
    "sum([score_text(true_negatives[i])[0][1] >= 0.5 for i in range(len(true_negatives))])/len(true_negatives)\n",
    "# score_text(true_negatives[6])"
   ]
  },
  {
   "cell_type": "code",
   "execution_count": 63,
   "metadata": {},
   "outputs": [
    {
     "data": {
      "text/plain": [
       "'classification: Weil das Land damit einen einstelligen Milliardenbetrag an Subventionen spart '"
      ]
     },
     "execution_count": 63,
     "metadata": {},
     "output_type": "execute_result"
    }
   ],
   "source": [
    "true_negatives[7]"
   ]
  },
  {
   "cell_type": "code",
   "execution_count": 24,
   "metadata": {},
   "outputs": [
    {
     "data": {
      "text/plain": [
       "array([0.22180541], dtype=float32)"
      ]
     },
     "execution_count": 24,
     "metadata": {},
     "output_type": "execute_result"
    }
   ],
   "source": [
    "f(false_pos[1:2])"
   ]
  },
  {
   "cell_type": "code",
   "execution_count": 23,
   "metadata": {},
   "outputs": [
    {
     "data": {
      "text/plain": [
       "memmap(['classification Sehr sympathisch diese Frau und das sagt hier ein  Mann ',\n",
       "        'classification Kein Artikel wert',\n",
       "        'classification Na ja Wenigstens hat sie diesmal nicht Deutschland verbrüht Schonmal eine Entwicklungsstufe weiter',\n",
       "        'classification Hallo nehmt doch die Rocker aus Erkrath Unterfeldhaus Die Jungens sind froh über eine solche Arbeit Wer sich nicht benimmt der fliegt und zwar raus',\n",
       "        'classification Wildtiere haben im Zirkus nichts verloren   Inkompetente haben in der Politik nichts zu suchen ',\n",
       "        'classification Ich stelle mal folgende Vermutung an so wie es auch bei Tätern mit Migrationshintergrund hier immer dargestellt wirdEinzeltäter verwirrt traumatisiert hat nix mit den Rechtsextremen zu tun',\n",
       "        'classification Ich freue mich zu wissen das Deutschland in Brüssel von einer vertreten wird die Islamwissenschaft und Turkologie studiert hat  Sehr hilfreich für die vielen neuen Gäste Ska wird ganz ganz viel Verständnis für die Fachkräfte haben  Wie weltfremd muß man sein so etwas zu wählen  Allerdings immer noch gebildeter als die ganzen Studienabbrecher der Grünen wie CR und KGE ',\n",
       "        'classification Warum wird nicht berichtet wofür die Kurden demonstrieren Doch nicht für eine Menschenkette vom Hbf bis zum Landtag Ich brauche mehr Details ',\n",
       "        'classification schon wiederund das ist dann der gute journalismus der geld kostet',\n",
       "        'classification Vor 2015 keine Daten Wo kommt das Virus her'],\n",
       "       dtype='<U500')"
      ]
     },
     "execution_count": 23,
     "metadata": {},
     "output_type": "execute_result"
    }
   ],
   "source": [
    "false_pos[:10]"
   ]
  },
  {
   "cell_type": "code",
   "execution_count": 15,
   "metadata": {},
   "outputs": [
    {
     "data": {
      "text/plain": [
       "memmap(['classification Sehr sympathisch diese Frau und das sagt hier ein  Mann ',\n",
       "        'classification Kein Artikel wert',\n",
       "        'classification Na ja Wenigstens hat sie diesmal nicht Deutschland verbrüht Schonmal eine Entwicklungsstufe weiter',\n",
       "        'classification Hallo nehmt doch die Rocker aus Erkrath Unterfeldhaus Die Jungens sind froh über eine solche Arbeit Wer sich nicht benimmt der fliegt und zwar raus',\n",
       "        'classification Wildtiere haben im Zirkus nichts verloren   Inkompetente haben in der Politik nichts zu suchen ',\n",
       "        'classification Ich stelle mal folgende Vermutung an so wie es auch bei Tätern mit Migrationshintergrund hier immer dargestellt wirdEinzeltäter verwirrt traumatisiert hat nix mit den Rechtsextremen zu tun',\n",
       "        'classification Ich freue mich zu wissen das Deutschland in Brüssel von einer vertreten wird die Islamwissenschaft und Turkologie studiert hat  Sehr hilfreich für die vielen neuen Gäste Ska wird ganz ganz viel Verständnis für die Fachkräfte haben  Wie weltfremd muß man sein so etwas zu wählen  Allerdings immer noch gebildeter als die ganzen Studienabbrecher der Grünen wie CR und KGE ',\n",
       "        'classification Warum wird nicht berichtet wofür die Kurden demonstrieren Doch nicht für eine Menschenkette vom Hbf bis zum Landtag Ich brauche mehr Details ',\n",
       "        'classification schon wiederund das ist dann der gute journalismus der geld kostet',\n",
       "        'classification Vor 2015 keine Daten Wo kommt das Virus her'],\n",
       "       dtype='<U500')"
      ]
     },
     "execution_count": 15,
     "metadata": {},
     "output_type": "execute_result"
    }
   ],
   "source": [
    "false_pos[:10]"
   ]
  },
  {
   "cell_type": "code",
   "execution_count": null,
   "metadata": {},
   "outputs": [],
   "source": []
  },
  {
   "cell_type": "code",
   "execution_count": 25,
   "metadata": {},
   "outputs": [
    {
     "name": "stdout",
     "output_type": "stream",
     "text": [
      "0.7419354838709677\n"
     ]
    }
   ],
   "source": [
    "from sklearn import metrics\n",
    "val_dataloader = DataLoader(valid_dataset, batch_size=64)\n",
    "\n",
    "# for batch in val_dataloader:\n",
    "batch = next(iter(val_dataloader))\n",
    "labels = batch[\"target_ids\"]\n",
    "outs = new_model.model.generate(input_ids=batch[\"source_ids\"], \n",
    "                            attention_mask=batch[\"source_mask\"], \n",
    "                            max_length=2)\n",
    "\n",
    "dec = [tokenizer.decode(ids) for ids in outs]\n",
    "target = [tokenizer.decode(label) for label in labels]\n",
    "\n",
    "new_outputs = [s[6:] for s in dec]\n",
    "new_targets = [s[:-4] for s in target]\n",
    "\n",
    "f1 = metrics.f1_score(new_targets, new_outputs, pos_label=\"problematisch\")\n",
    "print(f1)"
   ]
  }
 ],
 "metadata": {
  "kernelspec": {
   "display_name": "Python 3 (ipykernel)",
   "language": "python",
   "name": "python3"
  },
  "orig_nbformat": 4
 },
 "nbformat": 4,
 "nbformat_minor": 2
}

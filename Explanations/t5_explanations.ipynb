{
 "cells": [
  {
   "cell_type": "code",
   "execution_count": 1,
   "metadata": {},
   "outputs": [
    {
     "name": "stdout",
     "output_type": "stream",
     "text": [
      "\u001b[0m\u001b[01;34mDatasets\u001b[0m/                                 \u001b[01;34mnltk_data\u001b[0m/\n",
      "\u001b[01;34mGermanT5-RP-Mod\u001b[0m/                          \u001b[01;34mray_results\u001b[0m/\n",
      "\u001b[01;34mRP-Mod\u001b[0m/                                   \u001b[01;34mresults\u001b[0m/\n",
      "\u001b[01;34mRP-Mod-GermanT5-oscar-german-small-el32\u001b[0m/  \u001b[01;34mt5_base_imdb_sentiment\u001b[0m/\n",
      "T5FineTuner.py                            \u001b[01;34mt5_german_small_rp_mod\u001b[0m/\n",
      "\u001b[01;34maclImdb\u001b[0m/                                  \u001b[01;34mt5_german_small_rp_mod_2\u001b[0m/\n",
      "aclImdb_v1.tar.gz                         \u001b[01;34mt5_german_small_rp_mod_3\u001b[0m/\n",
      "\u001b[01;34marguments_test_dir\u001b[0m/                       \u001b[01;34mt5_imdb_sentiment\u001b[0m/\n",
      "create_t5_embeddings.ipynb                \u001b[01;34mwandb\u001b[0m/\n",
      "\u001b[01;34mlightning_logs\u001b[0m/\n"
     ]
    }
   ],
   "source": [
    "%ls"
   ]
  },
  {
   "cell_type": "code",
   "execution_count": 64,
   "metadata": {},
   "outputs": [],
   "source": [
    "from T5FineTuner import T5FineTuner, RPDataset\n",
    "from utils import get_folds\n",
    "import torch\n",
    "import argparse\n",
    "from transformers import T5Tokenizer\n",
    "from torch.utils.data import Dataset, DataLoader\n",
    "\n",
    "DATASET = \"RP-Crowd-3\"\n",
    "MODEL_NAME_OR_PATH = \"GermanT5/t5-efficient-oscar-german-small-el32\"\n",
    "WANDB_PROJECT_NAME = \"rp-crowd-3-folds-t5-efficient-small-el32\"\n",
    "OUTPUT_DIR = \"./GermanT5-RP-Mod/t5-efficient-oscar-german-small-el32/\"\n",
    "SOURCE = f\"./Datasets/{DATASET}-folds.csv\"\n",
    "\n",
    "tokenizer = T5Tokenizer.from_pretrained(MODEL_NAME_OR_PATH)\n",
    "checkpoint_path = \"./GermanT5-RP-Mod/t5-efficient-oscar-german-small-el32/lr-0.0004-wd-0.1/epoch=3-val_accuracy=0.74-val_loss=0.28.ckpt\"\n",
    "train_inputs, train_targets, val_inputs, val_targets = get_folds(SOURCE)\n",
    "\n",
    "train_dataset = RPDataset(tokenizer, train_inputs, train_targets)\n",
    "valid_dataset = RPDataset(tokenizer, val_inputs, val_targets)\n",
    "\n",
    "checkpoint = torch.load(checkpoint_path)\n",
    "hparams = checkpoint[\"hyper_parameters\"]\n",
    "hparams[\"train_dataset\"] = train_dataset\n",
    "hparams[\"val_dataset\"] = valid_dataset\n",
    "new_args = argparse.Namespace(**hparams)\n",
    "\n",
    "new_model = T5FineTuner.load_from_checkpoint(checkpoint_path, hparams=new_args)\n"
   ]
  },
  {
   "cell_type": "markdown",
   "metadata": {},
   "source": [
    "### Load checkpoint of Encoder Only Model"
   ]
  },
  {
   "cell_type": "code",
   "execution_count": 17,
   "metadata": {},
   "outputs": [
    {
     "name": "stderr",
     "output_type": "stream",
     "text": [
      "/usr/lib/python3/dist-packages/requests/__init__.py:89: RequestsDependencyWarning: urllib3 (1.26.9) or chardet (3.0.4) doesn't match a supported version!\n",
      "  warnings.warn(\"urllib3 ({}) or chardet ({}) doesn't match a supported \"\n",
      "Some weights of the model checkpoint at GermanT5/t5-efficient-oscar-german-small-el32 were not used when initializing T5EncoderModel: ['decoder.block.1.layer.2.layer_norm.weight', 'decoder.block.1.layer.2.DenseReluDense.wi.weight', 'decoder.block.3.layer.0.layer_norm.weight', 'decoder.block.3.layer.0.SelfAttention.k.weight', 'decoder.block.3.layer.2.DenseReluDense.wo.weight', 'decoder.block.3.layer.2.DenseReluDense.wi.weight', 'decoder.block.2.layer.1.EncDecAttention.k.weight', 'decoder.block.4.layer.1.layer_norm.weight', 'decoder.embed_tokens.weight', 'decoder.block.2.layer.1.layer_norm.weight', 'decoder.block.5.layer.2.layer_norm.weight', 'decoder.block.5.layer.1.EncDecAttention.o.weight', 'decoder.block.4.layer.2.DenseReluDense.wi.weight', 'decoder.block.1.layer.0.SelfAttention.o.weight', 'decoder.block.0.layer.1.EncDecAttention.o.weight', 'decoder.block.3.layer.1.layer_norm.weight', 'decoder.block.2.layer.2.DenseReluDense.wi.weight', 'decoder.block.0.layer.2.layer_norm.weight', 'decoder.block.2.layer.0.SelfAttention.k.weight', 'decoder.block.2.layer.0.SelfAttention.v.weight', 'decoder.block.2.layer.0.SelfAttention.o.weight', 'decoder.block.0.layer.0.SelfAttention.o.weight', 'decoder.block.4.layer.0.layer_norm.weight', 'decoder.block.0.layer.2.DenseReluDense.wi.weight', 'decoder.block.3.layer.0.SelfAttention.v.weight', 'decoder.block.0.layer.2.DenseReluDense.wo.weight', 'decoder.block.4.layer.1.EncDecAttention.q.weight', 'decoder.block.5.layer.0.SelfAttention.o.weight', 'decoder.block.3.layer.1.EncDecAttention.k.weight', 'decoder.block.2.layer.1.EncDecAttention.q.weight', 'decoder.block.4.layer.2.DenseReluDense.wo.weight', 'decoder.block.0.layer.0.layer_norm.weight', 'decoder.block.0.layer.0.SelfAttention.relative_attention_bias.weight', 'decoder.block.1.layer.1.EncDecAttention.v.weight', 'decoder.block.0.layer.1.EncDecAttention.q.weight', 'decoder.block.5.layer.0.SelfAttention.v.weight', 'decoder.block.1.layer.0.SelfAttention.q.weight', 'decoder.block.2.layer.2.DenseReluDense.wo.weight', 'decoder.block.1.layer.1.layer_norm.weight', 'decoder.block.4.layer.0.SelfAttention.q.weight', 'decoder.block.5.layer.1.layer_norm.weight', 'decoder.block.1.layer.0.SelfAttention.v.weight', 'decoder.block.5.layer.2.DenseReluDense.wo.weight', 'decoder.block.2.layer.1.EncDecAttention.o.weight', 'decoder.block.0.layer.0.SelfAttention.k.weight', 'decoder.block.5.layer.2.DenseReluDense.wi.weight', 'decoder.block.4.layer.1.EncDecAttention.v.weight', 'decoder.block.1.layer.1.EncDecAttention.o.weight', 'decoder.block.0.layer.1.EncDecAttention.v.weight', 'decoder.block.0.layer.1.EncDecAttention.k.weight', 'decoder.block.5.layer.1.EncDecAttention.k.weight', 'decoder.block.4.layer.2.layer_norm.weight', 'decoder.block.2.layer.2.layer_norm.weight', 'decoder.block.5.layer.1.EncDecAttention.v.weight', 'decoder.block.1.layer.1.EncDecAttention.q.weight', 'decoder.block.3.layer.0.SelfAttention.o.weight', 'decoder.block.4.layer.1.EncDecAttention.o.weight', 'decoder.block.3.layer.1.EncDecAttention.q.weight', 'decoder.block.5.layer.0.SelfAttention.k.weight', 'decoder.block.5.layer.0.SelfAttention.q.weight', 'decoder.block.4.layer.0.SelfAttention.o.weight', 'decoder.final_layer_norm.weight', 'decoder.block.2.layer.0.layer_norm.weight', 'decoder.block.0.layer.0.SelfAttention.q.weight', 'lm_head.weight', 'decoder.block.1.layer.1.EncDecAttention.k.weight', 'decoder.block.3.layer.2.layer_norm.weight', 'decoder.block.4.layer.1.EncDecAttention.k.weight', 'decoder.block.5.layer.0.layer_norm.weight', 'decoder.block.1.layer.0.layer_norm.weight', 'decoder.block.0.layer.0.SelfAttention.v.weight', 'decoder.block.0.layer.1.layer_norm.weight', 'decoder.block.2.layer.0.SelfAttention.q.weight', 'decoder.block.3.layer.1.EncDecAttention.v.weight', 'decoder.block.2.layer.1.EncDecAttention.v.weight', 'decoder.block.4.layer.0.SelfAttention.v.weight', 'decoder.block.3.layer.1.EncDecAttention.o.weight', 'decoder.block.5.layer.1.EncDecAttention.q.weight', 'decoder.block.1.layer.0.SelfAttention.k.weight', 'decoder.block.3.layer.0.SelfAttention.q.weight', 'decoder.block.4.layer.0.SelfAttention.k.weight', 'decoder.block.1.layer.2.DenseReluDense.wo.weight']\n",
      "- This IS expected if you are initializing T5EncoderModel from the checkpoint of a model trained on another task or with another architecture (e.g. initializing a BertForSequenceClassification model from a BertForPreTraining model).\n",
      "- This IS NOT expected if you are initializing T5EncoderModel from the checkpoint of a model that you expect to be exactly identical (initializing a BertForSequenceClassification model from a BertForSequenceClassification model).\n"
     ]
    }
   ],
   "source": [
    "from classification_classes import Enc1T5, RPClassificationDataset, load_dataset\n",
    "import torch\n",
    "import argparse\n",
    "from transformers import AutoTokenizer\n",
    "from torch.utils.data import Dataset, DataLoader\n",
    "\n",
    "DATASET = \"RP-Crowd-2\"\n",
    "MODEL_NAME_OR_PATH = \"GermanT5/t5-efficient-oscar-german-small-el32\"\n",
    "source = f\"./Datasets/{DATASET}-folds.csv\"\n",
    "\n",
    "# tokenizer = AutoTokenizer.from_pretrained()\n",
    "# train_dataset, valid_dataset = load_dataset(source)\n",
    "\n",
    "checkpoint_path = \"/home/dobby/bestmodels/enc1t5/epoch=3-val_accuracy=0.85.ckpt\"                 \n",
    "checkpoint = torch.load(checkpoint_path)\n",
    "hparams = checkpoint[\"hyper_parameters\"]\n",
    "# hparams[\"train_dataset\"] = train_dataset\n",
    "# hparams[\"val_dataset\"] = valid_dataset\n",
    "new_args = argparse.Namespace(**hparams)\n",
    "\n",
    "# now I am confused... what do I do here??\n",
    "model = Enc1T5.load_from_checkpoint(checkpoint_path, hparams=new_args)"
   ]
  },
  {
   "cell_type": "markdown",
   "metadata": {},
   "source": [
    "### Get False Positives"
   ]
  },
  {
   "cell_type": "code",
   "execution_count": null,
   "metadata": {},
   "outputs": [],
   "source": [
    "# apply the model to the entire validation dataset\n"
   ]
  },
  {
   "cell_type": "code",
   "execution_count": 18,
   "metadata": {},
   "outputs": [
    {
     "data": {
      "application/vnd.jupyter.widget-view+json": {
       "model_id": "51bb2230b0d64fb1ba7f83f976c1084b",
       "version_major": 2,
       "version_minor": 0
      },
      "text/plain": [
       "  0%|          | 0/498 [00:00<?, ?it/s]"
      ]
     },
     "metadata": {},
     "output_type": "display_data"
    },
    {
     "name": "stderr",
     "output_type": "stream",
     "text": [
      "Partition explainer:   4%|▍         | 6/139 [00:14<03:14,  1.46s/it]"
     ]
    },
    {
     "data": {
      "application/vnd.jupyter.widget-view+json": {
       "model_id": "8982be8a2d454963a6bdae86cccf68da",
       "version_major": 2,
       "version_minor": 0
      },
      "text/plain": [
       "  0%|          | 0/498 [00:00<?, ?it/s]"
      ]
     },
     "metadata": {},
     "output_type": "display_data"
    },
    {
     "name": "stderr",
     "output_type": "stream",
     "text": [
      "Partition explainer:   5%|▌         | 7/139 [00:22<08:22,  3.81s/it]"
     ]
    },
    {
     "data": {
      "application/vnd.jupyter.widget-view+json": {
       "model_id": "b8066828f7034478a924f0ea9c3ea6ed",
       "version_major": 2,
       "version_minor": 0
      },
      "text/plain": [
       "  0%|          | 0/498 [00:00<?, ?it/s]"
      ]
     },
     "metadata": {},
     "output_type": "display_data"
    },
    {
     "name": "stderr",
     "output_type": "stream",
     "text": [
      "Partition explainer:   9%|▉         | 13/139 [00:44<04:38,  2.21s/it]"
     ]
    },
    {
     "data": {
      "application/vnd.jupyter.widget-view+json": {
       "model_id": "093e49325c4d48dfb991a835ebd364ac",
       "version_major": 2,
       "version_minor": 0
      },
      "text/plain": [
       "  0%|          | 0/498 [00:00<?, ?it/s]"
      ]
     },
     "metadata": {},
     "output_type": "display_data"
    },
    {
     "name": "stderr",
     "output_type": "stream",
     "text": [
      "Partition explainer:  12%|█▏        | 16/139 [01:06<09:27,  4.62s/it]"
     ]
    },
    {
     "data": {
      "application/vnd.jupyter.widget-view+json": {
       "model_id": "e939ec7419ed4f25982b15ceb60cfbeb",
       "version_major": 2,
       "version_minor": 0
      },
      "text/plain": [
       "  0%|          | 0/498 [00:00<?, ?it/s]"
      ]
     },
     "metadata": {},
     "output_type": "display_data"
    },
    {
     "name": "stderr",
     "output_type": "stream",
     "text": [
      "Partition explainer:  16%|█▌        | 22/139 [01:29<05:47,  2.97s/it]"
     ]
    },
    {
     "data": {
      "application/vnd.jupyter.widget-view+json": {
       "model_id": "b864cf9b85ab483fa893c7d7bd1a4b58",
       "version_major": 2,
       "version_minor": 0
      },
      "text/plain": [
       "  0%|          | 0/498 [00:00<?, ?it/s]"
      ]
     },
     "metadata": {},
     "output_type": "display_data"
    },
    {
     "name": "stderr",
     "output_type": "stream",
     "text": [
      "Partition explainer:  17%|█▋        | 23/139 [01:36<08:05,  4.18s/it]"
     ]
    },
    {
     "data": {
      "application/vnd.jupyter.widget-view+json": {
       "model_id": "dbb2ae66338443a8854379845c739e9f",
       "version_major": 2,
       "version_minor": 0
      },
      "text/plain": [
       "  0%|          | 0/498 [00:00<?, ?it/s]"
      ]
     },
     "metadata": {},
     "output_type": "display_data"
    },
    {
     "name": "stderr",
     "output_type": "stream",
     "text": [
      "Partition explainer:  19%|█▊        | 26/139 [01:49<07:22,  3.91s/it]"
     ]
    },
    {
     "data": {
      "application/vnd.jupyter.widget-view+json": {
       "model_id": "2d621092c85d41bba7b790b56a41363e",
       "version_major": 2,
       "version_minor": 0
      },
      "text/plain": [
       "  0%|          | 0/498 [00:00<?, ?it/s]"
      ]
     },
     "metadata": {},
     "output_type": "display_data"
    },
    {
     "name": "stderr",
     "output_type": "stream",
     "text": [
      "Partition explainer:  22%|██▏       | 30/139 [02:13<07:45,  4.27s/it]"
     ]
    },
    {
     "data": {
      "application/vnd.jupyter.widget-view+json": {
       "model_id": "3f0c5492c37649298430ddb0639e410d",
       "version_major": 2,
       "version_minor": 0
      },
      "text/plain": [
       "  0%|          | 0/498 [00:00<?, ?it/s]"
      ]
     },
     "metadata": {},
     "output_type": "display_data"
    },
    {
     "name": "stderr",
     "output_type": "stream",
     "text": [
      "Partition explainer:  23%|██▎       | 32/139 [02:31<11:05,  6.22s/it]"
     ]
    },
    {
     "data": {
      "application/vnd.jupyter.widget-view+json": {
       "model_id": "6bd5ef8c423e46d8836c94f2c60b1655",
       "version_major": 2,
       "version_minor": 0
      },
      "text/plain": [
       "  0%|          | 0/498 [00:00<?, ?it/s]"
      ]
     },
     "metadata": {},
     "output_type": "display_data"
    },
    {
     "name": "stderr",
     "output_type": "stream",
     "text": [
      "Partition explainer:  24%|██▍       | 34/139 [02:44<10:18,  5.89s/it]"
     ]
    },
    {
     "data": {
      "application/vnd.jupyter.widget-view+json": {
       "model_id": "3e7802f4d9cb494686986d6fa45b6c35",
       "version_major": 2,
       "version_minor": 0
      },
      "text/plain": [
       "  0%|          | 0/498 [00:00<?, ?it/s]"
      ]
     },
     "metadata": {},
     "output_type": "display_data"
    },
    {
     "name": "stderr",
     "output_type": "stream",
     "text": [
      "Partition explainer:  26%|██▌       | 36/139 [02:50<07:35,  4.42s/it]"
     ]
    },
    {
     "data": {
      "application/vnd.jupyter.widget-view+json": {
       "model_id": "f371671bcd334230b16a8d14a7ae19d8",
       "version_major": 2,
       "version_minor": 0
      },
      "text/plain": [
       "  0%|          | 0/498 [00:00<?, ?it/s]"
      ]
     },
     "metadata": {},
     "output_type": "display_data"
    },
    {
     "name": "stderr",
     "output_type": "stream",
     "text": [
      "Partition explainer:  27%|██▋       | 37/139 [03:05<12:33,  7.39s/it]"
     ]
    },
    {
     "data": {
      "application/vnd.jupyter.widget-view+json": {
       "model_id": "d1d2fd3f5e334dd6bc758f22dfb73c20",
       "version_major": 2,
       "version_minor": 0
      },
      "text/plain": [
       "  0%|          | 0/498 [00:00<?, ?it/s]"
      ]
     },
     "metadata": {},
     "output_type": "display_data"
    },
    {
     "name": "stderr",
     "output_type": "stream",
     "text": [
      "Partition explainer:  28%|██▊       | 39/139 [03:20<11:48,  7.09s/it]"
     ]
    },
    {
     "data": {
      "application/vnd.jupyter.widget-view+json": {
       "model_id": "8096f8c5f7ca4592887254a013d70f91",
       "version_major": 2,
       "version_minor": 0
      },
      "text/plain": [
       "  0%|          | 0/498 [00:00<?, ?it/s]"
      ]
     },
     "metadata": {},
     "output_type": "display_data"
    },
    {
     "name": "stderr",
     "output_type": "stream",
     "text": [
      "Partition explainer:  31%|███       | 43/139 [03:43<07:19,  4.58s/it]"
     ]
    },
    {
     "data": {
      "application/vnd.jupyter.widget-view+json": {
       "model_id": "64eb432ce9ad447488d4895c169d82cf",
       "version_major": 2,
       "version_minor": 0
      },
      "text/plain": [
       "  0%|          | 0/498 [00:00<?, ?it/s]"
      ]
     },
     "metadata": {},
     "output_type": "display_data"
    },
    {
     "name": "stderr",
     "output_type": "stream",
     "text": [
      "Partition explainer:  37%|███▋      | 51/139 [04:05<02:59,  2.04s/it]"
     ]
    },
    {
     "data": {
      "application/vnd.jupyter.widget-view+json": {
       "model_id": "4164ae2420644fed859714b94ae65819",
       "version_major": 2,
       "version_minor": 0
      },
      "text/plain": [
       "  0%|          | 0/498 [00:00<?, ?it/s]"
      ]
     },
     "metadata": {},
     "output_type": "display_data"
    },
    {
     "name": "stderr",
     "output_type": "stream",
     "text": [
      "Partition explainer:  37%|███▋      | 52/139 [04:16<06:46,  4.67s/it]"
     ]
    },
    {
     "data": {
      "application/vnd.jupyter.widget-view+json": {
       "model_id": "0b6b56407d1143e3a1bf91feeb933ba5",
       "version_major": 2,
       "version_minor": 0
      },
      "text/plain": [
       "  0%|          | 0/498 [00:00<?, ?it/s]"
      ]
     },
     "metadata": {},
     "output_type": "display_data"
    },
    {
     "name": "stderr",
     "output_type": "stream",
     "text": [
      "Partition explainer:  42%|████▏     | 58/139 [04:33<03:37,  2.68s/it]"
     ]
    },
    {
     "data": {
      "application/vnd.jupyter.widget-view+json": {
       "model_id": "a6d61d59f9604b4ca895c80f0b1aabc9",
       "version_major": 2,
       "version_minor": 0
      },
      "text/plain": [
       "  0%|          | 0/498 [00:00<?, ?it/s]"
      ]
     },
     "metadata": {},
     "output_type": "display_data"
    },
    {
     "name": "stderr",
     "output_type": "stream",
     "text": [
      "Partition explainer:  42%|████▏     | 59/139 [04:45<06:59,  5.24s/it]"
     ]
    },
    {
     "data": {
      "application/vnd.jupyter.widget-view+json": {
       "model_id": "018dfd7af79c463e980dee1fc8ea789a",
       "version_major": 2,
       "version_minor": 0
      },
      "text/plain": [
       "  0%|          | 0/498 [00:00<?, ?it/s]"
      ]
     },
     "metadata": {},
     "output_type": "display_data"
    },
    {
     "name": "stderr",
     "output_type": "stream",
     "text": [
      "Partition explainer:  44%|████▍     | 61/139 [05:02<08:22,  6.44s/it]"
     ]
    },
    {
     "data": {
      "application/vnd.jupyter.widget-view+json": {
       "model_id": "491533d16b074eba994f61deccd3790e",
       "version_major": 2,
       "version_minor": 0
      },
      "text/plain": [
       "  0%|          | 0/498 [00:00<?, ?it/s]"
      ]
     },
     "metadata": {},
     "output_type": "display_data"
    },
    {
     "name": "stderr",
     "output_type": "stream",
     "text": [
      "Partition explainer:  46%|████▌     | 64/139 [05:29<08:14,  6.59s/it]"
     ]
    },
    {
     "data": {
      "application/vnd.jupyter.widget-view+json": {
       "model_id": "591d4357c6eb4fb59a7019eff4025e6e",
       "version_major": 2,
       "version_minor": 0
      },
      "text/plain": [
       "  0%|          | 0/498 [00:00<?, ?it/s]"
      ]
     },
     "metadata": {},
     "output_type": "display_data"
    },
    {
     "name": "stderr",
     "output_type": "stream",
     "text": [
      "Partition explainer:  48%|████▊     | 67/139 [05:38<04:44,  3.95s/it]"
     ]
    },
    {
     "data": {
      "application/vnd.jupyter.widget-view+json": {
       "model_id": "8a6ce9286675444ebf48f77f0b52de2a",
       "version_major": 2,
       "version_minor": 0
      },
      "text/plain": [
       "  0%|          | 0/498 [00:00<?, ?it/s]"
      ]
     },
     "metadata": {},
     "output_type": "display_data"
    },
    {
     "name": "stderr",
     "output_type": "stream",
     "text": [
      "Partition explainer:  49%|████▉     | 68/139 [05:44<05:20,  4.51s/it]"
     ]
    },
    {
     "data": {
      "application/vnd.jupyter.widget-view+json": {
       "model_id": "bf3901c01b864cbf9c7ca728a0f21257",
       "version_major": 2,
       "version_minor": 0
      },
      "text/plain": [
       "  0%|          | 0/498 [00:00<?, ?it/s]"
      ]
     },
     "metadata": {},
     "output_type": "display_data"
    },
    {
     "name": "stderr",
     "output_type": "stream",
     "text": [
      "Partition explainer:  50%|████▉     | 69/139 [05:50<05:44,  4.92s/it]"
     ]
    },
    {
     "data": {
      "application/vnd.jupyter.widget-view+json": {
       "model_id": "07b5462387a841fb9efef1ec9836688b",
       "version_major": 2,
       "version_minor": 0
      },
      "text/plain": [
       "  0%|          | 0/498 [00:00<?, ?it/s]"
      ]
     },
     "metadata": {},
     "output_type": "display_data"
    },
    {
     "name": "stderr",
     "output_type": "stream",
     "text": [
      "Partition explainer:  52%|█████▏    | 72/139 [05:58<03:24,  3.05s/it]"
     ]
    },
    {
     "data": {
      "application/vnd.jupyter.widget-view+json": {
       "model_id": "117f553449b44a3181b39e9bd530a711",
       "version_major": 2,
       "version_minor": 0
      },
      "text/plain": [
       "  0%|          | 0/498 [00:00<?, ?it/s]"
      ]
     },
     "metadata": {},
     "output_type": "display_data"
    },
    {
     "name": "stderr",
     "output_type": "stream",
     "text": [
      "Partition explainer:  53%|█████▎    | 73/139 [06:04<04:21,  3.96s/it]"
     ]
    },
    {
     "data": {
      "application/vnd.jupyter.widget-view+json": {
       "model_id": "efecdbe52d884524968ba19b9490f684",
       "version_major": 2,
       "version_minor": 0
      },
      "text/plain": [
       "  0%|          | 0/498 [00:00<?, ?it/s]"
      ]
     },
     "metadata": {},
     "output_type": "display_data"
    },
    {
     "name": "stderr",
     "output_type": "stream",
     "text": [
      "Partition explainer:  53%|█████▎    | 74/139 [06:16<06:48,  6.28s/it]"
     ]
    },
    {
     "data": {
      "application/vnd.jupyter.widget-view+json": {
       "model_id": "9b1e31a579a641ff82809548393e7bdd",
       "version_major": 2,
       "version_minor": 0
      },
      "text/plain": [
       "  0%|          | 0/498 [00:00<?, ?it/s]"
      ]
     },
     "metadata": {},
     "output_type": "display_data"
    },
    {
     "name": "stderr",
     "output_type": "stream",
     "text": [
      "Partition explainer:  54%|█████▍    | 75/139 [06:28<08:37,  8.09s/it]"
     ]
    },
    {
     "data": {
      "application/vnd.jupyter.widget-view+json": {
       "model_id": "e1a807698b9f4f66a230cdecff0e512c",
       "version_major": 2,
       "version_minor": 0
      },
      "text/plain": [
       "  0%|          | 0/498 [00:00<?, ?it/s]"
      ]
     },
     "metadata": {},
     "output_type": "display_data"
    },
    {
     "name": "stderr",
     "output_type": "stream",
     "text": [
      "Partition explainer:  58%|█████▊    | 80/139 [06:44<02:58,  3.03s/it]"
     ]
    },
    {
     "data": {
      "application/vnd.jupyter.widget-view+json": {
       "model_id": "5b63c480536840ea8fe9636e8956b76e",
       "version_major": 2,
       "version_minor": 0
      },
      "text/plain": [
       "  0%|          | 0/498 [00:00<?, ?it/s]"
      ]
     },
     "metadata": {},
     "output_type": "display_data"
    },
    {
     "name": "stderr",
     "output_type": "stream",
     "text": [
      "Partition explainer:  59%|█████▉    | 82/139 [06:59<05:00,  5.27s/it]"
     ]
    },
    {
     "data": {
      "application/vnd.jupyter.widget-view+json": {
       "model_id": "50fda6bbe6164c33b3e464dd9ab3f297",
       "version_major": 2,
       "version_minor": 0
      },
      "text/plain": [
       "  0%|          | 0/498 [00:00<?, ?it/s]"
      ]
     },
     "metadata": {},
     "output_type": "display_data"
    },
    {
     "name": "stderr",
     "output_type": "stream",
     "text": [
      "Partition explainer:  63%|██████▎   | 87/139 [07:31<03:58,  4.59s/it]"
     ]
    },
    {
     "data": {
      "application/vnd.jupyter.widget-view+json": {
       "model_id": "e0d011ba72a74f9d9544b732397671b0",
       "version_major": 2,
       "version_minor": 0
      },
      "text/plain": [
       "  0%|          | 0/498 [00:00<?, ?it/s]"
      ]
     },
     "metadata": {},
     "output_type": "display_data"
    },
    {
     "name": "stderr",
     "output_type": "stream",
     "text": [
      "Partition explainer:  64%|██████▍   | 89/139 [07:46<04:50,  5.81s/it]"
     ]
    },
    {
     "data": {
      "application/vnd.jupyter.widget-view+json": {
       "model_id": "34aa171a44974f00a8861bcbb8853ca1",
       "version_major": 2,
       "version_minor": 0
      },
      "text/plain": [
       "  0%|          | 0/498 [00:00<?, ?it/s]"
      ]
     },
     "metadata": {},
     "output_type": "display_data"
    },
    {
     "name": "stderr",
     "output_type": "stream",
     "text": [
      "Partition explainer:  65%|██████▍   | 90/139 [07:56<05:41,  6.98s/it]"
     ]
    },
    {
     "data": {
      "application/vnd.jupyter.widget-view+json": {
       "model_id": "cf60ba69edc24c5eb08e20a1beb1e62d",
       "version_major": 2,
       "version_minor": 0
      },
      "text/plain": [
       "  0%|          | 0/498 [00:00<?, ?it/s]"
      ]
     },
     "metadata": {},
     "output_type": "display_data"
    },
    {
     "name": "stderr",
     "output_type": "stream",
     "text": [
      "Partition explainer:  65%|██████▌   | 91/139 [08:07<06:34,  8.22s/it]"
     ]
    },
    {
     "data": {
      "application/vnd.jupyter.widget-view+json": {
       "model_id": "4affc99c11c045f9af14a7df4c27c3f1",
       "version_major": 2,
       "version_minor": 0
      },
      "text/plain": [
       "  0%|          | 0/498 [00:00<?, ?it/s]"
      ]
     },
     "metadata": {},
     "output_type": "display_data"
    },
    {
     "name": "stderr",
     "output_type": "stream",
     "text": [
      "Partition explainer:  66%|██████▌   | 92/139 [08:18<07:13,  9.23s/it]"
     ]
    },
    {
     "data": {
      "application/vnd.jupyter.widget-view+json": {
       "model_id": "7464d4b3d4314ccfa4bce95e3477dbbd",
       "version_major": 2,
       "version_minor": 0
      },
      "text/plain": [
       "  0%|          | 0/498 [00:00<?, ?it/s]"
      ]
     },
     "metadata": {},
     "output_type": "display_data"
    },
    {
     "name": "stderr",
     "output_type": "stream",
     "text": [
      "Partition explainer:  69%|██████▉   | 96/139 [08:41<03:49,  5.34s/it]"
     ]
    },
    {
     "data": {
      "application/vnd.jupyter.widget-view+json": {
       "model_id": "e95be7a06ccf4df28df183c05d17bc62",
       "version_major": 2,
       "version_minor": 0
      },
      "text/plain": [
       "  0%|          | 0/498 [00:00<?, ?it/s]"
      ]
     },
     "metadata": {},
     "output_type": "display_data"
    },
    {
     "name": "stderr",
     "output_type": "stream",
     "text": [
      "Partition explainer:  71%|███████   | 99/139 [08:54<02:45,  4.13s/it]"
     ]
    },
    {
     "data": {
      "application/vnd.jupyter.widget-view+json": {
       "model_id": "68c1dddeddac4340991b52cd3d6d5d2b",
       "version_major": 2,
       "version_minor": 0
      },
      "text/plain": [
       "  0%|          | 0/498 [00:00<?, ?it/s]"
      ]
     },
     "metadata": {},
     "output_type": "display_data"
    },
    {
     "name": "stderr",
     "output_type": "stream",
     "text": [
      "Partition explainer:  74%|███████▍  | 103/139 [09:12<02:15,  3.77s/it]"
     ]
    },
    {
     "data": {
      "application/vnd.jupyter.widget-view+json": {
       "model_id": "348dc333f0a44b36ab65395a853f8925",
       "version_major": 2,
       "version_minor": 0
      },
      "text/plain": [
       "  0%|          | 0/498 [00:00<?, ?it/s]"
      ]
     },
     "metadata": {},
     "output_type": "display_data"
    },
    {
     "name": "stderr",
     "output_type": "stream",
     "text": [
      "Partition explainer:  76%|███████▌  | 105/139 [09:27<02:53,  5.11s/it]"
     ]
    },
    {
     "data": {
      "application/vnd.jupyter.widget-view+json": {
       "model_id": "ba333ac8354e4a78a7d636b879f193d9",
       "version_major": 2,
       "version_minor": 0
      },
      "text/plain": [
       "  0%|          | 0/498 [00:00<?, ?it/s]"
      ]
     },
     "metadata": {},
     "output_type": "display_data"
    },
    {
     "name": "stderr",
     "output_type": "stream",
     "text": [
      "Partition explainer:  77%|███████▋  | 107/139 [09:42<03:05,  5.80s/it]"
     ]
    },
    {
     "data": {
      "application/vnd.jupyter.widget-view+json": {
       "model_id": "442b6cb2b6fb4574afb132e569b90fa4",
       "version_major": 2,
       "version_minor": 0
      },
      "text/plain": [
       "  0%|          | 0/498 [00:00<?, ?it/s]"
      ]
     },
     "metadata": {},
     "output_type": "display_data"
    },
    {
     "name": "stderr",
     "output_type": "stream",
     "text": [
      "Partition explainer:  80%|███████▉  | 111/139 [10:01<01:55,  4.11s/it]"
     ]
    },
    {
     "data": {
      "application/vnd.jupyter.widget-view+json": {
       "model_id": "004326e28f05442c9f6c8f569b7127e4",
       "version_major": 2,
       "version_minor": 0
      },
      "text/plain": [
       "  0%|          | 0/498 [00:00<?, ?it/s]"
      ]
     },
     "metadata": {},
     "output_type": "display_data"
    },
    {
     "name": "stderr",
     "output_type": "stream",
     "text": [
      "Partition explainer:  83%|████████▎ | 115/139 [10:20<01:46,  4.43s/it]"
     ]
    },
    {
     "data": {
      "application/vnd.jupyter.widget-view+json": {
       "model_id": "9d1e7ab7ffd54aa8b73b5abf42af268e",
       "version_major": 2,
       "version_minor": 0
      },
      "text/plain": [
       "  0%|          | 0/498 [00:00<?, ?it/s]"
      ]
     },
     "metadata": {},
     "output_type": "display_data"
    },
    {
     "name": "stderr",
     "output_type": "stream",
     "text": [
      "Partition explainer:  83%|████████▎ | 116/139 [10:38<03:13,  8.42s/it]"
     ]
    },
    {
     "data": {
      "application/vnd.jupyter.widget-view+json": {
       "model_id": "034fe223ce5642998f5f99b99140e4f8",
       "version_major": 2,
       "version_minor": 0
      },
      "text/plain": [
       "  0%|          | 0/498 [00:00<?, ?it/s]"
      ]
     },
     "metadata": {},
     "output_type": "display_data"
    },
    {
     "name": "stderr",
     "output_type": "stream",
     "text": [
      "Partition explainer:  86%|████████▌ | 119/139 [10:50<01:43,  5.17s/it]"
     ]
    },
    {
     "data": {
      "application/vnd.jupyter.widget-view+json": {
       "model_id": "2dc17c5e7b334c6d9449a19442eac3ea",
       "version_major": 2,
       "version_minor": 0
      },
      "text/plain": [
       "  0%|          | 0/498 [00:00<?, ?it/s]"
      ]
     },
     "metadata": {},
     "output_type": "display_data"
    },
    {
     "name": "stderr",
     "output_type": "stream",
     "text": [
      "Partition explainer:  87%|████████▋ | 121/139 [11:03<01:35,  5.33s/it]"
     ]
    },
    {
     "data": {
      "application/vnd.jupyter.widget-view+json": {
       "model_id": "758a5196cc4147c68a784ebe6c486446",
       "version_major": 2,
       "version_minor": 0
      },
      "text/plain": [
       "  0%|          | 0/498 [00:00<?, ?it/s]"
      ]
     },
     "metadata": {},
     "output_type": "display_data"
    },
    {
     "name": "stderr",
     "output_type": "stream",
     "text": [
      "Partition explainer:  88%|████████▊ | 122/139 [11:23<02:45,  9.76s/it]"
     ]
    },
    {
     "data": {
      "application/vnd.jupyter.widget-view+json": {
       "model_id": "4ca626fa7e764ea0b7e13595618cbd2a",
       "version_major": 2,
       "version_minor": 0
      },
      "text/plain": [
       "  0%|          | 0/498 [00:00<?, ?it/s]"
      ]
     },
     "metadata": {},
     "output_type": "display_data"
    },
    {
     "name": "stderr",
     "output_type": "stream",
     "text": [
      "Partition explainer:  92%|█████████▏| 128/139 [11:38<00:30,  2.81s/it]"
     ]
    },
    {
     "data": {
      "application/vnd.jupyter.widget-view+json": {
       "model_id": "842179a781164799b1a4ed5a1b84ec14",
       "version_major": 2,
       "version_minor": 0
      },
      "text/plain": [
       "  0%|          | 0/498 [00:00<?, ?it/s]"
      ]
     },
     "metadata": {},
     "output_type": "display_data"
    },
    {
     "name": "stderr",
     "output_type": "stream",
     "text": [
      "Partition explainer:  94%|█████████▍| 131/139 [11:59<00:36,  4.56s/it]"
     ]
    },
    {
     "data": {
      "application/vnd.jupyter.widget-view+json": {
       "model_id": "9416f9ff0ed64426b8d8f29a93ffaa8d",
       "version_major": 2,
       "version_minor": 0
      },
      "text/plain": [
       "  0%|          | 0/498 [00:00<?, ?it/s]"
      ]
     },
     "metadata": {},
     "output_type": "display_data"
    },
    {
     "name": "stderr",
     "output_type": "stream",
     "text": [
      "Partition explainer:  96%|█████████▌| 133/139 [12:16<00:38,  6.36s/it]"
     ]
    },
    {
     "data": {
      "application/vnd.jupyter.widget-view+json": {
       "model_id": "2d367ccbcf99492581aa3013969e007e",
       "version_major": 2,
       "version_minor": 0
      },
      "text/plain": [
       "  0%|          | 0/498 [00:00<?, ?it/s]"
      ]
     },
     "metadata": {},
     "output_type": "display_data"
    },
    {
     "name": "stderr",
     "output_type": "stream",
     "text": [
      "Partition explainer:  96%|█████████▋| 134/139 [12:28<00:39,  7.93s/it]"
     ]
    },
    {
     "data": {
      "application/vnd.jupyter.widget-view+json": {
       "model_id": "c4a9ee9c096c45aca587942b12f4a0cb",
       "version_major": 2,
       "version_minor": 0
      },
      "text/plain": [
       "  0%|          | 0/498 [00:00<?, ?it/s]"
      ]
     },
     "metadata": {},
     "output_type": "display_data"
    },
    {
     "name": "stderr",
     "output_type": "stream",
     "text": [
      "Partition explainer:  97%|█████████▋| 135/139 [12:43<00:40, 10.08s/it]"
     ]
    },
    {
     "data": {
      "application/vnd.jupyter.widget-view+json": {
       "model_id": "48a7715e8de24a419658112528bfe0fe",
       "version_major": 2,
       "version_minor": 0
      },
      "text/plain": [
       "  0%|          | 0/498 [00:00<?, ?it/s]"
      ]
     },
     "metadata": {},
     "output_type": "display_data"
    },
    {
     "name": "stderr",
     "output_type": "stream",
     "text": [
      "Partition explainer: 140it [13:02,  5.75s/it]                         \n"
     ]
    }
   ],
   "source": [
    "import numpy as np\n",
    "import scipy as sp\n",
    "import shap\n",
    "\n",
    "tokenizer = AutoTokenizer.from_pretrained(MODEL_NAME_OR_PATH)\n",
    "\n",
    "# define a score function\n",
    "def f(x):\n",
    "    \"\"\"A function which takes a list of examples, x and returns a list of scores, val\"\"\"\n",
    "    # print(len(x))\n",
    "    # print(x)\n",
    "    batch = tokenizer.batch_encode_plus(\n",
    "        list(x), max_length=512, padding=True, truncation=True, return_tensors=\"pt\"\n",
    "    )\n",
    "    outputs = model(batch[\"input_ids\"], batch[\"attention_mask\"])[\"prediction\"].detach().numpy()\n",
    "    # print(tv)\n",
    "    # print(outputs)\n",
    "    # apply softmax to each row??\n",
    "    scores = (np.exp(outputs).T / np.exp(outputs).sum(-1)).T\n",
    "    # print(scores)\n",
    "    val = scores[:,1] # use one vs rest logit units\n",
    "    # print(val)\n",
    "    # val needs to be a list of the score\n",
    "    return val\n",
    "\n",
    "false_pos = np.load(\"./false_pos/RP-Mod-false-pos.csv.npy\", mmap_mode=\"r\")\n",
    "false_pos = [s[15:] for s in false_pos]\n",
    "# f(list(false_pos[:10]))\n",
    "\n",
    "explainer = shap.Explainer(f, tokenizer)\n",
    "\n",
    "\n",
    "# shap_values = explainer(false_pos[:10], batch_size=8)\n",
    "shap_values = explainer(false_pos, fixed_context=1, batch_size=8)"
   ]
  },
  {
   "cell_type": "code",
   "execution_count": 19,
   "metadata": {},
   "outputs": [
    {
     "data": {
      "text/plain": [
       "[' Migranten',\n",
       " ' Nazi',\n",
       " 'arme',\n",
       " 'Muslim',\n",
       " 'monster   ',\n",
       " 'ackt',\n",
       " ' Psychiater',\n",
       " 'sy',\n",
       " ' Juden',\n",
       " 'gewalt',\n",
       " 'flüchtling',\n",
       " ' Männer',\n",
       " ' Muslime',\n",
       " 'M',\n",
       " 'täter',\n",
       " ' Typen',\n",
       " ' Mann',\n",
       " ' Öko',\n",
       " 'äh',\n",
       " ' Radikal',\n",
       " 'heit',\n",
       " ' Virus',\n",
       " 'geschützt ',\n",
       " ' Kur',\n",
       " 'Ideologie',\n",
       " ' Lebewesen',\n",
       " 'gewandert',\n",
       " ' Terrorismus',\n",
       " ' DE',\n",
       " ' Mund',\n",
       " 'ler',\n",
       " ' islamische',\n",
       " 'gesperrt',\n",
       " 'ten',\n",
       " ' Schweine',\n",
       " ' In',\n",
       " 'staaten',\n",
       " 'brecher',\n",
       " 'fisch',\n",
       " ' Asyl',\n",
       " ' Rechts',\n",
       " ' Rechten',\n",
       " 'hirn',\n",
       " ' Frau',\n",
       " 'DW',\n",
       " ' Demo',\n",
       " ' fremden',\n",
       " ' Türkei',\n",
       " ' Youtube',\n",
       " ' Auge',\n",
       " 'Hö',\n",
       " 'ierer',\n",
       " ' hilflos',\n",
       " 'deutsche',\n",
       " ' Flüchtlings',\n",
       " ' Oma',\n",
       " 'eten',\n",
       " 'Krieg',\n",
       " 'din',\n",
       " ' Opfer',\n",
       " ' Familie ',\n",
       " ' dir ',\n",
       " ' intelligente',\n",
       " ' Falsch',\n",
       " 'cke',\n",
       " 'stern',\n",
       " ' Putin',\n",
       " 'Na',\n",
       " 'feindlichkeit ',\n",
       " ' Islam',\n",
       " ' Maul',\n",
       " 'den',\n",
       " 'lein',\n",
       " ' christlichen',\n",
       " ' dieses',\n",
       " ' Anti',\n",
       " ' Einwanderung',\n",
       " 'NE',\n",
       " 'flotte',\n",
       " ' deutsche',\n",
       " 'frei',\n",
       " 'tuch',\n",
       " 'EI',\n",
       " ' seit',\n",
       " ' Täter',\n",
       " ' homo',\n",
       " ' Vornamen',\n",
       " 'Veteran',\n",
       " ' Sozial',\n",
       " ' direkt',\n",
       " ' Polizisten',\n",
       " ' nehmt',\n",
       " 'offen',\n",
       " ' weiße',\n",
       " 'komp',\n",
       " ' Versa',\n",
       " 'PE',\n",
       " ' ganzen',\n",
       " ' ver',\n",
       " ' diesem']"
      ]
     },
     "execution_count": 19,
     "metadata": {},
     "output_type": "execute_result"
    }
   ],
   "source": [
    "import heapq\n",
    "words = {}\n",
    "\n",
    "for val in shap_values:\n",
    "    for i in range(len(val.values)):\n",
    "        score = val.values[i]\n",
    "        if score >= 0:\n",
    "            word = val.data[i]\n",
    "            if word not in words.keys():\n",
    "                words[word] = [score]\n",
    "            else:\n",
    "                words[word].append(score)\n",
    "for key in words.keys():\n",
    "    words[key] = np.mean(words[key])\n",
    "words\n",
    "heapq.nlargest(200, words, key=words.get)"
   ]
  },
  {
   "cell_type": "code",
   "execution_count": 71,
   "metadata": {},
   "outputs": [
    {
     "data": {
      "text/html": [
       "<svg width=\"100%\" height=\"80px\"><line x1=\"0\" y1=\"33\" x2=\"100%\" y2=\"33\" style=\"stroke:rgb(150,150,150);stroke-width:1\" /><line x1=\"55.27270381783439%\" y1=\"33\" x2=\"55.27270381783439%\" y2=\"37\" style=\"stroke:rgb(150,150,150);stroke-width:1\" /><text x=\"55.27270381783439%\" y=\"27\" font-size=\"12px\" fill=\"rgb(120,120,120)\" dominant-baseline=\"bottom\" text-anchor=\"middle\">0.7</text><line x1=\"38.628172805617446%\" y1=\"33\" x2=\"38.628172805617446%\" y2=\"37\" style=\"stroke:rgb(150,150,150);stroke-width:1\" /><text x=\"38.628172805617446%\" y=\"27\" font-size=\"12px\" fill=\"rgb(120,120,120)\" dominant-baseline=\"bottom\" text-anchor=\"middle\">0.6</text><line x1=\"21.983641793400494%\" y1=\"33\" x2=\"21.983641793400494%\" y2=\"37\" style=\"stroke:rgb(150,150,150);stroke-width:1\" /><text x=\"21.983641793400494%\" y=\"27\" font-size=\"12px\" fill=\"rgb(120,120,120)\" dominant-baseline=\"bottom\" text-anchor=\"middle\">0.5</text><line x1=\"71.91723483005134%\" y1=\"33\" x2=\"71.91723483005134%\" y2=\"37\" style=\"stroke:rgb(150,150,150);stroke-width:1\" /><text x=\"71.91723483005134%\" y=\"27\" font-size=\"12px\" fill=\"rgb(120,120,120)\" dominant-baseline=\"bottom\" text-anchor=\"middle\">0.8</text><line x1=\"88.56176584226829%\" y1=\"33\" x2=\"88.56176584226829%\" y2=\"37\" style=\"stroke:rgb(150,150,150);stroke-width:1\" /><text x=\"88.56176584226829%\" y=\"27\" font-size=\"12px\" fill=\"rgb(120,120,120)\" dominant-baseline=\"bottom\" text-anchor=\"middle\">0.9</text><line x1=\"40.23609892225471%\" y1=\"33\" x2=\"40.23609892225471%\" y2=\"37\" style=\"stroke:rgb(150,150,150);stroke-width:1\" /><text x=\"40.23609892225471%\" y=\"27\" font-size=\"13px\" style=\"stroke:#ffffff;stroke-width:8px;\" fill=\"rgb(255,255,255)\" dominant-baseline=\"bottom\" text-anchor=\"middle\">0.60966</text><text x=\"40.23609892225471%\" y=\"27\" font-size=\"12px\" fill=\"rgb(120,120,120)\" dominant-baseline=\"bottom\" text-anchor=\"middle\">0.60966</text><text x=\"40.23609892225471%\" y=\"10\" font-size=\"12px\" fill=\"rgb(120,120,120)\" dominant-baseline=\"bottom\" text-anchor=\"middle\">base value</text><line x1=\"59.763899413292194%\" y1=\"33\" x2=\"59.763899413292194%\" y2=\"37\" style=\"stroke:rgb(150,150,150);stroke-width:1\" /><text x=\"59.763899413292194%\" y=\"27\" font-size=\"13px\" style=\"stroke:#ffffff;stroke-width:8px;\" font-weight=\"bold\" fill=\"rgb(255,255,255)\" dominant-baseline=\"bottom\" text-anchor=\"middle\">0.726983</text><text x=\"59.763899413292194%\" y=\"27\" font-size=\"13px\" font-weight=\"bold\" fill=\"rgb(0,0,0)\" dominant-baseline=\"bottom\" text-anchor=\"middle\">0.726983</text><text x=\"59.763899413292194%\" y=\"10\" font-size=\"12px\" fill=\"rgb(120,120,120)\" dominant-baseline=\"bottom\" text-anchor=\"middle\">f<tspan baseline-shift=\"sub\" font-size=\"8px\"></tspan>(inputs)</text><rect x=\"8.485708713056825%\" width=\"51.27819070023537%\" y=\"40\" height=\"18\" style=\"fill:rgb(255.0, 0.0, 81.08083606031792); stroke-width:0; stroke:rgb(0,0,0)\" /><line x1=\"34.762402267499915%\" x2=\"59.763899413292194%\" y1=\"60\" y2=\"60\" id=\"_fb_usieyiccwpusnzjovqwp_ind_9\" style=\"stroke:rgb(255.0, 0.0, 81.08083606031792);stroke-width:2; opacity: 0\"/><text x=\"47.26315084039605%\" y=\"71\" font-size=\"12px\" id=\"_fs_usieyiccwpusnzjovqwp_ind_9\" fill=\"rgb(255.0, 0.0, 81.08083606031792)\" style=\"opacity: 0\" dominant-baseline=\"middle\" text-anchor=\"middle\">0.15</text><svg x=\"34.762402267499915%\" y=\"40\" height=\"20\" width=\"25.00149714579228%\">  <svg x=\"0\" y=\"0\" width=\"100%\" height=\"100%\">    <text x=\"50%\" y=\"9\" font-size=\"12px\" fill=\"rgb(255,255,255)\" dominant-baseline=\"middle\" text-anchor=\"middle\">Mann</text>  </svg></svg><line x1=\"19.186201486306615%\" x2=\"34.762402267499915%\" y1=\"60\" y2=\"60\" id=\"_fb_usieyiccwpusnzjovqwp_ind_3\" style=\"stroke:rgb(255.0, 0.0, 81.08083606031792);stroke-width:2; opacity: 0\"/><text x=\"26.974301876903265%\" y=\"71\" font-size=\"12px\" id=\"_fs_usieyiccwpusnzjovqwp_ind_3\" fill=\"rgb(255.0, 0.0, 81.08083606031792)\" style=\"opacity: 0\" dominant-baseline=\"middle\" text-anchor=\"middle\">0.094</text><svg x=\"19.186201486306615%\" y=\"40\" height=\"20\" width=\"15.5762007811933%\">  <svg x=\"0\" y=\"0\" width=\"100%\" height=\"100%\">    <text x=\"50%\" y=\"9\" font-size=\"12px\" fill=\"rgb(255,255,255)\" dominant-baseline=\"middle\" text-anchor=\"middle\">Frau</text>  </svg></svg><line x1=\"11.710925172652209%\" x2=\"19.186201486306615%\" y1=\"60\" y2=\"60\" id=\"_fb_usieyiccwpusnzjovqwp_ind_7\" style=\"stroke:rgb(255.0, 0.0, 81.08083606031792);stroke-width:2; opacity: 0\"/><text x=\"15.448563329479413%\" y=\"71\" font-size=\"12px\" id=\"_fs_usieyiccwpusnzjovqwp_ind_7\" fill=\"rgb(255.0, 0.0, 81.08083606031792)\" style=\"opacity: 0\" dominant-baseline=\"middle\" text-anchor=\"middle\">0.045</text><svg x=\"11.710925172652209%\" y=\"40\" height=\"20\" width=\"7.4752763136544065%\">  <svg x=\"0\" y=\"0\" width=\"100%\" height=\"100%\">    <text x=\"50%\" y=\"9\" font-size=\"12px\" fill=\"rgb(255,255,255)\" dominant-baseline=\"middle\" text-anchor=\"middle\">hier</text>  </svg></svg><line x1=\"8.485708713056825%\" x2=\"11.710925172652209%\" y1=\"60\" y2=\"60\" id=\"_fb_usieyiccwpusnzjovqwp_ind_4\" style=\"stroke:rgb(255.0, 0.0, 81.08083606031792);stroke-width:2; opacity: 0\"/><text x=\"10.098316942854517%\" y=\"71\" font-size=\"12px\" id=\"_fs_usieyiccwpusnzjovqwp_ind_4\" fill=\"rgb(255.0, 0.0, 81.08083606031792)\" style=\"opacity: 0\" dominant-baseline=\"middle\" text-anchor=\"middle\">0.019</text><svg x=\"8.485708713056825%\" y=\"40\" height=\"20\" width=\"3.2252164595953836%\">  <svg x=\"0\" y=\"0\" width=\"100%\" height=\"100%\">    <text x=\"50%\" y=\"9\" font-size=\"12px\" fill=\"rgb(255,255,255)\" dominant-baseline=\"middle\" text-anchor=\"middle\">und</text>  </svg></svg><g transform=\"translate(0,0)\">  <svg x=\"34.762402267499915%\" y=\"40\" height=\"18\" overflow=\"visible\" width=\"30\">    <path d=\"M 0 -9 l 6 18 L 0 25\" fill=\"none\" style=\"stroke:rgb(255.0, 0.0, 81.08083606031792);stroke-width:2\" />  </svg></g><g transform=\"translate(2,0)\">  <svg x=\"34.762402267499915%\" y=\"40\" height=\"18\" overflow=\"visible\" width=\"30\">    <path d=\"M 0 -9 l 6 18 L 0 25\" fill=\"none\" style=\"stroke:rgb(255.0, 0.0, 81.08083606031792);stroke-width:2\" />  </svg></g><g transform=\"translate(4,0)\">  <svg x=\"34.762402267499915%\" y=\"40\" height=\"18\" overflow=\"visible\" width=\"30\">    <path d=\"M 0 -9 l 6 18 L 0 25\" fill=\"none\" style=\"stroke:rgb(255.0, 0.0, 81.08083606031792);stroke-width:2\" />  </svg></g><g transform=\"translate(6,0)\">  <svg x=\"34.762402267499915%\" y=\"40\" height=\"18\" overflow=\"visible\" width=\"30\">    <path d=\"M 0 -9 l 6 18 L 0 25\" fill=\"none\" style=\"stroke:rgb(255.0, 0.0, 81.08083606031792);stroke-width:2\" />  </svg></g><g transform=\"translate(-8,0)\">  <svg x=\"34.762402267499915%\" y=\"40\" height=\"18\" overflow=\"visible\" width=\"30\">    <path d=\"M 0 -9 l 6 18 L 0 25\" fill=\"none\" style=\"stroke:rgb(255.0, 0.0, 81.08083606031792);stroke-width:2\" />  </svg></g><g transform=\"translate(-6,0)\">  <svg x=\"34.762402267499915%\" y=\"40\" height=\"18\" overflow=\"visible\" width=\"30\">    <path d=\"M 0 -9 l 6 18 L 0 25\" fill=\"none\" style=\"stroke:rgb(255.0, 0.0, 81.08083606031792);stroke-width:2\" />  </svg></g><g transform=\"translate(-4,0)\">  <svg x=\"34.762402267499915%\" y=\"40\" height=\"18\" overflow=\"visible\" width=\"30\">    <path d=\"M 0 -9 l 6 18 L 0 25\" fill=\"none\" style=\"stroke:rgb(255.0, 0.0, 81.08083606031792);stroke-width:2\" />  </svg></g><g transform=\"translate(-2,0)\">  <svg x=\"34.762402267499915%\" y=\"40\" height=\"18\" overflow=\"visible\" width=\"30\">    <path d=\"M 0 -9 l 6 18 L 0 25\" fill=\"none\" style=\"stroke:rgb(255.0, 0.0, 81.08083606031792);stroke-width:2\" />  </svg></g><g transform=\"translate(0,0)\">  <svg x=\"19.186201486306615%\" y=\"40\" height=\"18\" overflow=\"visible\" width=\"30\">    <path d=\"M 0 -9 l 6 18 L 0 25\" fill=\"none\" style=\"stroke:rgb(255.0, 0.0, 81.08083606031792);stroke-width:2\" />  </svg></g><g transform=\"translate(2,0)\">  <svg x=\"19.186201486306615%\" y=\"40\" height=\"18\" overflow=\"visible\" width=\"30\">    <path d=\"M 0 -9 l 6 18 L 0 25\" fill=\"none\" style=\"stroke:rgb(255.0, 0.0, 81.08083606031792);stroke-width:2\" />  </svg></g><g transform=\"translate(4,0)\">  <svg x=\"19.186201486306615%\" y=\"40\" height=\"18\" overflow=\"visible\" width=\"30\">    <path d=\"M 0 -9 l 6 18 L 0 25\" fill=\"none\" style=\"stroke:rgb(255.0, 0.0, 81.08083606031792);stroke-width:2\" />  </svg></g><g transform=\"translate(6,0)\">  <svg x=\"19.186201486306615%\" y=\"40\" height=\"18\" overflow=\"visible\" width=\"30\">    <path d=\"M 0 -9 l 6 18 L 0 25\" fill=\"none\" style=\"stroke:rgb(255.0, 0.0, 81.08083606031792);stroke-width:2\" />  </svg></g><g transform=\"translate(-8,0)\">  <svg x=\"19.186201486306615%\" y=\"40\" height=\"18\" overflow=\"visible\" width=\"30\">    <path d=\"M 0 -9 l 6 18 L 0 25\" fill=\"none\" style=\"stroke:rgb(255.0, 0.0, 81.08083606031792);stroke-width:2\" />  </svg></g><g transform=\"translate(-6,0)\">  <svg x=\"19.186201486306615%\" y=\"40\" height=\"18\" overflow=\"visible\" width=\"30\">    <path d=\"M 0 -9 l 6 18 L 0 25\" fill=\"none\" style=\"stroke:rgb(255.0, 0.0, 81.08083606031792);stroke-width:2\" />  </svg></g><g transform=\"translate(-4,0)\">  <svg x=\"19.186201486306615%\" y=\"40\" height=\"18\" overflow=\"visible\" width=\"30\">    <path d=\"M 0 -9 l 6 18 L 0 25\" fill=\"none\" style=\"stroke:rgb(255.0, 0.0, 81.08083606031792);stroke-width:2\" />  </svg></g><g transform=\"translate(-2,0)\">  <svg x=\"19.186201486306615%\" y=\"40\" height=\"18\" overflow=\"visible\" width=\"30\">    <path d=\"M 0 -9 l 6 18 L 0 25\" fill=\"none\" style=\"stroke:rgb(255.0, 0.0, 81.08083606031792);stroke-width:2\" />  </svg></g><g transform=\"translate(0,0)\">  <svg x=\"11.710925172652209%\" y=\"40\" height=\"18\" overflow=\"visible\" width=\"30\">    <path d=\"M 0 -9 l 6 18 L 0 25\" fill=\"none\" style=\"stroke:rgb(255.0, 0.0, 81.08083606031792);stroke-width:2\" />  </svg></g><g transform=\"translate(2,0)\">  <svg x=\"11.710925172652209%\" y=\"40\" height=\"18\" overflow=\"visible\" width=\"30\">    <path d=\"M 0 -9 l 6 18 L 0 25\" fill=\"none\" style=\"stroke:rgb(255.0, 0.0, 81.08083606031792);stroke-width:2\" />  </svg></g><g transform=\"translate(4,0)\">  <svg x=\"11.710925172652209%\" y=\"40\" height=\"18\" overflow=\"visible\" width=\"30\">    <path d=\"M 0 -9 l 6 18 L 0 25\" fill=\"none\" style=\"stroke:rgb(255.0, 0.0, 81.08083606031792);stroke-width:2\" />  </svg></g><g transform=\"translate(6,0)\">  <svg x=\"11.710925172652209%\" y=\"40\" height=\"18\" overflow=\"visible\" width=\"30\">    <path d=\"M 0 -9 l 6 18 L 0 25\" fill=\"none\" style=\"stroke:rgb(255.0, 0.0, 81.08083606031792);stroke-width:2\" />  </svg></g><g transform=\"translate(-8,0)\">  <svg x=\"11.710925172652209%\" y=\"40\" height=\"18\" overflow=\"visible\" width=\"30\">    <path d=\"M 0 -9 l 6 18 L 0 25\" fill=\"none\" style=\"stroke:rgb(255.0, 0.0, 81.08083606031792);stroke-width:2\" />  </svg></g><g transform=\"translate(-6,0)\">  <svg x=\"11.710925172652209%\" y=\"40\" height=\"18\" overflow=\"visible\" width=\"30\">    <path d=\"M 0 -9 l 6 18 L 0 25\" fill=\"none\" style=\"stroke:rgb(255.0, 0.0, 81.08083606031792);stroke-width:2\" />  </svg></g><g transform=\"translate(-4,0)\">  <svg x=\"11.710925172652209%\" y=\"40\" height=\"18\" overflow=\"visible\" width=\"30\">    <path d=\"M 0 -9 l 6 18 L 0 25\" fill=\"none\" style=\"stroke:rgb(255.0, 0.0, 81.08083606031792);stroke-width:2\" />  </svg></g><g transform=\"translate(-2,0)\">  <svg x=\"11.710925172652209%\" y=\"40\" height=\"18\" overflow=\"visible\" width=\"30\">    <path d=\"M 0 -9 l 6 18 L 0 25\" fill=\"none\" style=\"stroke:rgb(255.0, 0.0, 81.08083606031792);stroke-width:2\" />  </svg></g><rect transform=\"translate(-8,0)\" x=\"59.763899413292194%\" y=\"40\" width=\"8\" height=\"18\" style=\"fill:rgb(255.0, 0.0, 81.08083606031792)\"/><g transform=\"translate(-11.5,0)\">  <svg x=\"8.485708713056825%\" y=\"40\" height=\"18\" overflow=\"visible\" width=\"30\">    <path d=\"M 10 -9 l 6 18 L 10 25 L 0 25 L 0 -9\" fill=\"#ffffff\" style=\"stroke:rgb(255,255,255);stroke-width:2\" />  </svg></g><g transform=\"translate(-1.5,0)\">  <svg x=\"59.763899413292194%\" y=\"40\" height=\"18\" overflow=\"visible\" width=\"30\">    <path d=\"M 0 -9 l 6 18 L 0 25\" fill=\"none\" style=\"stroke:rgb(255, 195, 213);stroke-width:2\" />  </svg></g><rect x=\"34.762402267499915%\" y=\"40\" height=\"20\" width=\"25.00149714579228%\"      onmouseover=\"document.getElementById('_tp_usieyiccwpusnzjovqwp_ind_9').style.textDecoration = 'underline';document.getElementById('_fs_usieyiccwpusnzjovqwp_ind_9').style.opacity = 1;document.getElementById('_fb_usieyiccwpusnzjovqwp_ind_9').style.opacity = 1;\"      onmouseout=\"document.getElementById('_tp_usieyiccwpusnzjovqwp_ind_9').style.textDecoration = 'none';document.getElementById('_fs_usieyiccwpusnzjovqwp_ind_9').style.opacity = 0;document.getElementById('_fb_usieyiccwpusnzjovqwp_ind_9').style.opacity = 0;\" style=\"fill:rgb(0,0,0,0)\" /><g transform=\"translate(-1.5,0)\">  <svg x=\"34.762402267499915%\" y=\"40\" height=\"18\" overflow=\"visible\" width=\"30\">    <path d=\"M 0 -9 l 6 18 L 0 25\" fill=\"none\" style=\"stroke:rgb(255, 195, 213);stroke-width:2\" />  </svg></g><rect x=\"19.186201486306615%\" y=\"40\" height=\"20\" width=\"15.5762007811933%\"      onmouseover=\"document.getElementById('_tp_usieyiccwpusnzjovqwp_ind_3').style.textDecoration = 'underline';document.getElementById('_fs_usieyiccwpusnzjovqwp_ind_3').style.opacity = 1;document.getElementById('_fb_usieyiccwpusnzjovqwp_ind_3').style.opacity = 1;\"      onmouseout=\"document.getElementById('_tp_usieyiccwpusnzjovqwp_ind_3').style.textDecoration = 'none';document.getElementById('_fs_usieyiccwpusnzjovqwp_ind_3').style.opacity = 0;document.getElementById('_fb_usieyiccwpusnzjovqwp_ind_3').style.opacity = 0;\" style=\"fill:rgb(0,0,0,0)\" /><g transform=\"translate(-1.5,0)\">  <svg x=\"19.186201486306615%\" y=\"40\" height=\"18\" overflow=\"visible\" width=\"30\">    <path d=\"M 0 -9 l 6 18 L 0 25\" fill=\"none\" style=\"stroke:rgb(255, 195, 213);stroke-width:2\" />  </svg></g><rect x=\"11.710925172652209%\" y=\"40\" height=\"20\" width=\"7.4752763136544065%\"      onmouseover=\"document.getElementById('_tp_usieyiccwpusnzjovqwp_ind_7').style.textDecoration = 'underline';document.getElementById('_fs_usieyiccwpusnzjovqwp_ind_7').style.opacity = 1;document.getElementById('_fb_usieyiccwpusnzjovqwp_ind_7').style.opacity = 1;\"      onmouseout=\"document.getElementById('_tp_usieyiccwpusnzjovqwp_ind_7').style.textDecoration = 'none';document.getElementById('_fs_usieyiccwpusnzjovqwp_ind_7').style.opacity = 0;document.getElementById('_fb_usieyiccwpusnzjovqwp_ind_7').style.opacity = 0;\" style=\"fill:rgb(0,0,0,0)\" /><rect x=\"8.485708713056825%\" y=\"40\" height=\"20\" width=\"3.2252164595953836%\"      onmouseover=\"document.getElementById('_tp_usieyiccwpusnzjovqwp_ind_4').style.textDecoration = 'underline';document.getElementById('_fs_usieyiccwpusnzjovqwp_ind_4').style.opacity = 1;document.getElementById('_fb_usieyiccwpusnzjovqwp_ind_4').style.opacity = 1;\"      onmouseout=\"document.getElementById('_tp_usieyiccwpusnzjovqwp_ind_4').style.textDecoration = 'none';document.getElementById('_fs_usieyiccwpusnzjovqwp_ind_4').style.opacity = 0;document.getElementById('_fb_usieyiccwpusnzjovqwp_ind_4').style.opacity = 0;\" style=\"fill:rgb(0,0,0,0)\" /><rect x=\"59.763899413292194%\" width=\"31.75039020919789%\" y=\"40\" height=\"18\" style=\"fill:rgb(0.0, 138.56128015770727, 250.76166088685738); stroke-width:0; stroke:rgb(0,0,0)\" /><line x1=\"59.763899413292194%\" x2=\"69.24640844641799%\" y1=\"60\" y2=\"60\" id=\"_fb_usieyiccwpusnzjovqwp_ind_1\" style=\"stroke:rgb(0.0, 138.56128015770727, 250.76166088685738);stroke-width:2; opacity: 0\"/><text x=\"64.50515392985508%\" y=\"71\" font-size=\"12px\" fill=\"rgb(0.0, 138.56128015770727, 250.76166088685738)\" id=\"_fs_usieyiccwpusnzjovqwp_ind_1\" style=\"opacity: 0\" dominant-baseline=\"middle\" text-anchor=\"middle\">-0.057</text><svg x=\"59.763899413292194%\" y=\"40\" height=\"20\" width=\"9.482509033125794%\">  <svg x=\"0\" y=\"0\" width=\"100%\" height=\"100%\">    <text x=\"50%\" y=\"9\" font-size=\"12px\" fill=\"rgb(255,255,255)\" dominant-baseline=\"middle\" text-anchor=\"middle\">sympathisch</text>  </svg></svg><line x1=\"69.24640844641799%\" x2=\"77.48481321406638%\" y1=\"60\" y2=\"60\" id=\"_fb_usieyiccwpusnzjovqwp_ind_8\" style=\"stroke:rgb(0.0, 138.56128015770727, 250.76166088685738);stroke-width:2; opacity: 0\"/><text x=\"73.36561083024219%\" y=\"71\" font-size=\"12px\" fill=\"rgb(0.0, 138.56128015770727, 250.76166088685738)\" id=\"_fs_usieyiccwpusnzjovqwp_ind_8\" style=\"opacity: 0\" dominant-baseline=\"middle\" text-anchor=\"middle\">-0.049</text><svg x=\"69.24640844641799%\" y=\"40\" height=\"20\" width=\"8.23840476764839%\">  <svg x=\"0\" y=\"0\" width=\"100%\" height=\"100%\">    <text x=\"50%\" y=\"9\" font-size=\"12px\" fill=\"rgb(255,255,255)\" dominant-baseline=\"middle\" text-anchor=\"middle\">ein</text>  </svg></svg><line x1=\"77.48481321406638%\" x2=\"85.55365406713055%\" y1=\"60\" y2=\"60\" id=\"_fb_usieyiccwpusnzjovqwp_ind_5\" style=\"stroke:rgb(0.0, 138.56128015770727, 250.76166088685738);stroke-width:2; opacity: 0\"/><text x=\"81.51923364059846%\" y=\"71\" font-size=\"12px\" fill=\"rgb(0.0, 138.56128015770727, 250.76166088685738)\" id=\"_fs_usieyiccwpusnzjovqwp_ind_5\" style=\"opacity: 0\" dominant-baseline=\"middle\" text-anchor=\"middle\">-0.048</text><svg x=\"77.48481321406638%\" y=\"40\" height=\"20\" width=\"8.068840853064174%\">  <svg x=\"0\" y=\"0\" width=\"100%\" height=\"100%\">    <text x=\"50%\" y=\"9\" font-size=\"12px\" fill=\"rgb(255,255,255)\" dominant-baseline=\"middle\" text-anchor=\"middle\">das</text>  </svg></svg><line x1=\"85.55365406713055%\" x2=\"88.50541728531468%\" y1=\"60\" y2=\"60\" id=\"_fb_usieyiccwpusnzjovqwp_ind_10\" style=\"stroke:rgb(0.0, 138.56128015770727, 250.76166088685738);stroke-width:2; opacity: 0\"/><text x=\"87.02953567622262%\" y=\"71\" font-size=\"12px\" fill=\"rgb(0.0, 138.56128015770727, 250.76166088685738)\" id=\"_fs_usieyiccwpusnzjovqwp_ind_10\" style=\"opacity: 0\" dominant-baseline=\"middle\" text-anchor=\"middle\">-0.018</text><svg x=\"85.55365406713055%\" y=\"40\" height=\"20\" width=\"2.9517632181841265%\">  <svg x=\"0\" y=\"0\" width=\"100%\" height=\"100%\">    <text x=\"50%\" y=\"9\" font-size=\"12px\" fill=\"rgb(255,255,255)\" dominant-baseline=\"middle\" text-anchor=\"middle\"></text>  </svg></svg><line x1=\"88.50541728531468%\" x2=\"89.99530350404527%\" y1=\"60\" y2=\"60\" id=\"_fb_usieyiccwpusnzjovqwp_ind_6\" style=\"stroke:rgb(0.0, 138.56128015770727, 250.76166088685738);stroke-width:2; opacity: 0\"/><text x=\"89.25036039467997%\" y=\"71\" font-size=\"12px\" fill=\"rgb(0.0, 138.56128015770727, 250.76166088685738)\" id=\"_fs_usieyiccwpusnzjovqwp_ind_6\" style=\"opacity: 0\" dominant-baseline=\"middle\" text-anchor=\"middle\">-0.009</text><svg x=\"88.50541728531468%\" y=\"40\" height=\"20\" width=\"1.4898862187305895%\">  <svg x=\"0\" y=\"0\" width=\"100%\" height=\"100%\">    <text x=\"50%\" y=\"9\" font-size=\"12px\" fill=\"rgb(255,255,255)\" dominant-baseline=\"middle\" text-anchor=\"middle\">sagt</text>  </svg></svg><line x1=\"89.99530350404527%\" x2=\"90.82011895859262%\" y1=\"60\" y2=\"60\" id=\"_fb_usieyiccwpusnzjovqwp_ind_2\" style=\"stroke:rgb(0.0, 138.56128015770727, 250.76166088685738);stroke-width:2; opacity: 0\"/><text x=\"90.40771123131894%\" y=\"71\" font-size=\"12px\" fill=\"rgb(0.0, 138.56128015770727, 250.76166088685738)\" id=\"_fs_usieyiccwpusnzjovqwp_ind_2\" style=\"opacity: 0\" dominant-baseline=\"middle\" text-anchor=\"middle\">-0.005</text><svg x=\"89.99530350404527%\" y=\"40\" height=\"20\" width=\"0.8248154545473483%\">  <svg x=\"0\" y=\"0\" width=\"100%\" height=\"100%\">    <text x=\"50%\" y=\"9\" font-size=\"12px\" fill=\"rgb(255,255,255)\" dominant-baseline=\"middle\" text-anchor=\"middle\">diese</text>  </svg></svg><line x1=\"90.82011895859262%\" x2=\"91.2781018127301%\" y1=\"60\" y2=\"60\" id=\"_fb_usieyiccwpusnzjovqwp_ind_11\" style=\"stroke:rgb(0.0, 138.56128015770727, 250.76166088685738);stroke-width:2; opacity: 0\"/><text x=\"91.04911038566135%\" y=\"71\" font-size=\"12px\" fill=\"rgb(0.0, 138.56128015770727, 250.76166088685738)\" id=\"_fs_usieyiccwpusnzjovqwp_ind_11\" style=\"opacity: 0\" dominant-baseline=\"middle\" text-anchor=\"middle\">-0.003</text><svg x=\"90.82011895859262%\" y=\"40\" height=\"20\" width=\"0.45798285413748374%\">  <svg x=\"0\" y=\"0\" width=\"100%\" height=\"100%\">    <text x=\"50%\" y=\"9\" font-size=\"12px\" fill=\"rgb(255,255,255)\" dominant-baseline=\"middle\" text-anchor=\"middle\"></text>  </svg></svg><line x1=\"91.2781018127301%\" x2=\"91.5142896224901%\" y1=\"60\" y2=\"60\" id=\"_fb_usieyiccwpusnzjovqwp_ind_0\" style=\"stroke:rgb(0.0, 138.56128015770727, 250.76166088685738);stroke-width:2; opacity: 0\"/><text x=\"91.3961957176101%\" y=\"71\" font-size=\"12px\" fill=\"rgb(0.0, 138.56128015770727, 250.76166088685738)\" id=\"_fs_usieyiccwpusnzjovqwp_ind_0\" style=\"opacity: 0\" dominant-baseline=\"middle\" text-anchor=\"middle\">-0.001</text><svg x=\"91.2781018127301%\" y=\"40\" height=\"20\" width=\"0.23618780975999698%\">  <svg x=\"0\" y=\"0\" width=\"100%\" height=\"100%\">    <text x=\"50%\" y=\"9\" font-size=\"12px\" fill=\"rgb(255,255,255)\" dominant-baseline=\"middle\" text-anchor=\"middle\">Sehr</text>  </svg></svg><g transform=\"translate(-8,0)\">  <svg x=\"69.24640844641799%\" y=\"40\" height=\"18\" overflow=\"visible\" width=\"30\">    <path d=\"M 8 -9 l -6 18 L 8 25\" fill=\"none\" style=\"stroke:rgb(0.0, 138.56128015770727, 250.76166088685738);stroke-width:2\" />  </svg></g><g transform=\"translate(-10,0)\">  <svg x=\"69.24640844641799%\" y=\"40\" height=\"18\" overflow=\"visible\" width=\"30\">    <path d=\"M 8 -9 l -6 18 L 8 25\" fill=\"none\" style=\"stroke:rgb(0.0, 138.56128015770727, 250.76166088685738);stroke-width:2\" />  </svg></g><g transform=\"translate(-12,0)\">  <svg x=\"69.24640844641799%\" y=\"40\" height=\"18\" overflow=\"visible\" width=\"30\">    <path d=\"M 8 -9 l -6 18 L 8 25\" fill=\"none\" style=\"stroke:rgb(0.0, 138.56128015770727, 250.76166088685738);stroke-width:2\" />  </svg></g><g transform=\"translate(-14,0)\">  <svg x=\"69.24640844641799%\" y=\"40\" height=\"18\" overflow=\"visible\" width=\"30\">    <path d=\"M 8 -9 l -6 18 L 8 25\" fill=\"none\" style=\"stroke:rgb(0.0, 138.56128015770727, 250.76166088685738);stroke-width:2\" />  </svg></g><g transform=\"translate(2,0)\">  <svg x=\"69.24640844641799%\" y=\"40\" height=\"18\" overflow=\"visible\" width=\"30\">    <path d=\"M 8 -9 l -6 18 L 8 25\" fill=\"none\" style=\"stroke:rgb(0.0, 138.56128015770727, 250.76166088685738);stroke-width:2\" />  </svg></g><g transform=\"translate(0,0)\">  <svg x=\"69.24640844641799%\" y=\"40\" height=\"18\" overflow=\"visible\" width=\"30\">    <path d=\"M 8 -9 l -6 18 L 8 25\" fill=\"none\" style=\"stroke:rgb(0.0, 138.56128015770727, 250.76166088685738);stroke-width:2\" />  </svg></g><g transform=\"translate(-2,0)\">  <svg x=\"69.24640844641799%\" y=\"40\" height=\"18\" overflow=\"visible\" width=\"30\">    <path d=\"M 8 -9 l -6 18 L 8 25\" fill=\"none\" style=\"stroke:rgb(0.0, 138.56128015770727, 250.76166088685738);stroke-width:2\" />  </svg></g><g transform=\"translate(-4,0)\">  <svg x=\"69.24640844641799%\" y=\"40\" height=\"18\" overflow=\"visible\" width=\"30\">    <path d=\"M 8 -9 l -6 18 L 8 25\" fill=\"none\" style=\"stroke:rgb(0.0, 138.56128015770727, 250.76166088685738);stroke-width:2\" />  </svg></g><g transform=\"translate(-8,0)\">  <svg x=\"77.48481321406638%\" y=\"40\" height=\"18\" overflow=\"visible\" width=\"30\">    <path d=\"M 8 -9 l -6 18 L 8 25\" fill=\"none\" style=\"stroke:rgb(0.0, 138.56128015770727, 250.76166088685738);stroke-width:2\" />  </svg></g><g transform=\"translate(-10,0)\">  <svg x=\"77.48481321406638%\" y=\"40\" height=\"18\" overflow=\"visible\" width=\"30\">    <path d=\"M 8 -9 l -6 18 L 8 25\" fill=\"none\" style=\"stroke:rgb(0.0, 138.56128015770727, 250.76166088685738);stroke-width:2\" />  </svg></g><g transform=\"translate(-12,0)\">  <svg x=\"77.48481321406638%\" y=\"40\" height=\"18\" overflow=\"visible\" width=\"30\">    <path d=\"M 8 -9 l -6 18 L 8 25\" fill=\"none\" style=\"stroke:rgb(0.0, 138.56128015770727, 250.76166088685738);stroke-width:2\" />  </svg></g><g transform=\"translate(-14,0)\">  <svg x=\"77.48481321406638%\" y=\"40\" height=\"18\" overflow=\"visible\" width=\"30\">    <path d=\"M 8 -9 l -6 18 L 8 25\" fill=\"none\" style=\"stroke:rgb(0.0, 138.56128015770727, 250.76166088685738);stroke-width:2\" />  </svg></g><g transform=\"translate(2,0)\">  <svg x=\"77.48481321406638%\" y=\"40\" height=\"18\" overflow=\"visible\" width=\"30\">    <path d=\"M 8 -9 l -6 18 L 8 25\" fill=\"none\" style=\"stroke:rgb(0.0, 138.56128015770727, 250.76166088685738);stroke-width:2\" />  </svg></g><g transform=\"translate(0,0)\">  <svg x=\"77.48481321406638%\" y=\"40\" height=\"18\" overflow=\"visible\" width=\"30\">    <path d=\"M 8 -9 l -6 18 L 8 25\" fill=\"none\" style=\"stroke:rgb(0.0, 138.56128015770727, 250.76166088685738);stroke-width:2\" />  </svg></g><g transform=\"translate(-2,0)\">  <svg x=\"77.48481321406638%\" y=\"40\" height=\"18\" overflow=\"visible\" width=\"30\">    <path d=\"M 8 -9 l -6 18 L 8 25\" fill=\"none\" style=\"stroke:rgb(0.0, 138.56128015770727, 250.76166088685738);stroke-width:2\" />  </svg></g><g transform=\"translate(-4,0)\">  <svg x=\"77.48481321406638%\" y=\"40\" height=\"18\" overflow=\"visible\" width=\"30\">    <path d=\"M 8 -9 l -6 18 L 8 25\" fill=\"none\" style=\"stroke:rgb(0.0, 138.56128015770727, 250.76166088685738);stroke-width:2\" />  </svg></g><g transform=\"translate(-8,0)\">  <svg x=\"85.55365406713055%\" y=\"40\" height=\"18\" overflow=\"visible\" width=\"30\">    <path d=\"M 8 -9 l -6 18 L 8 25\" fill=\"none\" style=\"stroke:rgb(0.0, 138.56128015770727, 250.76166088685738);stroke-width:2\" />  </svg></g><g transform=\"translate(-10,0)\">  <svg x=\"85.55365406713055%\" y=\"40\" height=\"18\" overflow=\"visible\" width=\"30\">    <path d=\"M 8 -9 l -6 18 L 8 25\" fill=\"none\" style=\"stroke:rgb(0.0, 138.56128015770727, 250.76166088685738);stroke-width:2\" />  </svg></g><g transform=\"translate(-12,0)\">  <svg x=\"85.55365406713055%\" y=\"40\" height=\"18\" overflow=\"visible\" width=\"30\">    <path d=\"M 8 -9 l -6 18 L 8 25\" fill=\"none\" style=\"stroke:rgb(0.0, 138.56128015770727, 250.76166088685738);stroke-width:2\" />  </svg></g><g transform=\"translate(-14,0)\">  <svg x=\"85.55365406713055%\" y=\"40\" height=\"18\" overflow=\"visible\" width=\"30\">    <path d=\"M 8 -9 l -6 18 L 8 25\" fill=\"none\" style=\"stroke:rgb(0.0, 138.56128015770727, 250.76166088685738);stroke-width:2\" />  </svg></g><g transform=\"translate(2,0)\">  <svg x=\"85.55365406713055%\" y=\"40\" height=\"18\" overflow=\"visible\" width=\"30\">    <path d=\"M 8 -9 l -6 18 L 8 25\" fill=\"none\" style=\"stroke:rgb(0.0, 138.56128015770727, 250.76166088685738);stroke-width:2\" />  </svg></g><g transform=\"translate(0,0)\">  <svg x=\"85.55365406713055%\" y=\"40\" height=\"18\" overflow=\"visible\" width=\"30\">    <path d=\"M 8 -9 l -6 18 L 8 25\" fill=\"none\" style=\"stroke:rgb(0.0, 138.56128015770727, 250.76166088685738);stroke-width:2\" />  </svg></g><g transform=\"translate(-2,0)\">  <svg x=\"85.55365406713055%\" y=\"40\" height=\"18\" overflow=\"visible\" width=\"30\">    <path d=\"M 8 -9 l -6 18 L 8 25\" fill=\"none\" style=\"stroke:rgb(0.0, 138.56128015770727, 250.76166088685738);stroke-width:2\" />  </svg></g><g transform=\"translate(-4,0)\">  <svg x=\"85.55365406713055%\" y=\"40\" height=\"18\" overflow=\"visible\" width=\"30\">    <path d=\"M 8 -9 l -6 18 L 8 25\" fill=\"none\" style=\"stroke:rgb(0.0, 138.56128015770727, 250.76166088685738);stroke-width:2\" />  </svg></g><g transform=\"translate(-8,0)\">  <svg x=\"88.50541728531468%\" y=\"40\" height=\"18\" overflow=\"visible\" width=\"30\">    <path d=\"M 8 -9 l -6 18 L 8 25\" fill=\"none\" style=\"stroke:rgb(0.0, 138.56128015770727, 250.76166088685738);stroke-width:2\" />  </svg></g><g transform=\"translate(-10,0)\">  <svg x=\"88.50541728531468%\" y=\"40\" height=\"18\" overflow=\"visible\" width=\"30\">    <path d=\"M 8 -9 l -6 18 L 8 25\" fill=\"none\" style=\"stroke:rgb(0.0, 138.56128015770727, 250.76166088685738);stroke-width:2\" />  </svg></g><g transform=\"translate(-12,0)\">  <svg x=\"88.50541728531468%\" y=\"40\" height=\"18\" overflow=\"visible\" width=\"30\">    <path d=\"M 8 -9 l -6 18 L 8 25\" fill=\"none\" style=\"stroke:rgb(0.0, 138.56128015770727, 250.76166088685738);stroke-width:2\" />  </svg></g><g transform=\"translate(-14,0)\">  <svg x=\"88.50541728531468%\" y=\"40\" height=\"18\" overflow=\"visible\" width=\"30\">    <path d=\"M 8 -9 l -6 18 L 8 25\" fill=\"none\" style=\"stroke:rgb(0.0, 138.56128015770727, 250.76166088685738);stroke-width:2\" />  </svg></g><g transform=\"translate(2,0)\">  <svg x=\"88.50541728531468%\" y=\"40\" height=\"18\" overflow=\"visible\" width=\"30\">    <path d=\"M 8 -9 l -6 18 L 8 25\" fill=\"none\" style=\"stroke:rgb(0.0, 138.56128015770727, 250.76166088685738);stroke-width:2\" />  </svg></g><g transform=\"translate(0,0)\">  <svg x=\"88.50541728531468%\" y=\"40\" height=\"18\" overflow=\"visible\" width=\"30\">    <path d=\"M 8 -9 l -6 18 L 8 25\" fill=\"none\" style=\"stroke:rgb(0.0, 138.56128015770727, 250.76166088685738);stroke-width:2\" />  </svg></g><g transform=\"translate(-2,0)\">  <svg x=\"88.50541728531468%\" y=\"40\" height=\"18\" overflow=\"visible\" width=\"30\">    <path d=\"M 8 -9 l -6 18 L 8 25\" fill=\"none\" style=\"stroke:rgb(0.0, 138.56128015770727, 250.76166088685738);stroke-width:2\" />  </svg></g><g transform=\"translate(-4,0)\">  <svg x=\"88.50541728531468%\" y=\"40\" height=\"18\" overflow=\"visible\" width=\"30\">    <path d=\"M 8 -9 l -6 18 L 8 25\" fill=\"none\" style=\"stroke:rgb(0.0, 138.56128015770727, 250.76166088685738);stroke-width:2\" />  </svg></g><g transform=\"translate(-8,0)\">  <svg x=\"89.99530350404527%\" y=\"40\" height=\"18\" overflow=\"visible\" width=\"30\">    <path d=\"M 8 -9 l -6 18 L 8 25\" fill=\"none\" style=\"stroke:rgb(0.0, 138.56128015770727, 250.76166088685738);stroke-width:2\" />  </svg></g><g transform=\"translate(-10,0)\">  <svg x=\"89.99530350404527%\" y=\"40\" height=\"18\" overflow=\"visible\" width=\"30\">    <path d=\"M 8 -9 l -6 18 L 8 25\" fill=\"none\" style=\"stroke:rgb(0.0, 138.56128015770727, 250.76166088685738);stroke-width:2\" />  </svg></g><g transform=\"translate(-12,0)\">  <svg x=\"89.99530350404527%\" y=\"40\" height=\"18\" overflow=\"visible\" width=\"30\">    <path d=\"M 8 -9 l -6 18 L 8 25\" fill=\"none\" style=\"stroke:rgb(0.0, 138.56128015770727, 250.76166088685738);stroke-width:2\" />  </svg></g><g transform=\"translate(-14,0)\">  <svg x=\"89.99530350404527%\" y=\"40\" height=\"18\" overflow=\"visible\" width=\"30\">    <path d=\"M 8 -9 l -6 18 L 8 25\" fill=\"none\" style=\"stroke:rgb(0.0, 138.56128015770727, 250.76166088685738);stroke-width:2\" />  </svg></g><g transform=\"translate(2,0)\">  <svg x=\"89.99530350404527%\" y=\"40\" height=\"18\" overflow=\"visible\" width=\"30\">    <path d=\"M 8 -9 l -6 18 L 8 25\" fill=\"none\" style=\"stroke:rgb(0.0, 138.56128015770727, 250.76166088685738);stroke-width:2\" />  </svg></g><g transform=\"translate(0,0)\">  <svg x=\"89.99530350404527%\" y=\"40\" height=\"18\" overflow=\"visible\" width=\"30\">    <path d=\"M 8 -9 l -6 18 L 8 25\" fill=\"none\" style=\"stroke:rgb(0.0, 138.56128015770727, 250.76166088685738);stroke-width:2\" />  </svg></g><g transform=\"translate(-2,0)\">  <svg x=\"89.99530350404527%\" y=\"40\" height=\"18\" overflow=\"visible\" width=\"30\">    <path d=\"M 8 -9 l -6 18 L 8 25\" fill=\"none\" style=\"stroke:rgb(0.0, 138.56128015770727, 250.76166088685738);stroke-width:2\" />  </svg></g><g transform=\"translate(-4,0)\">  <svg x=\"89.99530350404527%\" y=\"40\" height=\"18\" overflow=\"visible\" width=\"30\">    <path d=\"M 8 -9 l -6 18 L 8 25\" fill=\"none\" style=\"stroke:rgb(0.0, 138.56128015770727, 250.76166088685738);stroke-width:2\" />  </svg></g><g transform=\"translate(-8,0)\">  <svg x=\"90.82011895859262%\" y=\"40\" height=\"18\" overflow=\"visible\" width=\"30\">    <path d=\"M 8 -9 l -6 18 L 8 25\" fill=\"none\" style=\"stroke:rgb(0.0, 138.56128015770727, 250.76166088685738);stroke-width:2\" />  </svg></g><g transform=\"translate(-10,0)\">  <svg x=\"90.82011895859262%\" y=\"40\" height=\"18\" overflow=\"visible\" width=\"30\">    <path d=\"M 8 -9 l -6 18 L 8 25\" fill=\"none\" style=\"stroke:rgb(0.0, 138.56128015770727, 250.76166088685738);stroke-width:2\" />  </svg></g><g transform=\"translate(-12,0)\">  <svg x=\"90.82011895859262%\" y=\"40\" height=\"18\" overflow=\"visible\" width=\"30\">    <path d=\"M 8 -9 l -6 18 L 8 25\" fill=\"none\" style=\"stroke:rgb(0.0, 138.56128015770727, 250.76166088685738);stroke-width:2\" />  </svg></g><g transform=\"translate(-14,0)\">  <svg x=\"90.82011895859262%\" y=\"40\" height=\"18\" overflow=\"visible\" width=\"30\">    <path d=\"M 8 -9 l -6 18 L 8 25\" fill=\"none\" style=\"stroke:rgb(0.0, 138.56128015770727, 250.76166088685738);stroke-width:2\" />  </svg></g><g transform=\"translate(2,0)\">  <svg x=\"90.82011895859262%\" y=\"40\" height=\"18\" overflow=\"visible\" width=\"30\">    <path d=\"M 8 -9 l -6 18 L 8 25\" fill=\"none\" style=\"stroke:rgb(0.0, 138.56128015770727, 250.76166088685738);stroke-width:2\" />  </svg></g><g transform=\"translate(0,0)\">  <svg x=\"90.82011895859262%\" y=\"40\" height=\"18\" overflow=\"visible\" width=\"30\">    <path d=\"M 8 -9 l -6 18 L 8 25\" fill=\"none\" style=\"stroke:rgb(0.0, 138.56128015770727, 250.76166088685738);stroke-width:2\" />  </svg></g><g transform=\"translate(-2,0)\">  <svg x=\"90.82011895859262%\" y=\"40\" height=\"18\" overflow=\"visible\" width=\"30\">    <path d=\"M 8 -9 l -6 18 L 8 25\" fill=\"none\" style=\"stroke:rgb(0.0, 138.56128015770727, 250.76166088685738);stroke-width:2\" />  </svg></g><g transform=\"translate(-4,0)\">  <svg x=\"90.82011895859262%\" y=\"40\" height=\"18\" overflow=\"visible\" width=\"30\">    <path d=\"M 8 -9 l -6 18 L 8 25\" fill=\"none\" style=\"stroke:rgb(0.0, 138.56128015770727, 250.76166088685738);stroke-width:2\" />  </svg></g><g transform=\"translate(-8,0)\">  <svg x=\"91.2781018127301%\" y=\"40\" height=\"18\" overflow=\"visible\" width=\"30\">    <path d=\"M 8 -9 l -6 18 L 8 25\" fill=\"none\" style=\"stroke:rgb(0.0, 138.56128015770727, 250.76166088685738);stroke-width:2\" />  </svg></g><g transform=\"translate(-10,0)\">  <svg x=\"91.2781018127301%\" y=\"40\" height=\"18\" overflow=\"visible\" width=\"30\">    <path d=\"M 8 -9 l -6 18 L 8 25\" fill=\"none\" style=\"stroke:rgb(0.0, 138.56128015770727, 250.76166088685738);stroke-width:2\" />  </svg></g><g transform=\"translate(-12,0)\">  <svg x=\"91.2781018127301%\" y=\"40\" height=\"18\" overflow=\"visible\" width=\"30\">    <path d=\"M 8 -9 l -6 18 L 8 25\" fill=\"none\" style=\"stroke:rgb(0.0, 138.56128015770727, 250.76166088685738);stroke-width:2\" />  </svg></g><g transform=\"translate(-14,0)\">  <svg x=\"91.2781018127301%\" y=\"40\" height=\"18\" overflow=\"visible\" width=\"30\">    <path d=\"M 8 -9 l -6 18 L 8 25\" fill=\"none\" style=\"stroke:rgb(0.0, 138.56128015770727, 250.76166088685738);stroke-width:2\" />  </svg></g><g transform=\"translate(2,0)\">  <svg x=\"91.2781018127301%\" y=\"40\" height=\"18\" overflow=\"visible\" width=\"30\">    <path d=\"M 8 -9 l -6 18 L 8 25\" fill=\"none\" style=\"stroke:rgb(0.0, 138.56128015770727, 250.76166088685738);stroke-width:2\" />  </svg></g><g transform=\"translate(0,0)\">  <svg x=\"91.2781018127301%\" y=\"40\" height=\"18\" overflow=\"visible\" width=\"30\">    <path d=\"M 8 -9 l -6 18 L 8 25\" fill=\"none\" style=\"stroke:rgb(0.0, 138.56128015770727, 250.76166088685738);stroke-width:2\" />  </svg></g><g transform=\"translate(-2,0)\">  <svg x=\"91.2781018127301%\" y=\"40\" height=\"18\" overflow=\"visible\" width=\"30\">    <path d=\"M 8 -9 l -6 18 L 8 25\" fill=\"none\" style=\"stroke:rgb(0.0, 138.56128015770727, 250.76166088685738);stroke-width:2\" />  </svg></g><g transform=\"translate(-4,0)\">  <svg x=\"91.2781018127301%\" y=\"40\" height=\"18\" overflow=\"visible\" width=\"30\">    <path d=\"M 8 -9 l -6 18 L 8 25\" fill=\"none\" style=\"stroke:rgb(0.0, 138.56128015770727, 250.76166088685738);stroke-width:2\" />  </svg></g><rect transform=\"translate(0,0)\" x=\"59.763899413292194%\" y=\"40\" width=\"8\" height=\"18\" style=\"fill:rgb(0.0, 138.56128015770727, 250.76166088685738)\"/><g transform=\"translate(-6.0,0)\">  <svg x=\"91.5142896224901%\" y=\"40\" height=\"18\" overflow=\"visible\" width=\"30\">    <path d=\"M 8 -9 l -6 18 L 8 25 L 20 25 L 20 -9\" fill=\"#ffffff\" style=\"stroke:rgb(255,255,255);stroke-width:2\" />  </svg></g><g transform=\"translate(-6.0,0)\">  <svg x=\"69.24640844641799%\" y=\"40\" height=\"18\" overflow=\"visible\" width=\"30\">    <path d=\"M 8 -9 l -6 18 L 8 25\" fill=\"none\" style=\"stroke:rgb(208, 230, 250);stroke-width:2\" />  </svg></g><rect x=\"59.763899413292194%\" y=\"40\" height=\"20\" width=\"9.482509033125794%\"      onmouseover=\"document.getElementById('_tp_usieyiccwpusnzjovqwp_ind_1').style.textDecoration = 'underline';document.getElementById('_fs_usieyiccwpusnzjovqwp_ind_1').style.opacity = 1;document.getElementById('_fb_usieyiccwpusnzjovqwp_ind_1').style.opacity = 1;\"      onmouseout=\"document.getElementById('_tp_usieyiccwpusnzjovqwp_ind_1').style.textDecoration = 'none';document.getElementById('_fs_usieyiccwpusnzjovqwp_ind_1').style.opacity = 0;document.getElementById('_fb_usieyiccwpusnzjovqwp_ind_1').style.opacity = 0;\" style=\"fill:rgb(0,0,0,0)\" /><g transform=\"translate(-6.0,0)\">  <svg x=\"77.48481321406638%\" y=\"40\" height=\"18\" overflow=\"visible\" width=\"30\">    <path d=\"M 8 -9 l -6 18 L 8 25\" fill=\"none\" style=\"stroke:rgb(208, 230, 250);stroke-width:2\" />  </svg></g><rect x=\"69.24640844641799%\" y=\"40\" height=\"20\" width=\"8.23840476764839%\"      onmouseover=\"document.getElementById('_tp_usieyiccwpusnzjovqwp_ind_8').style.textDecoration = 'underline';document.getElementById('_fs_usieyiccwpusnzjovqwp_ind_8').style.opacity = 1;document.getElementById('_fb_usieyiccwpusnzjovqwp_ind_8').style.opacity = 1;\"      onmouseout=\"document.getElementById('_tp_usieyiccwpusnzjovqwp_ind_8').style.textDecoration = 'none';document.getElementById('_fs_usieyiccwpusnzjovqwp_ind_8').style.opacity = 0;document.getElementById('_fb_usieyiccwpusnzjovqwp_ind_8').style.opacity = 0;\" style=\"fill:rgb(0,0,0,0)\" /><g transform=\"translate(-6.0,0)\">  <svg x=\"85.55365406713055%\" y=\"40\" height=\"18\" overflow=\"visible\" width=\"30\">    <path d=\"M 8 -9 l -6 18 L 8 25\" fill=\"none\" style=\"stroke:rgb(208, 230, 250);stroke-width:2\" />  </svg></g><rect x=\"77.48481321406638%\" y=\"40\" height=\"20\" width=\"8.068840853064174%\"      onmouseover=\"document.getElementById('_tp_usieyiccwpusnzjovqwp_ind_5').style.textDecoration = 'underline';document.getElementById('_fs_usieyiccwpusnzjovqwp_ind_5').style.opacity = 1;document.getElementById('_fb_usieyiccwpusnzjovqwp_ind_5').style.opacity = 1;\"      onmouseout=\"document.getElementById('_tp_usieyiccwpusnzjovqwp_ind_5').style.textDecoration = 'none';document.getElementById('_fs_usieyiccwpusnzjovqwp_ind_5').style.opacity = 0;document.getElementById('_fb_usieyiccwpusnzjovqwp_ind_5').style.opacity = 0;\" style=\"fill:rgb(0,0,0,0)\" /><g transform=\"translate(-6.0,0)\">  <svg x=\"88.50541728531468%\" y=\"40\" height=\"18\" overflow=\"visible\" width=\"30\">    <path d=\"M 8 -9 l -6 18 L 8 25\" fill=\"none\" style=\"stroke:rgb(208, 230, 250);stroke-width:2\" />  </svg></g><rect x=\"85.55365406713055%\" y=\"40\" height=\"20\" width=\"2.9517632181841265%\"      onmouseover=\"document.getElementById('_tp_usieyiccwpusnzjovqwp_ind_10').style.textDecoration = 'underline';document.getElementById('_fs_usieyiccwpusnzjovqwp_ind_10').style.opacity = 1;document.getElementById('_fb_usieyiccwpusnzjovqwp_ind_10').style.opacity = 1;\"      onmouseout=\"document.getElementById('_tp_usieyiccwpusnzjovqwp_ind_10').style.textDecoration = 'none';document.getElementById('_fs_usieyiccwpusnzjovqwp_ind_10').style.opacity = 0;document.getElementById('_fb_usieyiccwpusnzjovqwp_ind_10').style.opacity = 0;\" style=\"fill:rgb(0,0,0,0)\" /><g transform=\"translate(-6.0,0)\">  <svg x=\"89.99530350404527%\" y=\"40\" height=\"18\" overflow=\"visible\" width=\"30\">    <path d=\"M 8 -9 l -6 18 L 8 25\" fill=\"none\" style=\"stroke:rgb(208, 230, 250);stroke-width:2\" />  </svg></g><rect x=\"88.50541728531468%\" y=\"40\" height=\"20\" width=\"1.4898862187305895%\"      onmouseover=\"document.getElementById('_tp_usieyiccwpusnzjovqwp_ind_6').style.textDecoration = 'underline';document.getElementById('_fs_usieyiccwpusnzjovqwp_ind_6').style.opacity = 1;document.getElementById('_fb_usieyiccwpusnzjovqwp_ind_6').style.opacity = 1;\"      onmouseout=\"document.getElementById('_tp_usieyiccwpusnzjovqwp_ind_6').style.textDecoration = 'none';document.getElementById('_fs_usieyiccwpusnzjovqwp_ind_6').style.opacity = 0;document.getElementById('_fb_usieyiccwpusnzjovqwp_ind_6').style.opacity = 0;\" style=\"fill:rgb(0,0,0,0)\" /><g transform=\"translate(-6.0,0)\">  <svg x=\"90.82011895859262%\" y=\"40\" height=\"18\" overflow=\"visible\" width=\"30\">    <path d=\"M 8 -9 l -6 18 L 8 25\" fill=\"none\" style=\"stroke:rgb(208, 230, 250);stroke-width:2\" />  </svg></g><rect x=\"89.99530350404527%\" y=\"40\" height=\"20\" width=\"0.8248154545473483%\"      onmouseover=\"document.getElementById('_tp_usieyiccwpusnzjovqwp_ind_2').style.textDecoration = 'underline';document.getElementById('_fs_usieyiccwpusnzjovqwp_ind_2').style.opacity = 1;document.getElementById('_fb_usieyiccwpusnzjovqwp_ind_2').style.opacity = 1;\"      onmouseout=\"document.getElementById('_tp_usieyiccwpusnzjovqwp_ind_2').style.textDecoration = 'none';document.getElementById('_fs_usieyiccwpusnzjovqwp_ind_2').style.opacity = 0;document.getElementById('_fb_usieyiccwpusnzjovqwp_ind_2').style.opacity = 0;\" style=\"fill:rgb(0,0,0,0)\" /><g transform=\"translate(-6.0,0)\">  <svg x=\"91.2781018127301%\" y=\"40\" height=\"18\" overflow=\"visible\" width=\"30\">    <path d=\"M 8 -9 l -6 18 L 8 25\" fill=\"none\" style=\"stroke:rgb(208, 230, 250);stroke-width:2\" />  </svg></g><rect x=\"90.82011895859262%\" y=\"40\" height=\"20\" width=\"0.45798285413748374%\"      onmouseover=\"document.getElementById('_tp_usieyiccwpusnzjovqwp_ind_11').style.textDecoration = 'underline';document.getElementById('_fs_usieyiccwpusnzjovqwp_ind_11').style.opacity = 1;document.getElementById('_fb_usieyiccwpusnzjovqwp_ind_11').style.opacity = 1;\"      onmouseout=\"document.getElementById('_tp_usieyiccwpusnzjovqwp_ind_11').style.textDecoration = 'none';document.getElementById('_fs_usieyiccwpusnzjovqwp_ind_11').style.opacity = 0;document.getElementById('_fb_usieyiccwpusnzjovqwp_ind_11').style.opacity = 0;\" style=\"fill:rgb(0,0,0,0)\" /><rect x=\"91.2781018127301%\" y=\"40\" height=\"20\" width=\"0.23618780975999698%\"      onmouseover=\"document.getElementById('_tp_usieyiccwpusnzjovqwp_ind_0').style.textDecoration = 'underline';document.getElementById('_fs_usieyiccwpusnzjovqwp_ind_0').style.opacity = 1;document.getElementById('_fb_usieyiccwpusnzjovqwp_ind_0').style.opacity = 1;\"      onmouseout=\"document.getElementById('_tp_usieyiccwpusnzjovqwp_ind_0').style.textDecoration = 'none';document.getElementById('_fs_usieyiccwpusnzjovqwp_ind_0').style.opacity = 0;document.getElementById('_fb_usieyiccwpusnzjovqwp_ind_0').style.opacity = 0;\" style=\"fill:rgb(0,0,0,0)\" /></svg><div align='center'><div style=\"color: rgb(120,120,120); font-size: 12px; margin-top: -15px;\">inputs</div><div style='display: inline; text-align: center;'\n",
       "    ><div style='display: none; color: #999; padding-top: 0px; font-size: 12px;'>-0.001</div\n",
       "        ><div id='_tp_usieyiccwpusnzjovqwp_ind_0'\n",
       "            style='display: inline; background: rgba(30.0, 136.0, 229.0, 0.006773618538324436); border-radius: 3px; padding: 0px'\n",
       "            onclick=\"\n",
       "            if (this.previousSibling.style.display == 'none') {\n",
       "                this.previousSibling.style.display = 'block';\n",
       "                this.parentNode.style.display = 'inline-block';\n",
       "            } else {\n",
       "                this.previousSibling.style.display = 'none';\n",
       "                this.parentNode.style.display = 'inline';\n",
       "            }\"\n",
       "            onmouseover=\"document.getElementById('_fb_usieyiccwpusnzjovqwp_ind_0').style.opacity = 1; document.getElementById('_fs_usieyiccwpusnzjovqwp_ind_0').style.opacity = 1;\"\n",
       "            onmouseout=\"document.getElementById('_fb_usieyiccwpusnzjovqwp_ind_0').style.opacity = 0; document.getElementById('_fs_usieyiccwpusnzjovqwp_ind_0').style.opacity = 0;\"\n",
       "        >Sehr</div></div><div style='display: inline; text-align: center;'\n",
       "    ><div style='display: none; color: #999; padding-top: 0px; font-size: 12px;'>-0.057</div\n",
       "        ><div id='_tp_usieyiccwpusnzjovqwp_ind_1'\n",
       "            style='display: inline; background: rgba(30.0, 136.0, 229.0, 0.3851455733808674); border-radius: 3px; padding: 0px'\n",
       "            onclick=\"\n",
       "            if (this.previousSibling.style.display == 'none') {\n",
       "                this.previousSibling.style.display = 'block';\n",
       "                this.parentNode.style.display = 'inline-block';\n",
       "            } else {\n",
       "                this.previousSibling.style.display = 'none';\n",
       "                this.parentNode.style.display = 'inline';\n",
       "            }\"\n",
       "            onmouseover=\"document.getElementById('_fb_usieyiccwpusnzjovqwp_ind_1').style.opacity = 1; document.getElementById('_fs_usieyiccwpusnzjovqwp_ind_1').style.opacity = 1;\"\n",
       "            onmouseout=\"document.getElementById('_fb_usieyiccwpusnzjovqwp_ind_1').style.opacity = 0; document.getElementById('_fs_usieyiccwpusnzjovqwp_ind_1').style.opacity = 0;\"\n",
       "        > sympathisch</div></div><div style='display: inline; text-align: center;'\n",
       "    ><div style='display: none; color: #999; padding-top: 0px; font-size: 12px;'>-0.005</div\n",
       "        ><div id='_tp_usieyiccwpusnzjovqwp_ind_2'\n",
       "            style='display: inline; background: rgba(30.0, 136.0, 229.0, 0.03042186571598325); border-radius: 3px; padding: 0px'\n",
       "            onclick=\"\n",
       "            if (this.previousSibling.style.display == 'none') {\n",
       "                this.previousSibling.style.display = 'block';\n",
       "                this.parentNode.style.display = 'inline-block';\n",
       "            } else {\n",
       "                this.previousSibling.style.display = 'none';\n",
       "                this.parentNode.style.display = 'inline';\n",
       "            }\"\n",
       "            onmouseover=\"document.getElementById('_fb_usieyiccwpusnzjovqwp_ind_2').style.opacity = 1; document.getElementById('_fs_usieyiccwpusnzjovqwp_ind_2').style.opacity = 1;\"\n",
       "            onmouseout=\"document.getElementById('_fb_usieyiccwpusnzjovqwp_ind_2').style.opacity = 0; document.getElementById('_fs_usieyiccwpusnzjovqwp_ind_2').style.opacity = 0;\"\n",
       "        > diese</div></div><div style='display: inline; text-align: center;'\n",
       "    ><div style='display: none; color: #999; padding-top: 0px; font-size: 12px;'>0.094</div\n",
       "        ><div id='_tp_usieyiccwpusnzjovqwp_ind_3'\n",
       "            style='display: inline; background: rgba(255.0, 13.0, 87.0, 0.6295107942166767); border-radius: 3px; padding: 0px'\n",
       "            onclick=\"\n",
       "            if (this.previousSibling.style.display == 'none') {\n",
       "                this.previousSibling.style.display = 'block';\n",
       "                this.parentNode.style.display = 'inline-block';\n",
       "            } else {\n",
       "                this.previousSibling.style.display = 'none';\n",
       "                this.parentNode.style.display = 'inline';\n",
       "            }\"\n",
       "            onmouseover=\"document.getElementById('_fb_usieyiccwpusnzjovqwp_ind_3').style.opacity = 1; document.getElementById('_fs_usieyiccwpusnzjovqwp_ind_3').style.opacity = 1;\"\n",
       "            onmouseout=\"document.getElementById('_fb_usieyiccwpusnzjovqwp_ind_3').style.opacity = 0; document.getElementById('_fs_usieyiccwpusnzjovqwp_ind_3').style.opacity = 0;\"\n",
       "        > Frau</div></div><div style='display: inline; text-align: center;'\n",
       "    ><div style='display: none; color: #999; padding-top: 0px; font-size: 12px;'>0.019</div\n",
       "        ><div id='_tp_usieyiccwpusnzjovqwp_ind_4'\n",
       "            style='display: inline; background: rgba(255.0, 13.0, 87.0, 0.12501485442661908); border-radius: 3px; padding: 0px'\n",
       "            onclick=\"\n",
       "            if (this.previousSibling.style.display == 'none') {\n",
       "                this.previousSibling.style.display = 'block';\n",
       "                this.parentNode.style.display = 'inline-block';\n",
       "            } else {\n",
       "                this.previousSibling.style.display = 'none';\n",
       "                this.parentNode.style.display = 'inline';\n",
       "            }\"\n",
       "            onmouseover=\"document.getElementById('_fb_usieyiccwpusnzjovqwp_ind_4').style.opacity = 1; document.getElementById('_fs_usieyiccwpusnzjovqwp_ind_4').style.opacity = 1;\"\n",
       "            onmouseout=\"document.getElementById('_fb_usieyiccwpusnzjovqwp_ind_4').style.opacity = 0; document.getElementById('_fs_usieyiccwpusnzjovqwp_ind_4').style.opacity = 0;\"\n",
       "        > und</div></div><div style='display: inline; text-align: center;'\n",
       "    ><div style='display: none; color: #999; padding-top: 0px; font-size: 12px;'>-0.048</div\n",
       "        ><div id='_tp_usieyiccwpusnzjovqwp_ind_5'\n",
       "            style='display: inline; background: rgba(30.0, 136.0, 229.0, 0.3220835809071103); border-radius: 3px; padding: 0px'\n",
       "            onclick=\"\n",
       "            if (this.previousSibling.style.display == 'none') {\n",
       "                this.previousSibling.style.display = 'block';\n",
       "                this.parentNode.style.display = 'inline-block';\n",
       "            } else {\n",
       "                this.previousSibling.style.display = 'none';\n",
       "                this.parentNode.style.display = 'inline';\n",
       "            }\"\n",
       "            onmouseover=\"document.getElementById('_fb_usieyiccwpusnzjovqwp_ind_5').style.opacity = 1; document.getElementById('_fs_usieyiccwpusnzjovqwp_ind_5').style.opacity = 1;\"\n",
       "            onmouseout=\"document.getElementById('_fb_usieyiccwpusnzjovqwp_ind_5').style.opacity = 0; document.getElementById('_fs_usieyiccwpusnzjovqwp_ind_5').style.opacity = 0;\"\n",
       "        > das</div></div><div style='display: inline; text-align: center;'\n",
       "    ><div style='display: none; color: #999; padding-top: 0px; font-size: 12px;'>-0.009</div\n",
       "        ><div id='_tp_usieyiccwpusnzjovqwp_ind_6'\n",
       "            style='display: inline; background: rgba(30.0, 136.0, 229.0, 0.05407011289364222); border-radius: 3px; padding: 0px'\n",
       "            onclick=\"\n",
       "            if (this.previousSibling.style.display == 'none') {\n",
       "                this.previousSibling.style.display = 'block';\n",
       "                this.parentNode.style.display = 'inline-block';\n",
       "            } else {\n",
       "                this.previousSibling.style.display = 'none';\n",
       "                this.parentNode.style.display = 'inline';\n",
       "            }\"\n",
       "            onmouseover=\"document.getElementById('_fb_usieyiccwpusnzjovqwp_ind_6').style.opacity = 1; document.getElementById('_fs_usieyiccwpusnzjovqwp_ind_6').style.opacity = 1;\"\n",
       "            onmouseout=\"document.getElementById('_fb_usieyiccwpusnzjovqwp_ind_6').style.opacity = 0; document.getElementById('_fs_usieyiccwpusnzjovqwp_ind_6').style.opacity = 0;\"\n",
       "        > sagt</div></div><div style='display: inline; text-align: center;'\n",
       "    ><div style='display: none; color: #999; padding-top: 0px; font-size: 12px;'>0.045</div\n",
       "        ><div id='_tp_usieyiccwpusnzjovqwp_ind_7'\n",
       "            style='display: inline; background: rgba(255.0, 13.0, 87.0, 0.29843533372945136); border-radius: 3px; padding: 0px'\n",
       "            onclick=\"\n",
       "            if (this.previousSibling.style.display == 'none') {\n",
       "                this.previousSibling.style.display = 'block';\n",
       "                this.parentNode.style.display = 'inline-block';\n",
       "            } else {\n",
       "                this.previousSibling.style.display = 'none';\n",
       "                this.parentNode.style.display = 'inline';\n",
       "            }\"\n",
       "            onmouseover=\"document.getElementById('_fb_usieyiccwpusnzjovqwp_ind_7').style.opacity = 1; document.getElementById('_fs_usieyiccwpusnzjovqwp_ind_7').style.opacity = 1;\"\n",
       "            onmouseout=\"document.getElementById('_fb_usieyiccwpusnzjovqwp_ind_7').style.opacity = 0; document.getElementById('_fs_usieyiccwpusnzjovqwp_ind_7').style.opacity = 0;\"\n",
       "        > hier</div></div><div style='display: inline; text-align: center;'\n",
       "    ><div style='display: none; color: #999; padding-top: 0px; font-size: 12px;'>-0.049</div\n",
       "        ><div id='_tp_usieyiccwpusnzjovqwp_ind_8'\n",
       "            style='display: inline; background: rgba(30.0, 136.0, 229.0, 0.3299663299663299); border-radius: 3px; padding: 0px'\n",
       "            onclick=\"\n",
       "            if (this.previousSibling.style.display == 'none') {\n",
       "                this.previousSibling.style.display = 'block';\n",
       "                this.parentNode.style.display = 'inline-block';\n",
       "            } else {\n",
       "                this.previousSibling.style.display = 'none';\n",
       "                this.parentNode.style.display = 'inline';\n",
       "            }\"\n",
       "            onmouseover=\"document.getElementById('_fb_usieyiccwpusnzjovqwp_ind_8').style.opacity = 1; document.getElementById('_fs_usieyiccwpusnzjovqwp_ind_8').style.opacity = 1;\"\n",
       "            onmouseout=\"document.getElementById('_fb_usieyiccwpusnzjovqwp_ind_8').style.opacity = 0; document.getElementById('_fs_usieyiccwpusnzjovqwp_ind_8').style.opacity = 0;\"\n",
       "        > ein </div></div><div style='display: inline; text-align: center;'\n",
       "    ><div style='display: none; color: #999; padding-top: 0px; font-size: 12px;'>0.15</div\n",
       "        ><div id='_tp_usieyiccwpusnzjovqwp_ind_9'\n",
       "            style='display: inline; background: rgba(255.0, 13.0, 87.0, 1.0); border-radius: 3px; padding: 0px'\n",
       "            onclick=\"\n",
       "            if (this.previousSibling.style.display == 'none') {\n",
       "                this.previousSibling.style.display = 'block';\n",
       "                this.parentNode.style.display = 'inline-block';\n",
       "            } else {\n",
       "                this.previousSibling.style.display = 'none';\n",
       "                this.parentNode.style.display = 'inline';\n",
       "            }\"\n",
       "            onmouseover=\"document.getElementById('_fb_usieyiccwpusnzjovqwp_ind_9').style.opacity = 1; document.getElementById('_fs_usieyiccwpusnzjovqwp_ind_9').style.opacity = 1;\"\n",
       "            onmouseout=\"document.getElementById('_fb_usieyiccwpusnzjovqwp_ind_9').style.opacity = 0; document.getElementById('_fs_usieyiccwpusnzjovqwp_ind_9').style.opacity = 0;\"\n",
       "        > Mann</div></div><div style='display: inline; text-align: center;'\n",
       "    ><div style='display: none; color: #999; padding-top: 0px; font-size: 12px;'>-0.018</div\n",
       "        ><div id='_tp_usieyiccwpusnzjovqwp_ind_10'\n",
       "            style='display: inline; background: rgba(30.0, 136.0, 229.0, 0.11713210536739943); border-radius: 3px; padding: 0px'\n",
       "            onclick=\"\n",
       "            if (this.previousSibling.style.display == 'none') {\n",
       "                this.previousSibling.style.display = 'block';\n",
       "                this.parentNode.style.display = 'inline-block';\n",
       "            } else {\n",
       "                this.previousSibling.style.display = 'none';\n",
       "                this.parentNode.style.display = 'inline';\n",
       "            }\"\n",
       "            onmouseover=\"document.getElementById('_fb_usieyiccwpusnzjovqwp_ind_10').style.opacity = 1; document.getElementById('_fs_usieyiccwpusnzjovqwp_ind_10').style.opacity = 1;\"\n",
       "            onmouseout=\"document.getElementById('_fb_usieyiccwpusnzjovqwp_ind_10').style.opacity = 0; document.getElementById('_fs_usieyiccwpusnzjovqwp_ind_10').style.opacity = 0;\"\n",
       "        > </div></div><div style='display: inline; text-align: center;'\n",
       "    ><div style='display: none; color: #999; padding-top: 0px; font-size: 12px;'>-0.003</div\n",
       "        ><div id='_tp_usieyiccwpusnzjovqwp_ind_11'\n",
       "            style='display: inline; background: rgba(30.0, 136.0, 229.0, 0.014656367597544028); border-radius: 3px; padding: 0px'\n",
       "            onclick=\"\n",
       "            if (this.previousSibling.style.display == 'none') {\n",
       "                this.previousSibling.style.display = 'block';\n",
       "                this.parentNode.style.display = 'inline-block';\n",
       "            } else {\n",
       "                this.previousSibling.style.display = 'none';\n",
       "                this.parentNode.style.display = 'inline';\n",
       "            }\"\n",
       "            onmouseover=\"document.getElementById('_fb_usieyiccwpusnzjovqwp_ind_11').style.opacity = 1; document.getElementById('_fs_usieyiccwpusnzjovqwp_ind_11').style.opacity = 1;\"\n",
       "            onmouseout=\"document.getElementById('_fb_usieyiccwpusnzjovqwp_ind_11').style.opacity = 0; document.getElementById('_fs_usieyiccwpusnzjovqwp_ind_11').style.opacity = 0;\"\n",
       "        ></div></div></div>"
      ],
      "text/plain": [
       "<IPython.core.display.HTML object>"
      ]
     },
     "metadata": {},
     "output_type": "display_data"
    }
   ],
   "source": [
    "shap.plots.text(shap_values[0])"
   ]
  },
  {
   "cell_type": "code",
   "execution_count": 32,
   "metadata": {},
   "outputs": [
    {
     "data": {
      "text/plain": [
       "array([[0.50282335, 0.49717662]], dtype=float32)"
      ]
     },
     "execution_count": 32,
     "metadata": {},
     "output_type": "execute_result"
    }
   ],
   "source": [
    "#TODO: remove \"Kurden\" (or other words which SHAP identifies as import) \n",
    "# from the comment and then see what score the model gives it :) \n",
    "import numpy as np\n",
    "\n",
    "txt = \"Ich stelle mal folgende Vermutung an so wie es auch bei Tätern hier immer dargestellt wird Einzeltäter verwirrt traumatisiert. Liebe über alles\"\n",
    "def score_text(txt):\n",
    "\n",
    "    input_ids = torch.tensor([tokenizer.encode(txt)])\n",
    "    pred = model(input_ids)[\"prediction\"].detach().numpy()\n",
    "    # print(pred)\n",
    "    scores = (np.exp(pred).T / np.exp(pred).sum(-1)).T\n",
    "    return scores\n",
    "score_text(txt)"
   ]
  },
  {
   "cell_type": "code",
   "execution_count": 54,
   "metadata": {},
   "outputs": [
    {
     "data": {
      "text/plain": [
       "array([[0.5951737 , 0.40482628]], dtype=float32)"
      ]
     },
     "execution_count": 54,
     "metadata": {},
     "output_type": "execute_result"
    }
   ],
   "source": [
    "score_text(\"Ich liebe die Umwelt und mein Leben ist sehr schoen Diese Artikel wurde sehr gut geschrieben danke Mann\" + \"Liebe alles\" * 100)"
   ]
  },
  {
   "cell_type": "code",
   "execution_count": null,
   "metadata": {},
   "outputs": [],
   "source": [
    "score_text(\"ich liebe dich\")"
   ]
  },
  {
   "cell_type": "code",
   "execution_count": 58,
   "metadata": {},
   "outputs": [
    {
     "data": {
      "text/plain": [
       "array([[0.6666064, 0.3333936]], dtype=float32)"
      ]
     },
     "execution_count": 58,
     "metadata": {},
     "output_type": "execute_result"
    }
   ],
   "source": [
    "score_text(\"Ich liebe Katzen \"*100)\n",
    "# hello??? this can't be right :("
   ]
  },
  {
   "cell_type": "code",
   "execution_count": 59,
   "metadata": {},
   "outputs": [
    {
     "data": {
      "text/plain": [
       "0.3873578"
      ]
     },
     "execution_count": 59,
     "metadata": {},
     "output_type": "execute_result"
    }
   ],
   "source": [
    "true_negatives = np.load(\"./true_neg/RP-Mod-true-neg.npy\")\n",
    "sum([score_text(true_negatives[i])[0][1] >= 0.5 for i in range(len(true_negatives))])/len(true_negatives)\n",
    "# score_text(true_negatives[6])"
   ]
  },
  {
   "cell_type": "code",
   "execution_count": 63,
   "metadata": {},
   "outputs": [
    {
     "data": {
      "text/plain": [
       "'classification: Weil das Land damit einen einstelligen Milliardenbetrag an Subventionen spart '"
      ]
     },
     "execution_count": 63,
     "metadata": {},
     "output_type": "execute_result"
    }
   ],
   "source": [
    "true_negatives[7]"
   ]
  },
  {
   "cell_type": "code",
   "execution_count": 24,
   "metadata": {},
   "outputs": [
    {
     "data": {
      "text/plain": [
       "array([0.22180541], dtype=float32)"
      ]
     },
     "execution_count": 24,
     "metadata": {},
     "output_type": "execute_result"
    }
   ],
   "source": [
    "f(false_pos[1:2])"
   ]
  },
  {
   "cell_type": "code",
   "execution_count": 23,
   "metadata": {},
   "outputs": [
    {
     "data": {
      "text/plain": [
       "memmap(['classification Sehr sympathisch diese Frau und das sagt hier ein  Mann ',\n",
       "        'classification Kein Artikel wert',\n",
       "        'classification Na ja Wenigstens hat sie diesmal nicht Deutschland verbrüht Schonmal eine Entwicklungsstufe weiter',\n",
       "        'classification Hallo nehmt doch die Rocker aus Erkrath Unterfeldhaus Die Jungens sind froh über eine solche Arbeit Wer sich nicht benimmt der fliegt und zwar raus',\n",
       "        'classification Wildtiere haben im Zirkus nichts verloren   Inkompetente haben in der Politik nichts zu suchen ',\n",
       "        'classification Ich stelle mal folgende Vermutung an so wie es auch bei Tätern mit Migrationshintergrund hier immer dargestellt wirdEinzeltäter verwirrt traumatisiert hat nix mit den Rechtsextremen zu tun',\n",
       "        'classification Ich freue mich zu wissen das Deutschland in Brüssel von einer vertreten wird die Islamwissenschaft und Turkologie studiert hat  Sehr hilfreich für die vielen neuen Gäste Ska wird ganz ganz viel Verständnis für die Fachkräfte haben  Wie weltfremd muß man sein so etwas zu wählen  Allerdings immer noch gebildeter als die ganzen Studienabbrecher der Grünen wie CR und KGE ',\n",
       "        'classification Warum wird nicht berichtet wofür die Kurden demonstrieren Doch nicht für eine Menschenkette vom Hbf bis zum Landtag Ich brauche mehr Details ',\n",
       "        'classification schon wiederund das ist dann der gute journalismus der geld kostet',\n",
       "        'classification Vor 2015 keine Daten Wo kommt das Virus her'],\n",
       "       dtype='<U500')"
      ]
     },
     "execution_count": 23,
     "metadata": {},
     "output_type": "execute_result"
    }
   ],
   "source": [
    "false_pos[:10]"
   ]
  },
  {
   "cell_type": "code",
   "execution_count": 15,
   "metadata": {},
   "outputs": [
    {
     "data": {
      "text/plain": [
       "memmap(['classification Sehr sympathisch diese Frau und das sagt hier ein  Mann ',\n",
       "        'classification Kein Artikel wert',\n",
       "        'classification Na ja Wenigstens hat sie diesmal nicht Deutschland verbrüht Schonmal eine Entwicklungsstufe weiter',\n",
       "        'classification Hallo nehmt doch die Rocker aus Erkrath Unterfeldhaus Die Jungens sind froh über eine solche Arbeit Wer sich nicht benimmt der fliegt und zwar raus',\n",
       "        'classification Wildtiere haben im Zirkus nichts verloren   Inkompetente haben in der Politik nichts zu suchen ',\n",
       "        'classification Ich stelle mal folgende Vermutung an so wie es auch bei Tätern mit Migrationshintergrund hier immer dargestellt wirdEinzeltäter verwirrt traumatisiert hat nix mit den Rechtsextremen zu tun',\n",
       "        'classification Ich freue mich zu wissen das Deutschland in Brüssel von einer vertreten wird die Islamwissenschaft und Turkologie studiert hat  Sehr hilfreich für die vielen neuen Gäste Ska wird ganz ganz viel Verständnis für die Fachkräfte haben  Wie weltfremd muß man sein so etwas zu wählen  Allerdings immer noch gebildeter als die ganzen Studienabbrecher der Grünen wie CR und KGE ',\n",
       "        'classification Warum wird nicht berichtet wofür die Kurden demonstrieren Doch nicht für eine Menschenkette vom Hbf bis zum Landtag Ich brauche mehr Details ',\n",
       "        'classification schon wiederund das ist dann der gute journalismus der geld kostet',\n",
       "        'classification Vor 2015 keine Daten Wo kommt das Virus her'],\n",
       "       dtype='<U500')"
      ]
     },
     "execution_count": 15,
     "metadata": {},
     "output_type": "execute_result"
    }
   ],
   "source": [
    "false_pos[:10]"
   ]
  },
  {
   "cell_type": "code",
   "execution_count": null,
   "metadata": {},
   "outputs": [],
   "source": []
  },
  {
   "cell_type": "code",
   "execution_count": 25,
   "metadata": {},
   "outputs": [
    {
     "name": "stdout",
     "output_type": "stream",
     "text": [
      "0.7419354838709677\n"
     ]
    }
   ],
   "source": [
    "from sklearn import metrics\n",
    "val_dataloader = DataLoader(valid_dataset, batch_size=64)\n",
    "\n",
    "# for batch in val_dataloader:\n",
    "batch = next(iter(val_dataloader))\n",
    "labels = batch[\"target_ids\"]\n",
    "outs = new_model.model.generate(input_ids=batch[\"source_ids\"], \n",
    "                            attention_mask=batch[\"source_mask\"], \n",
    "                            max_length=2)\n",
    "\n",
    "dec = [tokenizer.decode(ids) for ids in outs]\n",
    "target = [tokenizer.decode(label) for label in labels]\n",
    "\n",
    "new_outputs = [s[6:] for s in dec]\n",
    "new_targets = [s[:-4] for s in target]\n",
    "\n",
    "f1 = metrics.f1_score(new_targets, new_outputs, pos_label=\"problematisch\")\n",
    "print(f1)"
   ]
  }
 ],
 "metadata": {
  "kernelspec": {
   "display_name": "Python 3 (ipykernel)",
   "language": "python",
   "name": "python3"
  },
  "language_info": {
   "codemirror_mode": {
    "name": "ipython",
    "version": 3
   },
   "file_extension": ".py",
   "mimetype": "text/x-python",
   "name": "python",
   "nbconvert_exporter": "python",
   "pygments_lexer": "ipython3",
   "version": "3.9.10"
  },
  "orig_nbformat": 4
 },
 "nbformat": 4,
 "nbformat_minor": 2
}

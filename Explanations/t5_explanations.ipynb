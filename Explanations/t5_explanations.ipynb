{
 "cells": [
  {
   "cell_type": "code",
   "execution_count": 1,
   "metadata": {},
   "outputs": [
    {
     "name": "stdout",
     "output_type": "stream",
     "text": [
      "\u001b[0m\u001b[01;34mDatasets\u001b[0m/                                 \u001b[01;34mnltk_data\u001b[0m/\n",
      "\u001b[01;34mGermanT5-RP-Mod\u001b[0m/                          \u001b[01;34mray_results\u001b[0m/\n",
      "\u001b[01;34mRP-Mod\u001b[0m/                                   \u001b[01;34mresults\u001b[0m/\n",
      "\u001b[01;34mRP-Mod-GermanT5-oscar-german-small-el32\u001b[0m/  \u001b[01;34mt5_base_imdb_sentiment\u001b[0m/\n",
      "T5FineTuner.py                            \u001b[01;34mt5_german_small_rp_mod\u001b[0m/\n",
      "\u001b[01;34maclImdb\u001b[0m/                                  \u001b[01;34mt5_german_small_rp_mod_2\u001b[0m/\n",
      "aclImdb_v1.tar.gz                         \u001b[01;34mt5_german_small_rp_mod_3\u001b[0m/\n",
      "\u001b[01;34marguments_test_dir\u001b[0m/                       \u001b[01;34mt5_imdb_sentiment\u001b[0m/\n",
      "create_t5_embeddings.ipynb                \u001b[01;34mwandb\u001b[0m/\n",
      "\u001b[01;34mlightning_logs\u001b[0m/\n"
     ]
    }
   ],
   "source": [
    "%ls"
   ]
  },
  {
   "cell_type": "code",
   "execution_count": 1,
   "metadata": {},
   "outputs": [
    {
     "name": "stderr",
     "output_type": "stream",
     "text": [
      "[nltk_data] Downloading package punkt to /home/dobby/nltk_data...\n",
      "[nltk_data]   Package punkt is already up-to-date!\n",
      "/usr/lib/python3/dist-packages/requests/__init__.py:89: RequestsDependencyWarning: urllib3 (1.26.9) or chardet (3.0.4) doesn't match a supported version!\n",
      "  warnings.warn(\"urllib3 ({}) or chardet ({}) doesn't match a supported \"\n",
      "[nltk_data] Downloading package punkt to /home/dobby/nltk_data...\n",
      "[nltk_data]   Package punkt is already up-to-date!\n"
     ]
    }
   ],
   "source": [
    "from T5FineTuner import T5FineTuner, RPDataset\n",
    "from utils import get_folds\n",
    "import torch\n",
    "import argparse\n",
    "from transformers import T5Tokenizer\n",
    "from torch.utils.data import Dataset, DataLoader\n",
    "\n",
    "DATASET = \"RP-Crowd-3\"\n",
    "MODEL_NAME_OR_PATH = \"GermanT5/t5-efficient-oscar-german-small-el32\"\n",
    "WANDB_PROJECT_NAME = \"rp-crowd-3-folds-t5-efficient-small-el32\"\n",
    "OUTPUT_DIR = \"./GermanT5-RP-Mod/t5-efficient-oscar-german-small-el32/\"\n",
    "SOURCE = f\"./Datasets/{DATASET}-folds.csv\"\n",
    "\n",
    "tokenizer = T5Tokenizer.from_pretrained(MODEL_NAME_OR_PATH)\n",
    "checkpoint_path = \"./GermanT5-RP-Mod/t5-efficient-oscar-german-small-el32/lr-0.0004-wd-0.1/epoch=3-val_accuracy=0.74-val_loss=0.28.ckpt\"\n",
    "train_inputs, train_targets, val_inputs, val_targets = get_folds(SOURCE)\n",
    "\n",
    "train_dataset = RPDataset(tokenizer, train_inputs, train_targets)\n",
    "valid_dataset = RPDataset(tokenizer, val_inputs, val_targets)\n",
    "\n",
    "checkpoint = torch.load(checkpoint_path)\n",
    "hparams = checkpoint[\"hyper_parameters\"]\n",
    "hparams[\"train_dataset\"] = train_dataset\n",
    "hparams[\"val_dataset\"] = valid_dataset\n",
    "new_args = argparse.Namespace(**hparams)\n",
    "\n",
    "new_model = T5FineTuner.load_from_checkpoint(checkpoint_path, hparams=new_args)\n"
   ]
  },
  {
   "cell_type": "markdown",
   "metadata": {},
   "source": [
    "### Load checkpoint of Encoder Only Model"
   ]
  },
  {
   "cell_type": "code",
   "execution_count": 2,
   "metadata": {},
   "outputs": [
    {
     "name": "stderr",
     "output_type": "stream",
     "text": [
      "Some weights of the model checkpoint at GermanT5/t5-efficient-oscar-german-small-el32 were not used when initializing T5EncoderModel: ['decoder.block.0.layer.2.layer_norm.weight', 'decoder.block.2.layer.1.EncDecAttention.v.weight', 'decoder.block.1.layer.1.EncDecAttention.o.weight', 'decoder.embed_tokens.weight', 'decoder.block.3.layer.2.DenseReluDense.wi.weight', 'decoder.block.2.layer.2.layer_norm.weight', 'decoder.block.2.layer.0.SelfAttention.q.weight', 'decoder.block.1.layer.0.SelfAttention.v.weight', 'decoder.block.0.layer.1.EncDecAttention.k.weight', 'decoder.block.0.layer.1.EncDecAttention.o.weight', 'decoder.block.0.layer.2.DenseReluDense.wi.weight', 'decoder.block.3.layer.1.EncDecAttention.q.weight', 'decoder.block.0.layer.0.SelfAttention.q.weight', 'decoder.block.5.layer.0.SelfAttention.q.weight', 'decoder.block.2.layer.0.layer_norm.weight', 'decoder.block.5.layer.1.EncDecAttention.o.weight', 'lm_head.weight', 'decoder.block.3.layer.0.layer_norm.weight', 'decoder.block.4.layer.0.layer_norm.weight', 'decoder.block.0.layer.0.SelfAttention.relative_attention_bias.weight', 'decoder.block.1.layer.0.SelfAttention.o.weight', 'decoder.block.3.layer.0.SelfAttention.q.weight', 'decoder.block.3.layer.0.SelfAttention.v.weight', 'decoder.block.5.layer.1.EncDecAttention.q.weight', 'decoder.block.1.layer.1.layer_norm.weight', 'decoder.block.0.layer.0.SelfAttention.v.weight', 'decoder.block.0.layer.0.SelfAttention.k.weight', 'decoder.block.4.layer.0.SelfAttention.v.weight', 'decoder.block.1.layer.0.SelfAttention.k.weight', 'decoder.block.1.layer.0.SelfAttention.q.weight', 'decoder.block.3.layer.2.layer_norm.weight', 'decoder.block.5.layer.0.SelfAttention.o.weight', 'decoder.block.4.layer.2.layer_norm.weight', 'decoder.block.5.layer.1.EncDecAttention.v.weight', 'decoder.block.3.layer.1.layer_norm.weight', 'decoder.block.1.layer.0.layer_norm.weight', 'decoder.block.2.layer.1.layer_norm.weight', 'decoder.block.0.layer.0.layer_norm.weight', 'decoder.block.1.layer.2.DenseReluDense.wo.weight', 'decoder.block.2.layer.0.SelfAttention.k.weight', 'decoder.block.4.layer.0.SelfAttention.k.weight', 'decoder.block.3.layer.0.SelfAttention.o.weight', 'decoder.block.5.layer.0.SelfAttention.k.weight', 'decoder.block.2.layer.1.EncDecAttention.k.weight', 'decoder.block.2.layer.1.EncDecAttention.q.weight', 'decoder.block.0.layer.2.DenseReluDense.wo.weight', 'decoder.block.4.layer.0.SelfAttention.q.weight', 'decoder.block.5.layer.2.DenseReluDense.wo.weight', 'decoder.block.0.layer.1.EncDecAttention.q.weight', 'decoder.block.1.layer.1.EncDecAttention.q.weight', 'decoder.block.4.layer.2.DenseReluDense.wi.weight', 'decoder.block.5.layer.2.layer_norm.weight', 'decoder.block.4.layer.1.EncDecAttention.q.weight', 'decoder.block.0.layer.1.layer_norm.weight', 'decoder.block.1.layer.2.DenseReluDense.wi.weight', 'decoder.block.2.layer.0.SelfAttention.o.weight', 'decoder.block.3.layer.1.EncDecAttention.o.weight', 'decoder.block.4.layer.2.DenseReluDense.wo.weight', 'decoder.block.3.layer.1.EncDecAttention.v.weight', 'decoder.block.0.layer.0.SelfAttention.o.weight', 'decoder.block.4.layer.1.EncDecAttention.k.weight', 'decoder.block.3.layer.0.SelfAttention.k.weight', 'decoder.block.2.layer.0.SelfAttention.v.weight', 'decoder.block.2.layer.2.DenseReluDense.wo.weight', 'decoder.final_layer_norm.weight', 'decoder.block.1.layer.2.layer_norm.weight', 'decoder.block.5.layer.1.layer_norm.weight', 'decoder.block.3.layer.2.DenseReluDense.wo.weight', 'decoder.block.5.layer.1.EncDecAttention.k.weight', 'decoder.block.2.layer.1.EncDecAttention.o.weight', 'decoder.block.1.layer.1.EncDecAttention.v.weight', 'decoder.block.5.layer.0.layer_norm.weight', 'decoder.block.4.layer.1.EncDecAttention.v.weight', 'decoder.block.4.layer.0.SelfAttention.o.weight', 'decoder.block.5.layer.2.DenseReluDense.wi.weight', 'decoder.block.2.layer.2.DenseReluDense.wi.weight', 'decoder.block.4.layer.1.EncDecAttention.o.weight', 'decoder.block.5.layer.0.SelfAttention.v.weight', 'decoder.block.4.layer.1.layer_norm.weight', 'decoder.block.3.layer.1.EncDecAttention.k.weight', 'decoder.block.0.layer.1.EncDecAttention.v.weight', 'decoder.block.1.layer.1.EncDecAttention.k.weight']\n",
      "- This IS expected if you are initializing T5EncoderModel from the checkpoint of a model trained on another task or with another architecture (e.g. initializing a BertForSequenceClassification model from a BertForPreTraining model).\n",
      "- This IS NOT expected if you are initializing T5EncoderModel from the checkpoint of a model that you expect to be exactly identical (initializing a BertForSequenceClassification model from a BertForSequenceClassification model).\n"
     ]
    }
   ],
   "source": [
    "from classification_classes import Enc1T5, RPClassificationDataset, load_dataset\n",
    "import torch\n",
    "import argparse\n",
    "from transformers import AutoTokenizer\n",
    "from torch.utils.data import Dataset, DataLoader\n",
    "\n",
    "DATASET = \"RP-Crowd-2\"\n",
    "MODEL_NAME_OR_PATH = \"GermanT5/t5-efficient-oscar-german-small-el32\"\n",
    "source = f\"./Datasets/{DATASET}-folds.csv\"\n",
    "\n",
    "# tokenizer = AutoTokenizer.from_pretrained()\n",
    "# train_dataset, valid_dataset = load_dataset(source)\n",
    "\n",
    "checkpoint_path = \"/home/dobby/bestmodels/enc1t5/epoch=3-val_accuracy=0.85.ckpt\"                 \n",
    "checkpoint = torch.load(checkpoint_path)\n",
    "hparams = checkpoint[\"hyper_parameters\"]\n",
    "# hparams[\"train_dataset\"] = train_dataset\n",
    "# hparams[\"val_dataset\"] = valid_dataset\n",
    "new_args = argparse.Namespace(**hparams)\n",
    "\n",
    "# now I am confused... what do I do here??\n",
    "model = Enc1T5.load_from_checkpoint(checkpoint_path, hparams=new_args)"
   ]
  },
  {
   "cell_type": "markdown",
   "metadata": {},
   "source": [
    "### Get False Positives"
   ]
  },
  {
   "cell_type": "code",
   "execution_count": null,
   "metadata": {},
   "outputs": [],
   "source": [
    "# apply the model to the entire validation dataset\n"
   ]
  },
  {
   "cell_type": "code",
   "execution_count": 19,
   "metadata": {},
   "outputs": [
    {
     "data": {
      "application/vnd.jupyter.widget-view+json": {
       "model_id": "f973cfc58d7143e19a15d169300a732b",
       "version_major": 2,
       "version_minor": 0
      },
      "text/plain": [
       "  0%|          | 0/498 [00:00<?, ?it/s]"
      ]
     },
     "metadata": {},
     "output_type": "display_data"
    },
    {
     "name": "stderr",
     "output_type": "stream",
     "text": [
      "Partition explainer:  13%|█▎        | 5/39 [00:20<00:30,  1.10it/s]"
     ]
    },
    {
     "data": {
      "application/vnd.jupyter.widget-view+json": {
       "model_id": "9c06ed9bbb544d20bb033197da73e8d3",
       "version_major": 2,
       "version_minor": 0
      },
      "text/plain": [
       "  0%|          | 0/498 [00:00<?, ?it/s]"
      ]
     },
     "metadata": {},
     "output_type": "display_data"
    },
    {
     "name": "stderr",
     "output_type": "stream",
     "text": [
      "Partition explainer:  18%|█▊        | 7/39 [00:36<02:36,  4.90s/it]"
     ]
    },
    {
     "data": {
      "application/vnd.jupyter.widget-view+json": {
       "model_id": "a2eb7ecaf3b141988f4bc862bfcaa6b5",
       "version_major": 2,
       "version_minor": 0
      },
      "text/plain": [
       "  0%|          | 0/498 [00:00<?, ?it/s]"
      ]
     },
     "metadata": {},
     "output_type": "display_data"
    },
    {
     "name": "stderr",
     "output_type": "stream",
     "text": [
      "Partition explainer:  28%|██▊       | 11/39 [00:57<01:52,  4.03s/it]"
     ]
    },
    {
     "data": {
      "application/vnd.jupyter.widget-view+json": {
       "model_id": "88054f577aa141d99cd2ccc08a291679",
       "version_major": 2,
       "version_minor": 0
      },
      "text/plain": [
       "  0%|          | 0/498 [00:00<?, ?it/s]"
      ]
     },
     "metadata": {},
     "output_type": "display_data"
    },
    {
     "name": "stderr",
     "output_type": "stream",
     "text": [
      "Partition explainer:  38%|███▊      | 15/39 [01:15<01:46,  4.43s/it]"
     ]
    },
    {
     "data": {
      "application/vnd.jupyter.widget-view+json": {
       "model_id": "ae54ed8ca4154cf593a89c313dd23eda",
       "version_major": 2,
       "version_minor": 0
      },
      "text/plain": [
       "  0%|          | 0/498 [00:00<?, ?it/s]"
      ]
     },
     "metadata": {},
     "output_type": "display_data"
    },
    {
     "name": "stderr",
     "output_type": "stream",
     "text": [
      "Partition explainer:  41%|████      | 16/39 [01:32<03:07,  8.17s/it]"
     ]
    },
    {
     "data": {
      "application/vnd.jupyter.widget-view+json": {
       "model_id": "7bca03de3d6844deb7181e12c1d673e6",
       "version_major": 2,
       "version_minor": 0
      },
      "text/plain": [
       "  0%|          | 0/498 [00:00<?, ?it/s]"
      ]
     },
     "metadata": {},
     "output_type": "display_data"
    },
    {
     "name": "stderr",
     "output_type": "stream",
     "text": [
      "Partition explainer:  49%|████▊     | 19/39 [01:45<01:42,  5.11s/it]"
     ]
    },
    {
     "data": {
      "application/vnd.jupyter.widget-view+json": {
       "model_id": "f6e21ad586924f378cbc1c2723b698ab",
       "version_major": 2,
       "version_minor": 0
      },
      "text/plain": [
       "  0%|          | 0/498 [00:00<?, ?it/s]"
      ]
     },
     "metadata": {},
     "output_type": "display_data"
    },
    {
     "name": "stderr",
     "output_type": "stream",
     "text": [
      "Partition explainer:  54%|█████▍    | 21/39 [01:58<01:37,  5.42s/it]"
     ]
    },
    {
     "data": {
      "application/vnd.jupyter.widget-view+json": {
       "model_id": "d42c4786638d42639379f0414df0fb57",
       "version_major": 2,
       "version_minor": 0
      },
      "text/plain": [
       "  0%|          | 0/498 [00:00<?, ?it/s]"
      ]
     },
     "metadata": {},
     "output_type": "display_data"
    },
    {
     "name": "stderr",
     "output_type": "stream",
     "text": [
      "Partition explainer:  56%|█████▋    | 22/39 [02:18<02:46,  9.76s/it]"
     ]
    },
    {
     "data": {
      "application/vnd.jupyter.widget-view+json": {
       "model_id": "d4a6acaca8bb4545a424f37f2693e63b",
       "version_major": 2,
       "version_minor": 0
      },
      "text/plain": [
       "  0%|          | 0/498 [00:00<?, ?it/s]"
      ]
     },
     "metadata": {},
     "output_type": "display_data"
    },
    {
     "name": "stderr",
     "output_type": "stream",
     "text": [
      "Partition explainer:  72%|███████▏  | 28/39 [02:34<00:33,  3.02s/it]"
     ]
    },
    {
     "data": {
      "application/vnd.jupyter.widget-view+json": {
       "model_id": "f087776919cf4e42b6ca1e155279ba43",
       "version_major": 2,
       "version_minor": 0
      },
      "text/plain": [
       "  0%|          | 0/498 [00:00<?, ?it/s]"
      ]
     },
     "metadata": {},
     "output_type": "display_data"
    },
    {
     "name": "stderr",
     "output_type": "stream",
     "text": [
      "Partition explainer:  79%|███████▉  | 31/39 [02:55<00:36,  4.52s/it]"
     ]
    },
    {
     "data": {
      "application/vnd.jupyter.widget-view+json": {
       "model_id": "bafa460b467e4221a6caa3513a390826",
       "version_major": 2,
       "version_minor": 0
      },
      "text/plain": [
       "  0%|          | 0/498 [00:00<?, ?it/s]"
      ]
     },
     "metadata": {},
     "output_type": "display_data"
    },
    {
     "name": "stderr",
     "output_type": "stream",
     "text": [
      "Partition explainer:  82%|████████▏ | 32/39 [03:07<00:48,  6.89s/it]"
     ]
    },
    {
     "data": {
      "application/vnd.jupyter.widget-view+json": {
       "model_id": "c7f262df85c0411bbb4371bf6ab7b38b",
       "version_major": 2,
       "version_minor": 0
      },
      "text/plain": [
       "  0%|          | 0/498 [00:00<?, ?it/s]"
      ]
     },
     "metadata": {},
     "output_type": "display_data"
    },
    {
     "name": "stderr",
     "output_type": "stream",
     "text": [
      "Partition explainer:  85%|████████▍ | 33/39 [03:13<00:39,  6.53s/it]"
     ]
    },
    {
     "data": {
      "application/vnd.jupyter.widget-view+json": {
       "model_id": "85c5542d50d74e0fbccb0550a13c75e9",
       "version_major": 2,
       "version_minor": 0
      },
      "text/plain": [
       "  0%|          | 0/498 [00:00<?, ?it/s]"
      ]
     },
     "metadata": {},
     "output_type": "display_data"
    },
    {
     "name": "stderr",
     "output_type": "stream",
     "text": [
      "Partition explainer:  87%|████████▋ | 34/39 [03:25<00:41,  8.23s/it]"
     ]
    },
    {
     "data": {
      "application/vnd.jupyter.widget-view+json": {
       "model_id": "880455cd356d47b6bf1ae84f9ab6011d",
       "version_major": 2,
       "version_minor": 0
      },
      "text/plain": [
       "  0%|          | 0/498 [00:00<?, ?it/s]"
      ]
     },
     "metadata": {},
     "output_type": "display_data"
    },
    {
     "name": "stderr",
     "output_type": "stream",
     "text": [
      "Partition explainer:  90%|████████▉ | 35/39 [03:41<00:41, 10.44s/it]"
     ]
    },
    {
     "data": {
      "application/vnd.jupyter.widget-view+json": {
       "model_id": "7d856efc2333469786c0c0612f609eef",
       "version_major": 2,
       "version_minor": 0
      },
      "text/plain": [
       "  0%|          | 0/498 [00:00<?, ?it/s]"
      ]
     },
     "metadata": {},
     "output_type": "display_data"
    },
    {
     "name": "stderr",
     "output_type": "stream",
     "text": [
      "Partition explainer: 40it [04:00,  6.49s/it]                        \n"
     ]
    }
   ],
   "source": [
    "import numpy as np\n",
    "import scipy as sp\n",
    "import shap\n",
    "\n",
    "tokenizer = AutoTokenizer.from_pretrained(MODEL_NAME_OR_PATH)\n",
    "\n",
    "# define a score function\n",
    "def f(x):\n",
    "    \"\"\"A function which takes a list of examples, x and returns a list of scores, val\"\"\"\n",
    "    # print(len(x))\n",
    "    # print(x)\n",
    "    batch = tokenizer.batch_encode_plus(\n",
    "        list(x), max_length=512, padding=True, truncation=True, return_tensors=\"pt\"\n",
    "    )\n",
    "    outputs = model(batch[\"input_ids\"], batch[\"attention_mask\"])[\"prediction\"].detach().numpy()\n",
    "    # print(tv)\n",
    "    # print(outputs)\n",
    "    # apply softmax to each row??\n",
    "    scores = (np.exp(outputs).T / np.exp(outputs).sum(-1)).T\n",
    "    # print(scores)\n",
    "    val = scores[:,1] # use one vs rest logit units\n",
    "    # print(val)\n",
    "    # val needs to be a list of the score\n",
    "    return val\n",
    "\n",
    "false_pos = np.load(\"./false_pos/RP-Mod-false-pos.csv.npy\", mmap_mode=\"r\")\n",
    "false_pos = [s[15:] for s in false_pos]\n",
    "# f(list(false_pos[:10]))\n",
    "\n",
    "explainer = shap.Explainer(f, tokenizer)\n",
    "\n",
    "\n",
    "# shap_values = explainer(false_pos[:10], batch_size=8)\n",
    "shap_values = explainer(false_pos[100:], fixed_context=1, batch_size=8)"
   ]
  },
  {
   "cell_type": "code",
   "execution_count": 23,
   "metadata": {},
   "outputs": [
    {
     "data": {
      "text/html": [
       "<svg width=\"100%\" height=\"80px\"><line x1=\"0\" y1=\"33\" x2=\"100%\" y2=\"33\" style=\"stroke:rgb(150,150,150);stroke-width:1\" /><line x1=\"54.232244457102695%\" y1=\"33\" x2=\"54.232244457102695%\" y2=\"37\" style=\"stroke:rgb(150,150,150);stroke-width:1\" /><text x=\"54.232244457102695%\" y=\"27\" font-size=\"12px\" fill=\"rgb(120,120,120)\" dominant-baseline=\"bottom\" text-anchor=\"middle\">0.7</text><line x1=\"37.07634646643402%\" y1=\"33\" x2=\"37.07634646643402%\" y2=\"37\" style=\"stroke:rgb(150,150,150);stroke-width:1\" /><text x=\"37.07634646643402%\" y=\"27\" font-size=\"12px\" fill=\"rgb(120,120,120)\" dominant-baseline=\"bottom\" text-anchor=\"middle\">0.6</text><line x1=\"19.92044847576532%\" y1=\"33\" x2=\"19.92044847576532%\" y2=\"37\" style=\"stroke:rgb(150,150,150);stroke-width:1\" /><text x=\"19.92044847576532%\" y=\"27\" font-size=\"12px\" fill=\"rgb(120,120,120)\" dominant-baseline=\"bottom\" text-anchor=\"middle\">0.5</text><line x1=\"71.38814244777137%\" y1=\"33\" x2=\"71.38814244777137%\" y2=\"37\" style=\"stroke:rgb(150,150,150);stroke-width:1\" /><text x=\"71.38814244777137%\" y=\"27\" font-size=\"12px\" fill=\"rgb(120,120,120)\" dominant-baseline=\"bottom\" text-anchor=\"middle\">0.8</text><line x1=\"88.54404043844008%\" y1=\"33\" x2=\"88.54404043844008%\" y2=\"37\" style=\"stroke:rgb(150,150,150);stroke-width:1\" /><text x=\"88.54404043844008%\" y=\"27\" font-size=\"12px\" fill=\"rgb(120,120,120)\" dominant-baseline=\"bottom\" text-anchor=\"middle\">0.9</text><line x1=\"38.733672612380296%\" y1=\"33\" x2=\"38.733672612380296%\" y2=\"37\" style=\"stroke:rgb(150,150,150);stroke-width:1\" /><text x=\"38.733672612380296%\" y=\"27\" font-size=\"13px\" style=\"stroke:#ffffff;stroke-width:8px;\" fill=\"rgb(255,255,255)\" dominant-baseline=\"bottom\" text-anchor=\"middle\">0.60966</text><text x=\"38.733672612380296%\" y=\"27\" font-size=\"12px\" fill=\"rgb(120,120,120)\" dominant-baseline=\"bottom\" text-anchor=\"middle\">0.60966</text><text x=\"38.733672612380296%\" y=\"10\" font-size=\"12px\" fill=\"rgb(120,120,120)\" dominant-baseline=\"bottom\" text-anchor=\"middle\">base value</text><line x1=\"61.26632567202987%\" y1=\"33\" x2=\"61.26632567202987%\" y2=\"37\" style=\"stroke:rgb(150,150,150);stroke-width:1\" /><text x=\"61.26632567202987%\" y=\"27\" font-size=\"13px\" style=\"stroke:#ffffff;stroke-width:8px;\" font-weight=\"bold\" fill=\"rgb(255,255,255)\" dominant-baseline=\"bottom\" text-anchor=\"middle\">0.741001</text><text x=\"61.26632567202987%\" y=\"27\" font-size=\"13px\" font-weight=\"bold\" fill=\"rgb(0,0,0)\" dominant-baseline=\"bottom\" text-anchor=\"middle\">0.741001</text><text x=\"61.26632567202987%\" y=\"10\" font-size=\"12px\" fill=\"rgb(120,120,120)\" dominant-baseline=\"bottom\" text-anchor=\"middle\">f<tspan baseline-shift=\"sub\" font-size=\"8px\"></tspan>(inputs)</text><rect x=\"5.838968717637082%\" width=\"55.42735695439279%\" y=\"40\" height=\"18\" style=\"fill:rgb(255.0, 0.0, 81.08083606031792); stroke-width:0; stroke:rgb(0,0,0)\" /><line x1=\"49.50161327519461%\" x2=\"61.26632567202987%\" y1=\"60\" y2=\"60\" id=\"_fb_zpotbpnweyceprgdxgpq_ind_3\" style=\"stroke:rgb(255.0, 0.0, 81.08083606031792);stroke-width:2; opacity: 0\"/><text x=\"55.38396947361224%\" y=\"71\" font-size=\"12px\" id=\"_fs_zpotbpnweyceprgdxgpq_ind_3\" fill=\"rgb(255.0, 0.0, 81.08083606031792)\" style=\"opacity: 0\" dominant-baseline=\"middle\" text-anchor=\"middle\">0.069</text><svg x=\"49.50161327519461%\" y=\"40\" height=\"20\" width=\"11.764712396835264%\">  <svg x=\"0\" y=\"0\" width=\"100%\" height=\"100%\">    <text x=\"50%\" y=\"9\" font-size=\"12px\" fill=\"rgb(255,255,255)\" dominant-baseline=\"middle\" text-anchor=\"middle\">Deutschland</text>  </svg></svg><line x1=\"39.09277629235914%\" x2=\"49.50161327519461%\" y1=\"60\" y2=\"60\" id=\"_fb_zpotbpnweyceprgdxgpq_ind_16\" style=\"stroke:rgb(255.0, 0.0, 81.08083606031792);stroke-width:2; opacity: 0\"/><text x=\"44.297194783776874%\" y=\"71\" font-size=\"12px\" id=\"_fs_zpotbpnweyceprgdxgpq_ind_16\" fill=\"rgb(255.0, 0.0, 81.08083606031792)\" style=\"opacity: 0\" dominant-baseline=\"middle\" text-anchor=\"middle\">0.061</text><svg x=\"39.09277629235914%\" y=\"40\" height=\"20\" width=\"10.408836982835467%\">  <svg x=\"0\" y=\"0\" width=\"100%\" height=\"100%\">    <text x=\"50%\" y=\"9\" font-size=\"12px\" fill=\"rgb(255,255,255)\" dominant-baseline=\"middle\" text-anchor=\"middle\">tuch</text>  </svg></svg><line x1=\"29.984240854484074%\" x2=\"39.09277629235914%\" y1=\"60\" y2=\"60\" id=\"_fb_zpotbpnweyceprgdxgpq_ind_15\" style=\"stroke:rgb(255.0, 0.0, 81.08083606031792);stroke-width:2; opacity: 0\"/><text x=\"34.53850857342161%\" y=\"71\" font-size=\"12px\" id=\"_fs_zpotbpnweyceprgdxgpq_ind_15\" fill=\"rgb(255.0, 0.0, 81.08083606031792)\" style=\"opacity: 0\" dominant-baseline=\"middle\" text-anchor=\"middle\">0.053</text><svg x=\"29.984240854484074%\" y=\"40\" height=\"20\" width=\"9.108535437875066%\">  <svg x=\"0\" y=\"0\" width=\"100%\" height=\"100%\">    <text x=\"50%\" y=\"9\" font-size=\"12px\" fill=\"rgb(255,255,255)\" dominant-baseline=\"middle\" text-anchor=\"middle\">Kopf</text>  </svg></svg><line x1=\"26.104509834627525%\" x2=\"29.984240854484074%\" y1=\"60\" y2=\"60\" id=\"_fb_zpotbpnweyceprgdxgpq_ind_34\" style=\"stroke:rgb(255.0, 0.0, 81.08083606031792);stroke-width:2; opacity: 0\"/><text x=\"28.0443753445558%\" y=\"71\" font-size=\"12px\" id=\"_fs_zpotbpnweyceprgdxgpq_ind_34\" fill=\"rgb(255.0, 0.0, 81.08083606031792)\" style=\"opacity: 0\" dominant-baseline=\"middle\" text-anchor=\"middle\">0.023</text><svg x=\"26.104509834627525%\" y=\"40\" height=\"20\" width=\"3.87973101985655%\">  <svg x=\"0\" y=\"0\" width=\"100%\" height=\"100%\">    <text x=\"50%\" y=\"9\" font-size=\"12px\" fill=\"rgb(255,255,255)\" dominant-baseline=\"middle\" text-anchor=\"middle\"></text>  </svg></svg><line x1=\"22.868356371720584%\" x2=\"26.104509834627525%\" y1=\"60\" y2=\"60\" id=\"_fb_zpotbpnweyceprgdxgpq_ind_33\" style=\"stroke:rgb(255.0, 0.0, 81.08083606031792);stroke-width:2; opacity: 0\"/><text x=\"24.486433103174054%\" y=\"71\" font-size=\"12px\" id=\"_fs_zpotbpnweyceprgdxgpq_ind_33\" fill=\"rgb(255.0, 0.0, 81.08083606031792)\" style=\"opacity: 0\" dominant-baseline=\"middle\" text-anchor=\"middle\">0.019</text><svg x=\"22.868356371720584%\" y=\"40\" height=\"20\" width=\"3.236153462906941%\">  <svg x=\"0\" y=\"0\" width=\"100%\" height=\"100%\">    <text x=\"50%\" y=\"9\" font-size=\"12px\" fill=\"rgb(255,255,255)\" dominant-baseline=\"middle\" text-anchor=\"middle\">gemeinschaften</text>  </svg></svg><line x1=\"19.737562893869107%\" x2=\"22.868356371720584%\" y1=\"60\" y2=\"60\" id=\"_fb_zpotbpnweyceprgdxgpq_ind_0\" style=\"stroke:rgb(255.0, 0.0, 81.08083606031792);stroke-width:2; opacity: 0\"/><text x=\"21.302959632794845%\" y=\"71\" font-size=\"12px\" id=\"_fs_zpotbpnweyceprgdxgpq_ind_0\" fill=\"rgb(255.0, 0.0, 81.08083606031792)\" style=\"opacity: 0\" dominant-baseline=\"middle\" text-anchor=\"middle\">0.018</text><svg x=\"19.737562893869107%\" y=\"40\" height=\"20\" width=\"3.1307934778514763%\">  <svg x=\"0\" y=\"0\" width=\"100%\" height=\"100%\">    <text x=\"50%\" y=\"9\" font-size=\"12px\" fill=\"rgb(255,255,255)\" dominant-baseline=\"middle\" text-anchor=\"middle\">Big</text>  </svg></svg><line x1=\"17.259506654540836%\" x2=\"19.737562893869107%\" y1=\"60\" y2=\"60\" id=\"_fb_zpotbpnweyceprgdxgpq_ind_23\" style=\"stroke:rgb(255.0, 0.0, 81.08083606031792);stroke-width:2; opacity: 0\"/><text x=\"18.49853477420497%\" y=\"71\" font-size=\"12px\" id=\"_fs_zpotbpnweyceprgdxgpq_ind_23\" fill=\"rgb(255.0, 0.0, 81.08083606031792)\" style=\"opacity: 0\" dominant-baseline=\"middle\" text-anchor=\"middle\">0.014</text><svg x=\"17.259506654540836%\" y=\"40\" height=\"20\" width=\"2.4780562393282715%\">  <svg x=\"0\" y=\"0\" width=\"100%\" height=\"100%\">    <text x=\"50%\" y=\"9\" font-size=\"12px\" fill=\"rgb(255,255,255)\" dominant-baseline=\"middle\" text-anchor=\"middle\">verboten</text>  </svg></svg><line x1=\"14.831756125222439%\" x2=\"17.259506654540836%\" y1=\"60\" y2=\"60\" id=\"_fb_zpotbpnweyceprgdxgpq_ind_17\" style=\"stroke:rgb(255.0, 0.0, 81.08083606031792);stroke-width:2; opacity: 0\"/><text x=\"16.04563138988164%\" y=\"71\" font-size=\"12px\" id=\"_fs_zpotbpnweyceprgdxgpq_ind_17\" fill=\"rgb(255.0, 0.0, 81.08083606031792)\" style=\"opacity: 0\" dominant-baseline=\"middle\" text-anchor=\"middle\">0.014</text><svg x=\"14.831756125222439%\" y=\"40\" height=\"20\" width=\"2.4277505293183967%\">  <svg x=\"0\" y=\"0\" width=\"100%\" height=\"100%\">    <text x=\"50%\" y=\"9\" font-size=\"12px\" fill=\"rgb(255,255,255)\" dominant-baseline=\"middle\" text-anchor=\"middle\">in</text>  </svg></svg><line x1=\"12.765615214443455%\" x2=\"14.831756125222439%\" y1=\"60\" y2=\"60\" id=\"_fb_zpotbpnweyceprgdxgpq_ind_2\" style=\"stroke:rgb(255.0, 0.0, 81.08083606031792);stroke-width:2; opacity: 0\"/><text x=\"13.798685669832947%\" y=\"71\" font-size=\"12px\" id=\"_fs_zpotbpnweyceprgdxgpq_ind_2\" fill=\"rgb(255.0, 0.0, 81.08083606031792)\" style=\"opacity: 0\" dominant-baseline=\"middle\" text-anchor=\"middle\">0.012</text><svg x=\"12.765615214443455%\" y=\"40\" height=\"20\" width=\"2.0661409107789837%\">  <svg x=\"0\" y=\"0\" width=\"100%\" height=\"100%\">    <text x=\"50%\" y=\"9\" font-size=\"12px\" fill=\"rgb(255,255,255)\" dominant-baseline=\"middle\" text-anchor=\"middle\">s</text>  </svg></svg><line x1=\"10.924018797367252%\" x2=\"12.765615214443455%\" y1=\"60\" y2=\"60\" id=\"_fb_zpotbpnweyceprgdxgpq_ind_27\" style=\"stroke:rgb(255.0, 0.0, 81.08083606031792);stroke-width:2; opacity: 0\"/><text x=\"11.844817005905353%\" y=\"71\" font-size=\"12px\" id=\"_fs_zpotbpnweyceprgdxgpq_ind_27\" fill=\"rgb(255.0, 0.0, 81.08083606031792)\" style=\"opacity: 0\" dominant-baseline=\"middle\" text-anchor=\"middle\">0.011</text><svg x=\"10.924018797367252%\" y=\"40\" height=\"20\" width=\"1.8415964170762038%\">  <svg x=\"0\" y=\"0\" width=\"100%\" height=\"100%\">    <text x=\"50%\" y=\"9\" font-size=\"12px\" fill=\"rgb(255,255,255)\" dominant-baseline=\"middle\" text-anchor=\"middle\">dann</text>  </svg></svg><line x1=\"9.447704627225846%\" x2=\"10.924018797367252%\" y1=\"60\" y2=\"60\" id=\"_fb_zpotbpnweyceprgdxgpq_ind_1\" style=\"stroke:rgb(255.0, 0.0, 81.08083606031792);stroke-width:2; opacity: 0\"/><text x=\"10.18586171229655%\" y=\"71\" font-size=\"12px\" id=\"_fs_zpotbpnweyceprgdxgpq_ind_1\" fill=\"rgb(255.0, 0.0, 81.08083606031792)\" style=\"opacity: 0\" dominant-baseline=\"middle\" text-anchor=\"middle\">0.009</text><svg x=\"9.447704627225846%\" y=\"40\" height=\"20\" width=\"1.4763141701414053%\">  <svg x=\"0\" y=\"0\" width=\"100%\" height=\"100%\">    <text x=\"50%\" y=\"9\" font-size=\"12px\" fill=\"rgb(255,255,255)\" dominant-baseline=\"middle\" text-anchor=\"middle\">otte</text>  </svg></svg><line x1=\"8.337243107019825%\" x2=\"9.447704627225846%\" y1=\"60\" y2=\"60\" id=\"_fb_zpotbpnweyceprgdxgpq_ind_22\" style=\"stroke:rgb(255.0, 0.0, 81.08083606031792);stroke-width:2; opacity: 0\"/><text x=\"8.892473867122835%\" y=\"71\" font-size=\"12px\" id=\"_fs_zpotbpnweyceprgdxgpq_ind_22\" fill=\"rgb(255.0, 0.0, 81.08083606031792)\" style=\"opacity: 0\" dominant-baseline=\"middle\" text-anchor=\"middle\">0.006</text><svg x=\"8.337243107019825%\" y=\"40\" height=\"20\" width=\"1.1104615202060213%\">  <svg x=\"0\" y=\"0\" width=\"100%\" height=\"100%\">    <text x=\"50%\" y=\"9\" font-size=\"12px\" fill=\"rgb(255,255,255)\" dominant-baseline=\"middle\" text-anchor=\"middle\">Schülerinnen</text>  </svg></svg><line x1=\"7.471394359978744%\" x2=\"8.337243107019825%\" y1=\"60\" y2=\"60\" id=\"_fb_zpotbpnweyceprgdxgpq_ind_28\" style=\"stroke:rgb(255.0, 0.0, 81.08083606031792);stroke-width:2; opacity: 0\"/><text x=\"7.904318733499284%\" y=\"71\" font-size=\"12px\" id=\"_fs_zpotbpnweyceprgdxgpq_ind_28\" fill=\"rgb(255.0, 0.0, 81.08083606031792)\" style=\"opacity: 0\" dominant-baseline=\"middle\" text-anchor=\"middle\">0.005</text><svg x=\"7.471394359978744%\" y=\"40\" height=\"20\" width=\"0.8658487470410812%\">  <svg x=\"0\" y=\"0\" width=\"100%\" height=\"100%\">    <text x=\"50%\" y=\"9\" font-size=\"12px\" fill=\"rgb(255,255,255)\" dominant-baseline=\"middle\" text-anchor=\"middle\">religiöse</text>  </svg></svg><line x1=\"6.727440574386654%\" x2=\"7.471394359978744%\" y1=\"60\" y2=\"60\" id=\"_fb_zpotbpnweyceprgdxgpq_ind_5\" style=\"stroke:rgb(255.0, 0.0, 81.08083606031792);stroke-width:2; opacity: 0\"/><text x=\"7.099417467182699%\" y=\"71\" font-size=\"12px\" id=\"_fs_zpotbpnweyceprgdxgpq_ind_5\" fill=\"rgb(255.0, 0.0, 81.08083606031792)\" style=\"opacity: 0\" dominant-baseline=\"middle\" text-anchor=\"middle\">0.004</text><svg x=\"6.727440574386654%\" y=\"40\" height=\"20\" width=\"0.7439537855920895%\">  <svg x=\"0\" y=\"0\" width=\"100%\" height=\"100%\">    <text x=\"50%\" y=\"9\" font-size=\"12px\" fill=\"rgb(255,255,255)\" dominant-baseline=\"middle\" text-anchor=\"middle\">a</text>  </svg></svg><line x1=\"6.178107014381324%\" x2=\"6.727440574386654%\" y1=\"60\" y2=\"60\" id=\"_fb_zpotbpnweyceprgdxgpq_ind_24\" style=\"stroke:rgb(255.0, 0.0, 81.08083606031792);stroke-width:2; opacity: 0\"/><text x=\"6.452773794383989%\" y=\"71\" font-size=\"12px\" id=\"_fs_zpotbpnweyceprgdxgpq_ind_24\" fill=\"rgb(255.0, 0.0, 81.08083606031792)\" style=\"opacity: 0\" dominant-baseline=\"middle\" text-anchor=\"middle\">0.003</text><svg x=\"6.178107014381324%\" y=\"40\" height=\"20\" width=\"0.54933356000533%\">  <svg x=\"0\" y=\"0\" width=\"100%\" height=\"100%\">    <text x=\"50%\" y=\"9\" font-size=\"12px\" fill=\"rgb(255,255,255)\" dominant-baseline=\"middle\" text-anchor=\"middle\">werden</text>  </svg></svg><line x1=\"5.838968717637082%\" x2=\"6.178107014381324%\" y1=\"60\" y2=\"60\" id=\"_fb_zpotbpnweyceprgdxgpq_ind_7\" style=\"stroke:rgb(255.0, 0.0, 81.08083606031792);stroke-width:2; opacity: 0\"/><text x=\"6.008537866009203%\" y=\"71\" font-size=\"12px\" id=\"_fs_zpotbpnweyceprgdxgpq_ind_7\" fill=\"rgb(255.0, 0.0, 81.08083606031792)\" style=\"opacity: 0\" dominant-baseline=\"middle\" text-anchor=\"middle\">0.002</text><svg x=\"5.838968717637082%\" y=\"40\" height=\"20\" width=\"0.3391382967442427%\">  <svg x=\"0\" y=\"0\" width=\"100%\" height=\"100%\">    <text x=\"50%\" y=\"9\" font-size=\"12px\" fill=\"rgb(255,255,255)\" dominant-baseline=\"middle\" text-anchor=\"middle\">gen</text>  </svg></svg><g transform=\"translate(0,0)\">  <svg x=\"49.50161327519461%\" y=\"40\" height=\"18\" overflow=\"visible\" width=\"30\">    <path d=\"M 0 -9 l 6 18 L 0 25\" fill=\"none\" style=\"stroke:rgb(255.0, 0.0, 81.08083606031792);stroke-width:2\" />  </svg></g><g transform=\"translate(2,0)\">  <svg x=\"49.50161327519461%\" y=\"40\" height=\"18\" overflow=\"visible\" width=\"30\">    <path d=\"M 0 -9 l 6 18 L 0 25\" fill=\"none\" style=\"stroke:rgb(255.0, 0.0, 81.08083606031792);stroke-width:2\" />  </svg></g><g transform=\"translate(4,0)\">  <svg x=\"49.50161327519461%\" y=\"40\" height=\"18\" overflow=\"visible\" width=\"30\">    <path d=\"M 0 -9 l 6 18 L 0 25\" fill=\"none\" style=\"stroke:rgb(255.0, 0.0, 81.08083606031792);stroke-width:2\" />  </svg></g><g transform=\"translate(6,0)\">  <svg x=\"49.50161327519461%\" y=\"40\" height=\"18\" overflow=\"visible\" width=\"30\">    <path d=\"M 0 -9 l 6 18 L 0 25\" fill=\"none\" style=\"stroke:rgb(255.0, 0.0, 81.08083606031792);stroke-width:2\" />  </svg></g><g transform=\"translate(-8,0)\">  <svg x=\"49.50161327519461%\" y=\"40\" height=\"18\" overflow=\"visible\" width=\"30\">    <path d=\"M 0 -9 l 6 18 L 0 25\" fill=\"none\" style=\"stroke:rgb(255.0, 0.0, 81.08083606031792);stroke-width:2\" />  </svg></g><g transform=\"translate(-6,0)\">  <svg x=\"49.50161327519461%\" y=\"40\" height=\"18\" overflow=\"visible\" width=\"30\">    <path d=\"M 0 -9 l 6 18 L 0 25\" fill=\"none\" style=\"stroke:rgb(255.0, 0.0, 81.08083606031792);stroke-width:2\" />  </svg></g><g transform=\"translate(-4,0)\">  <svg x=\"49.50161327519461%\" y=\"40\" height=\"18\" overflow=\"visible\" width=\"30\">    <path d=\"M 0 -9 l 6 18 L 0 25\" fill=\"none\" style=\"stroke:rgb(255.0, 0.0, 81.08083606031792);stroke-width:2\" />  </svg></g><g transform=\"translate(-2,0)\">  <svg x=\"49.50161327519461%\" y=\"40\" height=\"18\" overflow=\"visible\" width=\"30\">    <path d=\"M 0 -9 l 6 18 L 0 25\" fill=\"none\" style=\"stroke:rgb(255.0, 0.0, 81.08083606031792);stroke-width:2\" />  </svg></g><g transform=\"translate(0,0)\">  <svg x=\"39.09277629235914%\" y=\"40\" height=\"18\" overflow=\"visible\" width=\"30\">    <path d=\"M 0 -9 l 6 18 L 0 25\" fill=\"none\" style=\"stroke:rgb(255.0, 0.0, 81.08083606031792);stroke-width:2\" />  </svg></g><g transform=\"translate(2,0)\">  <svg x=\"39.09277629235914%\" y=\"40\" height=\"18\" overflow=\"visible\" width=\"30\">    <path d=\"M 0 -9 l 6 18 L 0 25\" fill=\"none\" style=\"stroke:rgb(255.0, 0.0, 81.08083606031792);stroke-width:2\" />  </svg></g><g transform=\"translate(4,0)\">  <svg x=\"39.09277629235914%\" y=\"40\" height=\"18\" overflow=\"visible\" width=\"30\">    <path d=\"M 0 -9 l 6 18 L 0 25\" fill=\"none\" style=\"stroke:rgb(255.0, 0.0, 81.08083606031792);stroke-width:2\" />  </svg></g><g transform=\"translate(6,0)\">  <svg x=\"39.09277629235914%\" y=\"40\" height=\"18\" overflow=\"visible\" width=\"30\">    <path d=\"M 0 -9 l 6 18 L 0 25\" fill=\"none\" style=\"stroke:rgb(255.0, 0.0, 81.08083606031792);stroke-width:2\" />  </svg></g><g transform=\"translate(-8,0)\">  <svg x=\"39.09277629235914%\" y=\"40\" height=\"18\" overflow=\"visible\" width=\"30\">    <path d=\"M 0 -9 l 6 18 L 0 25\" fill=\"none\" style=\"stroke:rgb(255.0, 0.0, 81.08083606031792);stroke-width:2\" />  </svg></g><g transform=\"translate(-6,0)\">  <svg x=\"39.09277629235914%\" y=\"40\" height=\"18\" overflow=\"visible\" width=\"30\">    <path d=\"M 0 -9 l 6 18 L 0 25\" fill=\"none\" style=\"stroke:rgb(255.0, 0.0, 81.08083606031792);stroke-width:2\" />  </svg></g><g transform=\"translate(-4,0)\">  <svg x=\"39.09277629235914%\" y=\"40\" height=\"18\" overflow=\"visible\" width=\"30\">    <path d=\"M 0 -9 l 6 18 L 0 25\" fill=\"none\" style=\"stroke:rgb(255.0, 0.0, 81.08083606031792);stroke-width:2\" />  </svg></g><g transform=\"translate(-2,0)\">  <svg x=\"39.09277629235914%\" y=\"40\" height=\"18\" overflow=\"visible\" width=\"30\">    <path d=\"M 0 -9 l 6 18 L 0 25\" fill=\"none\" style=\"stroke:rgb(255.0, 0.0, 81.08083606031792);stroke-width:2\" />  </svg></g><g transform=\"translate(0,0)\">  <svg x=\"29.984240854484074%\" y=\"40\" height=\"18\" overflow=\"visible\" width=\"30\">    <path d=\"M 0 -9 l 6 18 L 0 25\" fill=\"none\" style=\"stroke:rgb(255.0, 0.0, 81.08083606031792);stroke-width:2\" />  </svg></g><g transform=\"translate(2,0)\">  <svg x=\"29.984240854484074%\" y=\"40\" height=\"18\" overflow=\"visible\" width=\"30\">    <path d=\"M 0 -9 l 6 18 L 0 25\" fill=\"none\" style=\"stroke:rgb(255.0, 0.0, 81.08083606031792);stroke-width:2\" />  </svg></g><g transform=\"translate(4,0)\">  <svg x=\"29.984240854484074%\" y=\"40\" height=\"18\" overflow=\"visible\" width=\"30\">    <path d=\"M 0 -9 l 6 18 L 0 25\" fill=\"none\" style=\"stroke:rgb(255.0, 0.0, 81.08083606031792);stroke-width:2\" />  </svg></g><g transform=\"translate(6,0)\">  <svg x=\"29.984240854484074%\" y=\"40\" height=\"18\" overflow=\"visible\" width=\"30\">    <path d=\"M 0 -9 l 6 18 L 0 25\" fill=\"none\" style=\"stroke:rgb(255.0, 0.0, 81.08083606031792);stroke-width:2\" />  </svg></g><g transform=\"translate(-8,0)\">  <svg x=\"29.984240854484074%\" y=\"40\" height=\"18\" overflow=\"visible\" width=\"30\">    <path d=\"M 0 -9 l 6 18 L 0 25\" fill=\"none\" style=\"stroke:rgb(255.0, 0.0, 81.08083606031792);stroke-width:2\" />  </svg></g><g transform=\"translate(-6,0)\">  <svg x=\"29.984240854484074%\" y=\"40\" height=\"18\" overflow=\"visible\" width=\"30\">    <path d=\"M 0 -9 l 6 18 L 0 25\" fill=\"none\" style=\"stroke:rgb(255.0, 0.0, 81.08083606031792);stroke-width:2\" />  </svg></g><g transform=\"translate(-4,0)\">  <svg x=\"29.984240854484074%\" y=\"40\" height=\"18\" overflow=\"visible\" width=\"30\">    <path d=\"M 0 -9 l 6 18 L 0 25\" fill=\"none\" style=\"stroke:rgb(255.0, 0.0, 81.08083606031792);stroke-width:2\" />  </svg></g><g transform=\"translate(-2,0)\">  <svg x=\"29.984240854484074%\" y=\"40\" height=\"18\" overflow=\"visible\" width=\"30\">    <path d=\"M 0 -9 l 6 18 L 0 25\" fill=\"none\" style=\"stroke:rgb(255.0, 0.0, 81.08083606031792);stroke-width:2\" />  </svg></g><g transform=\"translate(0,0)\">  <svg x=\"26.104509834627525%\" y=\"40\" height=\"18\" overflow=\"visible\" width=\"30\">    <path d=\"M 0 -9 l 6 18 L 0 25\" fill=\"none\" style=\"stroke:rgb(255.0, 0.0, 81.08083606031792);stroke-width:2\" />  </svg></g><g transform=\"translate(2,0)\">  <svg x=\"26.104509834627525%\" y=\"40\" height=\"18\" overflow=\"visible\" width=\"30\">    <path d=\"M 0 -9 l 6 18 L 0 25\" fill=\"none\" style=\"stroke:rgb(255.0, 0.0, 81.08083606031792);stroke-width:2\" />  </svg></g><g transform=\"translate(4,0)\">  <svg x=\"26.104509834627525%\" y=\"40\" height=\"18\" overflow=\"visible\" width=\"30\">    <path d=\"M 0 -9 l 6 18 L 0 25\" fill=\"none\" style=\"stroke:rgb(255.0, 0.0, 81.08083606031792);stroke-width:2\" />  </svg></g><g transform=\"translate(6,0)\">  <svg x=\"26.104509834627525%\" y=\"40\" height=\"18\" overflow=\"visible\" width=\"30\">    <path d=\"M 0 -9 l 6 18 L 0 25\" fill=\"none\" style=\"stroke:rgb(255.0, 0.0, 81.08083606031792);stroke-width:2\" />  </svg></g><g transform=\"translate(-8,0)\">  <svg x=\"26.104509834627525%\" y=\"40\" height=\"18\" overflow=\"visible\" width=\"30\">    <path d=\"M 0 -9 l 6 18 L 0 25\" fill=\"none\" style=\"stroke:rgb(255.0, 0.0, 81.08083606031792);stroke-width:2\" />  </svg></g><g transform=\"translate(-6,0)\">  <svg x=\"26.104509834627525%\" y=\"40\" height=\"18\" overflow=\"visible\" width=\"30\">    <path d=\"M 0 -9 l 6 18 L 0 25\" fill=\"none\" style=\"stroke:rgb(255.0, 0.0, 81.08083606031792);stroke-width:2\" />  </svg></g><g transform=\"translate(-4,0)\">  <svg x=\"26.104509834627525%\" y=\"40\" height=\"18\" overflow=\"visible\" width=\"30\">    <path d=\"M 0 -9 l 6 18 L 0 25\" fill=\"none\" style=\"stroke:rgb(255.0, 0.0, 81.08083606031792);stroke-width:2\" />  </svg></g><g transform=\"translate(-2,0)\">  <svg x=\"26.104509834627525%\" y=\"40\" height=\"18\" overflow=\"visible\" width=\"30\">    <path d=\"M 0 -9 l 6 18 L 0 25\" fill=\"none\" style=\"stroke:rgb(255.0, 0.0, 81.08083606031792);stroke-width:2\" />  </svg></g><g transform=\"translate(0,0)\">  <svg x=\"22.868356371720584%\" y=\"40\" height=\"18\" overflow=\"visible\" width=\"30\">    <path d=\"M 0 -9 l 6 18 L 0 25\" fill=\"none\" style=\"stroke:rgb(255.0, 0.0, 81.08083606031792);stroke-width:2\" />  </svg></g><g transform=\"translate(2,0)\">  <svg x=\"22.868356371720584%\" y=\"40\" height=\"18\" overflow=\"visible\" width=\"30\">    <path d=\"M 0 -9 l 6 18 L 0 25\" fill=\"none\" style=\"stroke:rgb(255.0, 0.0, 81.08083606031792);stroke-width:2\" />  </svg></g><g transform=\"translate(4,0)\">  <svg x=\"22.868356371720584%\" y=\"40\" height=\"18\" overflow=\"visible\" width=\"30\">    <path d=\"M 0 -9 l 6 18 L 0 25\" fill=\"none\" style=\"stroke:rgb(255.0, 0.0, 81.08083606031792);stroke-width:2\" />  </svg></g><g transform=\"translate(6,0)\">  <svg x=\"22.868356371720584%\" y=\"40\" height=\"18\" overflow=\"visible\" width=\"30\">    <path d=\"M 0 -9 l 6 18 L 0 25\" fill=\"none\" style=\"stroke:rgb(255.0, 0.0, 81.08083606031792);stroke-width:2\" />  </svg></g><g transform=\"translate(-8,0)\">  <svg x=\"22.868356371720584%\" y=\"40\" height=\"18\" overflow=\"visible\" width=\"30\">    <path d=\"M 0 -9 l 6 18 L 0 25\" fill=\"none\" style=\"stroke:rgb(255.0, 0.0, 81.08083606031792);stroke-width:2\" />  </svg></g><g transform=\"translate(-6,0)\">  <svg x=\"22.868356371720584%\" y=\"40\" height=\"18\" overflow=\"visible\" width=\"30\">    <path d=\"M 0 -9 l 6 18 L 0 25\" fill=\"none\" style=\"stroke:rgb(255.0, 0.0, 81.08083606031792);stroke-width:2\" />  </svg></g><g transform=\"translate(-4,0)\">  <svg x=\"22.868356371720584%\" y=\"40\" height=\"18\" overflow=\"visible\" width=\"30\">    <path d=\"M 0 -9 l 6 18 L 0 25\" fill=\"none\" style=\"stroke:rgb(255.0, 0.0, 81.08083606031792);stroke-width:2\" />  </svg></g><g transform=\"translate(-2,0)\">  <svg x=\"22.868356371720584%\" y=\"40\" height=\"18\" overflow=\"visible\" width=\"30\">    <path d=\"M 0 -9 l 6 18 L 0 25\" fill=\"none\" style=\"stroke:rgb(255.0, 0.0, 81.08083606031792);stroke-width:2\" />  </svg></g><g transform=\"translate(0,0)\">  <svg x=\"19.737562893869107%\" y=\"40\" height=\"18\" overflow=\"visible\" width=\"30\">    <path d=\"M 0 -9 l 6 18 L 0 25\" fill=\"none\" style=\"stroke:rgb(255.0, 0.0, 81.08083606031792);stroke-width:2\" />  </svg></g><g transform=\"translate(2,0)\">  <svg x=\"19.737562893869107%\" y=\"40\" height=\"18\" overflow=\"visible\" width=\"30\">    <path d=\"M 0 -9 l 6 18 L 0 25\" fill=\"none\" style=\"stroke:rgb(255.0, 0.0, 81.08083606031792);stroke-width:2\" />  </svg></g><g transform=\"translate(4,0)\">  <svg x=\"19.737562893869107%\" y=\"40\" height=\"18\" overflow=\"visible\" width=\"30\">    <path d=\"M 0 -9 l 6 18 L 0 25\" fill=\"none\" style=\"stroke:rgb(255.0, 0.0, 81.08083606031792);stroke-width:2\" />  </svg></g><g transform=\"translate(6,0)\">  <svg x=\"19.737562893869107%\" y=\"40\" height=\"18\" overflow=\"visible\" width=\"30\">    <path d=\"M 0 -9 l 6 18 L 0 25\" fill=\"none\" style=\"stroke:rgb(255.0, 0.0, 81.08083606031792);stroke-width:2\" />  </svg></g><g transform=\"translate(-8,0)\">  <svg x=\"19.737562893869107%\" y=\"40\" height=\"18\" overflow=\"visible\" width=\"30\">    <path d=\"M 0 -9 l 6 18 L 0 25\" fill=\"none\" style=\"stroke:rgb(255.0, 0.0, 81.08083606031792);stroke-width:2\" />  </svg></g><g transform=\"translate(-6,0)\">  <svg x=\"19.737562893869107%\" y=\"40\" height=\"18\" overflow=\"visible\" width=\"30\">    <path d=\"M 0 -9 l 6 18 L 0 25\" fill=\"none\" style=\"stroke:rgb(255.0, 0.0, 81.08083606031792);stroke-width:2\" />  </svg></g><g transform=\"translate(-4,0)\">  <svg x=\"19.737562893869107%\" y=\"40\" height=\"18\" overflow=\"visible\" width=\"30\">    <path d=\"M 0 -9 l 6 18 L 0 25\" fill=\"none\" style=\"stroke:rgb(255.0, 0.0, 81.08083606031792);stroke-width:2\" />  </svg></g><g transform=\"translate(-2,0)\">  <svg x=\"19.737562893869107%\" y=\"40\" height=\"18\" overflow=\"visible\" width=\"30\">    <path d=\"M 0 -9 l 6 18 L 0 25\" fill=\"none\" style=\"stroke:rgb(255.0, 0.0, 81.08083606031792);stroke-width:2\" />  </svg></g><g transform=\"translate(0,0)\">  <svg x=\"17.259506654540836%\" y=\"40\" height=\"18\" overflow=\"visible\" width=\"30\">    <path d=\"M 0 -9 l 6 18 L 0 25\" fill=\"none\" style=\"stroke:rgb(255.0, 0.0, 81.08083606031792);stroke-width:2\" />  </svg></g><g transform=\"translate(2,0)\">  <svg x=\"17.259506654540836%\" y=\"40\" height=\"18\" overflow=\"visible\" width=\"30\">    <path d=\"M 0 -9 l 6 18 L 0 25\" fill=\"none\" style=\"stroke:rgb(255.0, 0.0, 81.08083606031792);stroke-width:2\" />  </svg></g><g transform=\"translate(4,0)\">  <svg x=\"17.259506654540836%\" y=\"40\" height=\"18\" overflow=\"visible\" width=\"30\">    <path d=\"M 0 -9 l 6 18 L 0 25\" fill=\"none\" style=\"stroke:rgb(255.0, 0.0, 81.08083606031792);stroke-width:2\" />  </svg></g><g transform=\"translate(6,0)\">  <svg x=\"17.259506654540836%\" y=\"40\" height=\"18\" overflow=\"visible\" width=\"30\">    <path d=\"M 0 -9 l 6 18 L 0 25\" fill=\"none\" style=\"stroke:rgb(255.0, 0.0, 81.08083606031792);stroke-width:2\" />  </svg></g><g transform=\"translate(-8,0)\">  <svg x=\"17.259506654540836%\" y=\"40\" height=\"18\" overflow=\"visible\" width=\"30\">    <path d=\"M 0 -9 l 6 18 L 0 25\" fill=\"none\" style=\"stroke:rgb(255.0, 0.0, 81.08083606031792);stroke-width:2\" />  </svg></g><g transform=\"translate(-6,0)\">  <svg x=\"17.259506654540836%\" y=\"40\" height=\"18\" overflow=\"visible\" width=\"30\">    <path d=\"M 0 -9 l 6 18 L 0 25\" fill=\"none\" style=\"stroke:rgb(255.0, 0.0, 81.08083606031792);stroke-width:2\" />  </svg></g><g transform=\"translate(-4,0)\">  <svg x=\"17.259506654540836%\" y=\"40\" height=\"18\" overflow=\"visible\" width=\"30\">    <path d=\"M 0 -9 l 6 18 L 0 25\" fill=\"none\" style=\"stroke:rgb(255.0, 0.0, 81.08083606031792);stroke-width:2\" />  </svg></g><g transform=\"translate(-2,0)\">  <svg x=\"17.259506654540836%\" y=\"40\" height=\"18\" overflow=\"visible\" width=\"30\">    <path d=\"M 0 -9 l 6 18 L 0 25\" fill=\"none\" style=\"stroke:rgb(255.0, 0.0, 81.08083606031792);stroke-width:2\" />  </svg></g><g transform=\"translate(0,0)\">  <svg x=\"14.831756125222439%\" y=\"40\" height=\"18\" overflow=\"visible\" width=\"30\">    <path d=\"M 0 -9 l 6 18 L 0 25\" fill=\"none\" style=\"stroke:rgb(255.0, 0.0, 81.08083606031792);stroke-width:2\" />  </svg></g><g transform=\"translate(2,0)\">  <svg x=\"14.831756125222439%\" y=\"40\" height=\"18\" overflow=\"visible\" width=\"30\">    <path d=\"M 0 -9 l 6 18 L 0 25\" fill=\"none\" style=\"stroke:rgb(255.0, 0.0, 81.08083606031792);stroke-width:2\" />  </svg></g><g transform=\"translate(4,0)\">  <svg x=\"14.831756125222439%\" y=\"40\" height=\"18\" overflow=\"visible\" width=\"30\">    <path d=\"M 0 -9 l 6 18 L 0 25\" fill=\"none\" style=\"stroke:rgb(255.0, 0.0, 81.08083606031792);stroke-width:2\" />  </svg></g><g transform=\"translate(6,0)\">  <svg x=\"14.831756125222439%\" y=\"40\" height=\"18\" overflow=\"visible\" width=\"30\">    <path d=\"M 0 -9 l 6 18 L 0 25\" fill=\"none\" style=\"stroke:rgb(255.0, 0.0, 81.08083606031792);stroke-width:2\" />  </svg></g><g transform=\"translate(-8,0)\">  <svg x=\"14.831756125222439%\" y=\"40\" height=\"18\" overflow=\"visible\" width=\"30\">    <path d=\"M 0 -9 l 6 18 L 0 25\" fill=\"none\" style=\"stroke:rgb(255.0, 0.0, 81.08083606031792);stroke-width:2\" />  </svg></g><g transform=\"translate(-6,0)\">  <svg x=\"14.831756125222439%\" y=\"40\" height=\"18\" overflow=\"visible\" width=\"30\">    <path d=\"M 0 -9 l 6 18 L 0 25\" fill=\"none\" style=\"stroke:rgb(255.0, 0.0, 81.08083606031792);stroke-width:2\" />  </svg></g><g transform=\"translate(-4,0)\">  <svg x=\"14.831756125222439%\" y=\"40\" height=\"18\" overflow=\"visible\" width=\"30\">    <path d=\"M 0 -9 l 6 18 L 0 25\" fill=\"none\" style=\"stroke:rgb(255.0, 0.0, 81.08083606031792);stroke-width:2\" />  </svg></g><g transform=\"translate(-2,0)\">  <svg x=\"14.831756125222439%\" y=\"40\" height=\"18\" overflow=\"visible\" width=\"30\">    <path d=\"M 0 -9 l 6 18 L 0 25\" fill=\"none\" style=\"stroke:rgb(255.0, 0.0, 81.08083606031792);stroke-width:2\" />  </svg></g><g transform=\"translate(0,0)\">  <svg x=\"12.765615214443455%\" y=\"40\" height=\"18\" overflow=\"visible\" width=\"30\">    <path d=\"M 0 -9 l 6 18 L 0 25\" fill=\"none\" style=\"stroke:rgb(255.0, 0.0, 81.08083606031792);stroke-width:2\" />  </svg></g><g transform=\"translate(2,0)\">  <svg x=\"12.765615214443455%\" y=\"40\" height=\"18\" overflow=\"visible\" width=\"30\">    <path d=\"M 0 -9 l 6 18 L 0 25\" fill=\"none\" style=\"stroke:rgb(255.0, 0.0, 81.08083606031792);stroke-width:2\" />  </svg></g><g transform=\"translate(4,0)\">  <svg x=\"12.765615214443455%\" y=\"40\" height=\"18\" overflow=\"visible\" width=\"30\">    <path d=\"M 0 -9 l 6 18 L 0 25\" fill=\"none\" style=\"stroke:rgb(255.0, 0.0, 81.08083606031792);stroke-width:2\" />  </svg></g><g transform=\"translate(6,0)\">  <svg x=\"12.765615214443455%\" y=\"40\" height=\"18\" overflow=\"visible\" width=\"30\">    <path d=\"M 0 -9 l 6 18 L 0 25\" fill=\"none\" style=\"stroke:rgb(255.0, 0.0, 81.08083606031792);stroke-width:2\" />  </svg></g><g transform=\"translate(-8,0)\">  <svg x=\"12.765615214443455%\" y=\"40\" height=\"18\" overflow=\"visible\" width=\"30\">    <path d=\"M 0 -9 l 6 18 L 0 25\" fill=\"none\" style=\"stroke:rgb(255.0, 0.0, 81.08083606031792);stroke-width:2\" />  </svg></g><g transform=\"translate(-6,0)\">  <svg x=\"12.765615214443455%\" y=\"40\" height=\"18\" overflow=\"visible\" width=\"30\">    <path d=\"M 0 -9 l 6 18 L 0 25\" fill=\"none\" style=\"stroke:rgb(255.0, 0.0, 81.08083606031792);stroke-width:2\" />  </svg></g><g transform=\"translate(-4,0)\">  <svg x=\"12.765615214443455%\" y=\"40\" height=\"18\" overflow=\"visible\" width=\"30\">    <path d=\"M 0 -9 l 6 18 L 0 25\" fill=\"none\" style=\"stroke:rgb(255.0, 0.0, 81.08083606031792);stroke-width:2\" />  </svg></g><g transform=\"translate(-2,0)\">  <svg x=\"12.765615214443455%\" y=\"40\" height=\"18\" overflow=\"visible\" width=\"30\">    <path d=\"M 0 -9 l 6 18 L 0 25\" fill=\"none\" style=\"stroke:rgb(255.0, 0.0, 81.08083606031792);stroke-width:2\" />  </svg></g><g transform=\"translate(0,0)\">  <svg x=\"10.924018797367252%\" y=\"40\" height=\"18\" overflow=\"visible\" width=\"30\">    <path d=\"M 0 -9 l 6 18 L 0 25\" fill=\"none\" style=\"stroke:rgb(255.0, 0.0, 81.08083606031792);stroke-width:2\" />  </svg></g><g transform=\"translate(2,0)\">  <svg x=\"10.924018797367252%\" y=\"40\" height=\"18\" overflow=\"visible\" width=\"30\">    <path d=\"M 0 -9 l 6 18 L 0 25\" fill=\"none\" style=\"stroke:rgb(255.0, 0.0, 81.08083606031792);stroke-width:2\" />  </svg></g><g transform=\"translate(4,0)\">  <svg x=\"10.924018797367252%\" y=\"40\" height=\"18\" overflow=\"visible\" width=\"30\">    <path d=\"M 0 -9 l 6 18 L 0 25\" fill=\"none\" style=\"stroke:rgb(255.0, 0.0, 81.08083606031792);stroke-width:2\" />  </svg></g><g transform=\"translate(6,0)\">  <svg x=\"10.924018797367252%\" y=\"40\" height=\"18\" overflow=\"visible\" width=\"30\">    <path d=\"M 0 -9 l 6 18 L 0 25\" fill=\"none\" style=\"stroke:rgb(255.0, 0.0, 81.08083606031792);stroke-width:2\" />  </svg></g><g transform=\"translate(-8,0)\">  <svg x=\"10.924018797367252%\" y=\"40\" height=\"18\" overflow=\"visible\" width=\"30\">    <path d=\"M 0 -9 l 6 18 L 0 25\" fill=\"none\" style=\"stroke:rgb(255.0, 0.0, 81.08083606031792);stroke-width:2\" />  </svg></g><g transform=\"translate(-6,0)\">  <svg x=\"10.924018797367252%\" y=\"40\" height=\"18\" overflow=\"visible\" width=\"30\">    <path d=\"M 0 -9 l 6 18 L 0 25\" fill=\"none\" style=\"stroke:rgb(255.0, 0.0, 81.08083606031792);stroke-width:2\" />  </svg></g><g transform=\"translate(-4,0)\">  <svg x=\"10.924018797367252%\" y=\"40\" height=\"18\" overflow=\"visible\" width=\"30\">    <path d=\"M 0 -9 l 6 18 L 0 25\" fill=\"none\" style=\"stroke:rgb(255.0, 0.0, 81.08083606031792);stroke-width:2\" />  </svg></g><g transform=\"translate(-2,0)\">  <svg x=\"10.924018797367252%\" y=\"40\" height=\"18\" overflow=\"visible\" width=\"30\">    <path d=\"M 0 -9 l 6 18 L 0 25\" fill=\"none\" style=\"stroke:rgb(255.0, 0.0, 81.08083606031792);stroke-width:2\" />  </svg></g><g transform=\"translate(0,0)\">  <svg x=\"9.447704627225846%\" y=\"40\" height=\"18\" overflow=\"visible\" width=\"30\">    <path d=\"M 0 -9 l 6 18 L 0 25\" fill=\"none\" style=\"stroke:rgb(255.0, 0.0, 81.08083606031792);stroke-width:2\" />  </svg></g><g transform=\"translate(2,0)\">  <svg x=\"9.447704627225846%\" y=\"40\" height=\"18\" overflow=\"visible\" width=\"30\">    <path d=\"M 0 -9 l 6 18 L 0 25\" fill=\"none\" style=\"stroke:rgb(255.0, 0.0, 81.08083606031792);stroke-width:2\" />  </svg></g><g transform=\"translate(4,0)\">  <svg x=\"9.447704627225846%\" y=\"40\" height=\"18\" overflow=\"visible\" width=\"30\">    <path d=\"M 0 -9 l 6 18 L 0 25\" fill=\"none\" style=\"stroke:rgb(255.0, 0.0, 81.08083606031792);stroke-width:2\" />  </svg></g><g transform=\"translate(6,0)\">  <svg x=\"9.447704627225846%\" y=\"40\" height=\"18\" overflow=\"visible\" width=\"30\">    <path d=\"M 0 -9 l 6 18 L 0 25\" fill=\"none\" style=\"stroke:rgb(255.0, 0.0, 81.08083606031792);stroke-width:2\" />  </svg></g><g transform=\"translate(-8,0)\">  <svg x=\"9.447704627225846%\" y=\"40\" height=\"18\" overflow=\"visible\" width=\"30\">    <path d=\"M 0 -9 l 6 18 L 0 25\" fill=\"none\" style=\"stroke:rgb(255.0, 0.0, 81.08083606031792);stroke-width:2\" />  </svg></g><g transform=\"translate(-6,0)\">  <svg x=\"9.447704627225846%\" y=\"40\" height=\"18\" overflow=\"visible\" width=\"30\">    <path d=\"M 0 -9 l 6 18 L 0 25\" fill=\"none\" style=\"stroke:rgb(255.0, 0.0, 81.08083606031792);stroke-width:2\" />  </svg></g><g transform=\"translate(-4,0)\">  <svg x=\"9.447704627225846%\" y=\"40\" height=\"18\" overflow=\"visible\" width=\"30\">    <path d=\"M 0 -9 l 6 18 L 0 25\" fill=\"none\" style=\"stroke:rgb(255.0, 0.0, 81.08083606031792);stroke-width:2\" />  </svg></g><g transform=\"translate(-2,0)\">  <svg x=\"9.447704627225846%\" y=\"40\" height=\"18\" overflow=\"visible\" width=\"30\">    <path d=\"M 0 -9 l 6 18 L 0 25\" fill=\"none\" style=\"stroke:rgb(255.0, 0.0, 81.08083606031792);stroke-width:2\" />  </svg></g><g transform=\"translate(0,0)\">  <svg x=\"8.337243107019825%\" y=\"40\" height=\"18\" overflow=\"visible\" width=\"30\">    <path d=\"M 0 -9 l 6 18 L 0 25\" fill=\"none\" style=\"stroke:rgb(255.0, 0.0, 81.08083606031792);stroke-width:2\" />  </svg></g><g transform=\"translate(2,0)\">  <svg x=\"8.337243107019825%\" y=\"40\" height=\"18\" overflow=\"visible\" width=\"30\">    <path d=\"M 0 -9 l 6 18 L 0 25\" fill=\"none\" style=\"stroke:rgb(255.0, 0.0, 81.08083606031792);stroke-width:2\" />  </svg></g><g transform=\"translate(4,0)\">  <svg x=\"8.337243107019825%\" y=\"40\" height=\"18\" overflow=\"visible\" width=\"30\">    <path d=\"M 0 -9 l 6 18 L 0 25\" fill=\"none\" style=\"stroke:rgb(255.0, 0.0, 81.08083606031792);stroke-width:2\" />  </svg></g><g transform=\"translate(6,0)\">  <svg x=\"8.337243107019825%\" y=\"40\" height=\"18\" overflow=\"visible\" width=\"30\">    <path d=\"M 0 -9 l 6 18 L 0 25\" fill=\"none\" style=\"stroke:rgb(255.0, 0.0, 81.08083606031792);stroke-width:2\" />  </svg></g><g transform=\"translate(-8,0)\">  <svg x=\"8.337243107019825%\" y=\"40\" height=\"18\" overflow=\"visible\" width=\"30\">    <path d=\"M 0 -9 l 6 18 L 0 25\" fill=\"none\" style=\"stroke:rgb(255.0, 0.0, 81.08083606031792);stroke-width:2\" />  </svg></g><g transform=\"translate(-6,0)\">  <svg x=\"8.337243107019825%\" y=\"40\" height=\"18\" overflow=\"visible\" width=\"30\">    <path d=\"M 0 -9 l 6 18 L 0 25\" fill=\"none\" style=\"stroke:rgb(255.0, 0.0, 81.08083606031792);stroke-width:2\" />  </svg></g><g transform=\"translate(-4,0)\">  <svg x=\"8.337243107019825%\" y=\"40\" height=\"18\" overflow=\"visible\" width=\"30\">    <path d=\"M 0 -9 l 6 18 L 0 25\" fill=\"none\" style=\"stroke:rgb(255.0, 0.0, 81.08083606031792);stroke-width:2\" />  </svg></g><g transform=\"translate(-2,0)\">  <svg x=\"8.337243107019825%\" y=\"40\" height=\"18\" overflow=\"visible\" width=\"30\">    <path d=\"M 0 -9 l 6 18 L 0 25\" fill=\"none\" style=\"stroke:rgb(255.0, 0.0, 81.08083606031792);stroke-width:2\" />  </svg></g><g transform=\"translate(0,0)\">  <svg x=\"7.471394359978744%\" y=\"40\" height=\"18\" overflow=\"visible\" width=\"30\">    <path d=\"M 0 -9 l 6 18 L 0 25\" fill=\"none\" style=\"stroke:rgb(255.0, 0.0, 81.08083606031792);stroke-width:2\" />  </svg></g><g transform=\"translate(2,0)\">  <svg x=\"7.471394359978744%\" y=\"40\" height=\"18\" overflow=\"visible\" width=\"30\">    <path d=\"M 0 -9 l 6 18 L 0 25\" fill=\"none\" style=\"stroke:rgb(255.0, 0.0, 81.08083606031792);stroke-width:2\" />  </svg></g><g transform=\"translate(4,0)\">  <svg x=\"7.471394359978744%\" y=\"40\" height=\"18\" overflow=\"visible\" width=\"30\">    <path d=\"M 0 -9 l 6 18 L 0 25\" fill=\"none\" style=\"stroke:rgb(255.0, 0.0, 81.08083606031792);stroke-width:2\" />  </svg></g><g transform=\"translate(6,0)\">  <svg x=\"7.471394359978744%\" y=\"40\" height=\"18\" overflow=\"visible\" width=\"30\">    <path d=\"M 0 -9 l 6 18 L 0 25\" fill=\"none\" style=\"stroke:rgb(255.0, 0.0, 81.08083606031792);stroke-width:2\" />  </svg></g><g transform=\"translate(-8,0)\">  <svg x=\"7.471394359978744%\" y=\"40\" height=\"18\" overflow=\"visible\" width=\"30\">    <path d=\"M 0 -9 l 6 18 L 0 25\" fill=\"none\" style=\"stroke:rgb(255.0, 0.0, 81.08083606031792);stroke-width:2\" />  </svg></g><g transform=\"translate(-6,0)\">  <svg x=\"7.471394359978744%\" y=\"40\" height=\"18\" overflow=\"visible\" width=\"30\">    <path d=\"M 0 -9 l 6 18 L 0 25\" fill=\"none\" style=\"stroke:rgb(255.0, 0.0, 81.08083606031792);stroke-width:2\" />  </svg></g><g transform=\"translate(-4,0)\">  <svg x=\"7.471394359978744%\" y=\"40\" height=\"18\" overflow=\"visible\" width=\"30\">    <path d=\"M 0 -9 l 6 18 L 0 25\" fill=\"none\" style=\"stroke:rgb(255.0, 0.0, 81.08083606031792);stroke-width:2\" />  </svg></g><g transform=\"translate(-2,0)\">  <svg x=\"7.471394359978744%\" y=\"40\" height=\"18\" overflow=\"visible\" width=\"30\">    <path d=\"M 0 -9 l 6 18 L 0 25\" fill=\"none\" style=\"stroke:rgb(255.0, 0.0, 81.08083606031792);stroke-width:2\" />  </svg></g><g transform=\"translate(0,0)\">  <svg x=\"6.727440574386654%\" y=\"40\" height=\"18\" overflow=\"visible\" width=\"30\">    <path d=\"M 0 -9 l 6 18 L 0 25\" fill=\"none\" style=\"stroke:rgb(255.0, 0.0, 81.08083606031792);stroke-width:2\" />  </svg></g><g transform=\"translate(2,0)\">  <svg x=\"6.727440574386654%\" y=\"40\" height=\"18\" overflow=\"visible\" width=\"30\">    <path d=\"M 0 -9 l 6 18 L 0 25\" fill=\"none\" style=\"stroke:rgb(255.0, 0.0, 81.08083606031792);stroke-width:2\" />  </svg></g><g transform=\"translate(4,0)\">  <svg x=\"6.727440574386654%\" y=\"40\" height=\"18\" overflow=\"visible\" width=\"30\">    <path d=\"M 0 -9 l 6 18 L 0 25\" fill=\"none\" style=\"stroke:rgb(255.0, 0.0, 81.08083606031792);stroke-width:2\" />  </svg></g><g transform=\"translate(6,0)\">  <svg x=\"6.727440574386654%\" y=\"40\" height=\"18\" overflow=\"visible\" width=\"30\">    <path d=\"M 0 -9 l 6 18 L 0 25\" fill=\"none\" style=\"stroke:rgb(255.0, 0.0, 81.08083606031792);stroke-width:2\" />  </svg></g><g transform=\"translate(-8,0)\">  <svg x=\"6.727440574386654%\" y=\"40\" height=\"18\" overflow=\"visible\" width=\"30\">    <path d=\"M 0 -9 l 6 18 L 0 25\" fill=\"none\" style=\"stroke:rgb(255.0, 0.0, 81.08083606031792);stroke-width:2\" />  </svg></g><g transform=\"translate(-6,0)\">  <svg x=\"6.727440574386654%\" y=\"40\" height=\"18\" overflow=\"visible\" width=\"30\">    <path d=\"M 0 -9 l 6 18 L 0 25\" fill=\"none\" style=\"stroke:rgb(255.0, 0.0, 81.08083606031792);stroke-width:2\" />  </svg></g><g transform=\"translate(-4,0)\">  <svg x=\"6.727440574386654%\" y=\"40\" height=\"18\" overflow=\"visible\" width=\"30\">    <path d=\"M 0 -9 l 6 18 L 0 25\" fill=\"none\" style=\"stroke:rgb(255.0, 0.0, 81.08083606031792);stroke-width:2\" />  </svg></g><g transform=\"translate(-2,0)\">  <svg x=\"6.727440574386654%\" y=\"40\" height=\"18\" overflow=\"visible\" width=\"30\">    <path d=\"M 0 -9 l 6 18 L 0 25\" fill=\"none\" style=\"stroke:rgb(255.0, 0.0, 81.08083606031792);stroke-width:2\" />  </svg></g><g transform=\"translate(0,0)\">  <svg x=\"6.178107014381324%\" y=\"40\" height=\"18\" overflow=\"visible\" width=\"30\">    <path d=\"M 0 -9 l 6 18 L 0 25\" fill=\"none\" style=\"stroke:rgb(255.0, 0.0, 81.08083606031792);stroke-width:2\" />  </svg></g><g transform=\"translate(2,0)\">  <svg x=\"6.178107014381324%\" y=\"40\" height=\"18\" overflow=\"visible\" width=\"30\">    <path d=\"M 0 -9 l 6 18 L 0 25\" fill=\"none\" style=\"stroke:rgb(255.0, 0.0, 81.08083606031792);stroke-width:2\" />  </svg></g><g transform=\"translate(4,0)\">  <svg x=\"6.178107014381324%\" y=\"40\" height=\"18\" overflow=\"visible\" width=\"30\">    <path d=\"M 0 -9 l 6 18 L 0 25\" fill=\"none\" style=\"stroke:rgb(255.0, 0.0, 81.08083606031792);stroke-width:2\" />  </svg></g><g transform=\"translate(6,0)\">  <svg x=\"6.178107014381324%\" y=\"40\" height=\"18\" overflow=\"visible\" width=\"30\">    <path d=\"M 0 -9 l 6 18 L 0 25\" fill=\"none\" style=\"stroke:rgb(255.0, 0.0, 81.08083606031792);stroke-width:2\" />  </svg></g><g transform=\"translate(-8,0)\">  <svg x=\"6.178107014381324%\" y=\"40\" height=\"18\" overflow=\"visible\" width=\"30\">    <path d=\"M 0 -9 l 6 18 L 0 25\" fill=\"none\" style=\"stroke:rgb(255.0, 0.0, 81.08083606031792);stroke-width:2\" />  </svg></g><g transform=\"translate(-6,0)\">  <svg x=\"6.178107014381324%\" y=\"40\" height=\"18\" overflow=\"visible\" width=\"30\">    <path d=\"M 0 -9 l 6 18 L 0 25\" fill=\"none\" style=\"stroke:rgb(255.0, 0.0, 81.08083606031792);stroke-width:2\" />  </svg></g><g transform=\"translate(-4,0)\">  <svg x=\"6.178107014381324%\" y=\"40\" height=\"18\" overflow=\"visible\" width=\"30\">    <path d=\"M 0 -9 l 6 18 L 0 25\" fill=\"none\" style=\"stroke:rgb(255.0, 0.0, 81.08083606031792);stroke-width:2\" />  </svg></g><g transform=\"translate(-2,0)\">  <svg x=\"6.178107014381324%\" y=\"40\" height=\"18\" overflow=\"visible\" width=\"30\">    <path d=\"M 0 -9 l 6 18 L 0 25\" fill=\"none\" style=\"stroke:rgb(255.0, 0.0, 81.08083606031792);stroke-width:2\" />  </svg></g><rect transform=\"translate(-8,0)\" x=\"61.26632567202987%\" y=\"40\" width=\"8\" height=\"18\" style=\"fill:rgb(255.0, 0.0, 81.08083606031792)\"/><g transform=\"translate(-11.5,0)\">  <svg x=\"5.838968717637082%\" y=\"40\" height=\"18\" overflow=\"visible\" width=\"30\">    <path d=\"M 10 -9 l 6 18 L 10 25 L 0 25 L 0 -9\" fill=\"#ffffff\" style=\"stroke:rgb(255,255,255);stroke-width:2\" />  </svg></g><g transform=\"translate(-1.5,0)\">  <svg x=\"61.26632567202987%\" y=\"40\" height=\"18\" overflow=\"visible\" width=\"30\">    <path d=\"M 0 -9 l 6 18 L 0 25\" fill=\"none\" style=\"stroke:rgb(255, 195, 213);stroke-width:2\" />  </svg></g><rect x=\"49.50161327519461%\" y=\"40\" height=\"20\" width=\"11.764712396835264%\"      onmouseover=\"document.getElementById('_tp_zpotbpnweyceprgdxgpq_ind_3').style.textDecoration = 'underline';document.getElementById('_fs_zpotbpnweyceprgdxgpq_ind_3').style.opacity = 1;document.getElementById('_fb_zpotbpnweyceprgdxgpq_ind_3').style.opacity = 1;\"      onmouseout=\"document.getElementById('_tp_zpotbpnweyceprgdxgpq_ind_3').style.textDecoration = 'none';document.getElementById('_fs_zpotbpnweyceprgdxgpq_ind_3').style.opacity = 0;document.getElementById('_fb_zpotbpnweyceprgdxgpq_ind_3').style.opacity = 0;\" style=\"fill:rgb(0,0,0,0)\" /><g transform=\"translate(-1.5,0)\">  <svg x=\"49.50161327519461%\" y=\"40\" height=\"18\" overflow=\"visible\" width=\"30\">    <path d=\"M 0 -9 l 6 18 L 0 25\" fill=\"none\" style=\"stroke:rgb(255, 195, 213);stroke-width:2\" />  </svg></g><rect x=\"39.09277629235914%\" y=\"40\" height=\"20\" width=\"10.408836982835467%\"      onmouseover=\"document.getElementById('_tp_zpotbpnweyceprgdxgpq_ind_16').style.textDecoration = 'underline';document.getElementById('_fs_zpotbpnweyceprgdxgpq_ind_16').style.opacity = 1;document.getElementById('_fb_zpotbpnweyceprgdxgpq_ind_16').style.opacity = 1;\"      onmouseout=\"document.getElementById('_tp_zpotbpnweyceprgdxgpq_ind_16').style.textDecoration = 'none';document.getElementById('_fs_zpotbpnweyceprgdxgpq_ind_16').style.opacity = 0;document.getElementById('_fb_zpotbpnweyceprgdxgpq_ind_16').style.opacity = 0;\" style=\"fill:rgb(0,0,0,0)\" /><g transform=\"translate(-1.5,0)\">  <svg x=\"39.09277629235914%\" y=\"40\" height=\"18\" overflow=\"visible\" width=\"30\">    <path d=\"M 0 -9 l 6 18 L 0 25\" fill=\"none\" style=\"stroke:rgb(255, 195, 213);stroke-width:2\" />  </svg></g><rect x=\"29.984240854484074%\" y=\"40\" height=\"20\" width=\"9.108535437875066%\"      onmouseover=\"document.getElementById('_tp_zpotbpnweyceprgdxgpq_ind_15').style.textDecoration = 'underline';document.getElementById('_fs_zpotbpnweyceprgdxgpq_ind_15').style.opacity = 1;document.getElementById('_fb_zpotbpnweyceprgdxgpq_ind_15').style.opacity = 1;\"      onmouseout=\"document.getElementById('_tp_zpotbpnweyceprgdxgpq_ind_15').style.textDecoration = 'none';document.getElementById('_fs_zpotbpnweyceprgdxgpq_ind_15').style.opacity = 0;document.getElementById('_fb_zpotbpnweyceprgdxgpq_ind_15').style.opacity = 0;\" style=\"fill:rgb(0,0,0,0)\" /><g transform=\"translate(-1.5,0)\">  <svg x=\"29.984240854484074%\" y=\"40\" height=\"18\" overflow=\"visible\" width=\"30\">    <path d=\"M 0 -9 l 6 18 L 0 25\" fill=\"none\" style=\"stroke:rgb(255, 195, 213);stroke-width:2\" />  </svg></g><rect x=\"26.104509834627525%\" y=\"40\" height=\"20\" width=\"3.87973101985655%\"      onmouseover=\"document.getElementById('_tp_zpotbpnweyceprgdxgpq_ind_34').style.textDecoration = 'underline';document.getElementById('_fs_zpotbpnweyceprgdxgpq_ind_34').style.opacity = 1;document.getElementById('_fb_zpotbpnweyceprgdxgpq_ind_34').style.opacity = 1;\"      onmouseout=\"document.getElementById('_tp_zpotbpnweyceprgdxgpq_ind_34').style.textDecoration = 'none';document.getElementById('_fs_zpotbpnweyceprgdxgpq_ind_34').style.opacity = 0;document.getElementById('_fb_zpotbpnweyceprgdxgpq_ind_34').style.opacity = 0;\" style=\"fill:rgb(0,0,0,0)\" /><g transform=\"translate(-1.5,0)\">  <svg x=\"26.104509834627525%\" y=\"40\" height=\"18\" overflow=\"visible\" width=\"30\">    <path d=\"M 0 -9 l 6 18 L 0 25\" fill=\"none\" style=\"stroke:rgb(255, 195, 213);stroke-width:2\" />  </svg></g><rect x=\"22.868356371720584%\" y=\"40\" height=\"20\" width=\"3.236153462906941%\"      onmouseover=\"document.getElementById('_tp_zpotbpnweyceprgdxgpq_ind_33').style.textDecoration = 'underline';document.getElementById('_fs_zpotbpnweyceprgdxgpq_ind_33').style.opacity = 1;document.getElementById('_fb_zpotbpnweyceprgdxgpq_ind_33').style.opacity = 1;\"      onmouseout=\"document.getElementById('_tp_zpotbpnweyceprgdxgpq_ind_33').style.textDecoration = 'none';document.getElementById('_fs_zpotbpnweyceprgdxgpq_ind_33').style.opacity = 0;document.getElementById('_fb_zpotbpnweyceprgdxgpq_ind_33').style.opacity = 0;\" style=\"fill:rgb(0,0,0,0)\" /><g transform=\"translate(-1.5,0)\">  <svg x=\"22.868356371720584%\" y=\"40\" height=\"18\" overflow=\"visible\" width=\"30\">    <path d=\"M 0 -9 l 6 18 L 0 25\" fill=\"none\" style=\"stroke:rgb(255, 195, 213);stroke-width:2\" />  </svg></g><rect x=\"19.737562893869107%\" y=\"40\" height=\"20\" width=\"3.1307934778514763%\"      onmouseover=\"document.getElementById('_tp_zpotbpnweyceprgdxgpq_ind_0').style.textDecoration = 'underline';document.getElementById('_fs_zpotbpnweyceprgdxgpq_ind_0').style.opacity = 1;document.getElementById('_fb_zpotbpnweyceprgdxgpq_ind_0').style.opacity = 1;\"      onmouseout=\"document.getElementById('_tp_zpotbpnweyceprgdxgpq_ind_0').style.textDecoration = 'none';document.getElementById('_fs_zpotbpnweyceprgdxgpq_ind_0').style.opacity = 0;document.getElementById('_fb_zpotbpnweyceprgdxgpq_ind_0').style.opacity = 0;\" style=\"fill:rgb(0,0,0,0)\" /><g transform=\"translate(-1.5,0)\">  <svg x=\"19.737562893869107%\" y=\"40\" height=\"18\" overflow=\"visible\" width=\"30\">    <path d=\"M 0 -9 l 6 18 L 0 25\" fill=\"none\" style=\"stroke:rgb(255, 195, 213);stroke-width:2\" />  </svg></g><rect x=\"17.259506654540836%\" y=\"40\" height=\"20\" width=\"2.4780562393282715%\"      onmouseover=\"document.getElementById('_tp_zpotbpnweyceprgdxgpq_ind_23').style.textDecoration = 'underline';document.getElementById('_fs_zpotbpnweyceprgdxgpq_ind_23').style.opacity = 1;document.getElementById('_fb_zpotbpnweyceprgdxgpq_ind_23').style.opacity = 1;\"      onmouseout=\"document.getElementById('_tp_zpotbpnweyceprgdxgpq_ind_23').style.textDecoration = 'none';document.getElementById('_fs_zpotbpnweyceprgdxgpq_ind_23').style.opacity = 0;document.getElementById('_fb_zpotbpnweyceprgdxgpq_ind_23').style.opacity = 0;\" style=\"fill:rgb(0,0,0,0)\" /><g transform=\"translate(-1.5,0)\">  <svg x=\"17.259506654540836%\" y=\"40\" height=\"18\" overflow=\"visible\" width=\"30\">    <path d=\"M 0 -9 l 6 18 L 0 25\" fill=\"none\" style=\"stroke:rgb(255, 195, 213);stroke-width:2\" />  </svg></g><rect x=\"14.831756125222439%\" y=\"40\" height=\"20\" width=\"2.4277505293183967%\"      onmouseover=\"document.getElementById('_tp_zpotbpnweyceprgdxgpq_ind_17').style.textDecoration = 'underline';document.getElementById('_fs_zpotbpnweyceprgdxgpq_ind_17').style.opacity = 1;document.getElementById('_fb_zpotbpnweyceprgdxgpq_ind_17').style.opacity = 1;\"      onmouseout=\"document.getElementById('_tp_zpotbpnweyceprgdxgpq_ind_17').style.textDecoration = 'none';document.getElementById('_fs_zpotbpnweyceprgdxgpq_ind_17').style.opacity = 0;document.getElementById('_fb_zpotbpnweyceprgdxgpq_ind_17').style.opacity = 0;\" style=\"fill:rgb(0,0,0,0)\" /><g transform=\"translate(-1.5,0)\">  <svg x=\"14.831756125222439%\" y=\"40\" height=\"18\" overflow=\"visible\" width=\"30\">    <path d=\"M 0 -9 l 6 18 L 0 25\" fill=\"none\" style=\"stroke:rgb(255, 195, 213);stroke-width:2\" />  </svg></g><rect x=\"12.765615214443455%\" y=\"40\" height=\"20\" width=\"2.0661409107789837%\"      onmouseover=\"document.getElementById('_tp_zpotbpnweyceprgdxgpq_ind_2').style.textDecoration = 'underline';document.getElementById('_fs_zpotbpnweyceprgdxgpq_ind_2').style.opacity = 1;document.getElementById('_fb_zpotbpnweyceprgdxgpq_ind_2').style.opacity = 1;\"      onmouseout=\"document.getElementById('_tp_zpotbpnweyceprgdxgpq_ind_2').style.textDecoration = 'none';document.getElementById('_fs_zpotbpnweyceprgdxgpq_ind_2').style.opacity = 0;document.getElementById('_fb_zpotbpnweyceprgdxgpq_ind_2').style.opacity = 0;\" style=\"fill:rgb(0,0,0,0)\" /><g transform=\"translate(-1.5,0)\">  <svg x=\"12.765615214443455%\" y=\"40\" height=\"18\" overflow=\"visible\" width=\"30\">    <path d=\"M 0 -9 l 6 18 L 0 25\" fill=\"none\" style=\"stroke:rgb(255, 195, 213);stroke-width:2\" />  </svg></g><rect x=\"10.924018797367252%\" y=\"40\" height=\"20\" width=\"1.8415964170762038%\"      onmouseover=\"document.getElementById('_tp_zpotbpnweyceprgdxgpq_ind_27').style.textDecoration = 'underline';document.getElementById('_fs_zpotbpnweyceprgdxgpq_ind_27').style.opacity = 1;document.getElementById('_fb_zpotbpnweyceprgdxgpq_ind_27').style.opacity = 1;\"      onmouseout=\"document.getElementById('_tp_zpotbpnweyceprgdxgpq_ind_27').style.textDecoration = 'none';document.getElementById('_fs_zpotbpnweyceprgdxgpq_ind_27').style.opacity = 0;document.getElementById('_fb_zpotbpnweyceprgdxgpq_ind_27').style.opacity = 0;\" style=\"fill:rgb(0,0,0,0)\" /><g transform=\"translate(-1.5,0)\">  <svg x=\"10.924018797367252%\" y=\"40\" height=\"18\" overflow=\"visible\" width=\"30\">    <path d=\"M 0 -9 l 6 18 L 0 25\" fill=\"none\" style=\"stroke:rgb(255, 195, 213);stroke-width:2\" />  </svg></g><rect x=\"9.447704627225846%\" y=\"40\" height=\"20\" width=\"1.4763141701414053%\"      onmouseover=\"document.getElementById('_tp_zpotbpnweyceprgdxgpq_ind_1').style.textDecoration = 'underline';document.getElementById('_fs_zpotbpnweyceprgdxgpq_ind_1').style.opacity = 1;document.getElementById('_fb_zpotbpnweyceprgdxgpq_ind_1').style.opacity = 1;\"      onmouseout=\"document.getElementById('_tp_zpotbpnweyceprgdxgpq_ind_1').style.textDecoration = 'none';document.getElementById('_fs_zpotbpnweyceprgdxgpq_ind_1').style.opacity = 0;document.getElementById('_fb_zpotbpnweyceprgdxgpq_ind_1').style.opacity = 0;\" style=\"fill:rgb(0,0,0,0)\" /><g transform=\"translate(-1.5,0)\">  <svg x=\"9.447704627225846%\" y=\"40\" height=\"18\" overflow=\"visible\" width=\"30\">    <path d=\"M 0 -9 l 6 18 L 0 25\" fill=\"none\" style=\"stroke:rgb(255, 195, 213);stroke-width:2\" />  </svg></g><rect x=\"8.337243107019825%\" y=\"40\" height=\"20\" width=\"1.1104615202060213%\"      onmouseover=\"document.getElementById('_tp_zpotbpnweyceprgdxgpq_ind_22').style.textDecoration = 'underline';document.getElementById('_fs_zpotbpnweyceprgdxgpq_ind_22').style.opacity = 1;document.getElementById('_fb_zpotbpnweyceprgdxgpq_ind_22').style.opacity = 1;\"      onmouseout=\"document.getElementById('_tp_zpotbpnweyceprgdxgpq_ind_22').style.textDecoration = 'none';document.getElementById('_fs_zpotbpnweyceprgdxgpq_ind_22').style.opacity = 0;document.getElementById('_fb_zpotbpnweyceprgdxgpq_ind_22').style.opacity = 0;\" style=\"fill:rgb(0,0,0,0)\" /><g transform=\"translate(-1.5,0)\">  <svg x=\"8.337243107019825%\" y=\"40\" height=\"18\" overflow=\"visible\" width=\"30\">    <path d=\"M 0 -9 l 6 18 L 0 25\" fill=\"none\" style=\"stroke:rgb(255, 195, 213);stroke-width:2\" />  </svg></g><rect x=\"7.471394359978744%\" y=\"40\" height=\"20\" width=\"0.8658487470410812%\"      onmouseover=\"document.getElementById('_tp_zpotbpnweyceprgdxgpq_ind_28').style.textDecoration = 'underline';document.getElementById('_fs_zpotbpnweyceprgdxgpq_ind_28').style.opacity = 1;document.getElementById('_fb_zpotbpnweyceprgdxgpq_ind_28').style.opacity = 1;\"      onmouseout=\"document.getElementById('_tp_zpotbpnweyceprgdxgpq_ind_28').style.textDecoration = 'none';document.getElementById('_fs_zpotbpnweyceprgdxgpq_ind_28').style.opacity = 0;document.getElementById('_fb_zpotbpnweyceprgdxgpq_ind_28').style.opacity = 0;\" style=\"fill:rgb(0,0,0,0)\" /><g transform=\"translate(-1.5,0)\">  <svg x=\"7.471394359978744%\" y=\"40\" height=\"18\" overflow=\"visible\" width=\"30\">    <path d=\"M 0 -9 l 6 18 L 0 25\" fill=\"none\" style=\"stroke:rgb(255, 195, 213);stroke-width:2\" />  </svg></g><rect x=\"6.727440574386654%\" y=\"40\" height=\"20\" width=\"0.7439537855920895%\"      onmouseover=\"document.getElementById('_tp_zpotbpnweyceprgdxgpq_ind_5').style.textDecoration = 'underline';document.getElementById('_fs_zpotbpnweyceprgdxgpq_ind_5').style.opacity = 1;document.getElementById('_fb_zpotbpnweyceprgdxgpq_ind_5').style.opacity = 1;\"      onmouseout=\"document.getElementById('_tp_zpotbpnweyceprgdxgpq_ind_5').style.textDecoration = 'none';document.getElementById('_fs_zpotbpnweyceprgdxgpq_ind_5').style.opacity = 0;document.getElementById('_fb_zpotbpnweyceprgdxgpq_ind_5').style.opacity = 0;\" style=\"fill:rgb(0,0,0,0)\" /><g transform=\"translate(-1.5,0)\">  <svg x=\"6.727440574386654%\" y=\"40\" height=\"18\" overflow=\"visible\" width=\"30\">    <path d=\"M 0 -9 l 6 18 L 0 25\" fill=\"none\" style=\"stroke:rgb(255, 195, 213);stroke-width:2\" />  </svg></g><rect x=\"6.178107014381324%\" y=\"40\" height=\"20\" width=\"0.54933356000533%\"      onmouseover=\"document.getElementById('_tp_zpotbpnweyceprgdxgpq_ind_24').style.textDecoration = 'underline';document.getElementById('_fs_zpotbpnweyceprgdxgpq_ind_24').style.opacity = 1;document.getElementById('_fb_zpotbpnweyceprgdxgpq_ind_24').style.opacity = 1;\"      onmouseout=\"document.getElementById('_tp_zpotbpnweyceprgdxgpq_ind_24').style.textDecoration = 'none';document.getElementById('_fs_zpotbpnweyceprgdxgpq_ind_24').style.opacity = 0;document.getElementById('_fb_zpotbpnweyceprgdxgpq_ind_24').style.opacity = 0;\" style=\"fill:rgb(0,0,0,0)\" /><rect x=\"5.838968717637082%\" y=\"40\" height=\"20\" width=\"0.3391382967442427%\"      onmouseover=\"document.getElementById('_tp_zpotbpnweyceprgdxgpq_ind_7').style.textDecoration = 'underline';document.getElementById('_fs_zpotbpnweyceprgdxgpq_ind_7').style.opacity = 1;document.getElementById('_fb_zpotbpnweyceprgdxgpq_ind_7').style.opacity = 1;\"      onmouseout=\"document.getElementById('_tp_zpotbpnweyceprgdxgpq_ind_7').style.textDecoration = 'none';document.getElementById('_fs_zpotbpnweyceprgdxgpq_ind_7').style.opacity = 0;document.getElementById('_fb_zpotbpnweyceprgdxgpq_ind_7').style.opacity = 0;\" style=\"fill:rgb(0,0,0,0)\" /><rect x=\"61.26632567202987%\" width=\"32.894703894743216%\" y=\"40\" height=\"18\" style=\"fill:rgb(0.0, 138.56128015770727, 250.76166088685738); stroke-width:0; stroke:rgb(0,0,0)\" /><line x1=\"61.26632567202987%\" x2=\"65.32757937809777%\" y1=\"60\" y2=\"60\" id=\"_fb_zpotbpnweyceprgdxgpq_ind_21\" style=\"stroke:rgb(0.0, 138.56128015770727, 250.76166088685738);stroke-width:2; opacity: 0\"/><text x=\"63.296952525063816%\" y=\"71\" font-size=\"12px\" fill=\"rgb(0.0, 138.56128015770727, 250.76166088685738)\" id=\"_fs_zpotbpnweyceprgdxgpq_ind_21\" style=\"opacity: 0\" dominant-baseline=\"middle\" text-anchor=\"middle\">-0.024</text><svg x=\"61.26632567202987%\" y=\"40\" height=\"20\" width=\"4.061253706067895%\">  <svg x=\"0\" y=\"0\" width=\"100%\" height=\"100%\">    <text x=\"50%\" y=\"9\" font-size=\"12px\" fill=\"rgb(255,255,255)\" dominant-baseline=\"middle\" text-anchor=\"middle\">für</text>  </svg></svg><line x1=\"65.32757937809777%\" x2=\"68.83021681448857%\" y1=\"60\" y2=\"60\" id=\"_fb_zpotbpnweyceprgdxgpq_ind_11\" style=\"stroke:rgb(0.0, 138.56128015770727, 250.76166088685738);stroke-width:2; opacity: 0\"/><text x=\"67.07889809629316%\" y=\"71\" font-size=\"12px\" fill=\"rgb(0.0, 138.56128015770727, 250.76166088685738)\" id=\"_fs_zpotbpnweyceprgdxgpq_ind_11\" style=\"opacity: 0\" dominant-baseline=\"middle\" text-anchor=\"middle\">-0.02</text><svg x=\"65.32757937809777%\" y=\"40\" height=\"20\" width=\"3.502637436390799%\">  <svg x=\"0\" y=\"0\" width=\"100%\" height=\"100%\">    <text x=\"50%\" y=\"9\" font-size=\"12px\" fill=\"rgb(255,255,255)\" dominant-baseline=\"middle\" text-anchor=\"middle\">pflicht</text>  </svg></svg><line x1=\"68.83021681448857%\" x2=\"71.9314880225292%\" y1=\"60\" y2=\"60\" id=\"_fb_zpotbpnweyceprgdxgpq_ind_25\" style=\"stroke:rgb(0.0, 138.56128015770727, 250.76166088685738);stroke-width:2; opacity: 0\"/><text x=\"70.38085241850888%\" y=\"71\" font-size=\"12px\" fill=\"rgb(0.0, 138.56128015770727, 250.76166088685738)\" id=\"_fs_zpotbpnweyceprgdxgpq_ind_25\" style=\"opacity: 0\" dominant-baseline=\"middle\" text-anchor=\"middle\">-0.018</text><svg x=\"68.83021681448857%\" y=\"40\" height=\"20\" width=\"3.101271208040629%\">  <svg x=\"0\" y=\"0\" width=\"100%\" height=\"100%\">    <text x=\"50%\" y=\"9\" font-size=\"12px\" fill=\"rgb(255,255,255)\" dominant-baseline=\"middle\" text-anchor=\"middle\">Wenn</text>  </svg></svg><line x1=\"71.9314880225292%\" x2=\"74.85612475427445%\" y1=\"60\" y2=\"60\" id=\"_fb_zpotbpnweyceprgdxgpq_ind_12\" style=\"stroke:rgb(0.0, 138.56128015770727, 250.76166088685738);stroke-width:2; opacity: 0\"/><text x=\"73.39380638840183%\" y=\"71\" font-size=\"12px\" fill=\"rgb(0.0, 138.56128015770727, 250.76166088685738)\" id=\"_fs_zpotbpnweyceprgdxgpq_ind_12\" style=\"opacity: 0\" dominant-baseline=\"middle\" text-anchor=\"middle\">-0.017</text><svg x=\"71.9314880225292%\" y=\"40\" height=\"20\" width=\"2.9246367317452524%\">  <svg x=\"0\" y=\"0\" width=\"100%\" height=\"100%\">    <text x=\"50%\" y=\"9\" font-size=\"12px\" fill=\"rgb(255,255,255)\" dominant-baseline=\"middle\" text-anchor=\"middle\">gleichzeitig</text>  </svg></svg><line x1=\"74.85612475427445%\" x2=\"77.40838770777451%\" y1=\"60\" y2=\"60\" id=\"_fb_zpotbpnweyceprgdxgpq_ind_26\" style=\"stroke:rgb(0.0, 138.56128015770727, 250.76166088685738);stroke-width:2; opacity: 0\"/><text x=\"76.13225623102448%\" y=\"71\" font-size=\"12px\" fill=\"rgb(0.0, 138.56128015770727, 250.76166088685738)\" id=\"_fs_zpotbpnweyceprgdxgpq_ind_26\" style=\"opacity: 0\" dominant-baseline=\"middle\" text-anchor=\"middle\">-0.015</text><svg x=\"74.85612475427445%\" y=\"40\" height=\"20\" width=\"2.552262953500062%\">  <svg x=\"0\" y=\"0\" width=\"100%\" height=\"100%\">    <text x=\"50%\" y=\"9\" font-size=\"12px\" fill=\"rgb(255,255,255)\" dominant-baseline=\"middle\" text-anchor=\"middle\">schon</text>  </svg></svg><line x1=\"77.40838770777451%\" x2=\"79.85831461100598%\" y1=\"60\" y2=\"60\" id=\"_fb_zpotbpnweyceprgdxgpq_ind_19\" style=\"stroke:rgb(0.0, 138.56128015770727, 250.76166088685738);stroke-width:2; opacity: 0\"/><text x=\"78.63335115939024%\" y=\"71\" font-size=\"12px\" fill=\"rgb(0.0, 138.56128015770727, 250.76166088685738)\" id=\"_fs_zpotbpnweyceprgdxgpq_ind_19\" style=\"opacity: 0\" dominant-baseline=\"middle\" text-anchor=\"middle\">-0.014</text><svg x=\"77.40838770777451%\" y=\"40\" height=\"20\" width=\"2.4499269032314714%\">  <svg x=\"0\" y=\"0\" width=\"100%\" height=\"100%\">    <text x=\"50%\" y=\"9\" font-size=\"12px\" fill=\"rgb(255,255,255)\" dominant-baseline=\"middle\" text-anchor=\"middle\">Gebäuden</text>  </svg></svg><line x1=\"79.85831461100598%\" x2=\"82.1927644653172%\" y1=\"60\" y2=\"60\" id=\"_fb_zpotbpnweyceprgdxgpq_ind_29\" style=\"stroke:rgb(0.0, 138.56128015770727, 250.76166088685738);stroke-width:2; opacity: 0\"/><text x=\"81.02553953816158%\" y=\"71\" font-size=\"12px\" fill=\"rgb(0.0, 138.56128015770727, 250.76166088685738)\" id=\"_fs_zpotbpnweyceprgdxgpq_ind_29\" style=\"opacity: 0\" dominant-baseline=\"middle\" text-anchor=\"middle\">-0.014</text><svg x=\"79.85831461100598%\" y=\"40\" height=\"20\" width=\"2.3344498543112167%\">  <svg x=\"0\" y=\"0\" width=\"100%\" height=\"100%\">    <text x=\"50%\" y=\"9\" font-size=\"12px\" fill=\"rgb(255,255,255)\" dominant-baseline=\"middle\" text-anchor=\"middle\">Toleranz</text>  </svg></svg><line x1=\"82.1927644653172%\" x2=\"84.49469208154333%\" y1=\"60\" y2=\"60\" id=\"_fb_zpotbpnweyceprgdxgpq_ind_18\" style=\"stroke:rgb(0.0, 138.56128015770727, 250.76166088685738);stroke-width:2; opacity: 0\"/><text x=\"83.34372827343026%\" y=\"71\" font-size=\"12px\" fill=\"rgb(0.0, 138.56128015770727, 250.76166088685738)\" id=\"_fs_zpotbpnweyceprgdxgpq_ind_18\" style=\"opacity: 0\" dominant-baseline=\"middle\" text-anchor=\"middle\">-0.013</text><svg x=\"82.1927644653172%\" y=\"40\" height=\"20\" width=\"2.3019276162261377%\">  <svg x=\"0\" y=\"0\" width=\"100%\" height=\"100%\">    <text x=\"50%\" y=\"9\" font-size=\"12px\" fill=\"rgb(255,255,255)\" dominant-baseline=\"middle\" text-anchor=\"middle\">öffentlichen</text>  </svg></svg><line x1=\"84.49469208154333%\" x2=\"86.2069198198721%\" y1=\"60\" y2=\"60\" id=\"_fb_zpotbpnweyceprgdxgpq_ind_9\" style=\"stroke:rgb(0.0, 138.56128015770727, 250.76166088685738);stroke-width:2; opacity: 0\"/><text x=\"85.35080595070772%\" y=\"71\" font-size=\"12px\" fill=\"rgb(0.0, 138.56128015770727, 250.76166088685738)\" id=\"_fs_zpotbpnweyceprgdxgpq_ind_9\" style=\"opacity: 0\" dominant-baseline=\"middle\" text-anchor=\"middle\">-0.01</text><svg x=\"84.49469208154333%\" y=\"40\" height=\"20\" width=\"1.7122277383287638%\">  <svg x=\"0\" y=\"0\" width=\"100%\" height=\"100%\">    <text x=\"50%\" y=\"9\" font-size=\"12px\" fill=\"rgb(255,255,255)\" dominant-baseline=\"middle\" text-anchor=\"middle\">zur</text>  </svg></svg><line x1=\"86.2069198198721%\" x2=\"87.64837965047279%\" y1=\"60\" y2=\"60\" id=\"_fb_zpotbpnweyceprgdxgpq_ind_14\" style=\"stroke:rgb(0.0, 138.56128015770727, 250.76166088685738);stroke-width:2; opacity: 0\"/><text x=\"86.92764973517245%\" y=\"71\" font-size=\"12px\" fill=\"rgb(0.0, 138.56128015770727, 250.76166088685738)\" id=\"_fs_zpotbpnweyceprgdxgpq_ind_14\" style=\"opacity: 0\" dominant-baseline=\"middle\" text-anchor=\"middle\">-0.008</text><svg x=\"86.2069198198721%\" y=\"40\" height=\"20\" width=\"1.4414598306006923%\">  <svg x=\"0\" y=\"0\" width=\"100%\" height=\"100%\">    <text x=\"50%\" y=\"9\" font-size=\"12px\" fill=\"rgb(255,255,255)\" dominant-baseline=\"middle\" text-anchor=\"middle\">das</text>  </svg></svg><line x1=\"87.64837965047279%\" x2=\"88.94853963323192%\" y1=\"60\" y2=\"60\" id=\"_fb_zpotbpnweyceprgdxgpq_ind_30\" style=\"stroke:rgb(0.0, 138.56128015770727, 250.76166088685738);stroke-width:2; opacity: 0\"/><text x=\"88.29845964185236%\" y=\"71\" font-size=\"12px\" fill=\"rgb(0.0, 138.56128015770727, 250.76166088685738)\" id=\"_fs_zpotbpnweyceprgdxgpq_ind_30\" style=\"opacity: 0\" dominant-baseline=\"middle\" text-anchor=\"middle\">-0.008</text><svg x=\"87.64837965047279%\" y=\"40\" height=\"20\" width=\"1.3001599827591264%\">  <svg x=\"0\" y=\"0\" width=\"100%\" height=\"100%\">    <text x=\"50%\" y=\"9\" font-size=\"12px\" fill=\"rgb(255,255,255)\" dominant-baseline=\"middle\" text-anchor=\"middle\">für</text>  </svg></svg><line x1=\"88.94853963323192%\" x2=\"90.21626589422594%\" y1=\"60\" y2=\"60\" id=\"_fb_zpotbpnweyceprgdxgpq_ind_8\" style=\"stroke:rgb(0.0, 138.56128015770727, 250.76166088685738);stroke-width:2; opacity: 0\"/><text x=\"89.58240276372894%\" y=\"71\" font-size=\"12px\" fill=\"rgb(0.0, 138.56128015770727, 250.76166088685738)\" id=\"_fs_zpotbpnweyceprgdxgpq_ind_8\" style=\"opacity: 0\" dominant-baseline=\"middle\" text-anchor=\"middle\">-0.007</text><svg x=\"88.94853963323192%\" y=\"40\" height=\"20\" width=\"1.2677262609940243%\">  <svg x=\"0\" y=\"0\" width=\"100%\" height=\"100%\">    <text x=\"50%\" y=\"9\" font-size=\"12px\" fill=\"rgb(255,255,255)\" dominant-baseline=\"middle\" text-anchor=\"middle\">wird</text>  </svg></svg><line x1=\"90.21626589422594%\" x2=\"91.33604655320292%\" y1=\"60\" y2=\"60\" id=\"_fb_zpotbpnweyceprgdxgpq_ind_10\" style=\"stroke:rgb(0.0, 138.56128015770727, 250.76166088685738);stroke-width:2; opacity: 0\"/><text x=\"90.77615622371442%\" y=\"71\" font-size=\"12px\" fill=\"rgb(0.0, 138.56128015770727, 250.76166088685738)\" id=\"_fs_zpotbpnweyceprgdxgpq_ind_10\" style=\"opacity: 0\" dominant-baseline=\"middle\" text-anchor=\"middle\">-0.007</text><svg x=\"90.21626589422594%\" y=\"40\" height=\"20\" width=\"1.1197806589769783%\">  <svg x=\"0\" y=\"0\" width=\"100%\" height=\"100%\">    <text x=\"50%\" y=\"9\" font-size=\"12px\" fill=\"rgb(255,255,255)\" dominant-baseline=\"middle\" text-anchor=\"middle\">Bürger</text>  </svg></svg><line x1=\"91.33604655320292%\" x2=\"92.35078230687714%\" y1=\"60\" y2=\"60\" id=\"_fb_zpotbpnweyceprgdxgpq_ind_6\" style=\"stroke:rgb(0.0, 138.56128015770727, 250.76166088685738);stroke-width:2; opacity: 0\"/><text x=\"91.84341443004003%\" y=\"71\" font-size=\"12px\" fill=\"rgb(0.0, 138.56128015770727, 250.76166088685738)\" id=\"_fs_zpotbpnweyceprgdxgpq_ind_6\" style=\"opacity: 0\" dominant-baseline=\"middle\" text-anchor=\"middle\">-0.006</text><svg x=\"91.33604655320292%\" y=\"40\" height=\"20\" width=\"1.0147357536742163%\">  <svg x=\"0\" y=\"0\" width=\"100%\" height=\"100%\">    <text x=\"50%\" y=\"9\" font-size=\"12px\" fill=\"rgb(255,255,255)\" dominant-baseline=\"middle\" text-anchor=\"middle\">Tra</text>  </svg></svg><line x1=\"92.35078230687714%\" x2=\"93.25445212816899%\" y1=\"60\" y2=\"60\" id=\"_fb_zpotbpnweyceprgdxgpq_ind_31\" style=\"stroke:rgb(0.0, 138.56128015770727, 250.76166088685738);stroke-width:2; opacity: 0\"/><text x=\"92.80261721752306%\" y=\"71\" font-size=\"12px\" fill=\"rgb(0.0, 138.56128015770727, 250.76166088685738)\" id=\"_fs_zpotbpnweyceprgdxgpq_ind_31\" style=\"opacity: 0\" dominant-baseline=\"middle\" text-anchor=\"middle\">-0.005</text><svg x=\"92.35078230687714%\" y=\"40\" height=\"20\" width=\"0.9036698212918566%\">  <svg x=\"0\" y=\"0\" width=\"100%\" height=\"100%\">    <text x=\"50%\" y=\"9\" font-size=\"12px\" fill=\"rgb(255,255,255)\" dominant-baseline=\"middle\" text-anchor=\"middle\">alle</text>  </svg></svg><line x1=\"93.25445212816899%\" x2=\"93.85988330540306%\" y1=\"60\" y2=\"60\" id=\"_fb_zpotbpnweyceprgdxgpq_ind_4\" style=\"stroke:rgb(0.0, 138.56128015770727, 250.76166088685738);stroke-width:2; opacity: 0\"/><text x=\"93.55716771678603%\" y=\"71\" font-size=\"12px\" fill=\"rgb(0.0, 138.56128015770727, 250.76166088685738)\" id=\"_fs_zpotbpnweyceprgdxgpq_ind_4\" style=\"opacity: 0\" dominant-baseline=\"middle\" text-anchor=\"middle\">-0.004</text><svg x=\"93.25445212816899%\" y=\"40\" height=\"20\" width=\"0.6054311772340668%\">  <svg x=\"0\" y=\"0\" width=\"100%\" height=\"100%\">    <text x=\"50%\" y=\"9\" font-size=\"12px\" fill=\"rgb(255,255,255)\" dominant-baseline=\"middle\" text-anchor=\"middle\">Kipp</text>  </svg></svg><line x1=\"93.85988330540306%\" x2=\"94.10152518966242%\" y1=\"60\" y2=\"60\" id=\"_fb_zpotbpnweyceprgdxgpq_ind_32\" style=\"stroke:rgb(0.0, 138.56128015770727, 250.76166088685738);stroke-width:2; opacity: 0\"/><text x=\"93.98070424753274%\" y=\"71\" font-size=\"12px\" fill=\"rgb(0.0, 138.56128015770727, 250.76166088685738)\" id=\"_fs_zpotbpnweyceprgdxgpq_ind_32\" style=\"opacity: 0\" dominant-baseline=\"middle\" text-anchor=\"middle\">-0.001</text><svg x=\"93.85988330540306%\" y=\"40\" height=\"20\" width=\"0.24164188425936572%\">  <svg x=\"0\" y=\"0\" width=\"100%\" height=\"100%\">    <text x=\"50%\" y=\"9\" font-size=\"12px\" fill=\"rgb(255,255,255)\" dominant-baseline=\"middle\" text-anchor=\"middle\">Glaubens</text>  </svg></svg><line x1=\"94.10152518966242%\" x2=\"94.13823517638768%\" y1=\"60\" y2=\"60\" id=\"_fb_zpotbpnweyceprgdxgpq_ind_20\" style=\"stroke:rgb(0.0, 138.56128015770727, 250.76166088685738);stroke-width:2; opacity: 0\"/><text x=\"94.11988018302506%\" y=\"71\" font-size=\"12px\" fill=\"rgb(0.0, 138.56128015770727, 250.76166088685738)\" id=\"_fs_zpotbpnweyceprgdxgpq_ind_20\" style=\"opacity: 0\" dominant-baseline=\"middle\" text-anchor=\"middle\">-0.0</text><svg x=\"94.10152518966242%\" y=\"40\" height=\"20\" width=\"0.03670998672525627%\">  <svg x=\"0\" y=\"0\" width=\"100%\" height=\"100%\">    <text x=\"50%\" y=\"9\" font-size=\"12px\" fill=\"rgb(255,255,255)\" dominant-baseline=\"middle\" text-anchor=\"middle\">und</text>  </svg></svg><line x1=\"94.13823517638768%\" x2=\"94.16102956677311%\" y1=\"60\" y2=\"60\" id=\"_fb_zpotbpnweyceprgdxgpq_ind_13\" style=\"stroke:rgb(0.0, 138.56128015770727, 250.76166088685738);stroke-width:2; opacity: 0\"/><text x=\"94.1496323715804%\" y=\"71\" font-size=\"12px\" fill=\"rgb(0.0, 138.56128015770727, 250.76166088685738)\" id=\"_fs_zpotbpnweyceprgdxgpq_ind_13\" style=\"opacity: 0\" dominant-baseline=\"middle\" text-anchor=\"middle\">-0.0</text><svg x=\"94.13823517638768%\" y=\"40\" height=\"20\" width=\"0.022794390385428187%\">  <svg x=\"0\" y=\"0\" width=\"100%\" height=\"100%\">    <text x=\"50%\" y=\"9\" font-size=\"12px\" fill=\"rgb(255,255,255)\" dominant-baseline=\"middle\" text-anchor=\"middle\">soll</text>  </svg></svg><g transform=\"translate(-8,0)\">  <svg x=\"65.32757937809777%\" y=\"40\" height=\"18\" overflow=\"visible\" width=\"30\">    <path d=\"M 8 -9 l -6 18 L 8 25\" fill=\"none\" style=\"stroke:rgb(0.0, 138.56128015770727, 250.76166088685738);stroke-width:2\" />  </svg></g><g transform=\"translate(-10,0)\">  <svg x=\"65.32757937809777%\" y=\"40\" height=\"18\" overflow=\"visible\" width=\"30\">    <path d=\"M 8 -9 l -6 18 L 8 25\" fill=\"none\" style=\"stroke:rgb(0.0, 138.56128015770727, 250.76166088685738);stroke-width:2\" />  </svg></g><g transform=\"translate(-12,0)\">  <svg x=\"65.32757937809777%\" y=\"40\" height=\"18\" overflow=\"visible\" width=\"30\">    <path d=\"M 8 -9 l -6 18 L 8 25\" fill=\"none\" style=\"stroke:rgb(0.0, 138.56128015770727, 250.76166088685738);stroke-width:2\" />  </svg></g><g transform=\"translate(-14,0)\">  <svg x=\"65.32757937809777%\" y=\"40\" height=\"18\" overflow=\"visible\" width=\"30\">    <path d=\"M 8 -9 l -6 18 L 8 25\" fill=\"none\" style=\"stroke:rgb(0.0, 138.56128015770727, 250.76166088685738);stroke-width:2\" />  </svg></g><g transform=\"translate(2,0)\">  <svg x=\"65.32757937809777%\" y=\"40\" height=\"18\" overflow=\"visible\" width=\"30\">    <path d=\"M 8 -9 l -6 18 L 8 25\" fill=\"none\" style=\"stroke:rgb(0.0, 138.56128015770727, 250.76166088685738);stroke-width:2\" />  </svg></g><g transform=\"translate(0,0)\">  <svg x=\"65.32757937809777%\" y=\"40\" height=\"18\" overflow=\"visible\" width=\"30\">    <path d=\"M 8 -9 l -6 18 L 8 25\" fill=\"none\" style=\"stroke:rgb(0.0, 138.56128015770727, 250.76166088685738);stroke-width:2\" />  </svg></g><g transform=\"translate(-2,0)\">  <svg x=\"65.32757937809777%\" y=\"40\" height=\"18\" overflow=\"visible\" width=\"30\">    <path d=\"M 8 -9 l -6 18 L 8 25\" fill=\"none\" style=\"stroke:rgb(0.0, 138.56128015770727, 250.76166088685738);stroke-width:2\" />  </svg></g><g transform=\"translate(-4,0)\">  <svg x=\"65.32757937809777%\" y=\"40\" height=\"18\" overflow=\"visible\" width=\"30\">    <path d=\"M 8 -9 l -6 18 L 8 25\" fill=\"none\" style=\"stroke:rgb(0.0, 138.56128015770727, 250.76166088685738);stroke-width:2\" />  </svg></g><g transform=\"translate(-8,0)\">  <svg x=\"68.83021681448857%\" y=\"40\" height=\"18\" overflow=\"visible\" width=\"30\">    <path d=\"M 8 -9 l -6 18 L 8 25\" fill=\"none\" style=\"stroke:rgb(0.0, 138.56128015770727, 250.76166088685738);stroke-width:2\" />  </svg></g><g transform=\"translate(-10,0)\">  <svg x=\"68.83021681448857%\" y=\"40\" height=\"18\" overflow=\"visible\" width=\"30\">    <path d=\"M 8 -9 l -6 18 L 8 25\" fill=\"none\" style=\"stroke:rgb(0.0, 138.56128015770727, 250.76166088685738);stroke-width:2\" />  </svg></g><g transform=\"translate(-12,0)\">  <svg x=\"68.83021681448857%\" y=\"40\" height=\"18\" overflow=\"visible\" width=\"30\">    <path d=\"M 8 -9 l -6 18 L 8 25\" fill=\"none\" style=\"stroke:rgb(0.0, 138.56128015770727, 250.76166088685738);stroke-width:2\" />  </svg></g><g transform=\"translate(-14,0)\">  <svg x=\"68.83021681448857%\" y=\"40\" height=\"18\" overflow=\"visible\" width=\"30\">    <path d=\"M 8 -9 l -6 18 L 8 25\" fill=\"none\" style=\"stroke:rgb(0.0, 138.56128015770727, 250.76166088685738);stroke-width:2\" />  </svg></g><g transform=\"translate(2,0)\">  <svg x=\"68.83021681448857%\" y=\"40\" height=\"18\" overflow=\"visible\" width=\"30\">    <path d=\"M 8 -9 l -6 18 L 8 25\" fill=\"none\" style=\"stroke:rgb(0.0, 138.56128015770727, 250.76166088685738);stroke-width:2\" />  </svg></g><g transform=\"translate(0,0)\">  <svg x=\"68.83021681448857%\" y=\"40\" height=\"18\" overflow=\"visible\" width=\"30\">    <path d=\"M 8 -9 l -6 18 L 8 25\" fill=\"none\" style=\"stroke:rgb(0.0, 138.56128015770727, 250.76166088685738);stroke-width:2\" />  </svg></g><g transform=\"translate(-2,0)\">  <svg x=\"68.83021681448857%\" y=\"40\" height=\"18\" overflow=\"visible\" width=\"30\">    <path d=\"M 8 -9 l -6 18 L 8 25\" fill=\"none\" style=\"stroke:rgb(0.0, 138.56128015770727, 250.76166088685738);stroke-width:2\" />  </svg></g><g transform=\"translate(-4,0)\">  <svg x=\"68.83021681448857%\" y=\"40\" height=\"18\" overflow=\"visible\" width=\"30\">    <path d=\"M 8 -9 l -6 18 L 8 25\" fill=\"none\" style=\"stroke:rgb(0.0, 138.56128015770727, 250.76166088685738);stroke-width:2\" />  </svg></g><g transform=\"translate(-8,0)\">  <svg x=\"71.9314880225292%\" y=\"40\" height=\"18\" overflow=\"visible\" width=\"30\">    <path d=\"M 8 -9 l -6 18 L 8 25\" fill=\"none\" style=\"stroke:rgb(0.0, 138.56128015770727, 250.76166088685738);stroke-width:2\" />  </svg></g><g transform=\"translate(-10,0)\">  <svg x=\"71.9314880225292%\" y=\"40\" height=\"18\" overflow=\"visible\" width=\"30\">    <path d=\"M 8 -9 l -6 18 L 8 25\" fill=\"none\" style=\"stroke:rgb(0.0, 138.56128015770727, 250.76166088685738);stroke-width:2\" />  </svg></g><g transform=\"translate(-12,0)\">  <svg x=\"71.9314880225292%\" y=\"40\" height=\"18\" overflow=\"visible\" width=\"30\">    <path d=\"M 8 -9 l -6 18 L 8 25\" fill=\"none\" style=\"stroke:rgb(0.0, 138.56128015770727, 250.76166088685738);stroke-width:2\" />  </svg></g><g transform=\"translate(-14,0)\">  <svg x=\"71.9314880225292%\" y=\"40\" height=\"18\" overflow=\"visible\" width=\"30\">    <path d=\"M 8 -9 l -6 18 L 8 25\" fill=\"none\" style=\"stroke:rgb(0.0, 138.56128015770727, 250.76166088685738);stroke-width:2\" />  </svg></g><g transform=\"translate(2,0)\">  <svg x=\"71.9314880225292%\" y=\"40\" height=\"18\" overflow=\"visible\" width=\"30\">    <path d=\"M 8 -9 l -6 18 L 8 25\" fill=\"none\" style=\"stroke:rgb(0.0, 138.56128015770727, 250.76166088685738);stroke-width:2\" />  </svg></g><g transform=\"translate(0,0)\">  <svg x=\"71.9314880225292%\" y=\"40\" height=\"18\" overflow=\"visible\" width=\"30\">    <path d=\"M 8 -9 l -6 18 L 8 25\" fill=\"none\" style=\"stroke:rgb(0.0, 138.56128015770727, 250.76166088685738);stroke-width:2\" />  </svg></g><g transform=\"translate(-2,0)\">  <svg x=\"71.9314880225292%\" y=\"40\" height=\"18\" overflow=\"visible\" width=\"30\">    <path d=\"M 8 -9 l -6 18 L 8 25\" fill=\"none\" style=\"stroke:rgb(0.0, 138.56128015770727, 250.76166088685738);stroke-width:2\" />  </svg></g><g transform=\"translate(-4,0)\">  <svg x=\"71.9314880225292%\" y=\"40\" height=\"18\" overflow=\"visible\" width=\"30\">    <path d=\"M 8 -9 l -6 18 L 8 25\" fill=\"none\" style=\"stroke:rgb(0.0, 138.56128015770727, 250.76166088685738);stroke-width:2\" />  </svg></g><g transform=\"translate(-8,0)\">  <svg x=\"74.85612475427445%\" y=\"40\" height=\"18\" overflow=\"visible\" width=\"30\">    <path d=\"M 8 -9 l -6 18 L 8 25\" fill=\"none\" style=\"stroke:rgb(0.0, 138.56128015770727, 250.76166088685738);stroke-width:2\" />  </svg></g><g transform=\"translate(-10,0)\">  <svg x=\"74.85612475427445%\" y=\"40\" height=\"18\" overflow=\"visible\" width=\"30\">    <path d=\"M 8 -9 l -6 18 L 8 25\" fill=\"none\" style=\"stroke:rgb(0.0, 138.56128015770727, 250.76166088685738);stroke-width:2\" />  </svg></g><g transform=\"translate(-12,0)\">  <svg x=\"74.85612475427445%\" y=\"40\" height=\"18\" overflow=\"visible\" width=\"30\">    <path d=\"M 8 -9 l -6 18 L 8 25\" fill=\"none\" style=\"stroke:rgb(0.0, 138.56128015770727, 250.76166088685738);stroke-width:2\" />  </svg></g><g transform=\"translate(-14,0)\">  <svg x=\"74.85612475427445%\" y=\"40\" height=\"18\" overflow=\"visible\" width=\"30\">    <path d=\"M 8 -9 l -6 18 L 8 25\" fill=\"none\" style=\"stroke:rgb(0.0, 138.56128015770727, 250.76166088685738);stroke-width:2\" />  </svg></g><g transform=\"translate(2,0)\">  <svg x=\"74.85612475427445%\" y=\"40\" height=\"18\" overflow=\"visible\" width=\"30\">    <path d=\"M 8 -9 l -6 18 L 8 25\" fill=\"none\" style=\"stroke:rgb(0.0, 138.56128015770727, 250.76166088685738);stroke-width:2\" />  </svg></g><g transform=\"translate(0,0)\">  <svg x=\"74.85612475427445%\" y=\"40\" height=\"18\" overflow=\"visible\" width=\"30\">    <path d=\"M 8 -9 l -6 18 L 8 25\" fill=\"none\" style=\"stroke:rgb(0.0, 138.56128015770727, 250.76166088685738);stroke-width:2\" />  </svg></g><g transform=\"translate(-2,0)\">  <svg x=\"74.85612475427445%\" y=\"40\" height=\"18\" overflow=\"visible\" width=\"30\">    <path d=\"M 8 -9 l -6 18 L 8 25\" fill=\"none\" style=\"stroke:rgb(0.0, 138.56128015770727, 250.76166088685738);stroke-width:2\" />  </svg></g><g transform=\"translate(-4,0)\">  <svg x=\"74.85612475427445%\" y=\"40\" height=\"18\" overflow=\"visible\" width=\"30\">    <path d=\"M 8 -9 l -6 18 L 8 25\" fill=\"none\" style=\"stroke:rgb(0.0, 138.56128015770727, 250.76166088685738);stroke-width:2\" />  </svg></g><g transform=\"translate(-8,0)\">  <svg x=\"77.40838770777451%\" y=\"40\" height=\"18\" overflow=\"visible\" width=\"30\">    <path d=\"M 8 -9 l -6 18 L 8 25\" fill=\"none\" style=\"stroke:rgb(0.0, 138.56128015770727, 250.76166088685738);stroke-width:2\" />  </svg></g><g transform=\"translate(-10,0)\">  <svg x=\"77.40838770777451%\" y=\"40\" height=\"18\" overflow=\"visible\" width=\"30\">    <path d=\"M 8 -9 l -6 18 L 8 25\" fill=\"none\" style=\"stroke:rgb(0.0, 138.56128015770727, 250.76166088685738);stroke-width:2\" />  </svg></g><g transform=\"translate(-12,0)\">  <svg x=\"77.40838770777451%\" y=\"40\" height=\"18\" overflow=\"visible\" width=\"30\">    <path d=\"M 8 -9 l -6 18 L 8 25\" fill=\"none\" style=\"stroke:rgb(0.0, 138.56128015770727, 250.76166088685738);stroke-width:2\" />  </svg></g><g transform=\"translate(-14,0)\">  <svg x=\"77.40838770777451%\" y=\"40\" height=\"18\" overflow=\"visible\" width=\"30\">    <path d=\"M 8 -9 l -6 18 L 8 25\" fill=\"none\" style=\"stroke:rgb(0.0, 138.56128015770727, 250.76166088685738);stroke-width:2\" />  </svg></g><g transform=\"translate(2,0)\">  <svg x=\"77.40838770777451%\" y=\"40\" height=\"18\" overflow=\"visible\" width=\"30\">    <path d=\"M 8 -9 l -6 18 L 8 25\" fill=\"none\" style=\"stroke:rgb(0.0, 138.56128015770727, 250.76166088685738);stroke-width:2\" />  </svg></g><g transform=\"translate(0,0)\">  <svg x=\"77.40838770777451%\" y=\"40\" height=\"18\" overflow=\"visible\" width=\"30\">    <path d=\"M 8 -9 l -6 18 L 8 25\" fill=\"none\" style=\"stroke:rgb(0.0, 138.56128015770727, 250.76166088685738);stroke-width:2\" />  </svg></g><g transform=\"translate(-2,0)\">  <svg x=\"77.40838770777451%\" y=\"40\" height=\"18\" overflow=\"visible\" width=\"30\">    <path d=\"M 8 -9 l -6 18 L 8 25\" fill=\"none\" style=\"stroke:rgb(0.0, 138.56128015770727, 250.76166088685738);stroke-width:2\" />  </svg></g><g transform=\"translate(-4,0)\">  <svg x=\"77.40838770777451%\" y=\"40\" height=\"18\" overflow=\"visible\" width=\"30\">    <path d=\"M 8 -9 l -6 18 L 8 25\" fill=\"none\" style=\"stroke:rgb(0.0, 138.56128015770727, 250.76166088685738);stroke-width:2\" />  </svg></g><g transform=\"translate(-8,0)\">  <svg x=\"79.85831461100598%\" y=\"40\" height=\"18\" overflow=\"visible\" width=\"30\">    <path d=\"M 8 -9 l -6 18 L 8 25\" fill=\"none\" style=\"stroke:rgb(0.0, 138.56128015770727, 250.76166088685738);stroke-width:2\" />  </svg></g><g transform=\"translate(-10,0)\">  <svg x=\"79.85831461100598%\" y=\"40\" height=\"18\" overflow=\"visible\" width=\"30\">    <path d=\"M 8 -9 l -6 18 L 8 25\" fill=\"none\" style=\"stroke:rgb(0.0, 138.56128015770727, 250.76166088685738);stroke-width:2\" />  </svg></g><g transform=\"translate(-12,0)\">  <svg x=\"79.85831461100598%\" y=\"40\" height=\"18\" overflow=\"visible\" width=\"30\">    <path d=\"M 8 -9 l -6 18 L 8 25\" fill=\"none\" style=\"stroke:rgb(0.0, 138.56128015770727, 250.76166088685738);stroke-width:2\" />  </svg></g><g transform=\"translate(-14,0)\">  <svg x=\"79.85831461100598%\" y=\"40\" height=\"18\" overflow=\"visible\" width=\"30\">    <path d=\"M 8 -9 l -6 18 L 8 25\" fill=\"none\" style=\"stroke:rgb(0.0, 138.56128015770727, 250.76166088685738);stroke-width:2\" />  </svg></g><g transform=\"translate(2,0)\">  <svg x=\"79.85831461100598%\" y=\"40\" height=\"18\" overflow=\"visible\" width=\"30\">    <path d=\"M 8 -9 l -6 18 L 8 25\" fill=\"none\" style=\"stroke:rgb(0.0, 138.56128015770727, 250.76166088685738);stroke-width:2\" />  </svg></g><g transform=\"translate(0,0)\">  <svg x=\"79.85831461100598%\" y=\"40\" height=\"18\" overflow=\"visible\" width=\"30\">    <path d=\"M 8 -9 l -6 18 L 8 25\" fill=\"none\" style=\"stroke:rgb(0.0, 138.56128015770727, 250.76166088685738);stroke-width:2\" />  </svg></g><g transform=\"translate(-2,0)\">  <svg x=\"79.85831461100598%\" y=\"40\" height=\"18\" overflow=\"visible\" width=\"30\">    <path d=\"M 8 -9 l -6 18 L 8 25\" fill=\"none\" style=\"stroke:rgb(0.0, 138.56128015770727, 250.76166088685738);stroke-width:2\" />  </svg></g><g transform=\"translate(-4,0)\">  <svg x=\"79.85831461100598%\" y=\"40\" height=\"18\" overflow=\"visible\" width=\"30\">    <path d=\"M 8 -9 l -6 18 L 8 25\" fill=\"none\" style=\"stroke:rgb(0.0, 138.56128015770727, 250.76166088685738);stroke-width:2\" />  </svg></g><g transform=\"translate(-8,0)\">  <svg x=\"82.1927644653172%\" y=\"40\" height=\"18\" overflow=\"visible\" width=\"30\">    <path d=\"M 8 -9 l -6 18 L 8 25\" fill=\"none\" style=\"stroke:rgb(0.0, 138.56128015770727, 250.76166088685738);stroke-width:2\" />  </svg></g><g transform=\"translate(-10,0)\">  <svg x=\"82.1927644653172%\" y=\"40\" height=\"18\" overflow=\"visible\" width=\"30\">    <path d=\"M 8 -9 l -6 18 L 8 25\" fill=\"none\" style=\"stroke:rgb(0.0, 138.56128015770727, 250.76166088685738);stroke-width:2\" />  </svg></g><g transform=\"translate(-12,0)\">  <svg x=\"82.1927644653172%\" y=\"40\" height=\"18\" overflow=\"visible\" width=\"30\">    <path d=\"M 8 -9 l -6 18 L 8 25\" fill=\"none\" style=\"stroke:rgb(0.0, 138.56128015770727, 250.76166088685738);stroke-width:2\" />  </svg></g><g transform=\"translate(-14,0)\">  <svg x=\"82.1927644653172%\" y=\"40\" height=\"18\" overflow=\"visible\" width=\"30\">    <path d=\"M 8 -9 l -6 18 L 8 25\" fill=\"none\" style=\"stroke:rgb(0.0, 138.56128015770727, 250.76166088685738);stroke-width:2\" />  </svg></g><g transform=\"translate(2,0)\">  <svg x=\"82.1927644653172%\" y=\"40\" height=\"18\" overflow=\"visible\" width=\"30\">    <path d=\"M 8 -9 l -6 18 L 8 25\" fill=\"none\" style=\"stroke:rgb(0.0, 138.56128015770727, 250.76166088685738);stroke-width:2\" />  </svg></g><g transform=\"translate(0,0)\">  <svg x=\"82.1927644653172%\" y=\"40\" height=\"18\" overflow=\"visible\" width=\"30\">    <path d=\"M 8 -9 l -6 18 L 8 25\" fill=\"none\" style=\"stroke:rgb(0.0, 138.56128015770727, 250.76166088685738);stroke-width:2\" />  </svg></g><g transform=\"translate(-2,0)\">  <svg x=\"82.1927644653172%\" y=\"40\" height=\"18\" overflow=\"visible\" width=\"30\">    <path d=\"M 8 -9 l -6 18 L 8 25\" fill=\"none\" style=\"stroke:rgb(0.0, 138.56128015770727, 250.76166088685738);stroke-width:2\" />  </svg></g><g transform=\"translate(-4,0)\">  <svg x=\"82.1927644653172%\" y=\"40\" height=\"18\" overflow=\"visible\" width=\"30\">    <path d=\"M 8 -9 l -6 18 L 8 25\" fill=\"none\" style=\"stroke:rgb(0.0, 138.56128015770727, 250.76166088685738);stroke-width:2\" />  </svg></g><g transform=\"translate(-8,0)\">  <svg x=\"84.49469208154333%\" y=\"40\" height=\"18\" overflow=\"visible\" width=\"30\">    <path d=\"M 8 -9 l -6 18 L 8 25\" fill=\"none\" style=\"stroke:rgb(0.0, 138.56128015770727, 250.76166088685738);stroke-width:2\" />  </svg></g><g transform=\"translate(-10,0)\">  <svg x=\"84.49469208154333%\" y=\"40\" height=\"18\" overflow=\"visible\" width=\"30\">    <path d=\"M 8 -9 l -6 18 L 8 25\" fill=\"none\" style=\"stroke:rgb(0.0, 138.56128015770727, 250.76166088685738);stroke-width:2\" />  </svg></g><g transform=\"translate(-12,0)\">  <svg x=\"84.49469208154333%\" y=\"40\" height=\"18\" overflow=\"visible\" width=\"30\">    <path d=\"M 8 -9 l -6 18 L 8 25\" fill=\"none\" style=\"stroke:rgb(0.0, 138.56128015770727, 250.76166088685738);stroke-width:2\" />  </svg></g><g transform=\"translate(-14,0)\">  <svg x=\"84.49469208154333%\" y=\"40\" height=\"18\" overflow=\"visible\" width=\"30\">    <path d=\"M 8 -9 l -6 18 L 8 25\" fill=\"none\" style=\"stroke:rgb(0.0, 138.56128015770727, 250.76166088685738);stroke-width:2\" />  </svg></g><g transform=\"translate(2,0)\">  <svg x=\"84.49469208154333%\" y=\"40\" height=\"18\" overflow=\"visible\" width=\"30\">    <path d=\"M 8 -9 l -6 18 L 8 25\" fill=\"none\" style=\"stroke:rgb(0.0, 138.56128015770727, 250.76166088685738);stroke-width:2\" />  </svg></g><g transform=\"translate(0,0)\">  <svg x=\"84.49469208154333%\" y=\"40\" height=\"18\" overflow=\"visible\" width=\"30\">    <path d=\"M 8 -9 l -6 18 L 8 25\" fill=\"none\" style=\"stroke:rgb(0.0, 138.56128015770727, 250.76166088685738);stroke-width:2\" />  </svg></g><g transform=\"translate(-2,0)\">  <svg x=\"84.49469208154333%\" y=\"40\" height=\"18\" overflow=\"visible\" width=\"30\">    <path d=\"M 8 -9 l -6 18 L 8 25\" fill=\"none\" style=\"stroke:rgb(0.0, 138.56128015770727, 250.76166088685738);stroke-width:2\" />  </svg></g><g transform=\"translate(-4,0)\">  <svg x=\"84.49469208154333%\" y=\"40\" height=\"18\" overflow=\"visible\" width=\"30\">    <path d=\"M 8 -9 l -6 18 L 8 25\" fill=\"none\" style=\"stroke:rgb(0.0, 138.56128015770727, 250.76166088685738);stroke-width:2\" />  </svg></g><g transform=\"translate(-8,0)\">  <svg x=\"86.2069198198721%\" y=\"40\" height=\"18\" overflow=\"visible\" width=\"30\">    <path d=\"M 8 -9 l -6 18 L 8 25\" fill=\"none\" style=\"stroke:rgb(0.0, 138.56128015770727, 250.76166088685738);stroke-width:2\" />  </svg></g><g transform=\"translate(-10,0)\">  <svg x=\"86.2069198198721%\" y=\"40\" height=\"18\" overflow=\"visible\" width=\"30\">    <path d=\"M 8 -9 l -6 18 L 8 25\" fill=\"none\" style=\"stroke:rgb(0.0, 138.56128015770727, 250.76166088685738);stroke-width:2\" />  </svg></g><g transform=\"translate(-12,0)\">  <svg x=\"86.2069198198721%\" y=\"40\" height=\"18\" overflow=\"visible\" width=\"30\">    <path d=\"M 8 -9 l -6 18 L 8 25\" fill=\"none\" style=\"stroke:rgb(0.0, 138.56128015770727, 250.76166088685738);stroke-width:2\" />  </svg></g><g transform=\"translate(-14,0)\">  <svg x=\"86.2069198198721%\" y=\"40\" height=\"18\" overflow=\"visible\" width=\"30\">    <path d=\"M 8 -9 l -6 18 L 8 25\" fill=\"none\" style=\"stroke:rgb(0.0, 138.56128015770727, 250.76166088685738);stroke-width:2\" />  </svg></g><g transform=\"translate(2,0)\">  <svg x=\"86.2069198198721%\" y=\"40\" height=\"18\" overflow=\"visible\" width=\"30\">    <path d=\"M 8 -9 l -6 18 L 8 25\" fill=\"none\" style=\"stroke:rgb(0.0, 138.56128015770727, 250.76166088685738);stroke-width:2\" />  </svg></g><g transform=\"translate(0,0)\">  <svg x=\"86.2069198198721%\" y=\"40\" height=\"18\" overflow=\"visible\" width=\"30\">    <path d=\"M 8 -9 l -6 18 L 8 25\" fill=\"none\" style=\"stroke:rgb(0.0, 138.56128015770727, 250.76166088685738);stroke-width:2\" />  </svg></g><g transform=\"translate(-2,0)\">  <svg x=\"86.2069198198721%\" y=\"40\" height=\"18\" overflow=\"visible\" width=\"30\">    <path d=\"M 8 -9 l -6 18 L 8 25\" fill=\"none\" style=\"stroke:rgb(0.0, 138.56128015770727, 250.76166088685738);stroke-width:2\" />  </svg></g><g transform=\"translate(-4,0)\">  <svg x=\"86.2069198198721%\" y=\"40\" height=\"18\" overflow=\"visible\" width=\"30\">    <path d=\"M 8 -9 l -6 18 L 8 25\" fill=\"none\" style=\"stroke:rgb(0.0, 138.56128015770727, 250.76166088685738);stroke-width:2\" />  </svg></g><g transform=\"translate(-8,0)\">  <svg x=\"87.64837965047279%\" y=\"40\" height=\"18\" overflow=\"visible\" width=\"30\">    <path d=\"M 8 -9 l -6 18 L 8 25\" fill=\"none\" style=\"stroke:rgb(0.0, 138.56128015770727, 250.76166088685738);stroke-width:2\" />  </svg></g><g transform=\"translate(-10,0)\">  <svg x=\"87.64837965047279%\" y=\"40\" height=\"18\" overflow=\"visible\" width=\"30\">    <path d=\"M 8 -9 l -6 18 L 8 25\" fill=\"none\" style=\"stroke:rgb(0.0, 138.56128015770727, 250.76166088685738);stroke-width:2\" />  </svg></g><g transform=\"translate(-12,0)\">  <svg x=\"87.64837965047279%\" y=\"40\" height=\"18\" overflow=\"visible\" width=\"30\">    <path d=\"M 8 -9 l -6 18 L 8 25\" fill=\"none\" style=\"stroke:rgb(0.0, 138.56128015770727, 250.76166088685738);stroke-width:2\" />  </svg></g><g transform=\"translate(-14,0)\">  <svg x=\"87.64837965047279%\" y=\"40\" height=\"18\" overflow=\"visible\" width=\"30\">    <path d=\"M 8 -9 l -6 18 L 8 25\" fill=\"none\" style=\"stroke:rgb(0.0, 138.56128015770727, 250.76166088685738);stroke-width:2\" />  </svg></g><g transform=\"translate(2,0)\">  <svg x=\"87.64837965047279%\" y=\"40\" height=\"18\" overflow=\"visible\" width=\"30\">    <path d=\"M 8 -9 l -6 18 L 8 25\" fill=\"none\" style=\"stroke:rgb(0.0, 138.56128015770727, 250.76166088685738);stroke-width:2\" />  </svg></g><g transform=\"translate(0,0)\">  <svg x=\"87.64837965047279%\" y=\"40\" height=\"18\" overflow=\"visible\" width=\"30\">    <path d=\"M 8 -9 l -6 18 L 8 25\" fill=\"none\" style=\"stroke:rgb(0.0, 138.56128015770727, 250.76166088685738);stroke-width:2\" />  </svg></g><g transform=\"translate(-2,0)\">  <svg x=\"87.64837965047279%\" y=\"40\" height=\"18\" overflow=\"visible\" width=\"30\">    <path d=\"M 8 -9 l -6 18 L 8 25\" fill=\"none\" style=\"stroke:rgb(0.0, 138.56128015770727, 250.76166088685738);stroke-width:2\" />  </svg></g><g transform=\"translate(-4,0)\">  <svg x=\"87.64837965047279%\" y=\"40\" height=\"18\" overflow=\"visible\" width=\"30\">    <path d=\"M 8 -9 l -6 18 L 8 25\" fill=\"none\" style=\"stroke:rgb(0.0, 138.56128015770727, 250.76166088685738);stroke-width:2\" />  </svg></g><g transform=\"translate(-8,0)\">  <svg x=\"88.94853963323192%\" y=\"40\" height=\"18\" overflow=\"visible\" width=\"30\">    <path d=\"M 8 -9 l -6 18 L 8 25\" fill=\"none\" style=\"stroke:rgb(0.0, 138.56128015770727, 250.76166088685738);stroke-width:2\" />  </svg></g><g transform=\"translate(-10,0)\">  <svg x=\"88.94853963323192%\" y=\"40\" height=\"18\" overflow=\"visible\" width=\"30\">    <path d=\"M 8 -9 l -6 18 L 8 25\" fill=\"none\" style=\"stroke:rgb(0.0, 138.56128015770727, 250.76166088685738);stroke-width:2\" />  </svg></g><g transform=\"translate(-12,0)\">  <svg x=\"88.94853963323192%\" y=\"40\" height=\"18\" overflow=\"visible\" width=\"30\">    <path d=\"M 8 -9 l -6 18 L 8 25\" fill=\"none\" style=\"stroke:rgb(0.0, 138.56128015770727, 250.76166088685738);stroke-width:2\" />  </svg></g><g transform=\"translate(-14,0)\">  <svg x=\"88.94853963323192%\" y=\"40\" height=\"18\" overflow=\"visible\" width=\"30\">    <path d=\"M 8 -9 l -6 18 L 8 25\" fill=\"none\" style=\"stroke:rgb(0.0, 138.56128015770727, 250.76166088685738);stroke-width:2\" />  </svg></g><g transform=\"translate(2,0)\">  <svg x=\"88.94853963323192%\" y=\"40\" height=\"18\" overflow=\"visible\" width=\"30\">    <path d=\"M 8 -9 l -6 18 L 8 25\" fill=\"none\" style=\"stroke:rgb(0.0, 138.56128015770727, 250.76166088685738);stroke-width:2\" />  </svg></g><g transform=\"translate(0,0)\">  <svg x=\"88.94853963323192%\" y=\"40\" height=\"18\" overflow=\"visible\" width=\"30\">    <path d=\"M 8 -9 l -6 18 L 8 25\" fill=\"none\" style=\"stroke:rgb(0.0, 138.56128015770727, 250.76166088685738);stroke-width:2\" />  </svg></g><g transform=\"translate(-2,0)\">  <svg x=\"88.94853963323192%\" y=\"40\" height=\"18\" overflow=\"visible\" width=\"30\">    <path d=\"M 8 -9 l -6 18 L 8 25\" fill=\"none\" style=\"stroke:rgb(0.0, 138.56128015770727, 250.76166088685738);stroke-width:2\" />  </svg></g><g transform=\"translate(-4,0)\">  <svg x=\"88.94853963323192%\" y=\"40\" height=\"18\" overflow=\"visible\" width=\"30\">    <path d=\"M 8 -9 l -6 18 L 8 25\" fill=\"none\" style=\"stroke:rgb(0.0, 138.56128015770727, 250.76166088685738);stroke-width:2\" />  </svg></g><g transform=\"translate(-8,0)\">  <svg x=\"90.21626589422594%\" y=\"40\" height=\"18\" overflow=\"visible\" width=\"30\">    <path d=\"M 8 -9 l -6 18 L 8 25\" fill=\"none\" style=\"stroke:rgb(0.0, 138.56128015770727, 250.76166088685738);stroke-width:2\" />  </svg></g><g transform=\"translate(-10,0)\">  <svg x=\"90.21626589422594%\" y=\"40\" height=\"18\" overflow=\"visible\" width=\"30\">    <path d=\"M 8 -9 l -6 18 L 8 25\" fill=\"none\" style=\"stroke:rgb(0.0, 138.56128015770727, 250.76166088685738);stroke-width:2\" />  </svg></g><g transform=\"translate(-12,0)\">  <svg x=\"90.21626589422594%\" y=\"40\" height=\"18\" overflow=\"visible\" width=\"30\">    <path d=\"M 8 -9 l -6 18 L 8 25\" fill=\"none\" style=\"stroke:rgb(0.0, 138.56128015770727, 250.76166088685738);stroke-width:2\" />  </svg></g><g transform=\"translate(-14,0)\">  <svg x=\"90.21626589422594%\" y=\"40\" height=\"18\" overflow=\"visible\" width=\"30\">    <path d=\"M 8 -9 l -6 18 L 8 25\" fill=\"none\" style=\"stroke:rgb(0.0, 138.56128015770727, 250.76166088685738);stroke-width:2\" />  </svg></g><g transform=\"translate(2,0)\">  <svg x=\"90.21626589422594%\" y=\"40\" height=\"18\" overflow=\"visible\" width=\"30\">    <path d=\"M 8 -9 l -6 18 L 8 25\" fill=\"none\" style=\"stroke:rgb(0.0, 138.56128015770727, 250.76166088685738);stroke-width:2\" />  </svg></g><g transform=\"translate(0,0)\">  <svg x=\"90.21626589422594%\" y=\"40\" height=\"18\" overflow=\"visible\" width=\"30\">    <path d=\"M 8 -9 l -6 18 L 8 25\" fill=\"none\" style=\"stroke:rgb(0.0, 138.56128015770727, 250.76166088685738);stroke-width:2\" />  </svg></g><g transform=\"translate(-2,0)\">  <svg x=\"90.21626589422594%\" y=\"40\" height=\"18\" overflow=\"visible\" width=\"30\">    <path d=\"M 8 -9 l -6 18 L 8 25\" fill=\"none\" style=\"stroke:rgb(0.0, 138.56128015770727, 250.76166088685738);stroke-width:2\" />  </svg></g><g transform=\"translate(-4,0)\">  <svg x=\"90.21626589422594%\" y=\"40\" height=\"18\" overflow=\"visible\" width=\"30\">    <path d=\"M 8 -9 l -6 18 L 8 25\" fill=\"none\" style=\"stroke:rgb(0.0, 138.56128015770727, 250.76166088685738);stroke-width:2\" />  </svg></g><g transform=\"translate(-8,0)\">  <svg x=\"91.33604655320292%\" y=\"40\" height=\"18\" overflow=\"visible\" width=\"30\">    <path d=\"M 8 -9 l -6 18 L 8 25\" fill=\"none\" style=\"stroke:rgb(0.0, 138.56128015770727, 250.76166088685738);stroke-width:2\" />  </svg></g><g transform=\"translate(-10,0)\">  <svg x=\"91.33604655320292%\" y=\"40\" height=\"18\" overflow=\"visible\" width=\"30\">    <path d=\"M 8 -9 l -6 18 L 8 25\" fill=\"none\" style=\"stroke:rgb(0.0, 138.56128015770727, 250.76166088685738);stroke-width:2\" />  </svg></g><g transform=\"translate(-12,0)\">  <svg x=\"91.33604655320292%\" y=\"40\" height=\"18\" overflow=\"visible\" width=\"30\">    <path d=\"M 8 -9 l -6 18 L 8 25\" fill=\"none\" style=\"stroke:rgb(0.0, 138.56128015770727, 250.76166088685738);stroke-width:2\" />  </svg></g><g transform=\"translate(-14,0)\">  <svg x=\"91.33604655320292%\" y=\"40\" height=\"18\" overflow=\"visible\" width=\"30\">    <path d=\"M 8 -9 l -6 18 L 8 25\" fill=\"none\" style=\"stroke:rgb(0.0, 138.56128015770727, 250.76166088685738);stroke-width:2\" />  </svg></g><g transform=\"translate(2,0)\">  <svg x=\"91.33604655320292%\" y=\"40\" height=\"18\" overflow=\"visible\" width=\"30\">    <path d=\"M 8 -9 l -6 18 L 8 25\" fill=\"none\" style=\"stroke:rgb(0.0, 138.56128015770727, 250.76166088685738);stroke-width:2\" />  </svg></g><g transform=\"translate(0,0)\">  <svg x=\"91.33604655320292%\" y=\"40\" height=\"18\" overflow=\"visible\" width=\"30\">    <path d=\"M 8 -9 l -6 18 L 8 25\" fill=\"none\" style=\"stroke:rgb(0.0, 138.56128015770727, 250.76166088685738);stroke-width:2\" />  </svg></g><g transform=\"translate(-2,0)\">  <svg x=\"91.33604655320292%\" y=\"40\" height=\"18\" overflow=\"visible\" width=\"30\">    <path d=\"M 8 -9 l -6 18 L 8 25\" fill=\"none\" style=\"stroke:rgb(0.0, 138.56128015770727, 250.76166088685738);stroke-width:2\" />  </svg></g><g transform=\"translate(-4,0)\">  <svg x=\"91.33604655320292%\" y=\"40\" height=\"18\" overflow=\"visible\" width=\"30\">    <path d=\"M 8 -9 l -6 18 L 8 25\" fill=\"none\" style=\"stroke:rgb(0.0, 138.56128015770727, 250.76166088685738);stroke-width:2\" />  </svg></g><g transform=\"translate(-8,0)\">  <svg x=\"92.35078230687714%\" y=\"40\" height=\"18\" overflow=\"visible\" width=\"30\">    <path d=\"M 8 -9 l -6 18 L 8 25\" fill=\"none\" style=\"stroke:rgb(0.0, 138.56128015770727, 250.76166088685738);stroke-width:2\" />  </svg></g><g transform=\"translate(-10,0)\">  <svg x=\"92.35078230687714%\" y=\"40\" height=\"18\" overflow=\"visible\" width=\"30\">    <path d=\"M 8 -9 l -6 18 L 8 25\" fill=\"none\" style=\"stroke:rgb(0.0, 138.56128015770727, 250.76166088685738);stroke-width:2\" />  </svg></g><g transform=\"translate(-12,0)\">  <svg x=\"92.35078230687714%\" y=\"40\" height=\"18\" overflow=\"visible\" width=\"30\">    <path d=\"M 8 -9 l -6 18 L 8 25\" fill=\"none\" style=\"stroke:rgb(0.0, 138.56128015770727, 250.76166088685738);stroke-width:2\" />  </svg></g><g transform=\"translate(-14,0)\">  <svg x=\"92.35078230687714%\" y=\"40\" height=\"18\" overflow=\"visible\" width=\"30\">    <path d=\"M 8 -9 l -6 18 L 8 25\" fill=\"none\" style=\"stroke:rgb(0.0, 138.56128015770727, 250.76166088685738);stroke-width:2\" />  </svg></g><g transform=\"translate(2,0)\">  <svg x=\"92.35078230687714%\" y=\"40\" height=\"18\" overflow=\"visible\" width=\"30\">    <path d=\"M 8 -9 l -6 18 L 8 25\" fill=\"none\" style=\"stroke:rgb(0.0, 138.56128015770727, 250.76166088685738);stroke-width:2\" />  </svg></g><g transform=\"translate(0,0)\">  <svg x=\"92.35078230687714%\" y=\"40\" height=\"18\" overflow=\"visible\" width=\"30\">    <path d=\"M 8 -9 l -6 18 L 8 25\" fill=\"none\" style=\"stroke:rgb(0.0, 138.56128015770727, 250.76166088685738);stroke-width:2\" />  </svg></g><g transform=\"translate(-2,0)\">  <svg x=\"92.35078230687714%\" y=\"40\" height=\"18\" overflow=\"visible\" width=\"30\">    <path d=\"M 8 -9 l -6 18 L 8 25\" fill=\"none\" style=\"stroke:rgb(0.0, 138.56128015770727, 250.76166088685738);stroke-width:2\" />  </svg></g><g transform=\"translate(-4,0)\">  <svg x=\"92.35078230687714%\" y=\"40\" height=\"18\" overflow=\"visible\" width=\"30\">    <path d=\"M 8 -9 l -6 18 L 8 25\" fill=\"none\" style=\"stroke:rgb(0.0, 138.56128015770727, 250.76166088685738);stroke-width:2\" />  </svg></g><g transform=\"translate(-8,0)\">  <svg x=\"93.25445212816899%\" y=\"40\" height=\"18\" overflow=\"visible\" width=\"30\">    <path d=\"M 8 -9 l -6 18 L 8 25\" fill=\"none\" style=\"stroke:rgb(0.0, 138.56128015770727, 250.76166088685738);stroke-width:2\" />  </svg></g><g transform=\"translate(-10,0)\">  <svg x=\"93.25445212816899%\" y=\"40\" height=\"18\" overflow=\"visible\" width=\"30\">    <path d=\"M 8 -9 l -6 18 L 8 25\" fill=\"none\" style=\"stroke:rgb(0.0, 138.56128015770727, 250.76166088685738);stroke-width:2\" />  </svg></g><g transform=\"translate(-12,0)\">  <svg x=\"93.25445212816899%\" y=\"40\" height=\"18\" overflow=\"visible\" width=\"30\">    <path d=\"M 8 -9 l -6 18 L 8 25\" fill=\"none\" style=\"stroke:rgb(0.0, 138.56128015770727, 250.76166088685738);stroke-width:2\" />  </svg></g><g transform=\"translate(-14,0)\">  <svg x=\"93.25445212816899%\" y=\"40\" height=\"18\" overflow=\"visible\" width=\"30\">    <path d=\"M 8 -9 l -6 18 L 8 25\" fill=\"none\" style=\"stroke:rgb(0.0, 138.56128015770727, 250.76166088685738);stroke-width:2\" />  </svg></g><g transform=\"translate(2,0)\">  <svg x=\"93.25445212816899%\" y=\"40\" height=\"18\" overflow=\"visible\" width=\"30\">    <path d=\"M 8 -9 l -6 18 L 8 25\" fill=\"none\" style=\"stroke:rgb(0.0, 138.56128015770727, 250.76166088685738);stroke-width:2\" />  </svg></g><g transform=\"translate(0,0)\">  <svg x=\"93.25445212816899%\" y=\"40\" height=\"18\" overflow=\"visible\" width=\"30\">    <path d=\"M 8 -9 l -6 18 L 8 25\" fill=\"none\" style=\"stroke:rgb(0.0, 138.56128015770727, 250.76166088685738);stroke-width:2\" />  </svg></g><g transform=\"translate(-2,0)\">  <svg x=\"93.25445212816899%\" y=\"40\" height=\"18\" overflow=\"visible\" width=\"30\">    <path d=\"M 8 -9 l -6 18 L 8 25\" fill=\"none\" style=\"stroke:rgb(0.0, 138.56128015770727, 250.76166088685738);stroke-width:2\" />  </svg></g><g transform=\"translate(-4,0)\">  <svg x=\"93.25445212816899%\" y=\"40\" height=\"18\" overflow=\"visible\" width=\"30\">    <path d=\"M 8 -9 l -6 18 L 8 25\" fill=\"none\" style=\"stroke:rgb(0.0, 138.56128015770727, 250.76166088685738);stroke-width:2\" />  </svg></g><g transform=\"translate(-8,0)\">  <svg x=\"93.85988330540306%\" y=\"40\" height=\"18\" overflow=\"visible\" width=\"30\">    <path d=\"M 8 -9 l -6 18 L 8 25\" fill=\"none\" style=\"stroke:rgb(0.0, 138.56128015770727, 250.76166088685738);stroke-width:2\" />  </svg></g><g transform=\"translate(-10,0)\">  <svg x=\"93.85988330540306%\" y=\"40\" height=\"18\" overflow=\"visible\" width=\"30\">    <path d=\"M 8 -9 l -6 18 L 8 25\" fill=\"none\" style=\"stroke:rgb(0.0, 138.56128015770727, 250.76166088685738);stroke-width:2\" />  </svg></g><g transform=\"translate(-12,0)\">  <svg x=\"93.85988330540306%\" y=\"40\" height=\"18\" overflow=\"visible\" width=\"30\">    <path d=\"M 8 -9 l -6 18 L 8 25\" fill=\"none\" style=\"stroke:rgb(0.0, 138.56128015770727, 250.76166088685738);stroke-width:2\" />  </svg></g><g transform=\"translate(-14,0)\">  <svg x=\"93.85988330540306%\" y=\"40\" height=\"18\" overflow=\"visible\" width=\"30\">    <path d=\"M 8 -9 l -6 18 L 8 25\" fill=\"none\" style=\"stroke:rgb(0.0, 138.56128015770727, 250.76166088685738);stroke-width:2\" />  </svg></g><g transform=\"translate(2,0)\">  <svg x=\"93.85988330540306%\" y=\"40\" height=\"18\" overflow=\"visible\" width=\"30\">    <path d=\"M 8 -9 l -6 18 L 8 25\" fill=\"none\" style=\"stroke:rgb(0.0, 138.56128015770727, 250.76166088685738);stroke-width:2\" />  </svg></g><g transform=\"translate(0,0)\">  <svg x=\"93.85988330540306%\" y=\"40\" height=\"18\" overflow=\"visible\" width=\"30\">    <path d=\"M 8 -9 l -6 18 L 8 25\" fill=\"none\" style=\"stroke:rgb(0.0, 138.56128015770727, 250.76166088685738);stroke-width:2\" />  </svg></g><g transform=\"translate(-2,0)\">  <svg x=\"93.85988330540306%\" y=\"40\" height=\"18\" overflow=\"visible\" width=\"30\">    <path d=\"M 8 -9 l -6 18 L 8 25\" fill=\"none\" style=\"stroke:rgb(0.0, 138.56128015770727, 250.76166088685738);stroke-width:2\" />  </svg></g><g transform=\"translate(-4,0)\">  <svg x=\"93.85988330540306%\" y=\"40\" height=\"18\" overflow=\"visible\" width=\"30\">    <path d=\"M 8 -9 l -6 18 L 8 25\" fill=\"none\" style=\"stroke:rgb(0.0, 138.56128015770727, 250.76166088685738);stroke-width:2\" />  </svg></g><g transform=\"translate(-8,0)\">  <svg x=\"94.10152518966242%\" y=\"40\" height=\"18\" overflow=\"visible\" width=\"30\">    <path d=\"M 8 -9 l -6 18 L 8 25\" fill=\"none\" style=\"stroke:rgb(0.0, 138.56128015770727, 250.76166088685738);stroke-width:2\" />  </svg></g><g transform=\"translate(-10,0)\">  <svg x=\"94.10152518966242%\" y=\"40\" height=\"18\" overflow=\"visible\" width=\"30\">    <path d=\"M 8 -9 l -6 18 L 8 25\" fill=\"none\" style=\"stroke:rgb(0.0, 138.56128015770727, 250.76166088685738);stroke-width:2\" />  </svg></g><g transform=\"translate(-12,0)\">  <svg x=\"94.10152518966242%\" y=\"40\" height=\"18\" overflow=\"visible\" width=\"30\">    <path d=\"M 8 -9 l -6 18 L 8 25\" fill=\"none\" style=\"stroke:rgb(0.0, 138.56128015770727, 250.76166088685738);stroke-width:2\" />  </svg></g><g transform=\"translate(-14,0)\">  <svg x=\"94.10152518966242%\" y=\"40\" height=\"18\" overflow=\"visible\" width=\"30\">    <path d=\"M 8 -9 l -6 18 L 8 25\" fill=\"none\" style=\"stroke:rgb(0.0, 138.56128015770727, 250.76166088685738);stroke-width:2\" />  </svg></g><g transform=\"translate(2,0)\">  <svg x=\"94.10152518966242%\" y=\"40\" height=\"18\" overflow=\"visible\" width=\"30\">    <path d=\"M 8 -9 l -6 18 L 8 25\" fill=\"none\" style=\"stroke:rgb(0.0, 138.56128015770727, 250.76166088685738);stroke-width:2\" />  </svg></g><g transform=\"translate(0,0)\">  <svg x=\"94.10152518966242%\" y=\"40\" height=\"18\" overflow=\"visible\" width=\"30\">    <path d=\"M 8 -9 l -6 18 L 8 25\" fill=\"none\" style=\"stroke:rgb(0.0, 138.56128015770727, 250.76166088685738);stroke-width:2\" />  </svg></g><g transform=\"translate(-2,0)\">  <svg x=\"94.10152518966242%\" y=\"40\" height=\"18\" overflow=\"visible\" width=\"30\">    <path d=\"M 8 -9 l -6 18 L 8 25\" fill=\"none\" style=\"stroke:rgb(0.0, 138.56128015770727, 250.76166088685738);stroke-width:2\" />  </svg></g><g transform=\"translate(-4,0)\">  <svg x=\"94.10152518966242%\" y=\"40\" height=\"18\" overflow=\"visible\" width=\"30\">    <path d=\"M 8 -9 l -6 18 L 8 25\" fill=\"none\" style=\"stroke:rgb(0.0, 138.56128015770727, 250.76166088685738);stroke-width:2\" />  </svg></g><g transform=\"translate(-8,0)\">  <svg x=\"94.13823517638768%\" y=\"40\" height=\"18\" overflow=\"visible\" width=\"30\">    <path d=\"M 8 -9 l -6 18 L 8 25\" fill=\"none\" style=\"stroke:rgb(0.0, 138.56128015770727, 250.76166088685738);stroke-width:2\" />  </svg></g><g transform=\"translate(-10,0)\">  <svg x=\"94.13823517638768%\" y=\"40\" height=\"18\" overflow=\"visible\" width=\"30\">    <path d=\"M 8 -9 l -6 18 L 8 25\" fill=\"none\" style=\"stroke:rgb(0.0, 138.56128015770727, 250.76166088685738);stroke-width:2\" />  </svg></g><g transform=\"translate(-12,0)\">  <svg x=\"94.13823517638768%\" y=\"40\" height=\"18\" overflow=\"visible\" width=\"30\">    <path d=\"M 8 -9 l -6 18 L 8 25\" fill=\"none\" style=\"stroke:rgb(0.0, 138.56128015770727, 250.76166088685738);stroke-width:2\" />  </svg></g><g transform=\"translate(-14,0)\">  <svg x=\"94.13823517638768%\" y=\"40\" height=\"18\" overflow=\"visible\" width=\"30\">    <path d=\"M 8 -9 l -6 18 L 8 25\" fill=\"none\" style=\"stroke:rgb(0.0, 138.56128015770727, 250.76166088685738);stroke-width:2\" />  </svg></g><g transform=\"translate(2,0)\">  <svg x=\"94.13823517638768%\" y=\"40\" height=\"18\" overflow=\"visible\" width=\"30\">    <path d=\"M 8 -9 l -6 18 L 8 25\" fill=\"none\" style=\"stroke:rgb(0.0, 138.56128015770727, 250.76166088685738);stroke-width:2\" />  </svg></g><g transform=\"translate(0,0)\">  <svg x=\"94.13823517638768%\" y=\"40\" height=\"18\" overflow=\"visible\" width=\"30\">    <path d=\"M 8 -9 l -6 18 L 8 25\" fill=\"none\" style=\"stroke:rgb(0.0, 138.56128015770727, 250.76166088685738);stroke-width:2\" />  </svg></g><g transform=\"translate(-2,0)\">  <svg x=\"94.13823517638768%\" y=\"40\" height=\"18\" overflow=\"visible\" width=\"30\">    <path d=\"M 8 -9 l -6 18 L 8 25\" fill=\"none\" style=\"stroke:rgb(0.0, 138.56128015770727, 250.76166088685738);stroke-width:2\" />  </svg></g><g transform=\"translate(-4,0)\">  <svg x=\"94.13823517638768%\" y=\"40\" height=\"18\" overflow=\"visible\" width=\"30\">    <path d=\"M 8 -9 l -6 18 L 8 25\" fill=\"none\" style=\"stroke:rgb(0.0, 138.56128015770727, 250.76166088685738);stroke-width:2\" />  </svg></g><rect transform=\"translate(0,0)\" x=\"61.26632567202987%\" y=\"40\" width=\"8\" height=\"18\" style=\"fill:rgb(0.0, 138.56128015770727, 250.76166088685738)\"/><g transform=\"translate(-6.0,0)\">  <svg x=\"94.16102956677311%\" y=\"40\" height=\"18\" overflow=\"visible\" width=\"30\">    <path d=\"M 8 -9 l -6 18 L 8 25 L 20 25 L 20 -9\" fill=\"#ffffff\" style=\"stroke:rgb(255,255,255);stroke-width:2\" />  </svg></g><g transform=\"translate(-6.0,0)\">  <svg x=\"65.32757937809777%\" y=\"40\" height=\"18\" overflow=\"visible\" width=\"30\">    <path d=\"M 8 -9 l -6 18 L 8 25\" fill=\"none\" style=\"stroke:rgb(208, 230, 250);stroke-width:2\" />  </svg></g><rect x=\"61.26632567202987%\" y=\"40\" height=\"20\" width=\"4.061253706067895%\"      onmouseover=\"document.getElementById('_tp_zpotbpnweyceprgdxgpq_ind_21').style.textDecoration = 'underline';document.getElementById('_fs_zpotbpnweyceprgdxgpq_ind_21').style.opacity = 1;document.getElementById('_fb_zpotbpnweyceprgdxgpq_ind_21').style.opacity = 1;\"      onmouseout=\"document.getElementById('_tp_zpotbpnweyceprgdxgpq_ind_21').style.textDecoration = 'none';document.getElementById('_fs_zpotbpnweyceprgdxgpq_ind_21').style.opacity = 0;document.getElementById('_fb_zpotbpnweyceprgdxgpq_ind_21').style.opacity = 0;\" style=\"fill:rgb(0,0,0,0)\" /><g transform=\"translate(-6.0,0)\">  <svg x=\"68.83021681448857%\" y=\"40\" height=\"18\" overflow=\"visible\" width=\"30\">    <path d=\"M 8 -9 l -6 18 L 8 25\" fill=\"none\" style=\"stroke:rgb(208, 230, 250);stroke-width:2\" />  </svg></g><rect x=\"65.32757937809777%\" y=\"40\" height=\"20\" width=\"3.502637436390799%\"      onmouseover=\"document.getElementById('_tp_zpotbpnweyceprgdxgpq_ind_11').style.textDecoration = 'underline';document.getElementById('_fs_zpotbpnweyceprgdxgpq_ind_11').style.opacity = 1;document.getElementById('_fb_zpotbpnweyceprgdxgpq_ind_11').style.opacity = 1;\"      onmouseout=\"document.getElementById('_tp_zpotbpnweyceprgdxgpq_ind_11').style.textDecoration = 'none';document.getElementById('_fs_zpotbpnweyceprgdxgpq_ind_11').style.opacity = 0;document.getElementById('_fb_zpotbpnweyceprgdxgpq_ind_11').style.opacity = 0;\" style=\"fill:rgb(0,0,0,0)\" /><g transform=\"translate(-6.0,0)\">  <svg x=\"71.9314880225292%\" y=\"40\" height=\"18\" overflow=\"visible\" width=\"30\">    <path d=\"M 8 -9 l -6 18 L 8 25\" fill=\"none\" style=\"stroke:rgb(208, 230, 250);stroke-width:2\" />  </svg></g><rect x=\"68.83021681448857%\" y=\"40\" height=\"20\" width=\"3.101271208040629%\"      onmouseover=\"document.getElementById('_tp_zpotbpnweyceprgdxgpq_ind_25').style.textDecoration = 'underline';document.getElementById('_fs_zpotbpnweyceprgdxgpq_ind_25').style.opacity = 1;document.getElementById('_fb_zpotbpnweyceprgdxgpq_ind_25').style.opacity = 1;\"      onmouseout=\"document.getElementById('_tp_zpotbpnweyceprgdxgpq_ind_25').style.textDecoration = 'none';document.getElementById('_fs_zpotbpnweyceprgdxgpq_ind_25').style.opacity = 0;document.getElementById('_fb_zpotbpnweyceprgdxgpq_ind_25').style.opacity = 0;\" style=\"fill:rgb(0,0,0,0)\" /><g transform=\"translate(-6.0,0)\">  <svg x=\"74.85612475427445%\" y=\"40\" height=\"18\" overflow=\"visible\" width=\"30\">    <path d=\"M 8 -9 l -6 18 L 8 25\" fill=\"none\" style=\"stroke:rgb(208, 230, 250);stroke-width:2\" />  </svg></g><rect x=\"71.9314880225292%\" y=\"40\" height=\"20\" width=\"2.9246367317452524%\"      onmouseover=\"document.getElementById('_tp_zpotbpnweyceprgdxgpq_ind_12').style.textDecoration = 'underline';document.getElementById('_fs_zpotbpnweyceprgdxgpq_ind_12').style.opacity = 1;document.getElementById('_fb_zpotbpnweyceprgdxgpq_ind_12').style.opacity = 1;\"      onmouseout=\"document.getElementById('_tp_zpotbpnweyceprgdxgpq_ind_12').style.textDecoration = 'none';document.getElementById('_fs_zpotbpnweyceprgdxgpq_ind_12').style.opacity = 0;document.getElementById('_fb_zpotbpnweyceprgdxgpq_ind_12').style.opacity = 0;\" style=\"fill:rgb(0,0,0,0)\" /><g transform=\"translate(-6.0,0)\">  <svg x=\"77.40838770777451%\" y=\"40\" height=\"18\" overflow=\"visible\" width=\"30\">    <path d=\"M 8 -9 l -6 18 L 8 25\" fill=\"none\" style=\"stroke:rgb(208, 230, 250);stroke-width:2\" />  </svg></g><rect x=\"74.85612475427445%\" y=\"40\" height=\"20\" width=\"2.552262953500062%\"      onmouseover=\"document.getElementById('_tp_zpotbpnweyceprgdxgpq_ind_26').style.textDecoration = 'underline';document.getElementById('_fs_zpotbpnweyceprgdxgpq_ind_26').style.opacity = 1;document.getElementById('_fb_zpotbpnweyceprgdxgpq_ind_26').style.opacity = 1;\"      onmouseout=\"document.getElementById('_tp_zpotbpnweyceprgdxgpq_ind_26').style.textDecoration = 'none';document.getElementById('_fs_zpotbpnweyceprgdxgpq_ind_26').style.opacity = 0;document.getElementById('_fb_zpotbpnweyceprgdxgpq_ind_26').style.opacity = 0;\" style=\"fill:rgb(0,0,0,0)\" /><g transform=\"translate(-6.0,0)\">  <svg x=\"79.85831461100598%\" y=\"40\" height=\"18\" overflow=\"visible\" width=\"30\">    <path d=\"M 8 -9 l -6 18 L 8 25\" fill=\"none\" style=\"stroke:rgb(208, 230, 250);stroke-width:2\" />  </svg></g><rect x=\"77.40838770777451%\" y=\"40\" height=\"20\" width=\"2.4499269032314714%\"      onmouseover=\"document.getElementById('_tp_zpotbpnweyceprgdxgpq_ind_19').style.textDecoration = 'underline';document.getElementById('_fs_zpotbpnweyceprgdxgpq_ind_19').style.opacity = 1;document.getElementById('_fb_zpotbpnweyceprgdxgpq_ind_19').style.opacity = 1;\"      onmouseout=\"document.getElementById('_tp_zpotbpnweyceprgdxgpq_ind_19').style.textDecoration = 'none';document.getElementById('_fs_zpotbpnweyceprgdxgpq_ind_19').style.opacity = 0;document.getElementById('_fb_zpotbpnweyceprgdxgpq_ind_19').style.opacity = 0;\" style=\"fill:rgb(0,0,0,0)\" /><g transform=\"translate(-6.0,0)\">  <svg x=\"82.1927644653172%\" y=\"40\" height=\"18\" overflow=\"visible\" width=\"30\">    <path d=\"M 8 -9 l -6 18 L 8 25\" fill=\"none\" style=\"stroke:rgb(208, 230, 250);stroke-width:2\" />  </svg></g><rect x=\"79.85831461100598%\" y=\"40\" height=\"20\" width=\"2.3344498543112167%\"      onmouseover=\"document.getElementById('_tp_zpotbpnweyceprgdxgpq_ind_29').style.textDecoration = 'underline';document.getElementById('_fs_zpotbpnweyceprgdxgpq_ind_29').style.opacity = 1;document.getElementById('_fb_zpotbpnweyceprgdxgpq_ind_29').style.opacity = 1;\"      onmouseout=\"document.getElementById('_tp_zpotbpnweyceprgdxgpq_ind_29').style.textDecoration = 'none';document.getElementById('_fs_zpotbpnweyceprgdxgpq_ind_29').style.opacity = 0;document.getElementById('_fb_zpotbpnweyceprgdxgpq_ind_29').style.opacity = 0;\" style=\"fill:rgb(0,0,0,0)\" /><g transform=\"translate(-6.0,0)\">  <svg x=\"84.49469208154333%\" y=\"40\" height=\"18\" overflow=\"visible\" width=\"30\">    <path d=\"M 8 -9 l -6 18 L 8 25\" fill=\"none\" style=\"stroke:rgb(208, 230, 250);stroke-width:2\" />  </svg></g><rect x=\"82.1927644653172%\" y=\"40\" height=\"20\" width=\"2.3019276162261377%\"      onmouseover=\"document.getElementById('_tp_zpotbpnweyceprgdxgpq_ind_18').style.textDecoration = 'underline';document.getElementById('_fs_zpotbpnweyceprgdxgpq_ind_18').style.opacity = 1;document.getElementById('_fb_zpotbpnweyceprgdxgpq_ind_18').style.opacity = 1;\"      onmouseout=\"document.getElementById('_tp_zpotbpnweyceprgdxgpq_ind_18').style.textDecoration = 'none';document.getElementById('_fs_zpotbpnweyceprgdxgpq_ind_18').style.opacity = 0;document.getElementById('_fb_zpotbpnweyceprgdxgpq_ind_18').style.opacity = 0;\" style=\"fill:rgb(0,0,0,0)\" /><g transform=\"translate(-6.0,0)\">  <svg x=\"86.2069198198721%\" y=\"40\" height=\"18\" overflow=\"visible\" width=\"30\">    <path d=\"M 8 -9 l -6 18 L 8 25\" fill=\"none\" style=\"stroke:rgb(208, 230, 250);stroke-width:2\" />  </svg></g><rect x=\"84.49469208154333%\" y=\"40\" height=\"20\" width=\"1.7122277383287638%\"      onmouseover=\"document.getElementById('_tp_zpotbpnweyceprgdxgpq_ind_9').style.textDecoration = 'underline';document.getElementById('_fs_zpotbpnweyceprgdxgpq_ind_9').style.opacity = 1;document.getElementById('_fb_zpotbpnweyceprgdxgpq_ind_9').style.opacity = 1;\"      onmouseout=\"document.getElementById('_tp_zpotbpnweyceprgdxgpq_ind_9').style.textDecoration = 'none';document.getElementById('_fs_zpotbpnweyceprgdxgpq_ind_9').style.opacity = 0;document.getElementById('_fb_zpotbpnweyceprgdxgpq_ind_9').style.opacity = 0;\" style=\"fill:rgb(0,0,0,0)\" /><g transform=\"translate(-6.0,0)\">  <svg x=\"87.64837965047279%\" y=\"40\" height=\"18\" overflow=\"visible\" width=\"30\">    <path d=\"M 8 -9 l -6 18 L 8 25\" fill=\"none\" style=\"stroke:rgb(208, 230, 250);stroke-width:2\" />  </svg></g><rect x=\"86.2069198198721%\" y=\"40\" height=\"20\" width=\"1.4414598306006923%\"      onmouseover=\"document.getElementById('_tp_zpotbpnweyceprgdxgpq_ind_14').style.textDecoration = 'underline';document.getElementById('_fs_zpotbpnweyceprgdxgpq_ind_14').style.opacity = 1;document.getElementById('_fb_zpotbpnweyceprgdxgpq_ind_14').style.opacity = 1;\"      onmouseout=\"document.getElementById('_tp_zpotbpnweyceprgdxgpq_ind_14').style.textDecoration = 'none';document.getElementById('_fs_zpotbpnweyceprgdxgpq_ind_14').style.opacity = 0;document.getElementById('_fb_zpotbpnweyceprgdxgpq_ind_14').style.opacity = 0;\" style=\"fill:rgb(0,0,0,0)\" /><g transform=\"translate(-6.0,0)\">  <svg x=\"88.94853963323192%\" y=\"40\" height=\"18\" overflow=\"visible\" width=\"30\">    <path d=\"M 8 -9 l -6 18 L 8 25\" fill=\"none\" style=\"stroke:rgb(208, 230, 250);stroke-width:2\" />  </svg></g><rect x=\"87.64837965047279%\" y=\"40\" height=\"20\" width=\"1.3001599827591264%\"      onmouseover=\"document.getElementById('_tp_zpotbpnweyceprgdxgpq_ind_30').style.textDecoration = 'underline';document.getElementById('_fs_zpotbpnweyceprgdxgpq_ind_30').style.opacity = 1;document.getElementById('_fb_zpotbpnweyceprgdxgpq_ind_30').style.opacity = 1;\"      onmouseout=\"document.getElementById('_tp_zpotbpnweyceprgdxgpq_ind_30').style.textDecoration = 'none';document.getElementById('_fs_zpotbpnweyceprgdxgpq_ind_30').style.opacity = 0;document.getElementById('_fb_zpotbpnweyceprgdxgpq_ind_30').style.opacity = 0;\" style=\"fill:rgb(0,0,0,0)\" /><g transform=\"translate(-6.0,0)\">  <svg x=\"90.21626589422594%\" y=\"40\" height=\"18\" overflow=\"visible\" width=\"30\">    <path d=\"M 8 -9 l -6 18 L 8 25\" fill=\"none\" style=\"stroke:rgb(208, 230, 250);stroke-width:2\" />  </svg></g><rect x=\"88.94853963323192%\" y=\"40\" height=\"20\" width=\"1.2677262609940243%\"      onmouseover=\"document.getElementById('_tp_zpotbpnweyceprgdxgpq_ind_8').style.textDecoration = 'underline';document.getElementById('_fs_zpotbpnweyceprgdxgpq_ind_8').style.opacity = 1;document.getElementById('_fb_zpotbpnweyceprgdxgpq_ind_8').style.opacity = 1;\"      onmouseout=\"document.getElementById('_tp_zpotbpnweyceprgdxgpq_ind_8').style.textDecoration = 'none';document.getElementById('_fs_zpotbpnweyceprgdxgpq_ind_8').style.opacity = 0;document.getElementById('_fb_zpotbpnweyceprgdxgpq_ind_8').style.opacity = 0;\" style=\"fill:rgb(0,0,0,0)\" /><g transform=\"translate(-6.0,0)\">  <svg x=\"91.33604655320292%\" y=\"40\" height=\"18\" overflow=\"visible\" width=\"30\">    <path d=\"M 8 -9 l -6 18 L 8 25\" fill=\"none\" style=\"stroke:rgb(208, 230, 250);stroke-width:2\" />  </svg></g><rect x=\"90.21626589422594%\" y=\"40\" height=\"20\" width=\"1.1197806589769783%\"      onmouseover=\"document.getElementById('_tp_zpotbpnweyceprgdxgpq_ind_10').style.textDecoration = 'underline';document.getElementById('_fs_zpotbpnweyceprgdxgpq_ind_10').style.opacity = 1;document.getElementById('_fb_zpotbpnweyceprgdxgpq_ind_10').style.opacity = 1;\"      onmouseout=\"document.getElementById('_tp_zpotbpnweyceprgdxgpq_ind_10').style.textDecoration = 'none';document.getElementById('_fs_zpotbpnweyceprgdxgpq_ind_10').style.opacity = 0;document.getElementById('_fb_zpotbpnweyceprgdxgpq_ind_10').style.opacity = 0;\" style=\"fill:rgb(0,0,0,0)\" /><g transform=\"translate(-6.0,0)\">  <svg x=\"92.35078230687714%\" y=\"40\" height=\"18\" overflow=\"visible\" width=\"30\">    <path d=\"M 8 -9 l -6 18 L 8 25\" fill=\"none\" style=\"stroke:rgb(208, 230, 250);stroke-width:2\" />  </svg></g><rect x=\"91.33604655320292%\" y=\"40\" height=\"20\" width=\"1.0147357536742163%\"      onmouseover=\"document.getElementById('_tp_zpotbpnweyceprgdxgpq_ind_6').style.textDecoration = 'underline';document.getElementById('_fs_zpotbpnweyceprgdxgpq_ind_6').style.opacity = 1;document.getElementById('_fb_zpotbpnweyceprgdxgpq_ind_6').style.opacity = 1;\"      onmouseout=\"document.getElementById('_tp_zpotbpnweyceprgdxgpq_ind_6').style.textDecoration = 'none';document.getElementById('_fs_zpotbpnweyceprgdxgpq_ind_6').style.opacity = 0;document.getElementById('_fb_zpotbpnweyceprgdxgpq_ind_6').style.opacity = 0;\" style=\"fill:rgb(0,0,0,0)\" /><g transform=\"translate(-6.0,0)\">  <svg x=\"93.25445212816899%\" y=\"40\" height=\"18\" overflow=\"visible\" width=\"30\">    <path d=\"M 8 -9 l -6 18 L 8 25\" fill=\"none\" style=\"stroke:rgb(208, 230, 250);stroke-width:2\" />  </svg></g><rect x=\"92.35078230687714%\" y=\"40\" height=\"20\" width=\"0.9036698212918566%\"      onmouseover=\"document.getElementById('_tp_zpotbpnweyceprgdxgpq_ind_31').style.textDecoration = 'underline';document.getElementById('_fs_zpotbpnweyceprgdxgpq_ind_31').style.opacity = 1;document.getElementById('_fb_zpotbpnweyceprgdxgpq_ind_31').style.opacity = 1;\"      onmouseout=\"document.getElementById('_tp_zpotbpnweyceprgdxgpq_ind_31').style.textDecoration = 'none';document.getElementById('_fs_zpotbpnweyceprgdxgpq_ind_31').style.opacity = 0;document.getElementById('_fb_zpotbpnweyceprgdxgpq_ind_31').style.opacity = 0;\" style=\"fill:rgb(0,0,0,0)\" /><g transform=\"translate(-6.0,0)\">  <svg x=\"93.85988330540306%\" y=\"40\" height=\"18\" overflow=\"visible\" width=\"30\">    <path d=\"M 8 -9 l -6 18 L 8 25\" fill=\"none\" style=\"stroke:rgb(208, 230, 250);stroke-width:2\" />  </svg></g><rect x=\"93.25445212816899%\" y=\"40\" height=\"20\" width=\"0.6054311772340668%\"      onmouseover=\"document.getElementById('_tp_zpotbpnweyceprgdxgpq_ind_4').style.textDecoration = 'underline';document.getElementById('_fs_zpotbpnweyceprgdxgpq_ind_4').style.opacity = 1;document.getElementById('_fb_zpotbpnweyceprgdxgpq_ind_4').style.opacity = 1;\"      onmouseout=\"document.getElementById('_tp_zpotbpnweyceprgdxgpq_ind_4').style.textDecoration = 'none';document.getElementById('_fs_zpotbpnweyceprgdxgpq_ind_4').style.opacity = 0;document.getElementById('_fb_zpotbpnweyceprgdxgpq_ind_4').style.opacity = 0;\" style=\"fill:rgb(0,0,0,0)\" /><g transform=\"translate(-6.0,0)\">  <svg x=\"94.10152518966242%\" y=\"40\" height=\"18\" overflow=\"visible\" width=\"30\">    <path d=\"M 8 -9 l -6 18 L 8 25\" fill=\"none\" style=\"stroke:rgb(208, 230, 250);stroke-width:2\" />  </svg></g><rect x=\"93.85988330540306%\" y=\"40\" height=\"20\" width=\"0.24164188425936572%\"      onmouseover=\"document.getElementById('_tp_zpotbpnweyceprgdxgpq_ind_32').style.textDecoration = 'underline';document.getElementById('_fs_zpotbpnweyceprgdxgpq_ind_32').style.opacity = 1;document.getElementById('_fb_zpotbpnweyceprgdxgpq_ind_32').style.opacity = 1;\"      onmouseout=\"document.getElementById('_tp_zpotbpnweyceprgdxgpq_ind_32').style.textDecoration = 'none';document.getElementById('_fs_zpotbpnweyceprgdxgpq_ind_32').style.opacity = 0;document.getElementById('_fb_zpotbpnweyceprgdxgpq_ind_32').style.opacity = 0;\" style=\"fill:rgb(0,0,0,0)\" /><g transform=\"translate(-6.0,0)\">  <svg x=\"94.13823517638768%\" y=\"40\" height=\"18\" overflow=\"visible\" width=\"30\">    <path d=\"M 8 -9 l -6 18 L 8 25\" fill=\"none\" style=\"stroke:rgb(208, 230, 250);stroke-width:2\" />  </svg></g><rect x=\"94.10152518966242%\" y=\"40\" height=\"20\" width=\"0.03670998672525627%\"      onmouseover=\"document.getElementById('_tp_zpotbpnweyceprgdxgpq_ind_20').style.textDecoration = 'underline';document.getElementById('_fs_zpotbpnweyceprgdxgpq_ind_20').style.opacity = 1;document.getElementById('_fb_zpotbpnweyceprgdxgpq_ind_20').style.opacity = 1;\"      onmouseout=\"document.getElementById('_tp_zpotbpnweyceprgdxgpq_ind_20').style.textDecoration = 'none';document.getElementById('_fs_zpotbpnweyceprgdxgpq_ind_20').style.opacity = 0;document.getElementById('_fb_zpotbpnweyceprgdxgpq_ind_20').style.opacity = 0;\" style=\"fill:rgb(0,0,0,0)\" /><rect x=\"94.13823517638768%\" y=\"40\" height=\"20\" width=\"0.022794390385428187%\"      onmouseover=\"document.getElementById('_tp_zpotbpnweyceprgdxgpq_ind_13').style.textDecoration = 'underline';document.getElementById('_fs_zpotbpnweyceprgdxgpq_ind_13').style.opacity = 1;document.getElementById('_fb_zpotbpnweyceprgdxgpq_ind_13').style.opacity = 1;\"      onmouseout=\"document.getElementById('_tp_zpotbpnweyceprgdxgpq_ind_13').style.textDecoration = 'none';document.getElementById('_fs_zpotbpnweyceprgdxgpq_ind_13').style.opacity = 0;document.getElementById('_fb_zpotbpnweyceprgdxgpq_ind_13').style.opacity = 0;\" style=\"fill:rgb(0,0,0,0)\" /></svg><div align='center'><div style=\"color: rgb(120,120,120); font-size: 12px; margin-top: -15px;\">inputs</div><div style='display: inline; text-align: center;'\n",
       "    ><div style='display: none; color: #999; padding-top: 0px; font-size: 12px;'>0.018</div\n",
       "        ><div id='_tp_zpotbpnweyceprgdxgpq_ind_0'\n",
       "            style='display: inline; background: rgba(255.0, 13.0, 87.0, 0.22749059219647458); border-radius: 3px; padding: 0px'\n",
       "            onclick=\"\n",
       "            if (this.previousSibling.style.display == 'none') {\n",
       "                this.previousSibling.style.display = 'block';\n",
       "                this.parentNode.style.display = 'inline-block';\n",
       "            } else {\n",
       "                this.previousSibling.style.display = 'none';\n",
       "                this.parentNode.style.display = 'inline';\n",
       "            }\"\n",
       "            onmouseover=\"document.getElementById('_fb_zpotbpnweyceprgdxgpq_ind_0').style.opacity = 1; document.getElementById('_fs_zpotbpnweyceprgdxgpq_ind_0').style.opacity = 1;\"\n",
       "            onmouseout=\"document.getElementById('_fb_zpotbpnweyceprgdxgpq_ind_0').style.opacity = 0; document.getElementById('_fs_zpotbpnweyceprgdxgpq_ind_0').style.opacity = 0;\"\n",
       "        >Big</div></div><div style='display: inline; text-align: center;'\n",
       "    ><div style='display: none; color: #999; padding-top: 0px; font-size: 12px;'>0.009</div\n",
       "        ><div id='_tp_zpotbpnweyceprgdxgpq_ind_1'\n",
       "            style='display: inline; background: rgba(255.0, 13.0, 87.0, 0.10136660724896006); border-radius: 3px; padding: 0px'\n",
       "            onclick=\"\n",
       "            if (this.previousSibling.style.display == 'none') {\n",
       "                this.previousSibling.style.display = 'block';\n",
       "                this.parentNode.style.display = 'inline-block';\n",
       "            } else {\n",
       "                this.previousSibling.style.display = 'none';\n",
       "                this.parentNode.style.display = 'inline';\n",
       "            }\"\n",
       "            onmouseover=\"document.getElementById('_fb_zpotbpnweyceprgdxgpq_ind_1').style.opacity = 1; document.getElementById('_fs_zpotbpnweyceprgdxgpq_ind_1').style.opacity = 1;\"\n",
       "            onmouseout=\"document.getElementById('_fb_zpotbpnweyceprgdxgpq_ind_1').style.opacity = 0; document.getElementById('_fs_zpotbpnweyceprgdxgpq_ind_1').style.opacity = 0;\"\n",
       "        >otte</div></div><div style='display: inline; text-align: center;'\n",
       "    ><div style='display: none; color: #999; padding-top: 0px; font-size: 12px;'>0.012</div\n",
       "        ><div id='_tp_zpotbpnweyceprgdxgpq_ind_2'\n",
       "            style='display: inline; background: rgba(255.0, 13.0, 87.0, 0.14866310160427795); border-radius: 3px; padding: 0px'\n",
       "            onclick=\"\n",
       "            if (this.previousSibling.style.display == 'none') {\n",
       "                this.previousSibling.style.display = 'block';\n",
       "                this.parentNode.style.display = 'inline-block';\n",
       "            } else {\n",
       "                this.previousSibling.style.display = 'none';\n",
       "                this.parentNode.style.display = 'inline';\n",
       "            }\"\n",
       "            onmouseover=\"document.getElementById('_fb_zpotbpnweyceprgdxgpq_ind_2').style.opacity = 1; document.getElementById('_fs_zpotbpnweyceprgdxgpq_ind_2').style.opacity = 1;\"\n",
       "            onmouseout=\"document.getElementById('_fb_zpotbpnweyceprgdxgpq_ind_2').style.opacity = 0; document.getElementById('_fs_zpotbpnweyceprgdxgpq_ind_2').style.opacity = 0;\"\n",
       "        >s</div></div><div style='display: inline; text-align: center;'\n",
       "    ><div style='display: none; color: #999; padding-top: 0px; font-size: 12px;'>0.069</div\n",
       "        ><div id='_tp_zpotbpnweyceprgdxgpq_ind_3'\n",
       "            style='display: inline; background: rgba(255.0, 13.0, 87.0, 0.8581105169340464); border-radius: 3px; padding: 0px'\n",
       "            onclick=\"\n",
       "            if (this.previousSibling.style.display == 'none') {\n",
       "                this.previousSibling.style.display = 'block';\n",
       "                this.parentNode.style.display = 'inline-block';\n",
       "            } else {\n",
       "                this.previousSibling.style.display = 'none';\n",
       "                this.parentNode.style.display = 'inline';\n",
       "            }\"\n",
       "            onmouseover=\"document.getElementById('_fb_zpotbpnweyceprgdxgpq_ind_3').style.opacity = 1; document.getElementById('_fs_zpotbpnweyceprgdxgpq_ind_3').style.opacity = 1;\"\n",
       "            onmouseout=\"document.getElementById('_fb_zpotbpnweyceprgdxgpq_ind_3').style.opacity = 0; document.getElementById('_fs_zpotbpnweyceprgdxgpq_ind_3').style.opacity = 0;\"\n",
       "        > Deutschland</div></div><div style='display: inline; text-align: center;'\n",
       "    ><div style='display: none; color: #999; padding-top: 0px; font-size: 12px;'>-0.004</div\n",
       "        ><div id='_tp_zpotbpnweyceprgdxgpq_ind_4'\n",
       "            style='display: inline; background: rgba(30.0, 136.0, 229.0, 0.03830461477520309); border-radius: 3px; padding: 0px'\n",
       "            onclick=\"\n",
       "            if (this.previousSibling.style.display == 'none') {\n",
       "                this.previousSibling.style.display = 'block';\n",
       "                this.parentNode.style.display = 'inline-block';\n",
       "            } else {\n",
       "                this.previousSibling.style.display = 'none';\n",
       "                this.parentNode.style.display = 'inline';\n",
       "            }\"\n",
       "            onmouseover=\"document.getElementById('_fb_zpotbpnweyceprgdxgpq_ind_4').style.opacity = 1; document.getElementById('_fs_zpotbpnweyceprgdxgpq_ind_4').style.opacity = 1;\"\n",
       "            onmouseout=\"document.getElementById('_fb_zpotbpnweyceprgdxgpq_ind_4').style.opacity = 0; document.getElementById('_fs_zpotbpnweyceprgdxgpq_ind_4').style.opacity = 0;\"\n",
       "        > Kipp</div></div><div style='display: inline; text-align: center;'\n",
       "    ><div style='display: none; color: #999; padding-top: 0px; font-size: 12px;'>0.004</div\n",
       "        ><div id='_tp_zpotbpnweyceprgdxgpq_ind_5'\n",
       "            style='display: inline; background: rgba(255.0, 13.0, 87.0, 0.04618736383442265); border-radius: 3px; padding: 0px'\n",
       "            onclick=\"\n",
       "            if (this.previousSibling.style.display == 'none') {\n",
       "                this.previousSibling.style.display = 'block';\n",
       "                this.parentNode.style.display = 'inline-block';\n",
       "            } else {\n",
       "                this.previousSibling.style.display = 'none';\n",
       "                this.parentNode.style.display = 'inline';\n",
       "            }\"\n",
       "            onmouseover=\"document.getElementById('_fb_zpotbpnweyceprgdxgpq_ind_5').style.opacity = 1; document.getElementById('_fs_zpotbpnweyceprgdxgpq_ind_5').style.opacity = 1;\"\n",
       "            onmouseout=\"document.getElementById('_fb_zpotbpnweyceprgdxgpq_ind_5').style.opacity = 0; document.getElementById('_fs_zpotbpnweyceprgdxgpq_ind_5').style.opacity = 0;\"\n",
       "        >a</div></div><div style='display: inline; text-align: center;'\n",
       "    ><div style='display: none; color: #999; padding-top: 0px; font-size: 12px;'>-0.006</div\n",
       "        ><div id='_tp_zpotbpnweyceprgdxgpq_ind_6'\n",
       "            style='display: inline; background: rgba(30.0, 136.0, 229.0, 0.06983561101208147); border-radius: 3px; padding: 0px'\n",
       "            onclick=\"\n",
       "            if (this.previousSibling.style.display == 'none') {\n",
       "                this.previousSibling.style.display = 'block';\n",
       "                this.parentNode.style.display = 'inline-block';\n",
       "            } else {\n",
       "                this.previousSibling.style.display = 'none';\n",
       "                this.parentNode.style.display = 'inline';\n",
       "            }\"\n",
       "            onmouseover=\"document.getElementById('_fb_zpotbpnweyceprgdxgpq_ind_6').style.opacity = 1; document.getElementById('_fs_zpotbpnweyceprgdxgpq_ind_6').style.opacity = 1;\"\n",
       "            onmouseout=\"document.getElementById('_fb_zpotbpnweyceprgdxgpq_ind_6').style.opacity = 0; document.getElementById('_fs_zpotbpnweyceprgdxgpq_ind_6').style.opacity = 0;\"\n",
       "        >Tra</div></div><div style='display: inline; text-align: center;'\n",
       "    ><div style='display: none; color: #999; padding-top: 0px; font-size: 12px;'>0.002</div\n",
       "        ><div id='_tp_zpotbpnweyceprgdxgpq_ind_7'\n",
       "            style='display: inline; background: rgba(255.0, 13.0, 87.0, 0.02253911665676371); border-radius: 3px; padding: 0px'\n",
       "            onclick=\"\n",
       "            if (this.previousSibling.style.display == 'none') {\n",
       "                this.previousSibling.style.display = 'block';\n",
       "                this.parentNode.style.display = 'inline-block';\n",
       "            } else {\n",
       "                this.previousSibling.style.display = 'none';\n",
       "                this.parentNode.style.display = 'inline';\n",
       "            }\"\n",
       "            onmouseover=\"document.getElementById('_fb_zpotbpnweyceprgdxgpq_ind_7').style.opacity = 1; document.getElementById('_fs_zpotbpnweyceprgdxgpq_ind_7').style.opacity = 1;\"\n",
       "            onmouseout=\"document.getElementById('_fb_zpotbpnweyceprgdxgpq_ind_7').style.opacity = 0; document.getElementById('_fs_zpotbpnweyceprgdxgpq_ind_7').style.opacity = 0;\"\n",
       "        >gen</div></div><div style='display: inline; text-align: center;'\n",
       "    ><div style='display: none; color: #999; padding-top: 0px; font-size: 12px;'>-0.007</div\n",
       "        ><div id='_tp_zpotbpnweyceprgdxgpq_ind_8'\n",
       "            style='display: inline; background: rgba(30.0, 136.0, 229.0, 0.08560110913052085); border-radius: 3px; padding: 0px'\n",
       "            onclick=\"\n",
       "            if (this.previousSibling.style.display == 'none') {\n",
       "                this.previousSibling.style.display = 'block';\n",
       "                this.parentNode.style.display = 'inline-block';\n",
       "            } else {\n",
       "                this.previousSibling.style.display = 'none';\n",
       "                this.parentNode.style.display = 'inline';\n",
       "            }\"\n",
       "            onmouseover=\"document.getElementById('_fb_zpotbpnweyceprgdxgpq_ind_8').style.opacity = 1; document.getElementById('_fs_zpotbpnweyceprgdxgpq_ind_8').style.opacity = 1;\"\n",
       "            onmouseout=\"document.getElementById('_fb_zpotbpnweyceprgdxgpq_ind_8').style.opacity = 0; document.getElementById('_fs_zpotbpnweyceprgdxgpq_ind_8').style.opacity = 0;\"\n",
       "        > wird</div></div><div style='display: inline; text-align: center;'\n",
       "    ><div style='display: none; color: #999; padding-top: 0px; font-size: 12px;'>-0.01</div\n",
       "        ><div id='_tp_zpotbpnweyceprgdxgpq_ind_9'\n",
       "            style='display: inline; background: rgba(30.0, 136.0, 229.0, 0.11713210536739943); border-radius: 3px; padding: 0px'\n",
       "            onclick=\"\n",
       "            if (this.previousSibling.style.display == 'none') {\n",
       "                this.previousSibling.style.display = 'block';\n",
       "                this.parentNode.style.display = 'inline-block';\n",
       "            } else {\n",
       "                this.previousSibling.style.display = 'none';\n",
       "                this.parentNode.style.display = 'inline';\n",
       "            }\"\n",
       "            onmouseover=\"document.getElementById('_fb_zpotbpnweyceprgdxgpq_ind_9').style.opacity = 1; document.getElementById('_fs_zpotbpnweyceprgdxgpq_ind_9').style.opacity = 1;\"\n",
       "            onmouseout=\"document.getElementById('_fb_zpotbpnweyceprgdxgpq_ind_9').style.opacity = 0; document.getElementById('_fs_zpotbpnweyceprgdxgpq_ind_9').style.opacity = 0;\"\n",
       "        > zur</div></div><div style='display: inline; text-align: center;'\n",
       "    ><div style='display: none; color: #999; padding-top: 0px; font-size: 12px;'>-0.007</div\n",
       "        ><div id='_tp_zpotbpnweyceprgdxgpq_ind_10'\n",
       "            style='display: inline; background: rgba(30.0, 136.0, 229.0, 0.07771836007130117); border-radius: 3px; padding: 0px'\n",
       "            onclick=\"\n",
       "            if (this.previousSibling.style.display == 'none') {\n",
       "                this.previousSibling.style.display = 'block';\n",
       "                this.parentNode.style.display = 'inline-block';\n",
       "            } else {\n",
       "                this.previousSibling.style.display = 'none';\n",
       "                this.parentNode.style.display = 'inline';\n",
       "            }\"\n",
       "            onmouseover=\"document.getElementById('_fb_zpotbpnweyceprgdxgpq_ind_10').style.opacity = 1; document.getElementById('_fs_zpotbpnweyceprgdxgpq_ind_10').style.opacity = 1;\"\n",
       "            onmouseout=\"document.getElementById('_fb_zpotbpnweyceprgdxgpq_ind_10').style.opacity = 0; document.getElementById('_fs_zpotbpnweyceprgdxgpq_ind_10').style.opacity = 0;\"\n",
       "        > Bürger</div></div><div style='display: inline; text-align: center;'\n",
       "    ><div style='display: none; color: #999; padding-top: 0px; font-size: 12px;'>-0.02</div\n",
       "        ><div id='_tp_zpotbpnweyceprgdxgpq_ind_11'\n",
       "            style='display: inline; background: rgba(30.0, 136.0, 229.0, 0.25113883937413345); border-radius: 3px; padding: 0px'\n",
       "            onclick=\"\n",
       "            if (this.previousSibling.style.display == 'none') {\n",
       "                this.previousSibling.style.display = 'block';\n",
       "                this.parentNode.style.display = 'inline-block';\n",
       "            } else {\n",
       "                this.previousSibling.style.display = 'none';\n",
       "                this.parentNode.style.display = 'inline';\n",
       "            }\"\n",
       "            onmouseover=\"document.getElementById('_fb_zpotbpnweyceprgdxgpq_ind_11').style.opacity = 1; document.getElementById('_fs_zpotbpnweyceprgdxgpq_ind_11').style.opacity = 1;\"\n",
       "            onmouseout=\"document.getElementById('_fb_zpotbpnweyceprgdxgpq_ind_11').style.opacity = 0; document.getElementById('_fs_zpotbpnweyceprgdxgpq_ind_11').style.opacity = 0;\"\n",
       "        >pflicht</div></div><div style='display: inline; text-align: center;'\n",
       "    ><div style='display: none; color: #999; padding-top: 0px; font-size: 12px;'>-0.017</div\n",
       "        ><div id='_tp_zpotbpnweyceprgdxgpq_ind_12'\n",
       "            style='display: inline; background: rgba(30.0, 136.0, 229.0, 0.21172509407803525); border-radius: 3px; padding: 0px'\n",
       "            onclick=\"\n",
       "            if (this.previousSibling.style.display == 'none') {\n",
       "                this.previousSibling.style.display = 'block';\n",
       "                this.parentNode.style.display = 'inline-block';\n",
       "            } else {\n",
       "                this.previousSibling.style.display = 'none';\n",
       "                this.parentNode.style.display = 'inline';\n",
       "            }\"\n",
       "            onmouseover=\"document.getElementById('_fb_zpotbpnweyceprgdxgpq_ind_12').style.opacity = 1; document.getElementById('_fs_zpotbpnweyceprgdxgpq_ind_12').style.opacity = 1;\"\n",
       "            onmouseout=\"document.getElementById('_fb_zpotbpnweyceprgdxgpq_ind_12').style.opacity = 0; document.getElementById('_fs_zpotbpnweyceprgdxgpq_ind_12').style.opacity = 0;\"\n",
       "        > gleichzeitig</div></div><div style='display: inline; text-align: center;'\n",
       "    ><div style='display: none; color: #999; padding-top: 0px; font-size: 12px;'>-0.0</div\n",
       "        ><div id='_tp_zpotbpnweyceprgdxgpq_ind_13'\n",
       "            style='display: inline; background: rgba(54.70588235294111, 122.49411764705886, 213.40784313725496, 0.0); border-radius: 3px; padding: 0px'\n",
       "            onclick=\"\n",
       "            if (this.previousSibling.style.display == 'none') {\n",
       "                this.previousSibling.style.display = 'block';\n",
       "                this.parentNode.style.display = 'inline-block';\n",
       "            } else {\n",
       "                this.previousSibling.style.display = 'none';\n",
       "                this.parentNode.style.display = 'inline';\n",
       "            }\"\n",
       "            onmouseover=\"document.getElementById('_fb_zpotbpnweyceprgdxgpq_ind_13').style.opacity = 1; document.getElementById('_fs_zpotbpnweyceprgdxgpq_ind_13').style.opacity = 1;\"\n",
       "            onmouseout=\"document.getElementById('_fb_zpotbpnweyceprgdxgpq_ind_13').style.opacity = 0; document.getElementById('_fs_zpotbpnweyceprgdxgpq_ind_13').style.opacity = 0;\"\n",
       "        > soll</div></div><div style='display: inline; text-align: center;'\n",
       "    ><div style='display: none; color: #999; padding-top: 0px; font-size: 12px;'>-0.008</div\n",
       "        ><div id='_tp_zpotbpnweyceprgdxgpq_ind_14'\n",
       "            style='display: inline; background: rgba(30.0, 136.0, 229.0, 0.10136660724896014); border-radius: 3px; padding: 0px'\n",
       "            onclick=\"\n",
       "            if (this.previousSibling.style.display == 'none') {\n",
       "                this.previousSibling.style.display = 'block';\n",
       "                this.parentNode.style.display = 'inline-block';\n",
       "            } else {\n",
       "                this.previousSibling.style.display = 'none';\n",
       "                this.parentNode.style.display = 'inline';\n",
       "            }\"\n",
       "            onmouseover=\"document.getElementById('_fb_zpotbpnweyceprgdxgpq_ind_14').style.opacity = 1; document.getElementById('_fs_zpotbpnweyceprgdxgpq_ind_14').style.opacity = 1;\"\n",
       "            onmouseout=\"document.getElementById('_fb_zpotbpnweyceprgdxgpq_ind_14').style.opacity = 0; document.getElementById('_fs_zpotbpnweyceprgdxgpq_ind_14').style.opacity = 0;\"\n",
       "        > das</div></div><div style='display: inline; text-align: center;'\n",
       "    ><div style='display: none; color: #999; padding-top: 0px; font-size: 12px;'>0.053</div\n",
       "        ><div id='_tp_zpotbpnweyceprgdxgpq_ind_15'\n",
       "            style='display: inline; background: rgba(255.0, 13.0, 87.0, 0.6610417904535549); border-radius: 3px; padding: 0px'\n",
       "            onclick=\"\n",
       "            if (this.previousSibling.style.display == 'none') {\n",
       "                this.previousSibling.style.display = 'block';\n",
       "                this.parentNode.style.display = 'inline-block';\n",
       "            } else {\n",
       "                this.previousSibling.style.display = 'none';\n",
       "                this.parentNode.style.display = 'inline';\n",
       "            }\"\n",
       "            onmouseover=\"document.getElementById('_fb_zpotbpnweyceprgdxgpq_ind_15').style.opacity = 1; document.getElementById('_fs_zpotbpnweyceprgdxgpq_ind_15').style.opacity = 1;\"\n",
       "            onmouseout=\"document.getElementById('_fb_zpotbpnweyceprgdxgpq_ind_15').style.opacity = 0; document.getElementById('_fs_zpotbpnweyceprgdxgpq_ind_15').style.opacity = 0;\"\n",
       "        > Kopf</div></div><div style='display: inline; text-align: center;'\n",
       "    ><div style='display: none; color: #999; padding-top: 0px; font-size: 12px;'>0.061</div\n",
       "        ><div id='_tp_zpotbpnweyceprgdxgpq_ind_16'\n",
       "            style='display: inline; background: rgba(255.0, 13.0, 87.0, 0.755634779164191); border-radius: 3px; padding: 0px'\n",
       "            onclick=\"\n",
       "            if (this.previousSibling.style.display == 'none') {\n",
       "                this.previousSibling.style.display = 'block';\n",
       "                this.parentNode.style.display = 'inline-block';\n",
       "            } else {\n",
       "                this.previousSibling.style.display = 'none';\n",
       "                this.parentNode.style.display = 'inline';\n",
       "            }\"\n",
       "            onmouseover=\"document.getElementById('_fb_zpotbpnweyceprgdxgpq_ind_16').style.opacity = 1; document.getElementById('_fs_zpotbpnweyceprgdxgpq_ind_16').style.opacity = 1;\"\n",
       "            onmouseout=\"document.getElementById('_fb_zpotbpnweyceprgdxgpq_ind_16').style.opacity = 0; document.getElementById('_fs_zpotbpnweyceprgdxgpq_ind_16').style.opacity = 0;\"\n",
       "        >tuch</div></div><div style='display: inline; text-align: center;'\n",
       "    ><div style='display: none; color: #999; padding-top: 0px; font-size: 12px;'>0.014</div\n",
       "        ><div id='_tp_zpotbpnweyceprgdxgpq_ind_17'\n",
       "            style='display: inline; background: rgba(255.0, 13.0, 87.0, 0.17231134878193693); border-radius: 3px; padding: 0px'\n",
       "            onclick=\"\n",
       "            if (this.previousSibling.style.display == 'none') {\n",
       "                this.previousSibling.style.display = 'block';\n",
       "                this.parentNode.style.display = 'inline-block';\n",
       "            } else {\n",
       "                this.previousSibling.style.display = 'none';\n",
       "                this.parentNode.style.display = 'inline';\n",
       "            }\"\n",
       "            onmouseover=\"document.getElementById('_fb_zpotbpnweyceprgdxgpq_ind_17').style.opacity = 1; document.getElementById('_fs_zpotbpnweyceprgdxgpq_ind_17').style.opacity = 1;\"\n",
       "            onmouseout=\"document.getElementById('_fb_zpotbpnweyceprgdxgpq_ind_17').style.opacity = 0; document.getElementById('_fs_zpotbpnweyceprgdxgpq_ind_17').style.opacity = 0;\"\n",
       "        > in</div></div><div style='display: inline; text-align: center;'\n",
       "    ><div style='display: none; color: #999; padding-top: 0px; font-size: 12px;'>-0.013</div\n",
       "        ><div id='_tp_zpotbpnweyceprgdxgpq_ind_18'\n",
       "            style='display: inline; background: rgba(30.0, 136.0, 229.0, 0.16442859972271748); border-radius: 3px; padding: 0px'\n",
       "            onclick=\"\n",
       "            if (this.previousSibling.style.display == 'none') {\n",
       "                this.previousSibling.style.display = 'block';\n",
       "                this.parentNode.style.display = 'inline-block';\n",
       "            } else {\n",
       "                this.previousSibling.style.display = 'none';\n",
       "                this.parentNode.style.display = 'inline';\n",
       "            }\"\n",
       "            onmouseover=\"document.getElementById('_fb_zpotbpnweyceprgdxgpq_ind_18').style.opacity = 1; document.getElementById('_fs_zpotbpnweyceprgdxgpq_ind_18').style.opacity = 1;\"\n",
       "            onmouseout=\"document.getElementById('_fb_zpotbpnweyceprgdxgpq_ind_18').style.opacity = 0; document.getElementById('_fs_zpotbpnweyceprgdxgpq_ind_18').style.opacity = 0;\"\n",
       "        > öffentlichen</div></div><div style='display: inline; text-align: center;'\n",
       "    ><div style='display: none; color: #999; padding-top: 0px; font-size: 12px;'>-0.014</div\n",
       "        ><div id='_tp_zpotbpnweyceprgdxgpq_ind_19'\n",
       "            style='display: inline; background: rgba(30.0, 136.0, 229.0, 0.1723113487819369); border-radius: 3px; padding: 0px'\n",
       "            onclick=\"\n",
       "            if (this.previousSibling.style.display == 'none') {\n",
       "                this.previousSibling.style.display = 'block';\n",
       "                this.parentNode.style.display = 'inline-block';\n",
       "            } else {\n",
       "                this.previousSibling.style.display = 'none';\n",
       "                this.parentNode.style.display = 'inline';\n",
       "            }\"\n",
       "            onmouseover=\"document.getElementById('_fb_zpotbpnweyceprgdxgpq_ind_19').style.opacity = 1; document.getElementById('_fs_zpotbpnweyceprgdxgpq_ind_19').style.opacity = 1;\"\n",
       "            onmouseout=\"document.getElementById('_fb_zpotbpnweyceprgdxgpq_ind_19').style.opacity = 0; document.getElementById('_fs_zpotbpnweyceprgdxgpq_ind_19').style.opacity = 0;\"\n",
       "        > Gebäuden</div></div><div style='display: inline; text-align: center;'\n",
       "    ><div style='display: none; color: #999; padding-top: 0px; font-size: 12px;'>-0.0</div\n",
       "        ><div id='_tp_zpotbpnweyceprgdxgpq_ind_20'\n",
       "            style='display: inline; background: rgba(54.70588235294111, 122.49411764705886, 213.40784313725496, 0.0); border-radius: 3px; padding: 0px'\n",
       "            onclick=\"\n",
       "            if (this.previousSibling.style.display == 'none') {\n",
       "                this.previousSibling.style.display = 'block';\n",
       "                this.parentNode.style.display = 'inline-block';\n",
       "            } else {\n",
       "                this.previousSibling.style.display = 'none';\n",
       "                this.parentNode.style.display = 'inline';\n",
       "            }\"\n",
       "            onmouseover=\"document.getElementById('_fb_zpotbpnweyceprgdxgpq_ind_20').style.opacity = 1; document.getElementById('_fs_zpotbpnweyceprgdxgpq_ind_20').style.opacity = 1;\"\n",
       "            onmouseout=\"document.getElementById('_fb_zpotbpnweyceprgdxgpq_ind_20').style.opacity = 0; document.getElementById('_fs_zpotbpnweyceprgdxgpq_ind_20').style.opacity = 0;\"\n",
       "        > und</div></div><div style='display: inline; text-align: center;'\n",
       "    ><div style='display: none; color: #999; padding-top: 0px; font-size: 12px;'>-0.024</div\n",
       "        ><div id='_tp_zpotbpnweyceprgdxgpq_ind_21'\n",
       "            style='display: inline; background: rgba(30.0, 136.0, 229.0, 0.29055258467023176); border-radius: 3px; padding: 0px'\n",
       "            onclick=\"\n",
       "            if (this.previousSibling.style.display == 'none') {\n",
       "                this.previousSibling.style.display = 'block';\n",
       "                this.parentNode.style.display = 'inline-block';\n",
       "            } else {\n",
       "                this.previousSibling.style.display = 'none';\n",
       "                this.parentNode.style.display = 'inline';\n",
       "            }\"\n",
       "            onmouseover=\"document.getElementById('_fb_zpotbpnweyceprgdxgpq_ind_21').style.opacity = 1; document.getElementById('_fs_zpotbpnweyceprgdxgpq_ind_21').style.opacity = 1;\"\n",
       "            onmouseout=\"document.getElementById('_fb_zpotbpnweyceprgdxgpq_ind_21').style.opacity = 0; document.getElementById('_fs_zpotbpnweyceprgdxgpq_ind_21').style.opacity = 0;\"\n",
       "        > für</div></div><div style='display: inline; text-align: center;'\n",
       "    ><div style='display: none; color: #999; padding-top: 0px; font-size: 12px;'>0.006</div\n",
       "        ><div id='_tp_zpotbpnweyceprgdxgpq_ind_22'\n",
       "            style='display: inline; background: rgba(255.0, 13.0, 87.0, 0.07771836007130124); border-radius: 3px; padding: 0px'\n",
       "            onclick=\"\n",
       "            if (this.previousSibling.style.display == 'none') {\n",
       "                this.previousSibling.style.display = 'block';\n",
       "                this.parentNode.style.display = 'inline-block';\n",
       "            } else {\n",
       "                this.previousSibling.style.display = 'none';\n",
       "                this.parentNode.style.display = 'inline';\n",
       "            }\"\n",
       "            onmouseover=\"document.getElementById('_fb_zpotbpnweyceprgdxgpq_ind_22').style.opacity = 1; document.getElementById('_fs_zpotbpnweyceprgdxgpq_ind_22').style.opacity = 1;\"\n",
       "            onmouseout=\"document.getElementById('_fb_zpotbpnweyceprgdxgpq_ind_22').style.opacity = 0; document.getElementById('_fs_zpotbpnweyceprgdxgpq_ind_22').style.opacity = 0;\"\n",
       "        > Schülerinnen</div></div><div style='display: inline; text-align: center;'\n",
       "    ><div style='display: none; color: #999; padding-top: 0px; font-size: 12px;'>0.014</div\n",
       "        ><div id='_tp_zpotbpnweyceprgdxgpq_ind_23'\n",
       "            style='display: inline; background: rgba(255.0, 13.0, 87.0, 0.18019409784115661); border-radius: 3px; padding: 0px'\n",
       "            onclick=\"\n",
       "            if (this.previousSibling.style.display == 'none') {\n",
       "                this.previousSibling.style.display = 'block';\n",
       "                this.parentNode.style.display = 'inline-block';\n",
       "            } else {\n",
       "                this.previousSibling.style.display = 'none';\n",
       "                this.parentNode.style.display = 'inline';\n",
       "            }\"\n",
       "            onmouseover=\"document.getElementById('_fb_zpotbpnweyceprgdxgpq_ind_23').style.opacity = 1; document.getElementById('_fs_zpotbpnweyceprgdxgpq_ind_23').style.opacity = 1;\"\n",
       "            onmouseout=\"document.getElementById('_fb_zpotbpnweyceprgdxgpq_ind_23').style.opacity = 0; document.getElementById('_fs_zpotbpnweyceprgdxgpq_ind_23').style.opacity = 0;\"\n",
       "        > verboten</div></div><div style='display: inline; text-align: center;'\n",
       "    ><div style='display: none; color: #999; padding-top: 0px; font-size: 12px;'>0.003</div\n",
       "        ><div id='_tp_zpotbpnweyceprgdxgpq_ind_24'\n",
       "            style='display: inline; background: rgba(255.0, 13.0, 87.0, 0.03830461477520289); border-radius: 3px; padding: 0px'\n",
       "            onclick=\"\n",
       "            if (this.previousSibling.style.display == 'none') {\n",
       "                this.previousSibling.style.display = 'block';\n",
       "                this.parentNode.style.display = 'inline-block';\n",
       "            } else {\n",
       "                this.previousSibling.style.display = 'none';\n",
       "                this.parentNode.style.display = 'inline';\n",
       "            }\"\n",
       "            onmouseover=\"document.getElementById('_fb_zpotbpnweyceprgdxgpq_ind_24').style.opacity = 1; document.getElementById('_fs_zpotbpnweyceprgdxgpq_ind_24').style.opacity = 1;\"\n",
       "            onmouseout=\"document.getElementById('_fb_zpotbpnweyceprgdxgpq_ind_24').style.opacity = 0; document.getElementById('_fs_zpotbpnweyceprgdxgpq_ind_24').style.opacity = 0;\"\n",
       "        > werden</div></div><div style='display: inline; text-align: center;'\n",
       "    ><div style='display: none; color: #999; padding-top: 0px; font-size: 12px;'>-0.018</div\n",
       "        ><div id='_tp_zpotbpnweyceprgdxgpq_ind_25'\n",
       "            style='display: inline; background: rgba(30.0, 136.0, 229.0, 0.21960784313725487); border-radius: 3px; padding: 0px'\n",
       "            onclick=\"\n",
       "            if (this.previousSibling.style.display == 'none') {\n",
       "                this.previousSibling.style.display = 'block';\n",
       "                this.parentNode.style.display = 'inline-block';\n",
       "            } else {\n",
       "                this.previousSibling.style.display = 'none';\n",
       "                this.parentNode.style.display = 'inline';\n",
       "            }\"\n",
       "            onmouseover=\"document.getElementById('_fb_zpotbpnweyceprgdxgpq_ind_25').style.opacity = 1; document.getElementById('_fs_zpotbpnweyceprgdxgpq_ind_25').style.opacity = 1;\"\n",
       "            onmouseout=\"document.getElementById('_fb_zpotbpnweyceprgdxgpq_ind_25').style.opacity = 0; document.getElementById('_fs_zpotbpnweyceprgdxgpq_ind_25').style.opacity = 0;\"\n",
       "        > Wenn</div></div><div style='display: inline; text-align: center;'\n",
       "    ><div style='display: none; color: #999; padding-top: 0px; font-size: 12px;'>-0.015</div\n",
       "        ><div id='_tp_zpotbpnweyceprgdxgpq_ind_26'\n",
       "            style='display: inline; background: rgba(30.0, 136.0, 229.0, 0.18019409784115656); border-radius: 3px; padding: 0px'\n",
       "            onclick=\"\n",
       "            if (this.previousSibling.style.display == 'none') {\n",
       "                this.previousSibling.style.display = 'block';\n",
       "                this.parentNode.style.display = 'inline-block';\n",
       "            } else {\n",
       "                this.previousSibling.style.display = 'none';\n",
       "                this.parentNode.style.display = 'inline';\n",
       "            }\"\n",
       "            onmouseover=\"document.getElementById('_fb_zpotbpnweyceprgdxgpq_ind_26').style.opacity = 1; document.getElementById('_fs_zpotbpnweyceprgdxgpq_ind_26').style.opacity = 1;\"\n",
       "            onmouseout=\"document.getElementById('_fb_zpotbpnweyceprgdxgpq_ind_26').style.opacity = 0; document.getElementById('_fs_zpotbpnweyceprgdxgpq_ind_26').style.opacity = 0;\"\n",
       "        > schon</div></div><div style='display: inline; text-align: center;'\n",
       "    ><div style='display: none; color: #999; padding-top: 0px; font-size: 12px;'>0.011</div\n",
       "        ><div id='_tp_zpotbpnweyceprgdxgpq_ind_27'\n",
       "            style='display: inline; background: rgba(255.0, 13.0, 87.0, 0.13289760348583876); border-radius: 3px; padding: 0px'\n",
       "            onclick=\"\n",
       "            if (this.previousSibling.style.display == 'none') {\n",
       "                this.previousSibling.style.display = 'block';\n",
       "                this.parentNode.style.display = 'inline-block';\n",
       "            } else {\n",
       "                this.previousSibling.style.display = 'none';\n",
       "                this.parentNode.style.display = 'inline';\n",
       "            }\"\n",
       "            onmouseover=\"document.getElementById('_fb_zpotbpnweyceprgdxgpq_ind_27').style.opacity = 1; document.getElementById('_fs_zpotbpnweyceprgdxgpq_ind_27').style.opacity = 1;\"\n",
       "            onmouseout=\"document.getElementById('_fb_zpotbpnweyceprgdxgpq_ind_27').style.opacity = 0; document.getElementById('_fs_zpotbpnweyceprgdxgpq_ind_27').style.opacity = 0;\"\n",
       "        > dann</div></div><div style='display: inline; text-align: center;'\n",
       "    ><div style='display: none; color: #999; padding-top: 0px; font-size: 12px;'>0.005</div\n",
       "        ><div id='_tp_zpotbpnweyceprgdxgpq_ind_28'\n",
       "            style='display: inline; background: rgba(255.0, 13.0, 87.0, 0.06195286195286207); border-radius: 3px; padding: 0px'\n",
       "            onclick=\"\n",
       "            if (this.previousSibling.style.display == 'none') {\n",
       "                this.previousSibling.style.display = 'block';\n",
       "                this.parentNode.style.display = 'inline-block';\n",
       "            } else {\n",
       "                this.previousSibling.style.display = 'none';\n",
       "                this.parentNode.style.display = 'inline';\n",
       "            }\"\n",
       "            onmouseover=\"document.getElementById('_fb_zpotbpnweyceprgdxgpq_ind_28').style.opacity = 1; document.getElementById('_fs_zpotbpnweyceprgdxgpq_ind_28').style.opacity = 1;\"\n",
       "            onmouseout=\"document.getElementById('_fb_zpotbpnweyceprgdxgpq_ind_28').style.opacity = 0; document.getElementById('_fs_zpotbpnweyceprgdxgpq_ind_28').style.opacity = 0;\"\n",
       "        > religiöse</div></div><div style='display: inline; text-align: center;'\n",
       "    ><div style='display: none; color: #999; padding-top: 0px; font-size: 12px;'>-0.014</div\n",
       "        ><div id='_tp_zpotbpnweyceprgdxgpq_ind_29'\n",
       "            style='display: inline; background: rgba(30.0, 136.0, 229.0, 0.16442859972271748); border-radius: 3px; padding: 0px'\n",
       "            onclick=\"\n",
       "            if (this.previousSibling.style.display == 'none') {\n",
       "                this.previousSibling.style.display = 'block';\n",
       "                this.parentNode.style.display = 'inline-block';\n",
       "            } else {\n",
       "                this.previousSibling.style.display = 'none';\n",
       "                this.parentNode.style.display = 'inline';\n",
       "            }\"\n",
       "            onmouseover=\"document.getElementById('_fb_zpotbpnweyceprgdxgpq_ind_29').style.opacity = 1; document.getElementById('_fs_zpotbpnweyceprgdxgpq_ind_29').style.opacity = 1;\"\n",
       "            onmouseout=\"document.getElementById('_fb_zpotbpnweyceprgdxgpq_ind_29').style.opacity = 0; document.getElementById('_fs_zpotbpnweyceprgdxgpq_ind_29').style.opacity = 0;\"\n",
       "        > Toleranz</div></div><div style='display: inline; text-align: center;'\n",
       "    ><div style='display: none; color: #999; padding-top: 0px; font-size: 12px;'>-0.008</div\n",
       "        ><div id='_tp_zpotbpnweyceprgdxgpq_ind_30'\n",
       "            style='display: inline; background: rgba(30.0, 136.0, 229.0, 0.09348385818974048); border-radius: 3px; padding: 0px'\n",
       "            onclick=\"\n",
       "            if (this.previousSibling.style.display == 'none') {\n",
       "                this.previousSibling.style.display = 'block';\n",
       "                this.parentNode.style.display = 'inline-block';\n",
       "            } else {\n",
       "                this.previousSibling.style.display = 'none';\n",
       "                this.parentNode.style.display = 'inline';\n",
       "            }\"\n",
       "            onmouseover=\"document.getElementById('_fb_zpotbpnweyceprgdxgpq_ind_30').style.opacity = 1; document.getElementById('_fs_zpotbpnweyceprgdxgpq_ind_30').style.opacity = 1;\"\n",
       "            onmouseout=\"document.getElementById('_fb_zpotbpnweyceprgdxgpq_ind_30').style.opacity = 0; document.getElementById('_fs_zpotbpnweyceprgdxgpq_ind_30').style.opacity = 0;\"\n",
       "        > für</div></div><div style='display: inline; text-align: center;'\n",
       "    ><div style='display: none; color: #999; padding-top: 0px; font-size: 12px;'>-0.005</div\n",
       "        ><div id='_tp_zpotbpnweyceprgdxgpq_ind_31'\n",
       "            style='display: inline; background: rgba(30.0, 136.0, 229.0, 0.06195286195286191); border-radius: 3px; padding: 0px'\n",
       "            onclick=\"\n",
       "            if (this.previousSibling.style.display == 'none') {\n",
       "                this.previousSibling.style.display = 'block';\n",
       "                this.parentNode.style.display = 'inline-block';\n",
       "            } else {\n",
       "                this.previousSibling.style.display = 'none';\n",
       "                this.parentNode.style.display = 'inline';\n",
       "            }\"\n",
       "            onmouseover=\"document.getElementById('_fb_zpotbpnweyceprgdxgpq_ind_31').style.opacity = 1; document.getElementById('_fs_zpotbpnweyceprgdxgpq_ind_31').style.opacity = 1;\"\n",
       "            onmouseout=\"document.getElementById('_fb_zpotbpnweyceprgdxgpq_ind_31').style.opacity = 0; document.getElementById('_fs_zpotbpnweyceprgdxgpq_ind_31').style.opacity = 0;\"\n",
       "        > alle</div></div><div style='display: inline; text-align: center;'\n",
       "    ><div style='display: none; color: #999; padding-top: 0px; font-size: 12px;'>-0.001</div\n",
       "        ><div id='_tp_zpotbpnweyceprgdxgpq_ind_32'\n",
       "            style='display: inline; background: rgba(30.0, 136.0, 229.0, 0.014656367597544028); border-radius: 3px; padding: 0px'\n",
       "            onclick=\"\n",
       "            if (this.previousSibling.style.display == 'none') {\n",
       "                this.previousSibling.style.display = 'block';\n",
       "                this.parentNode.style.display = 'inline-block';\n",
       "            } else {\n",
       "                this.previousSibling.style.display = 'none';\n",
       "                this.parentNode.style.display = 'inline';\n",
       "            }\"\n",
       "            onmouseover=\"document.getElementById('_fb_zpotbpnweyceprgdxgpq_ind_32').style.opacity = 1; document.getElementById('_fs_zpotbpnweyceprgdxgpq_ind_32').style.opacity = 1;\"\n",
       "            onmouseout=\"document.getElementById('_fb_zpotbpnweyceprgdxgpq_ind_32').style.opacity = 0; document.getElementById('_fs_zpotbpnweyceprgdxgpq_ind_32').style.opacity = 0;\"\n",
       "        > Glaubens</div></div><div style='display: inline; text-align: center;'\n",
       "    ><div style='display: none; color: #999; padding-top: 0px; font-size: 12px;'>0.019</div\n",
       "        ><div id='_tp_zpotbpnweyceprgdxgpq_ind_33'\n",
       "            style='display: inline; background: rgba(255.0, 13.0, 87.0, 0.23537334125569415); border-radius: 3px; padding: 0px'\n",
       "            onclick=\"\n",
       "            if (this.previousSibling.style.display == 'none') {\n",
       "                this.previousSibling.style.display = 'block';\n",
       "                this.parentNode.style.display = 'inline-block';\n",
       "            } else {\n",
       "                this.previousSibling.style.display = 'none';\n",
       "                this.parentNode.style.display = 'inline';\n",
       "            }\"\n",
       "            onmouseover=\"document.getElementById('_fb_zpotbpnweyceprgdxgpq_ind_33').style.opacity = 1; document.getElementById('_fs_zpotbpnweyceprgdxgpq_ind_33').style.opacity = 1;\"\n",
       "            onmouseout=\"document.getElementById('_fb_zpotbpnweyceprgdxgpq_ind_33').style.opacity = 0; document.getElementById('_fs_zpotbpnweyceprgdxgpq_ind_33').style.opacity = 0;\"\n",
       "        >gemeinschaften</div></div><div style='display: inline; text-align: center;'\n",
       "    ><div style='display: none; color: #999; padding-top: 0px; font-size: 12px;'>0.023</div\n",
       "        ><div id='_tp_zpotbpnweyceprgdxgpq_ind_34'\n",
       "            style='display: inline; background: rgba(255.0, 13.0, 87.0, 0.2826698356110118); border-radius: 3px; padding: 0px'\n",
       "            onclick=\"\n",
       "            if (this.previousSibling.style.display == 'none') {\n",
       "                this.previousSibling.style.display = 'block';\n",
       "                this.parentNode.style.display = 'inline-block';\n",
       "            } else {\n",
       "                this.previousSibling.style.display = 'none';\n",
       "                this.parentNode.style.display = 'inline';\n",
       "            }\"\n",
       "            onmouseover=\"document.getElementById('_fb_zpotbpnweyceprgdxgpq_ind_34').style.opacity = 1; document.getElementById('_fs_zpotbpnweyceprgdxgpq_ind_34').style.opacity = 1;\"\n",
       "            onmouseout=\"document.getElementById('_fb_zpotbpnweyceprgdxgpq_ind_34').style.opacity = 0; document.getElementById('_fs_zpotbpnweyceprgdxgpq_ind_34').style.opacity = 0;\"\n",
       "        ></div></div></div>"
      ],
      "text/plain": [
       "<IPython.core.display.HTML object>"
      ]
     },
     "metadata": {},
     "output_type": "display_data"
    }
   ],
   "source": [
    "shap.plots.text(shap_values[7])"
   ]
  },
  {
   "cell_type": "code",
   "execution_count": 32,
   "metadata": {},
   "outputs": [
    {
     "data": {
      "text/plain": [
       "array([[0.50282335, 0.49717662]], dtype=float32)"
      ]
     },
     "execution_count": 32,
     "metadata": {},
     "output_type": "execute_result"
    }
   ],
   "source": [
    "#TODO: remove \"Kurden\" (or other words which SHAP identifies as import) \n",
    "# from the comment and then see what score the model gives it :) \n",
    "import numpy as np\n",
    "\n",
    "txt = \"Ich stelle mal folgende Vermutung an so wie es auch bei Tätern hier immer dargestellt wird Einzeltäter verwirrt traumatisiert. Liebe über alles\"\n",
    "def score_text(txt):\n",
    "\n",
    "    input_ids = torch.tensor([tokenizer.encode(txt)])\n",
    "    pred = model(input_ids)[\"prediction\"].detach().numpy()\n",
    "    # print(pred)\n",
    "    scores = (np.exp(pred).T / np.exp(pred).sum(-1)).T\n",
    "    return scores\n",
    "score_text(txt)"
   ]
  },
  {
   "cell_type": "code",
   "execution_count": 54,
   "metadata": {},
   "outputs": [
    {
     "data": {
      "text/plain": [
       "array([[0.5951737 , 0.40482628]], dtype=float32)"
      ]
     },
     "execution_count": 54,
     "metadata": {},
     "output_type": "execute_result"
    }
   ],
   "source": [
    "score_text(\"Ich liebe die Umwelt und mein Leben ist sehr schoen Diese Artikel wurde sehr gut geschrieben danke Mann\" + \"Liebe alles\" * 100)"
   ]
  },
  {
   "cell_type": "code",
   "execution_count": null,
   "metadata": {},
   "outputs": [],
   "source": [
    "score_text(\"ich liebe dich\")"
   ]
  },
  {
   "cell_type": "code",
   "execution_count": 58,
   "metadata": {},
   "outputs": [
    {
     "data": {
      "text/plain": [
       "array([[0.6666064, 0.3333936]], dtype=float32)"
      ]
     },
     "execution_count": 58,
     "metadata": {},
     "output_type": "execute_result"
    }
   ],
   "source": [
    "score_text(\"Ich liebe Katzen \"*100)\n",
    "# hello??? this can't be right :("
   ]
  },
  {
   "cell_type": "code",
   "execution_count": 59,
   "metadata": {},
   "outputs": [
    {
     "data": {
      "text/plain": [
       "0.3873578"
      ]
     },
     "execution_count": 59,
     "metadata": {},
     "output_type": "execute_result"
    }
   ],
   "source": [
    "true_negatives = np.load(\"./true_neg/RP-Mod-true-neg.npy\")\n",
    "sum([score_text(true_negatives[i])[0][1] >= 0.5 for i in range(len(true_negatives))])/len(true_negatives)\n",
    "# score_text(true_negatives[6])"
   ]
  },
  {
   "cell_type": "code",
   "execution_count": 63,
   "metadata": {},
   "outputs": [
    {
     "data": {
      "text/plain": [
       "'classification: Weil das Land damit einen einstelligen Milliardenbetrag an Subventionen spart '"
      ]
     },
     "execution_count": 63,
     "metadata": {},
     "output_type": "execute_result"
    }
   ],
   "source": [
    "true_negatives[7]"
   ]
  },
  {
   "cell_type": "code",
   "execution_count": 24,
   "metadata": {},
   "outputs": [
    {
     "data": {
      "text/plain": [
       "array([0.22180541], dtype=float32)"
      ]
     },
     "execution_count": 24,
     "metadata": {},
     "output_type": "execute_result"
    }
   ],
   "source": [
    "f(false_pos[1:2])"
   ]
  },
  {
   "cell_type": "code",
   "execution_count": 23,
   "metadata": {},
   "outputs": [
    {
     "data": {
      "text/plain": [
       "memmap(['classification Sehr sympathisch diese Frau und das sagt hier ein  Mann ',\n",
       "        'classification Kein Artikel wert',\n",
       "        'classification Na ja Wenigstens hat sie diesmal nicht Deutschland verbrüht Schonmal eine Entwicklungsstufe weiter',\n",
       "        'classification Hallo nehmt doch die Rocker aus Erkrath Unterfeldhaus Die Jungens sind froh über eine solche Arbeit Wer sich nicht benimmt der fliegt und zwar raus',\n",
       "        'classification Wildtiere haben im Zirkus nichts verloren   Inkompetente haben in der Politik nichts zu suchen ',\n",
       "        'classification Ich stelle mal folgende Vermutung an so wie es auch bei Tätern mit Migrationshintergrund hier immer dargestellt wirdEinzeltäter verwirrt traumatisiert hat nix mit den Rechtsextremen zu tun',\n",
       "        'classification Ich freue mich zu wissen das Deutschland in Brüssel von einer vertreten wird die Islamwissenschaft und Turkologie studiert hat  Sehr hilfreich für die vielen neuen Gäste Ska wird ganz ganz viel Verständnis für die Fachkräfte haben  Wie weltfremd muß man sein so etwas zu wählen  Allerdings immer noch gebildeter als die ganzen Studienabbrecher der Grünen wie CR und KGE ',\n",
       "        'classification Warum wird nicht berichtet wofür die Kurden demonstrieren Doch nicht für eine Menschenkette vom Hbf bis zum Landtag Ich brauche mehr Details ',\n",
       "        'classification schon wiederund das ist dann der gute journalismus der geld kostet',\n",
       "        'classification Vor 2015 keine Daten Wo kommt das Virus her'],\n",
       "       dtype='<U500')"
      ]
     },
     "execution_count": 23,
     "metadata": {},
     "output_type": "execute_result"
    }
   ],
   "source": [
    "false_pos[:10]"
   ]
  },
  {
   "cell_type": "code",
   "execution_count": 15,
   "metadata": {},
   "outputs": [
    {
     "data": {
      "text/plain": [
       "memmap(['classification Sehr sympathisch diese Frau und das sagt hier ein  Mann ',\n",
       "        'classification Kein Artikel wert',\n",
       "        'classification Na ja Wenigstens hat sie diesmal nicht Deutschland verbrüht Schonmal eine Entwicklungsstufe weiter',\n",
       "        'classification Hallo nehmt doch die Rocker aus Erkrath Unterfeldhaus Die Jungens sind froh über eine solche Arbeit Wer sich nicht benimmt der fliegt und zwar raus',\n",
       "        'classification Wildtiere haben im Zirkus nichts verloren   Inkompetente haben in der Politik nichts zu suchen ',\n",
       "        'classification Ich stelle mal folgende Vermutung an so wie es auch bei Tätern mit Migrationshintergrund hier immer dargestellt wirdEinzeltäter verwirrt traumatisiert hat nix mit den Rechtsextremen zu tun',\n",
       "        'classification Ich freue mich zu wissen das Deutschland in Brüssel von einer vertreten wird die Islamwissenschaft und Turkologie studiert hat  Sehr hilfreich für die vielen neuen Gäste Ska wird ganz ganz viel Verständnis für die Fachkräfte haben  Wie weltfremd muß man sein so etwas zu wählen  Allerdings immer noch gebildeter als die ganzen Studienabbrecher der Grünen wie CR und KGE ',\n",
       "        'classification Warum wird nicht berichtet wofür die Kurden demonstrieren Doch nicht für eine Menschenkette vom Hbf bis zum Landtag Ich brauche mehr Details ',\n",
       "        'classification schon wiederund das ist dann der gute journalismus der geld kostet',\n",
       "        'classification Vor 2015 keine Daten Wo kommt das Virus her'],\n",
       "       dtype='<U500')"
      ]
     },
     "execution_count": 15,
     "metadata": {},
     "output_type": "execute_result"
    }
   ],
   "source": [
    "false_pos[:10]"
   ]
  },
  {
   "cell_type": "code",
   "execution_count": null,
   "metadata": {},
   "outputs": [],
   "source": []
  },
  {
   "cell_type": "code",
   "execution_count": 25,
   "metadata": {},
   "outputs": [
    {
     "name": "stdout",
     "output_type": "stream",
     "text": [
      "0.7419354838709677\n"
     ]
    }
   ],
   "source": [
    "from sklearn import metrics\n",
    "val_dataloader = DataLoader(valid_dataset, batch_size=64)\n",
    "\n",
    "# for batch in val_dataloader:\n",
    "batch = next(iter(val_dataloader))\n",
    "labels = batch[\"target_ids\"]\n",
    "outs = new_model.model.generate(input_ids=batch[\"source_ids\"], \n",
    "                            attention_mask=batch[\"source_mask\"], \n",
    "                            max_length=2)\n",
    "\n",
    "dec = [tokenizer.decode(ids) for ids in outs]\n",
    "target = [tokenizer.decode(label) for label in labels]\n",
    "\n",
    "new_outputs = [s[6:] for s in dec]\n",
    "new_targets = [s[:-4] for s in target]\n",
    "\n",
    "f1 = metrics.f1_score(new_targets, new_outputs, pos_label=\"problematisch\")\n",
    "print(f1)"
   ]
  }
 ],
 "metadata": {
  "kernelspec": {
   "display_name": "Python 3 (ipykernel)",
   "language": "python",
   "name": "python3"
  },
  "language_info": {
   "codemirror_mode": {
    "name": "ipython",
    "version": 3
   },
   "file_extension": ".py",
   "mimetype": "text/x-python",
   "name": "python",
   "nbconvert_exporter": "python",
   "pygments_lexer": "ipython3",
   "version": "3.9.10"
  },
  "orig_nbformat": 4
 },
 "nbformat": 4,
 "nbformat_minor": 2
}

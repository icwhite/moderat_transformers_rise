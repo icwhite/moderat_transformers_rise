{
 "cells": [
  {
   "cell_type": "code",
   "execution_count": 1,
   "metadata": {},
   "outputs": [
    {
     "name": "stdout",
     "output_type": "stream",
     "text": [
      "\u001b[0m\u001b[01;34mDatasets\u001b[0m/                                 \u001b[01;34mnltk_data\u001b[0m/\n",
      "\u001b[01;34mGermanT5-RP-Mod\u001b[0m/                          \u001b[01;34mray_results\u001b[0m/\n",
      "\u001b[01;34mRP-Mod\u001b[0m/                                   \u001b[01;34mresults\u001b[0m/\n",
      "\u001b[01;34mRP-Mod-GermanT5-oscar-german-small-el32\u001b[0m/  \u001b[01;34mt5_base_imdb_sentiment\u001b[0m/\n",
      "T5FineTuner.py                            \u001b[01;34mt5_german_small_rp_mod\u001b[0m/\n",
      "\u001b[01;34maclImdb\u001b[0m/                                  \u001b[01;34mt5_german_small_rp_mod_2\u001b[0m/\n",
      "aclImdb_v1.tar.gz                         \u001b[01;34mt5_german_small_rp_mod_3\u001b[0m/\n",
      "\u001b[01;34marguments_test_dir\u001b[0m/                       \u001b[01;34mt5_imdb_sentiment\u001b[0m/\n",
      "create_t5_embeddings.ipynb                \u001b[01;34mwandb\u001b[0m/\n",
      "\u001b[01;34mlightning_logs\u001b[0m/\n"
     ]
    }
   ],
   "source": [
    "%ls"
   ]
  },
  {
   "cell_type": "code",
   "execution_count": 22,
   "metadata": {},
   "outputs": [],
   "source": [
    "from T5FineTuner import T5FineTuner, RPDataset\n",
    "from utils import get_folds\n",
    "import torch\n",
    "import argparse\n",
    "from transformers import T5Tokenizer\n",
    "from torch.utils.data import Dataset, DataLoader\n",
    "\n",
    "DATASET = \"RP-Crowd-3\"\n",
    "MODEL_NAME_OR_PATH = \"GermanT5/t5-efficient-oscar-german-small-el32\"\n",
    "WANDB_PROJECT_NAME = \"rp-crowd-3-folds-t5-efficient-small-el32\"\n",
    "OUTPUT_DIR = \"./GermanT5-RP-Mod/t5-efficient-oscar-german-small-el32/\"\n",
    "SOURCE = f\"./Datasets/{DATASET}-folds.csv\"\n",
    "\n",
    "tokenizer = T5Tokenizer.from_pretrained(MODEL_NAME_OR_PATH)\n",
    "checkpoint_path = \"./GermanT5-RP-Mod/t5-efficient-oscar-german-small-el32/lr-0.0004-wd-0.1/epoch=3-val_accuracy=0.74-val_loss=0.28.ckpt\"\n",
    "train_inputs, train_targets, val_inputs, val_targets = get_folds(SOURCE)\n",
    "\n",
    "train_dataset = RPDataset(tokenizer, train_inputs, train_targets)\n",
    "valid_dataset = RPDataset(tokenizer, val_inputs, val_targets)\n",
    "\n",
    "checkpoint = torch.load(checkpoint_path)\n",
    "hparams = checkpoint[\"hyper_parameters\"]\n",
    "hparams[\"train_dataset\"] = train_dataset\n",
    "hparams[\"val_dataset\"] = valid_dataset\n",
    "new_args = argparse.Namespace(**hparams)\n",
    "\n",
    "new_model = T5FineTuner.load_from_checkpoint(checkpoint_path, hparams=new_args)\n"
   ]
  },
  {
   "cell_type": "code",
   "execution_count": 20,
   "metadata": {},
   "outputs": [
    {
     "data": {
      "text/plain": [
       "('classification Tja da weiß man wie die Intelligenz der Mehrheit der Türken einzuschätzen ist',\n",
       " 'problematisch')"
      ]
     },
     "execution_count": 20,
     "metadata": {},
     "output_type": "execute_result"
    }
   ],
   "source": [
    "val_inputs[0], val_targets[0]"
   ]
  },
  {
   "cell_type": "code",
   "execution_count": null,
   "metadata": {},
   "outputs": [],
   "source": []
  },
  {
   "cell_type": "code",
   "execution_count": 25,
   "metadata": {},
   "outputs": [
    {
     "name": "stdout",
     "output_type": "stream",
     "text": [
      "0.7419354838709677\n"
     ]
    }
   ],
   "source": [
    "from sklearn import metrics\n",
    "val_dataloader = DataLoader(valid_dataset, batch_size=64)\n",
    "\n",
    "# for batch in val_dataloader:\n",
    "batch = next(iter(val_dataloader))\n",
    "labels = batch[\"target_ids\"]\n",
    "outs = new_model.model.generate(input_ids=batch[\"source_ids\"], \n",
    "                            attention_mask=batch[\"source_mask\"], \n",
    "                            max_length=2)\n",
    "\n",
    "dec = [tokenizer.decode(ids) for ids in outs]\n",
    "target = [tokenizer.decode(label) for label in labels]\n",
    "\n",
    "new_outputs = [s[6:] for s in dec]\n",
    "new_targets = [s[:-4] for s in target]\n",
    "\n",
    "f1 = metrics.f1_score(new_targets, new_outputs, pos_label=\"problematisch\")\n",
    "print(f1)"
   ]
  },
  {
   "cell_type": "code",
   "execution_count": 17,
   "metadata": {},
   "outputs": [
    {
     "ename": "AttributeError",
     "evalue": "'T5FineTuner' object has no attribute 'config'",
     "output_type": "error",
     "traceback": [
      "\u001b[0;31m---------------------------------------------------------------------------\u001b[0m",
      "\u001b[0;31mAttributeError\u001b[0m                            Traceback (most recent call last)",
      "\u001b[1;32mc:\\Users\\isado\\transformersModerat\\Explanations\\t5_explanations.ipynb Cell 4'\u001b[0m in \u001b[0;36m<cell line: 2>\u001b[0;34m()\u001b[0m\n\u001b[1;32m      <a href='vscode-notebook-cell:/c%3A/Users/isado/transformersModerat/Explanations/t5_explanations.ipynb#ch0000003?line=0'>1</a>\u001b[0m \u001b[39mfrom\u001b[39;00m \u001b[39mtransformers_interpret\u001b[39;00m \u001b[39mimport\u001b[39;00m SequenceClassificationExplainer\n\u001b[0;32m----> <a href='vscode-notebook-cell:/c%3A/Users/isado/transformersModerat/Explanations/t5_explanations.ipynb#ch0000003?line=1'>2</a>\u001b[0m cls_explainer \u001b[39m=\u001b[39m SequenceClassificationExplainer(new_model, tokenizer)\n",
      "File \u001b[0;32m~/.local/lib/python3.9/site-packages/transformers_interpret/explainers/sequence_classification.py:57\u001b[0m, in \u001b[0;36mSequenceClassificationExplainer.__init__\u001b[0;34m(self, model, tokenizer, attribution_type, custom_labels)\u001b[0m\n\u001b[1;32m     38\u001b[0m \u001b[39mdef\u001b[39;00m \u001b[39m__init__\u001b[39m(\n\u001b[1;32m     39\u001b[0m     \u001b[39mself\u001b[39m,\n\u001b[1;32m     40\u001b[0m     model: PreTrainedModel,\n\u001b[0;32m   (...)\u001b[0m\n\u001b[1;32m     43\u001b[0m     custom_labels: Optional[List[\u001b[39mstr\u001b[39m]] \u001b[39m=\u001b[39m \u001b[39mNone\u001b[39;00m,\n\u001b[1;32m     44\u001b[0m ):\n\u001b[1;32m     45\u001b[0m     \u001b[39m\"\"\"\u001b[39;00m\n\u001b[1;32m     46\u001b[0m \u001b[39m    Args:\u001b[39;00m\n\u001b[1;32m     47\u001b[0m \u001b[39m        model (PreTrainedModel): Pretrained huggingface Sequence Classification model.\u001b[39;00m\n\u001b[0;32m   (...)\u001b[0m\n\u001b[1;32m     55\u001b[0m \u001b[39m        AttributionTypeNotSupportedError:\u001b[39;00m\n\u001b[1;32m     56\u001b[0m \u001b[39m    \"\"\"\u001b[39;00m\n\u001b[0;32m---> 57\u001b[0m     \u001b[39msuper\u001b[39;49m()\u001b[39m.\u001b[39;49m\u001b[39m__init__\u001b[39;49m(model, tokenizer)\n\u001b[1;32m     58\u001b[0m     \u001b[39mif\u001b[39;00m attribution_type \u001b[39mnot\u001b[39;00m \u001b[39min\u001b[39;00m SUPPORTED_ATTRIBUTION_TYPES:\n\u001b[1;32m     59\u001b[0m         \u001b[39mraise\u001b[39;00m AttributionTypeNotSupportedError(\n\u001b[1;32m     60\u001b[0m             \u001b[39mf\u001b[39m\u001b[39m\"\"\"\u001b[39m\u001b[39mAttribution type \u001b[39m\u001b[39m'\u001b[39m\u001b[39m{\u001b[39;00mattribution_type\u001b[39m}\u001b[39;00m\u001b[39m'\u001b[39m\u001b[39m is not supported.\u001b[39m\n\u001b[1;32m     61\u001b[0m \u001b[39m            Supported types are \u001b[39m\u001b[39m{\u001b[39;00mSUPPORTED_ATTRIBUTION_TYPES\u001b[39m}\u001b[39;00m\u001b[39m\"\"\"\u001b[39m\n\u001b[1;32m     62\u001b[0m         )\n",
      "File \u001b[0;32m~/.local/lib/python3.9/site-packages/transformers_interpret/explainer.py:19\u001b[0m, in \u001b[0;36mBaseExplainer.__init__\u001b[0;34m(self, model, tokenizer)\u001b[0m\n\u001b[1;32m     16\u001b[0m \u001b[39mself\u001b[39m\u001b[39m.\u001b[39mmodel \u001b[39m=\u001b[39m model\n\u001b[1;32m     17\u001b[0m \u001b[39mself\u001b[39m\u001b[39m.\u001b[39mtokenizer \u001b[39m=\u001b[39m tokenizer\n\u001b[0;32m---> 19\u001b[0m \u001b[39mif\u001b[39;00m \u001b[39mself\u001b[39;49m\u001b[39m.\u001b[39;49mmodel\u001b[39m.\u001b[39;49mconfig\u001b[39m.\u001b[39mmodel_type \u001b[39m==\u001b[39m \u001b[39m\"\u001b[39m\u001b[39mgpt2\u001b[39m\u001b[39m\"\u001b[39m:\n\u001b[1;32m     20\u001b[0m     \u001b[39mself\u001b[39m\u001b[39m.\u001b[39mref_token_id \u001b[39m=\u001b[39m \u001b[39mself\u001b[39m\u001b[39m.\u001b[39mtokenizer\u001b[39m.\u001b[39meos_token_id\n\u001b[1;32m     21\u001b[0m \u001b[39melse\u001b[39;00m:\n",
      "File \u001b[0;32m~/.local/lib/python3.9/site-packages/torch/nn/modules/module.py:1185\u001b[0m, in \u001b[0;36mModule.__getattr__\u001b[0;34m(self, name)\u001b[0m\n\u001b[1;32m   1183\u001b[0m     \u001b[39mif\u001b[39;00m name \u001b[39min\u001b[39;00m modules:\n\u001b[1;32m   1184\u001b[0m         \u001b[39mreturn\u001b[39;00m modules[name]\n\u001b[0;32m-> 1185\u001b[0m \u001b[39mraise\u001b[39;00m \u001b[39mAttributeError\u001b[39;00m(\u001b[39m\"\u001b[39m\u001b[39m'\u001b[39m\u001b[39m{}\u001b[39;00m\u001b[39m'\u001b[39m\u001b[39m object has no attribute \u001b[39m\u001b[39m'\u001b[39m\u001b[39m{}\u001b[39;00m\u001b[39m'\u001b[39m\u001b[39m\"\u001b[39m\u001b[39m.\u001b[39mformat(\n\u001b[1;32m   1186\u001b[0m     \u001b[39mtype\u001b[39m(\u001b[39mself\u001b[39m)\u001b[39m.\u001b[39m\u001b[39m__name__\u001b[39m, name))\n",
      "\u001b[0;31mAttributeError\u001b[0m: 'T5FineTuner' object has no attribute 'config'"
     ]
    }
   ],
   "source": [
    "from transformers_interpret import SequenceClassificationExplainer\n",
    "cls_explainer = SequenceClassificationExplainer(new_model, tokenizer)"
   ]
  }
 ],
 "metadata": {
  "kernelspec": {
   "display_name": "Python 3 (ipykernel)",
   "language": "python",
   "name": "python3"
  },
  "orig_nbformat": 4
 },
 "nbformat": 4,
 "nbformat_minor": 2
}

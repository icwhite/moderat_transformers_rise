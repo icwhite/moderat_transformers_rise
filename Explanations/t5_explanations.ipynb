{
 "cells": [
  {
   "cell_type": "code",
   "execution_count": 1,
   "metadata": {},
   "outputs": [
    {
     "name": "stdout",
     "output_type": "stream",
     "text": [
      "\u001b[0m\u001b[01;34mDatasets\u001b[0m/                                 \u001b[01;34mnltk_data\u001b[0m/\n",
      "\u001b[01;34mGermanT5-RP-Mod\u001b[0m/                          \u001b[01;34mray_results\u001b[0m/\n",
      "\u001b[01;34mRP-Mod\u001b[0m/                                   \u001b[01;34mresults\u001b[0m/\n",
      "\u001b[01;34mRP-Mod-GermanT5-oscar-german-small-el32\u001b[0m/  \u001b[01;34mt5_base_imdb_sentiment\u001b[0m/\n",
      "T5FineTuner.py                            \u001b[01;34mt5_german_small_rp_mod\u001b[0m/\n",
      "\u001b[01;34maclImdb\u001b[0m/                                  \u001b[01;34mt5_german_small_rp_mod_2\u001b[0m/\n",
      "aclImdb_v1.tar.gz                         \u001b[01;34mt5_german_small_rp_mod_3\u001b[0m/\n",
      "\u001b[01;34marguments_test_dir\u001b[0m/                       \u001b[01;34mt5_imdb_sentiment\u001b[0m/\n",
      "create_t5_embeddings.ipynb                \u001b[01;34mwandb\u001b[0m/\n",
      "\u001b[01;34mlightning_logs\u001b[0m/\n"
     ]
    }
   ],
   "source": [
    "%ls"
   ]
  },
  {
   "cell_type": "code",
   "execution_count": 1,
   "metadata": {},
   "outputs": [
    {
     "name": "stderr",
     "output_type": "stream",
     "text": [
      "[nltk_data] Downloading package punkt to /home/dobby/nltk_data...\n",
      "[nltk_data]   Package punkt is already up-to-date!\n",
      "/usr/lib/python3/dist-packages/requests/__init__.py:89: RequestsDependencyWarning: urllib3 (1.26.9) or chardet (3.0.4) doesn't match a supported version!\n",
      "  warnings.warn(\"urllib3 ({}) or chardet ({}) doesn't match a supported \"\n",
      "[nltk_data] Downloading package punkt to /home/dobby/nltk_data...\n",
      "[nltk_data]   Package punkt is already up-to-date!\n"
     ]
    }
   ],
   "source": [
    "from T5FineTuner import T5FineTuner, RPDataset\n",
    "from utils import get_folds\n",
    "import torch\n",
    "import argparse\n",
    "from transformers import T5Tokenizer\n",
    "from torch.utils.data import Dataset, DataLoader\n",
    "\n",
    "DATASET = \"RP-Crowd-3\"\n",
    "MODEL_NAME_OR_PATH = \"GermanT5/t5-efficient-oscar-german-small-el32\"\n",
    "WANDB_PROJECT_NAME = \"rp-crowd-3-folds-t5-efficient-small-el32\"\n",
    "OUTPUT_DIR = \"./GermanT5-RP-Mod/t5-efficient-oscar-german-small-el32/\"\n",
    "SOURCE = f\"./Datasets/{DATASET}-folds.csv\"\n",
    "\n",
    "tokenizer = T5Tokenizer.from_pretrained(MODEL_NAME_OR_PATH)\n",
    "checkpoint_path = \"./GermanT5-RP-Mod/t5-efficient-oscar-german-small-el32/lr-0.0004-wd-0.1/epoch=3-val_accuracy=0.74-val_loss=0.28.ckpt\"\n",
    "train_inputs, train_targets, val_inputs, val_targets = get_folds(SOURCE)\n",
    "\n",
    "train_dataset = RPDataset(tokenizer, train_inputs, train_targets)\n",
    "valid_dataset = RPDataset(tokenizer, val_inputs, val_targets)\n",
    "\n",
    "checkpoint = torch.load(checkpoint_path)\n",
    "hparams = checkpoint[\"hyper_parameters\"]\n",
    "hparams[\"train_dataset\"] = train_dataset\n",
    "hparams[\"val_dataset\"] = valid_dataset\n",
    "new_args = argparse.Namespace(**hparams)\n",
    "\n",
    "new_model = T5FineTuner.load_from_checkpoint(checkpoint_path, hparams=new_args)\n"
   ]
  },
  {
   "cell_type": "markdown",
   "metadata": {},
   "source": [
    "### Load checkpoint of Encoder Only Model"
   ]
  },
  {
   "cell_type": "code",
   "execution_count": 2,
   "metadata": {},
   "outputs": [
    {
     "name": "stderr",
     "output_type": "stream",
     "text": [
      "Some weights of the model checkpoint at GermanT5/t5-efficient-oscar-german-small-el32 were not used when initializing T5EncoderModel: ['decoder.block.1.layer.0.SelfAttention.q.weight', 'decoder.block.4.layer.0.SelfAttention.v.weight', 'decoder.block.4.layer.0.SelfAttention.k.weight', 'decoder.block.3.layer.0.SelfAttention.v.weight', 'decoder.block.0.layer.1.EncDecAttention.k.weight', 'decoder.block.2.layer.1.EncDecAttention.k.weight', 'decoder.block.5.layer.2.layer_norm.weight', 'decoder.block.1.layer.0.layer_norm.weight', 'decoder.block.4.layer.1.layer_norm.weight', 'decoder.block.3.layer.2.layer_norm.weight', 'decoder.block.5.layer.0.SelfAttention.v.weight', 'decoder.block.4.layer.2.DenseReluDense.wi.weight', 'decoder.embed_tokens.weight', 'decoder.block.3.layer.1.layer_norm.weight', 'decoder.block.1.layer.1.EncDecAttention.k.weight', 'decoder.block.2.layer.0.SelfAttention.v.weight', 'decoder.block.5.layer.1.EncDecAttention.o.weight', 'decoder.block.2.layer.0.SelfAttention.o.weight', 'decoder.block.1.layer.0.SelfAttention.o.weight', 'decoder.block.3.layer.2.DenseReluDense.wi.weight', 'decoder.block.0.layer.0.SelfAttention.o.weight', 'decoder.block.0.layer.1.layer_norm.weight', 'decoder.block.1.layer.2.layer_norm.weight', 'decoder.block.0.layer.0.SelfAttention.v.weight', 'decoder.block.4.layer.2.layer_norm.weight', 'decoder.block.5.layer.0.SelfAttention.o.weight', 'decoder.block.2.layer.2.layer_norm.weight', 'decoder.block.3.layer.0.SelfAttention.k.weight', 'decoder.block.2.layer.1.layer_norm.weight', 'decoder.block.4.layer.1.EncDecAttention.o.weight', 'decoder.block.2.layer.0.layer_norm.weight', 'decoder.block.5.layer.1.EncDecAttention.v.weight', 'decoder.block.4.layer.0.SelfAttention.q.weight', 'decoder.block.2.layer.0.SelfAttention.k.weight', 'decoder.block.1.layer.1.EncDecAttention.q.weight', 'decoder.block.1.layer.0.SelfAttention.k.weight', 'decoder.block.5.layer.0.SelfAttention.k.weight', 'decoder.block.5.layer.1.EncDecAttention.q.weight', 'decoder.block.2.layer.1.EncDecAttention.q.weight', 'decoder.block.3.layer.1.EncDecAttention.o.weight', 'decoder.block.0.layer.1.EncDecAttention.q.weight', 'decoder.block.0.layer.0.layer_norm.weight', 'decoder.block.3.layer.0.SelfAttention.o.weight', 'decoder.block.3.layer.1.EncDecAttention.v.weight', 'decoder.block.1.layer.0.SelfAttention.v.weight', 'decoder.block.5.layer.2.DenseReluDense.wo.weight', 'decoder.block.1.layer.1.layer_norm.weight', 'decoder.block.1.layer.2.DenseReluDense.wo.weight', 'decoder.block.3.layer.0.layer_norm.weight', 'decoder.block.4.layer.0.SelfAttention.o.weight', 'decoder.final_layer_norm.weight', 'decoder.block.4.layer.0.layer_norm.weight', 'decoder.block.2.layer.1.EncDecAttention.o.weight', 'decoder.block.5.layer.1.layer_norm.weight', 'lm_head.weight', 'decoder.block.0.layer.2.DenseReluDense.wo.weight', 'decoder.block.5.layer.2.DenseReluDense.wi.weight', 'decoder.block.1.layer.1.EncDecAttention.o.weight', 'decoder.block.0.layer.2.DenseReluDense.wi.weight', 'decoder.block.1.layer.1.EncDecAttention.v.weight', 'decoder.block.0.layer.1.EncDecAttention.o.weight', 'decoder.block.1.layer.2.DenseReluDense.wi.weight', 'decoder.block.3.layer.0.SelfAttention.q.weight', 'decoder.block.3.layer.1.EncDecAttention.k.weight', 'decoder.block.4.layer.1.EncDecAttention.q.weight', 'decoder.block.4.layer.1.EncDecAttention.k.weight', 'decoder.block.2.layer.1.EncDecAttention.v.weight', 'decoder.block.0.layer.1.EncDecAttention.v.weight', 'decoder.block.0.layer.0.SelfAttention.relative_attention_bias.weight', 'decoder.block.4.layer.1.EncDecAttention.v.weight', 'decoder.block.0.layer.0.SelfAttention.q.weight', 'decoder.block.0.layer.2.layer_norm.weight', 'decoder.block.0.layer.0.SelfAttention.k.weight', 'decoder.block.2.layer.0.SelfAttention.q.weight', 'decoder.block.3.layer.1.EncDecAttention.q.weight', 'decoder.block.3.layer.2.DenseReluDense.wo.weight', 'decoder.block.5.layer.0.SelfAttention.q.weight', 'decoder.block.5.layer.1.EncDecAttention.k.weight', 'decoder.block.2.layer.2.DenseReluDense.wi.weight', 'decoder.block.2.layer.2.DenseReluDense.wo.weight', 'decoder.block.4.layer.2.DenseReluDense.wo.weight', 'decoder.block.5.layer.0.layer_norm.weight']\n",
      "- This IS expected if you are initializing T5EncoderModel from the checkpoint of a model trained on another task or with another architecture (e.g. initializing a BertForSequenceClassification model from a BertForPreTraining model).\n",
      "- This IS NOT expected if you are initializing T5EncoderModel from the checkpoint of a model that you expect to be exactly identical (initializing a BertForSequenceClassification model from a BertForSequenceClassification model).\n"
     ]
    }
   ],
   "source": [
    "from classification_classes import Enc1T5, RPClassificationDataset, load_dataset\n",
    "import torch\n",
    "import argparse\n",
    "from transformers import AutoTokenizer\n",
    "from torch.utils.data import Dataset, DataLoader\n",
    "\n",
    "DATASET = \"RP-Crowd-2\"\n",
    "MODEL_NAME_OR_PATH = \"GermanT5/t5-efficient-oscar-german-small-el32\"\n",
    "source = f\"./Datasets/{DATASET}-folds.csv\"\n",
    "\n",
    "# tokenizer = AutoTokenizer.from_pretrained()\n",
    "# train_dataset, valid_dataset = load_dataset(source)\n",
    "\n",
    "checkpoint_path = \"/home/dobby/bestmodels/enc1t5/epoch=3-val_accuracy=0.85.ckpt\"                 \n",
    "checkpoint = torch.load(checkpoint_path)\n",
    "hparams = checkpoint[\"hyper_parameters\"]\n",
    "# hparams[\"train_dataset\"] = train_dataset\n",
    "# hparams[\"val_dataset\"] = valid_dataset\n",
    "new_args = argparse.Namespace(**hparams)\n",
    "\n",
    "# now I am confused... what do I do here??\n",
    "model = Enc1T5.load_from_checkpoint(checkpoint_path, hparams=new_args)"
   ]
  },
  {
   "cell_type": "markdown",
   "metadata": {},
   "source": [
    "### Get False Positives"
   ]
  },
  {
   "cell_type": "code",
   "execution_count": null,
   "metadata": {},
   "outputs": [],
   "source": [
    "# apply the model to the entire validation dataset\n"
   ]
  },
  {
   "cell_type": "code",
   "execution_count": 3,
   "metadata": {},
   "outputs": [
    {
     "data": {
      "application/vnd.jupyter.widget-view+json": {
       "model_id": "7d224bcb68294419bdd5ac1ce41de7b6",
       "version_major": 2,
       "version_minor": 0
      },
      "text/plain": [
       "  0%|          | 0/498 [00:00<?, ?it/s]"
      ]
     },
     "metadata": {},
     "output_type": "display_data"
    },
    {
     "name": "stderr",
     "output_type": "stream",
     "text": [
      "Partition explainer:   4%|▍         | 6/139 [00:13<02:43,  1.23s/it]"
     ]
    },
    {
     "data": {
      "application/vnd.jupyter.widget-view+json": {
       "model_id": "e03cf2fa813e44d7a81bdf759ab3bd02",
       "version_major": 2,
       "version_minor": 0
      },
      "text/plain": [
       "  0%|          | 0/498 [00:00<?, ?it/s]"
      ]
     },
     "metadata": {},
     "output_type": "display_data"
    },
    {
     "name": "stderr",
     "output_type": "stream",
     "text": [
      "Partition explainer:   5%|▌         | 7/139 [00:20<07:16,  3.30s/it]"
     ]
    },
    {
     "data": {
      "application/vnd.jupyter.widget-view+json": {
       "model_id": "ef880ea01d1544a085c1471da5921484",
       "version_major": 2,
       "version_minor": 0
      },
      "text/plain": [
       "  0%|          | 0/498 [00:00<?, ?it/s]"
      ]
     },
     "metadata": {},
     "output_type": "display_data"
    },
    {
     "name": "stderr",
     "output_type": "stream",
     "text": [
      "Partition explainer:   9%|▉         | 13/139 [00:41<04:32,  2.16s/it]"
     ]
    },
    {
     "data": {
      "application/vnd.jupyter.widget-view+json": {
       "model_id": "db4f014c7de44a22a7342c4a5d0d9708",
       "version_major": 2,
       "version_minor": 0
      },
      "text/plain": [
       "  0%|          | 0/498 [00:00<?, ?it/s]"
      ]
     },
     "metadata": {},
     "output_type": "display_data"
    },
    {
     "name": "stderr",
     "output_type": "stream",
     "text": [
      "Partition explainer:  12%|█▏        | 16/139 [01:01<08:41,  4.24s/it]"
     ]
    },
    {
     "data": {
      "application/vnd.jupyter.widget-view+json": {
       "model_id": "37b8361245ac433eafc557f691aa3467",
       "version_major": 2,
       "version_minor": 0
      },
      "text/plain": [
       "  0%|          | 0/498 [00:00<?, ?it/s]"
      ]
     },
     "metadata": {},
     "output_type": "display_data"
    },
    {
     "name": "stderr",
     "output_type": "stream",
     "text": [
      "Partition explainer:  16%|█▌        | 22/139 [01:24<05:55,  3.04s/it]"
     ]
    },
    {
     "data": {
      "application/vnd.jupyter.widget-view+json": {
       "model_id": "a2cc17e8533244799ebe3663a3c9ea73",
       "version_major": 2,
       "version_minor": 0
      },
      "text/plain": [
       "  0%|          | 0/498 [00:00<?, ?it/s]"
      ]
     },
     "metadata": {},
     "output_type": "display_data"
    },
    {
     "name": "stderr",
     "output_type": "stream",
     "text": [
      "Partition explainer:  17%|█▋        | 23/139 [01:31<08:03,  4.17s/it]"
     ]
    },
    {
     "data": {
      "application/vnd.jupyter.widget-view+json": {
       "model_id": "727ddcca5d5e4a76bf588a2128e1eea0",
       "version_major": 2,
       "version_minor": 0
      },
      "text/plain": [
       "  0%|          | 0/498 [00:00<?, ?it/s]"
      ]
     },
     "metadata": {},
     "output_type": "display_data"
    },
    {
     "name": "stderr",
     "output_type": "stream",
     "text": [
      "Partition explainer:  17%|█▋        | 24/139 [01:37<09:16,  4.84s/it]"
     ]
    },
    {
     "data": {
      "application/vnd.jupyter.widget-view+json": {
       "model_id": "0b4613a69aea4796ab8f21c5b684957a",
       "version_major": 2,
       "version_minor": 0
      },
      "text/plain": [
       "  0%|          | 0/498 [00:00<?, ?it/s]"
      ]
     },
     "metadata": {},
     "output_type": "display_data"
    },
    {
     "name": "stderr",
     "output_type": "stream",
     "text": [
      "Partition explainer:  19%|█▊        | 26/139 [01:45<07:51,  4.17s/it]"
     ]
    },
    {
     "data": {
      "application/vnd.jupyter.widget-view+json": {
       "model_id": "368c037920c047389211ae400f099bc2",
       "version_major": 2,
       "version_minor": 0
      },
      "text/plain": [
       "  0%|          | 0/498 [00:00<?, ?it/s]"
      ]
     },
     "metadata": {},
     "output_type": "display_data"
    },
    {
     "name": "stderr",
     "output_type": "stream",
     "text": [
      "Partition explainer:  22%|██▏       | 30/139 [02:11<07:53,  4.34s/it]"
     ]
    },
    {
     "data": {
      "application/vnd.jupyter.widget-view+json": {
       "model_id": "fa19eb8182e2451aaa17d4745e401696",
       "version_major": 2,
       "version_minor": 0
      },
      "text/plain": [
       "  0%|          | 0/498 [00:00<?, ?it/s]"
      ]
     },
     "metadata": {},
     "output_type": "display_data"
    },
    {
     "name": "stderr",
     "output_type": "stream",
     "text": [
      "Partition explainer:  22%|██▏       | 31/139 [02:22<11:47,  6.55s/it]"
     ]
    },
    {
     "data": {
      "application/vnd.jupyter.widget-view+json": {
       "model_id": "17d35afcf6664987ae7dac7247366bcc",
       "version_major": 2,
       "version_minor": 0
      },
      "text/plain": [
       "  0%|          | 0/498 [00:00<?, ?it/s]"
      ]
     },
     "metadata": {},
     "output_type": "display_data"
    },
    {
     "name": "stderr",
     "output_type": "stream",
     "text": [
      "Partition explainer:  23%|██▎       | 32/139 [02:28<11:19,  6.35s/it]"
     ]
    },
    {
     "data": {
      "application/vnd.jupyter.widget-view+json": {
       "model_id": "8cf91c953b444efd9743dbf87f48e05a",
       "version_major": 2,
       "version_minor": 0
      },
      "text/plain": [
       "  0%|          | 0/498 [00:00<?, ?it/s]"
      ]
     },
     "metadata": {},
     "output_type": "display_data"
    },
    {
     "name": "stderr",
     "output_type": "stream",
     "text": [
      "Partition explainer:  24%|██▍       | 34/139 [02:42<10:49,  6.19s/it]"
     ]
    },
    {
     "data": {
      "application/vnd.jupyter.widget-view+json": {
       "model_id": "9b7c8e640d9e4e1a8ba1e4afc816f313",
       "version_major": 2,
       "version_minor": 0
      },
      "text/plain": [
       "  0%|          | 0/498 [00:00<?, ?it/s]"
      ]
     },
     "metadata": {},
     "output_type": "display_data"
    },
    {
     "name": "stderr",
     "output_type": "stream",
     "text": [
      "Partition explainer:  26%|██▌       | 36/139 [02:48<07:46,  4.53s/it]"
     ]
    },
    {
     "data": {
      "application/vnd.jupyter.widget-view+json": {
       "model_id": "55b80bf1bb094b7684339de812103ab0",
       "version_major": 2,
       "version_minor": 0
      },
      "text/plain": [
       "  0%|          | 0/498 [00:00<?, ?it/s]"
      ]
     },
     "metadata": {},
     "output_type": "display_data"
    },
    {
     "name": "stderr",
     "output_type": "stream",
     "text": [
      "Partition explainer:  27%|██▋       | 37/139 [03:05<13:38,  8.03s/it]"
     ]
    },
    {
     "data": {
      "application/vnd.jupyter.widget-view+json": {
       "model_id": "4fb88b1276af4c0c88844b3fc3fd6ff8",
       "version_major": 2,
       "version_minor": 0
      },
      "text/plain": [
       "  0%|          | 0/498 [00:00<?, ?it/s]"
      ]
     },
     "metadata": {},
     "output_type": "display_data"
    },
    {
     "name": "stderr",
     "output_type": "stream",
     "text": [
      "Partition explainer:  28%|██▊       | 39/139 [03:19<12:00,  7.21s/it]"
     ]
    },
    {
     "data": {
      "application/vnd.jupyter.widget-view+json": {
       "model_id": "4380c38edda54e19b82baebdb8b5e818",
       "version_major": 2,
       "version_minor": 0
      },
      "text/plain": [
       "  0%|          | 0/498 [00:00<?, ?it/s]"
      ]
     },
     "metadata": {},
     "output_type": "display_data"
    },
    {
     "name": "stderr",
     "output_type": "stream",
     "text": [
      "Partition explainer:  31%|███       | 43/139 [03:40<07:07,  4.46s/it]"
     ]
    },
    {
     "data": {
      "application/vnd.jupyter.widget-view+json": {
       "model_id": "f8f760c0224145e397711864a8f3e751",
       "version_major": 2,
       "version_minor": 0
      },
      "text/plain": [
       "  0%|          | 0/498 [00:00<?, ?it/s]"
      ]
     },
     "metadata": {},
     "output_type": "display_data"
    },
    {
     "name": "stderr",
     "output_type": "stream",
     "text": [
      "Partition explainer:  37%|███▋      | 51/139 [04:03<03:05,  2.11s/it]"
     ]
    },
    {
     "data": {
      "application/vnd.jupyter.widget-view+json": {
       "model_id": "7f23f9763c7c452fb25bddbc35af2c07",
       "version_major": 2,
       "version_minor": 0
      },
      "text/plain": [
       "  0%|          | 0/498 [00:00<?, ?it/s]"
      ]
     },
     "metadata": {},
     "output_type": "display_data"
    },
    {
     "name": "stderr",
     "output_type": "stream",
     "text": [
      "Partition explainer:  37%|███▋      | 52/139 [04:14<06:55,  4.78s/it]"
     ]
    },
    {
     "data": {
      "application/vnd.jupyter.widget-view+json": {
       "model_id": "c7139f6b6f4b4ce59156d4f9245bb019",
       "version_major": 2,
       "version_minor": 0
      },
      "text/plain": [
       "  0%|          | 0/498 [00:00<?, ?it/s]"
      ]
     },
     "metadata": {},
     "output_type": "display_data"
    },
    {
     "name": "stderr",
     "output_type": "stream",
     "text": [
      "Partition explainer:  42%|████▏     | 58/139 [04:33<03:48,  2.82s/it]"
     ]
    },
    {
     "data": {
      "application/vnd.jupyter.widget-view+json": {
       "model_id": "a3e0779c561940b3a458ae4e0668b5ce",
       "version_major": 2,
       "version_minor": 0
      },
      "text/plain": [
       "  0%|          | 0/498 [00:00<?, ?it/s]"
      ]
     },
     "metadata": {},
     "output_type": "display_data"
    },
    {
     "name": "stderr",
     "output_type": "stream",
     "text": [
      "Partition explainer:  42%|████▏     | 59/139 [04:44<07:16,  5.45s/it]"
     ]
    },
    {
     "data": {
      "application/vnd.jupyter.widget-view+json": {
       "model_id": "0655dbe4a6734907ac05d0fdb24e0ae6",
       "version_major": 2,
       "version_minor": 0
      },
      "text/plain": [
       "  0%|          | 0/498 [00:00<?, ?it/s]"
      ]
     },
     "metadata": {},
     "output_type": "display_data"
    },
    {
     "name": "stderr",
     "output_type": "stream",
     "text": [
      "Partition explainer:  44%|████▍     | 61/139 [05:02<08:31,  6.56s/it]"
     ]
    },
    {
     "data": {
      "application/vnd.jupyter.widget-view+json": {
       "model_id": "2e5d7b85ad584316821d2e5029fe48de",
       "version_major": 2,
       "version_minor": 0
      },
      "text/plain": [
       "  0%|          | 0/498 [00:00<?, ?it/s]"
      ]
     },
     "metadata": {},
     "output_type": "display_data"
    },
    {
     "name": "stderr",
     "output_type": "stream",
     "text": [
      "Partition explainer:  45%|████▍     | 62/139 [05:22<13:37, 10.62s/it]"
     ]
    },
    {
     "data": {
      "application/vnd.jupyter.widget-view+json": {
       "model_id": "66c336824b4c4e57bf35c1b44a4d2519",
       "version_major": 2,
       "version_minor": 0
      },
      "text/plain": [
       "  0%|          | 0/498 [00:00<?, ?it/s]"
      ]
     },
     "metadata": {},
     "output_type": "display_data"
    },
    {
     "name": "stderr",
     "output_type": "stream",
     "text": [
      "Partition explainer:  46%|████▌     | 64/139 [05:29<08:31,  6.82s/it]"
     ]
    },
    {
     "data": {
      "application/vnd.jupyter.widget-view+json": {
       "model_id": "9123729832194b07b43f8636b1287304",
       "version_major": 2,
       "version_minor": 0
      },
      "text/plain": [
       "  0%|          | 0/498 [00:00<?, ?it/s]"
      ]
     },
     "metadata": {},
     "output_type": "display_data"
    },
    {
     "name": "stderr",
     "output_type": "stream",
     "text": [
      "Partition explainer:  48%|████▊     | 67/139 [05:40<05:04,  4.23s/it]"
     ]
    },
    {
     "data": {
      "application/vnd.jupyter.widget-view+json": {
       "model_id": "b515ef495d0b4bdfa197bc2f0ccf04d3",
       "version_major": 2,
       "version_minor": 0
      },
      "text/plain": [
       "  0%|          | 0/498 [00:00<?, ?it/s]"
      ]
     },
     "metadata": {},
     "output_type": "display_data"
    },
    {
     "name": "stderr",
     "output_type": "stream",
     "text": [
      "Partition explainer:  49%|████▉     | 68/139 [05:46<05:51,  4.95s/it]"
     ]
    },
    {
     "data": {
      "application/vnd.jupyter.widget-view+json": {
       "model_id": "8982d21a1f32482a9487ad1043421dc0",
       "version_major": 2,
       "version_minor": 0
      },
      "text/plain": [
       "  0%|          | 0/498 [00:00<?, ?it/s]"
      ]
     },
     "metadata": {},
     "output_type": "display_data"
    },
    {
     "name": "stderr",
     "output_type": "stream",
     "text": [
      "Partition explainer:  50%|████▉     | 69/139 [05:53<06:20,  5.44s/it]"
     ]
    },
    {
     "data": {
      "application/vnd.jupyter.widget-view+json": {
       "model_id": "971126f91ddc4c529c77801e387448e4",
       "version_major": 2,
       "version_minor": 0
      },
      "text/plain": [
       "  0%|          | 0/498 [00:00<?, ?it/s]"
      ]
     },
     "metadata": {},
     "output_type": "display_data"
    },
    {
     "name": "stderr",
     "output_type": "stream",
     "text": [
      "Partition explainer:  52%|█████▏    | 72/139 [06:01<03:38,  3.26s/it]"
     ]
    },
    {
     "data": {
      "application/vnd.jupyter.widget-view+json": {
       "model_id": "8299c59846704a85a9e9d174b1037dfe",
       "version_major": 2,
       "version_minor": 0
      },
      "text/plain": [
       "  0%|          | 0/498 [00:00<?, ?it/s]"
      ]
     },
     "metadata": {},
     "output_type": "display_data"
    },
    {
     "name": "stderr",
     "output_type": "stream",
     "text": [
      "Partition explainer:  53%|█████▎    | 73/139 [06:07<04:33,  4.14s/it]"
     ]
    },
    {
     "data": {
      "application/vnd.jupyter.widget-view+json": {
       "model_id": "3f80735e5cec435ebf4a57970ac22993",
       "version_major": 2,
       "version_minor": 0
      },
      "text/plain": [
       "  0%|          | 0/498 [00:00<?, ?it/s]"
      ]
     },
     "metadata": {},
     "output_type": "display_data"
    },
    {
     "name": "stderr",
     "output_type": "stream",
     "text": [
      "Partition explainer:  53%|█████▎    | 74/139 [06:20<07:22,  6.80s/it]"
     ]
    },
    {
     "data": {
      "application/vnd.jupyter.widget-view+json": {
       "model_id": "94eea92926a942718e382b71ae3049e1",
       "version_major": 2,
       "version_minor": 0
      },
      "text/plain": [
       "  0%|          | 0/498 [00:00<?, ?it/s]"
      ]
     },
     "metadata": {},
     "output_type": "display_data"
    },
    {
     "name": "stderr",
     "output_type": "stream",
     "text": [
      "Partition explainer:  54%|█████▍    | 75/139 [06:33<09:00,  8.45s/it]"
     ]
    },
    {
     "data": {
      "application/vnd.jupyter.widget-view+json": {
       "model_id": "39a0655d43ca4f1d9ca4445fde266e0a",
       "version_major": 2,
       "version_minor": 0
      },
      "text/plain": [
       "  0%|          | 0/498 [00:00<?, ?it/s]"
      ]
     },
     "metadata": {},
     "output_type": "display_data"
    },
    {
     "name": "stderr",
     "output_type": "stream",
     "text": [
      "Partition explainer:  58%|█████▊    | 80/139 [06:49<03:13,  3.29s/it]"
     ]
    },
    {
     "data": {
      "application/vnd.jupyter.widget-view+json": {
       "model_id": "89f6ecf489e042809b9c22620bdaec83",
       "version_major": 2,
       "version_minor": 0
      },
      "text/plain": [
       "  0%|          | 0/498 [00:00<?, ?it/s]"
      ]
     },
     "metadata": {},
     "output_type": "display_data"
    },
    {
     "name": "stderr",
     "output_type": "stream",
     "text": [
      "Partition explainer:  58%|█████▊    | 81/139 [07:01<05:38,  5.84s/it]"
     ]
    },
    {
     "data": {
      "application/vnd.jupyter.widget-view+json": {
       "model_id": "6e622c98ebfe4bf9a7271802184786c7",
       "version_major": 2,
       "version_minor": 0
      },
      "text/plain": [
       "  0%|          | 0/498 [00:00<?, ?it/s]"
      ]
     },
     "metadata": {},
     "output_type": "display_data"
    },
    {
     "name": "stderr",
     "output_type": "stream",
     "text": [
      "Partition explainer:  59%|█████▉    | 82/139 [07:06<05:25,  5.71s/it]"
     ]
    },
    {
     "data": {
      "application/vnd.jupyter.widget-view+json": {
       "model_id": "c269708d8a7c453398af43f44ea3e9eb",
       "version_major": 2,
       "version_minor": 0
      },
      "text/plain": [
       "  0%|          | 0/498 [00:00<?, ?it/s]"
      ]
     },
     "metadata": {},
     "output_type": "display_data"
    },
    {
     "name": "stderr",
     "output_type": "stream",
     "text": [
      "Partition explainer:  61%|██████    | 85/139 [07:30<05:30,  6.11s/it]"
     ]
    },
    {
     "data": {
      "application/vnd.jupyter.widget-view+json": {
       "model_id": "4e6b5c467c0e490f810817b0437de625",
       "version_major": 2,
       "version_minor": 0
      },
      "text/plain": [
       "  0%|          | 0/498 [00:00<?, ?it/s]"
      ]
     },
     "metadata": {},
     "output_type": "display_data"
    },
    {
     "name": "stderr",
     "output_type": "stream",
     "text": [
      "Partition explainer:  63%|██████▎   | 87/139 [07:38<04:16,  4.93s/it]"
     ]
    },
    {
     "data": {
      "application/vnd.jupyter.widget-view+json": {
       "model_id": "ec28b2609e3b4ed3bac78c6c18b7cb54",
       "version_major": 2,
       "version_minor": 0
      },
      "text/plain": [
       "  0%|          | 0/498 [00:00<?, ?it/s]"
      ]
     },
     "metadata": {},
     "output_type": "display_data"
    },
    {
     "name": "stderr",
     "output_type": "stream",
     "text": [
      "Partition explainer:  64%|██████▍   | 89/139 [07:52<04:44,  5.68s/it]"
     ]
    },
    {
     "data": {
      "application/vnd.jupyter.widget-view+json": {
       "model_id": "5156fbbc1c9646a78bbee8f97bcf6a54",
       "version_major": 2,
       "version_minor": 0
      },
      "text/plain": [
       "  0%|          | 0/498 [00:00<?, ?it/s]"
      ]
     },
     "metadata": {},
     "output_type": "display_data"
    },
    {
     "name": "stderr",
     "output_type": "stream",
     "text": [
      "Partition explainer:  65%|██████▍   | 90/139 [08:01<05:24,  6.62s/it]"
     ]
    },
    {
     "data": {
      "application/vnd.jupyter.widget-view+json": {
       "model_id": "fcf0d2b0a3c14c87a9e300e87f72137c",
       "version_major": 2,
       "version_minor": 0
      },
      "text/plain": [
       "  0%|          | 0/498 [00:00<?, ?it/s]"
      ]
     },
     "metadata": {},
     "output_type": "display_data"
    },
    {
     "name": "stderr",
     "output_type": "stream",
     "text": [
      "Partition explainer:  65%|██████▌   | 91/139 [08:13<06:34,  8.21s/it]"
     ]
    },
    {
     "data": {
      "application/vnd.jupyter.widget-view+json": {
       "model_id": "ede94d6390294d4aa3050b8e400896bd",
       "version_major": 2,
       "version_minor": 0
      },
      "text/plain": [
       "  0%|          | 0/498 [00:00<?, ?it/s]"
      ]
     },
     "metadata": {},
     "output_type": "display_data"
    },
    {
     "name": "stderr",
     "output_type": "stream",
     "text": [
      "Partition explainer:  66%|██████▌   | 92/139 [08:25<07:19,  9.34s/it]"
     ]
    },
    {
     "data": {
      "application/vnd.jupyter.widget-view+json": {
       "model_id": "1af326b6a531486b94148ddd6eed0726",
       "version_major": 2,
       "version_minor": 0
      },
      "text/plain": [
       "  0%|          | 0/498 [00:00<?, ?it/s]"
      ]
     },
     "metadata": {},
     "output_type": "display_data"
    },
    {
     "name": "stderr",
     "output_type": "stream",
     "text": [
      "Partition explainer:  69%|██████▉   | 96/139 [08:47<03:48,  5.31s/it]"
     ]
    },
    {
     "data": {
      "application/vnd.jupyter.widget-view+json": {
       "model_id": "43a3d282de014f79a81a1f736b993099",
       "version_major": 2,
       "version_minor": 0
      },
      "text/plain": [
       "  0%|          | 0/498 [00:00<?, ?it/s]"
      ]
     },
     "metadata": {},
     "output_type": "display_data"
    },
    {
     "name": "stderr",
     "output_type": "stream",
     "text": [
      "Partition explainer:  71%|███████   | 99/139 [09:01<02:50,  4.25s/it]"
     ]
    },
    {
     "data": {
      "application/vnd.jupyter.widget-view+json": {
       "model_id": "4e97c383ccf74114b05a5c28262efc04",
       "version_major": 2,
       "version_minor": 0
      },
      "text/plain": [
       "  0%|          | 0/498 [00:00<?, ?it/s]"
      ]
     },
     "metadata": {},
     "output_type": "display_data"
    },
    {
     "name": "stderr",
     "output_type": "stream",
     "text": [
      "Partition explainer:  74%|███████▍  | 103/139 [09:20<02:21,  3.92s/it]"
     ]
    },
    {
     "data": {
      "application/vnd.jupyter.widget-view+json": {
       "model_id": "57c89e58d7bf491fb49ccb1032b4262b",
       "version_major": 2,
       "version_minor": 0
      },
      "text/plain": [
       "  0%|          | 0/498 [00:00<?, ?it/s]"
      ]
     },
     "metadata": {},
     "output_type": "display_data"
    },
    {
     "name": "stderr",
     "output_type": "stream",
     "text": [
      "Partition explainer:  76%|███████▌  | 105/139 [09:34<02:54,  5.12s/it]"
     ]
    },
    {
     "data": {
      "application/vnd.jupyter.widget-view+json": {
       "model_id": "c6587d28555f4ed8bd56715d18b1b802",
       "version_major": 2,
       "version_minor": 0
      },
      "text/plain": [
       "  0%|          | 0/498 [00:00<?, ?it/s]"
      ]
     },
     "metadata": {},
     "output_type": "display_data"
    },
    {
     "name": "stderr",
     "output_type": "stream",
     "text": [
      "Partition explainer:  77%|███████▋  | 107/139 [09:50<03:18,  6.21s/it]"
     ]
    },
    {
     "data": {
      "application/vnd.jupyter.widget-view+json": {
       "model_id": "65abf569d06544f186c9c9d974f1dbf0",
       "version_major": 2,
       "version_minor": 0
      },
      "text/plain": [
       "  0%|          | 0/498 [00:00<?, ?it/s]"
      ]
     },
     "metadata": {},
     "output_type": "display_data"
    },
    {
     "name": "stderr",
     "output_type": "stream",
     "text": [
      "Partition explainer:  80%|███████▉  | 111/139 [10:10<02:01,  4.34s/it]"
     ]
    },
    {
     "data": {
      "application/vnd.jupyter.widget-view+json": {
       "model_id": "ef1207d473354751a2e31a4941506689",
       "version_major": 2,
       "version_minor": 0
      },
      "text/plain": [
       "  0%|          | 0/498 [00:00<?, ?it/s]"
      ]
     },
     "metadata": {},
     "output_type": "display_data"
    },
    {
     "name": "stderr",
     "output_type": "stream",
     "text": [
      "Partition explainer:  83%|████████▎ | 115/139 [10:29<01:46,  4.43s/it]"
     ]
    },
    {
     "data": {
      "application/vnd.jupyter.widget-view+json": {
       "model_id": "fde6221b57ab4f0c9eb20c27be8ce6a9",
       "version_major": 2,
       "version_minor": 0
      },
      "text/plain": [
       "  0%|          | 0/498 [00:00<?, ?it/s]"
      ]
     },
     "metadata": {},
     "output_type": "display_data"
    },
    {
     "name": "stderr",
     "output_type": "stream",
     "text": [
      "Partition explainer:  83%|████████▎ | 116/139 [10:46<03:06,  8.09s/it]"
     ]
    },
    {
     "data": {
      "application/vnd.jupyter.widget-view+json": {
       "model_id": "328be500d9514d218690bf76ea3309e3",
       "version_major": 2,
       "version_minor": 0
      },
      "text/plain": [
       "  0%|          | 0/498 [00:00<?, ?it/s]"
      ]
     },
     "metadata": {},
     "output_type": "display_data"
    },
    {
     "name": "stderr",
     "output_type": "stream",
     "text": [
      "Partition explainer:  86%|████████▌ | 119/139 [10:59<01:42,  5.14s/it]"
     ]
    },
    {
     "data": {
      "application/vnd.jupyter.widget-view+json": {
       "model_id": "248d3e6b99cf442c9aa05ac225ad4e7a",
       "version_major": 2,
       "version_minor": 0
      },
      "text/plain": [
       "  0%|          | 0/498 [00:00<?, ?it/s]"
      ]
     },
     "metadata": {},
     "output_type": "display_data"
    },
    {
     "name": "stderr",
     "output_type": "stream",
     "text": [
      "Partition explainer:  87%|████████▋ | 121/139 [11:12<01:40,  5.58s/it]"
     ]
    },
    {
     "data": {
      "application/vnd.jupyter.widget-view+json": {
       "model_id": "84d25eb36eda4de097839dc1fe97c35f",
       "version_major": 2,
       "version_minor": 0
      },
      "text/plain": [
       "  0%|          | 0/498 [00:00<?, ?it/s]"
      ]
     },
     "metadata": {},
     "output_type": "display_data"
    },
    {
     "name": "stderr",
     "output_type": "stream",
     "text": [
      "Partition explainer:  88%|████████▊ | 122/139 [11:34<02:57, 10.47s/it]"
     ]
    },
    {
     "data": {
      "application/vnd.jupyter.widget-view+json": {
       "model_id": "86d92f7f6efd49d4a72336502edffd14",
       "version_major": 2,
       "version_minor": 0
      },
      "text/plain": [
       "  0%|          | 0/498 [00:00<?, ?it/s]"
      ]
     },
     "metadata": {},
     "output_type": "display_data"
    },
    {
     "name": "stderr",
     "output_type": "stream",
     "text": [
      "Partition explainer:  92%|█████████▏| 128/139 [11:49<00:32,  2.92s/it]"
     ]
    },
    {
     "data": {
      "application/vnd.jupyter.widget-view+json": {
       "model_id": "e08584be910f43f5a94b519313757274",
       "version_major": 2,
       "version_minor": 0
      },
      "text/plain": [
       "  0%|          | 0/498 [00:00<?, ?it/s]"
      ]
     },
     "metadata": {},
     "output_type": "display_data"
    },
    {
     "name": "stderr",
     "output_type": "stream",
     "text": [
      "Partition explainer:  94%|█████████▍| 131/139 [12:08<00:33,  4.20s/it]"
     ]
    },
    {
     "data": {
      "application/vnd.jupyter.widget-view+json": {
       "model_id": "44b4bbe1f74d48dba9d89d9c86d85802",
       "version_major": 2,
       "version_minor": 0
      },
      "text/plain": [
       "  0%|          | 0/498 [00:00<?, ?it/s]"
      ]
     },
     "metadata": {},
     "output_type": "display_data"
    },
    {
     "name": "stderr",
     "output_type": "stream",
     "text": [
      "Partition explainer:  96%|█████████▌| 133/139 [12:25<00:37,  6.23s/it]"
     ]
    },
    {
     "data": {
      "application/vnd.jupyter.widget-view+json": {
       "model_id": "a8127845a4104dfe9ac698da02e2c618",
       "version_major": 2,
       "version_minor": 0
      },
      "text/plain": [
       "  0%|          | 0/498 [00:00<?, ?it/s]"
      ]
     },
     "metadata": {},
     "output_type": "display_data"
    },
    {
     "name": "stderr",
     "output_type": "stream",
     "text": [
      "Partition explainer:  96%|█████████▋| 134/139 [12:37<00:39,  7.90s/it]"
     ]
    },
    {
     "data": {
      "application/vnd.jupyter.widget-view+json": {
       "model_id": "80a895a4a5c64590881628514fe6663b",
       "version_major": 2,
       "version_minor": 0
      },
      "text/plain": [
       "  0%|          | 0/498 [00:00<?, ?it/s]"
      ]
     },
     "metadata": {},
     "output_type": "display_data"
    },
    {
     "name": "stderr",
     "output_type": "stream",
     "text": [
      "Partition explainer:  97%|█████████▋| 135/139 [12:53<00:40, 10.15s/it]"
     ]
    },
    {
     "data": {
      "application/vnd.jupyter.widget-view+json": {
       "model_id": "2afa2098e0164924ba33dab14b8fd141",
       "version_major": 2,
       "version_minor": 0
      },
      "text/plain": [
       "  0%|          | 0/498 [00:00<?, ?it/s]"
      ]
     },
     "metadata": {},
     "output_type": "display_data"
    },
    {
     "name": "stderr",
     "output_type": "stream",
     "text": [
      "Partition explainer: 140it [13:12,  5.83s/it]                         \n"
     ]
    }
   ],
   "source": [
    "import numpy as np\n",
    "import scipy as sp\n",
    "import shap\n",
    "\n",
    "tokenizer = AutoTokenizer.from_pretrained(MODEL_NAME_OR_PATH)\n",
    "\n",
    "# define a score function\n",
    "def f(x):\n",
    "    \"\"\"A function which takes a list of examples, x and returns a list of scores, val\"\"\"\n",
    "    # print(len(x))\n",
    "    # print(x)\n",
    "    batch = tokenizer.batch_encode_plus(\n",
    "        list(x), max_length=512, padding=True, truncation=True, return_tensors=\"pt\"\n",
    "    )\n",
    "    outputs = model(batch[\"input_ids\"], batch[\"attention_mask\"])[\"prediction\"].detach().numpy()\n",
    "    # print(tv)\n",
    "    # print(outputs)\n",
    "    # apply softmax to each row??\n",
    "    scores = (np.exp(outputs).T / np.exp(outputs).sum(-1)).T\n",
    "    # print(scores)\n",
    "    val = scores[:,1] # use one vs rest logit units\n",
    "    # print(val)\n",
    "    # val needs to be a list of the score\n",
    "    return val\n",
    "\n",
    "false_pos = np.load(\"./false_pos/RP-Mod-false-pos.csv.npy\", mmap_mode=\"r\")\n",
    "false_pos = [s[15:] for s in false_pos]\n",
    "# f(list(false_pos[:10]))\n",
    "\n",
    "explainer = shap.Explainer(f, tokenizer)\n",
    "\n",
    "\n",
    "# shap_values = explainer(false_pos[:10], batch_size=8)\n",
    "shap_values = explainer(false_pos, fixed_context=1, batch_size=8)"
   ]
  },
  {
   "cell_type": "code",
   "execution_count": 11,
   "metadata": {},
   "outputs": [],
   "source": [
    "#TODO: what is the correlation between SHAP score and how underrepresented these words are \n",
    "# in the dataset?\n",
    "import pandas as pd\n",
    "import scipy as sp\n",
    "\n",
    "mod_folds_df = pd.read_csv(\"./Datasets/RP-Mod-folds.csv\")\n",
    "train_df = mod_folds_df.loc[mod_folds_df[\"train_test_split\"] == 0]\n",
    "\n",
    "def score_underrepresentation(df, word, label_attr=\"label\", text_attr=\"text\"):\n",
    "    occ = df[np.array(df[text_attr].str.contains(word), dtype=bool)]\n",
    "    num_pos = len(occ.loc[occ[label_attr] == 1].drop_duplicates())\n",
    "    num_neg = len(occ.loc[occ[label_attr] == 0].drop_duplicates())\n",
    "    return num_neg/(num_neg + num_pos)\n"
   ]
  },
  {
   "cell_type": "code",
   "execution_count": null,
   "metadata": {},
   "outputs": [],
   "source": [
    "#TODO: create dataframe, where the columns are words, underrepresentation score, SHAP score\n"
   ]
  },
  {
   "cell_type": "code",
   "execution_count": 8,
   "metadata": {},
   "outputs": [
    {
     "data": {
      "text/plain": [
       ".values =\n",
       "array([-0.00050354, -0.05605525, -0.00404001,  0.09449696,  0.0202925 ,\n",
       "       -0.04756196, -0.00803574,  0.04582678, -0.0513271 ,  0.14837754,\n",
       "       -0.01956507, -0.00458249])\n",
       "\n",
       ".base_values =\n",
       "0.6096603870391846\n",
       "\n",
       ".data =\n",
       "array(['Sehr', ' sympathisch', ' diese', ' Frau', ' und', ' das', ' sagt',\n",
       "       ' hier', ' ein ', ' Mann', ' ', ''], dtype='<U12')"
      ]
     },
     "execution_count": 8,
     "metadata": {},
     "output_type": "execute_result"
    }
   ],
   "source": [
    "shap_values[0]"
   ]
  },
  {
   "cell_type": "code",
   "execution_count": null,
   "metadata": {},
   "outputs": [],
   "source": [
    "words = []\n",
    "shap_scores = []\n",
    "\n",
    "for val in shap_values:\n",
    "    for i in range(len(val.values)):\n",
    "        score = val.values[i]\n",
    "        if score >= 0:\n",
    "            word = val.data[i]\n",
    "            if word not in words.keys():\n",
    "                words[word] = [score]\n",
    "            else:\n",
    "                words[word].append(score)"
   ]
  },
  {
   "cell_type": "code",
   "execution_count": 25,
   "metadata": {},
   "outputs": [],
   "source": [
    "import heapq\n",
    "from collections import OrderedDict\n",
    "\n",
    "words = OrderedDict()\n",
    "\n",
    "for val in shap_values:\n",
    "    for i in range(len(val.values)):\n",
    "        score = val.values[i]\n",
    "        word = val.data[i]\n",
    "        if word not in words.keys():\n",
    "            words[word] = [score]\n",
    "        else:\n",
    "            words[word].append(score)\n",
    "for key in words.keys():\n",
    "    words[key] = np.mean(words[key])\n",
    "words\n",
    "largest = heapq.nlargest(200, words, key=words.get)\n",
    "# for word in largest:\n",
    "#     print(word, words[word])"
   ]
  },
  {
   "cell_type": "code",
   "execution_count": 26,
   "metadata": {},
   "outputs": [],
   "source": [
    "underrepresentation_scores = []\n",
    "shap_scores = []\n",
    "for word in words.keys():\n",
    "    if word in largest:\n",
    "        underrepresentation_scores.append(score_underrepresentation(train_df, word))\n",
    "        shap_scores.append(words[word])\n"
   ]
  },
  {
   "cell_type": "code",
   "execution_count": 27,
   "metadata": {},
   "outputs": [
    {
     "data": {
      "text/plain": [
       "(-0.2587534241044407, 5.609584433667331e-06)"
      ]
     },
     "execution_count": 27,
     "metadata": {},
     "output_type": "execute_result"
    }
   ],
   "source": [
    "sp.stats.pearsonr(underrepresentation_scores, shap_scores)"
   ]
  },
  {
   "cell_type": "code",
   "execution_count": 29,
   "metadata": {},
   "outputs": [
    {
     "data": {
      "text/plain": [
       "(-0.3067348171046196, 0.03026463078329042)"
      ]
     },
     "execution_count": 29,
     "metadata": {},
     "output_type": "execute_result"
    }
   ],
   "source": [
    "n_largest = 50\n",
    "largest = heapq.nlargest(n_largest, words, key=words.get)\n",
    "\n",
    "underrepresentation_scores = []\n",
    "shap_scores = []\n",
    "for word in words.keys():\n",
    "    if word in largest:\n",
    "        underrepresentation_scores.append(score_underrepresentation(train_df, word))\n",
    "        shap_scores.append(words[word])\n",
    "\n",
    "sp.stats.pearsonr(underrepresentation_scores, shap_scores)"
   ]
  },
  {
   "cell_type": "code",
   "execution_count": 18,
   "metadata": {},
   "outputs": [
    {
     "data": {
      "text/plain": [
       "'brüh'"
      ]
     },
     "execution_count": 18,
     "metadata": {},
     "output_type": "execute_result"
    }
   ],
   "source": [
    "list(words.keys())[np.argmin(underrepresentation_scores)]"
   ]
  },
  {
   "cell_type": "code",
   "execution_count": 71,
   "metadata": {},
   "outputs": [
    {
     "data": {
      "text/html": [
       "<svg width=\"100%\" height=\"80px\"><line x1=\"0\" y1=\"33\" x2=\"100%\" y2=\"33\" style=\"stroke:rgb(150,150,150);stroke-width:1\" /><line x1=\"55.27270381783439%\" y1=\"33\" x2=\"55.27270381783439%\" y2=\"37\" style=\"stroke:rgb(150,150,150);stroke-width:1\" /><text x=\"55.27270381783439%\" y=\"27\" font-size=\"12px\" fill=\"rgb(120,120,120)\" dominant-baseline=\"bottom\" text-anchor=\"middle\">0.7</text><line x1=\"38.628172805617446%\" y1=\"33\" x2=\"38.628172805617446%\" y2=\"37\" style=\"stroke:rgb(150,150,150);stroke-width:1\" /><text x=\"38.628172805617446%\" y=\"27\" font-size=\"12px\" fill=\"rgb(120,120,120)\" dominant-baseline=\"bottom\" text-anchor=\"middle\">0.6</text><line x1=\"21.983641793400494%\" y1=\"33\" x2=\"21.983641793400494%\" y2=\"37\" style=\"stroke:rgb(150,150,150);stroke-width:1\" /><text x=\"21.983641793400494%\" y=\"27\" font-size=\"12px\" fill=\"rgb(120,120,120)\" dominant-baseline=\"bottom\" text-anchor=\"middle\">0.5</text><line x1=\"71.91723483005134%\" y1=\"33\" x2=\"71.91723483005134%\" y2=\"37\" style=\"stroke:rgb(150,150,150);stroke-width:1\" /><text x=\"71.91723483005134%\" y=\"27\" font-size=\"12px\" fill=\"rgb(120,120,120)\" dominant-baseline=\"bottom\" text-anchor=\"middle\">0.8</text><line x1=\"88.56176584226829%\" y1=\"33\" x2=\"88.56176584226829%\" y2=\"37\" style=\"stroke:rgb(150,150,150);stroke-width:1\" /><text x=\"88.56176584226829%\" y=\"27\" font-size=\"12px\" fill=\"rgb(120,120,120)\" dominant-baseline=\"bottom\" text-anchor=\"middle\">0.9</text><line x1=\"40.23609892225471%\" y1=\"33\" x2=\"40.23609892225471%\" y2=\"37\" style=\"stroke:rgb(150,150,150);stroke-width:1\" /><text x=\"40.23609892225471%\" y=\"27\" font-size=\"13px\" style=\"stroke:#ffffff;stroke-width:8px;\" fill=\"rgb(255,255,255)\" dominant-baseline=\"bottom\" text-anchor=\"middle\">0.60966</text><text x=\"40.23609892225471%\" y=\"27\" font-size=\"12px\" fill=\"rgb(120,120,120)\" dominant-baseline=\"bottom\" text-anchor=\"middle\">0.60966</text><text x=\"40.23609892225471%\" y=\"10\" font-size=\"12px\" fill=\"rgb(120,120,120)\" dominant-baseline=\"bottom\" text-anchor=\"middle\">base value</text><line x1=\"59.763899413292194%\" y1=\"33\" x2=\"59.763899413292194%\" y2=\"37\" style=\"stroke:rgb(150,150,150);stroke-width:1\" /><text x=\"59.763899413292194%\" y=\"27\" font-size=\"13px\" style=\"stroke:#ffffff;stroke-width:8px;\" font-weight=\"bold\" fill=\"rgb(255,255,255)\" dominant-baseline=\"bottom\" text-anchor=\"middle\">0.726983</text><text x=\"59.763899413292194%\" y=\"27\" font-size=\"13px\" font-weight=\"bold\" fill=\"rgb(0,0,0)\" dominant-baseline=\"bottom\" text-anchor=\"middle\">0.726983</text><text x=\"59.763899413292194%\" y=\"10\" font-size=\"12px\" fill=\"rgb(120,120,120)\" dominant-baseline=\"bottom\" text-anchor=\"middle\">f<tspan baseline-shift=\"sub\" font-size=\"8px\"></tspan>(inputs)</text><rect x=\"8.485708713056825%\" width=\"51.27819070023537%\" y=\"40\" height=\"18\" style=\"fill:rgb(255.0, 0.0, 81.08083606031792); stroke-width:0; stroke:rgb(0,0,0)\" /><line x1=\"34.762402267499915%\" x2=\"59.763899413292194%\" y1=\"60\" y2=\"60\" id=\"_fb_usieyiccwpusnzjovqwp_ind_9\" style=\"stroke:rgb(255.0, 0.0, 81.08083606031792);stroke-width:2; opacity: 0\"/><text x=\"47.26315084039605%\" y=\"71\" font-size=\"12px\" id=\"_fs_usieyiccwpusnzjovqwp_ind_9\" fill=\"rgb(255.0, 0.0, 81.08083606031792)\" style=\"opacity: 0\" dominant-baseline=\"middle\" text-anchor=\"middle\">0.15</text><svg x=\"34.762402267499915%\" y=\"40\" height=\"20\" width=\"25.00149714579228%\">  <svg x=\"0\" y=\"0\" width=\"100%\" height=\"100%\">    <text x=\"50%\" y=\"9\" font-size=\"12px\" fill=\"rgb(255,255,255)\" dominant-baseline=\"middle\" text-anchor=\"middle\">Mann</text>  </svg></svg><line x1=\"19.186201486306615%\" x2=\"34.762402267499915%\" y1=\"60\" y2=\"60\" id=\"_fb_usieyiccwpusnzjovqwp_ind_3\" style=\"stroke:rgb(255.0, 0.0, 81.08083606031792);stroke-width:2; opacity: 0\"/><text x=\"26.974301876903265%\" y=\"71\" font-size=\"12px\" id=\"_fs_usieyiccwpusnzjovqwp_ind_3\" fill=\"rgb(255.0, 0.0, 81.08083606031792)\" style=\"opacity: 0\" dominant-baseline=\"middle\" text-anchor=\"middle\">0.094</text><svg x=\"19.186201486306615%\" y=\"40\" height=\"20\" width=\"15.5762007811933%\">  <svg x=\"0\" y=\"0\" width=\"100%\" height=\"100%\">    <text x=\"50%\" y=\"9\" font-size=\"12px\" fill=\"rgb(255,255,255)\" dominant-baseline=\"middle\" text-anchor=\"middle\">Frau</text>  </svg></svg><line x1=\"11.710925172652209%\" x2=\"19.186201486306615%\" y1=\"60\" y2=\"60\" id=\"_fb_usieyiccwpusnzjovqwp_ind_7\" style=\"stroke:rgb(255.0, 0.0, 81.08083606031792);stroke-width:2; opacity: 0\"/><text x=\"15.448563329479413%\" y=\"71\" font-size=\"12px\" id=\"_fs_usieyiccwpusnzjovqwp_ind_7\" fill=\"rgb(255.0, 0.0, 81.08083606031792)\" style=\"opacity: 0\" dominant-baseline=\"middle\" text-anchor=\"middle\">0.045</text><svg x=\"11.710925172652209%\" y=\"40\" height=\"20\" width=\"7.4752763136544065%\">  <svg x=\"0\" y=\"0\" width=\"100%\" height=\"100%\">    <text x=\"50%\" y=\"9\" font-size=\"12px\" fill=\"rgb(255,255,255)\" dominant-baseline=\"middle\" text-anchor=\"middle\">hier</text>  </svg></svg><line x1=\"8.485708713056825%\" x2=\"11.710925172652209%\" y1=\"60\" y2=\"60\" id=\"_fb_usieyiccwpusnzjovqwp_ind_4\" style=\"stroke:rgb(255.0, 0.0, 81.08083606031792);stroke-width:2; opacity: 0\"/><text x=\"10.098316942854517%\" y=\"71\" font-size=\"12px\" id=\"_fs_usieyiccwpusnzjovqwp_ind_4\" fill=\"rgb(255.0, 0.0, 81.08083606031792)\" style=\"opacity: 0\" dominant-baseline=\"middle\" text-anchor=\"middle\">0.019</text><svg x=\"8.485708713056825%\" y=\"40\" height=\"20\" width=\"3.2252164595953836%\">  <svg x=\"0\" y=\"0\" width=\"100%\" height=\"100%\">    <text x=\"50%\" y=\"9\" font-size=\"12px\" fill=\"rgb(255,255,255)\" dominant-baseline=\"middle\" text-anchor=\"middle\">und</text>  </svg></svg><g transform=\"translate(0,0)\">  <svg x=\"34.762402267499915%\" y=\"40\" height=\"18\" overflow=\"visible\" width=\"30\">    <path d=\"M 0 -9 l 6 18 L 0 25\" fill=\"none\" style=\"stroke:rgb(255.0, 0.0, 81.08083606031792);stroke-width:2\" />  </svg></g><g transform=\"translate(2,0)\">  <svg x=\"34.762402267499915%\" y=\"40\" height=\"18\" overflow=\"visible\" width=\"30\">    <path d=\"M 0 -9 l 6 18 L 0 25\" fill=\"none\" style=\"stroke:rgb(255.0, 0.0, 81.08083606031792);stroke-width:2\" />  </svg></g><g transform=\"translate(4,0)\">  <svg x=\"34.762402267499915%\" y=\"40\" height=\"18\" overflow=\"visible\" width=\"30\">    <path d=\"M 0 -9 l 6 18 L 0 25\" fill=\"none\" style=\"stroke:rgb(255.0, 0.0, 81.08083606031792);stroke-width:2\" />  </svg></g><g transform=\"translate(6,0)\">  <svg x=\"34.762402267499915%\" y=\"40\" height=\"18\" overflow=\"visible\" width=\"30\">    <path d=\"M 0 -9 l 6 18 L 0 25\" fill=\"none\" style=\"stroke:rgb(255.0, 0.0, 81.08083606031792);stroke-width:2\" />  </svg></g><g transform=\"translate(-8,0)\">  <svg x=\"34.762402267499915%\" y=\"40\" height=\"18\" overflow=\"visible\" width=\"30\">    <path d=\"M 0 -9 l 6 18 L 0 25\" fill=\"none\" style=\"stroke:rgb(255.0, 0.0, 81.08083606031792);stroke-width:2\" />  </svg></g><g transform=\"translate(-6,0)\">  <svg x=\"34.762402267499915%\" y=\"40\" height=\"18\" overflow=\"visible\" width=\"30\">    <path d=\"M 0 -9 l 6 18 L 0 25\" fill=\"none\" style=\"stroke:rgb(255.0, 0.0, 81.08083606031792);stroke-width:2\" />  </svg></g><g transform=\"translate(-4,0)\">  <svg x=\"34.762402267499915%\" y=\"40\" height=\"18\" overflow=\"visible\" width=\"30\">    <path d=\"M 0 -9 l 6 18 L 0 25\" fill=\"none\" style=\"stroke:rgb(255.0, 0.0, 81.08083606031792);stroke-width:2\" />  </svg></g><g transform=\"translate(-2,0)\">  <svg x=\"34.762402267499915%\" y=\"40\" height=\"18\" overflow=\"visible\" width=\"30\">    <path d=\"M 0 -9 l 6 18 L 0 25\" fill=\"none\" style=\"stroke:rgb(255.0, 0.0, 81.08083606031792);stroke-width:2\" />  </svg></g><g transform=\"translate(0,0)\">  <svg x=\"19.186201486306615%\" y=\"40\" height=\"18\" overflow=\"visible\" width=\"30\">    <path d=\"M 0 -9 l 6 18 L 0 25\" fill=\"none\" style=\"stroke:rgb(255.0, 0.0, 81.08083606031792);stroke-width:2\" />  </svg></g><g transform=\"translate(2,0)\">  <svg x=\"19.186201486306615%\" y=\"40\" height=\"18\" overflow=\"visible\" width=\"30\">    <path d=\"M 0 -9 l 6 18 L 0 25\" fill=\"none\" style=\"stroke:rgb(255.0, 0.0, 81.08083606031792);stroke-width:2\" />  </svg></g><g transform=\"translate(4,0)\">  <svg x=\"19.186201486306615%\" y=\"40\" height=\"18\" overflow=\"visible\" width=\"30\">    <path d=\"M 0 -9 l 6 18 L 0 25\" fill=\"none\" style=\"stroke:rgb(255.0, 0.0, 81.08083606031792);stroke-width:2\" />  </svg></g><g transform=\"translate(6,0)\">  <svg x=\"19.186201486306615%\" y=\"40\" height=\"18\" overflow=\"visible\" width=\"30\">    <path d=\"M 0 -9 l 6 18 L 0 25\" fill=\"none\" style=\"stroke:rgb(255.0, 0.0, 81.08083606031792);stroke-width:2\" />  </svg></g><g transform=\"translate(-8,0)\">  <svg x=\"19.186201486306615%\" y=\"40\" height=\"18\" overflow=\"visible\" width=\"30\">    <path d=\"M 0 -9 l 6 18 L 0 25\" fill=\"none\" style=\"stroke:rgb(255.0, 0.0, 81.08083606031792);stroke-width:2\" />  </svg></g><g transform=\"translate(-6,0)\">  <svg x=\"19.186201486306615%\" y=\"40\" height=\"18\" overflow=\"visible\" width=\"30\">    <path d=\"M 0 -9 l 6 18 L 0 25\" fill=\"none\" style=\"stroke:rgb(255.0, 0.0, 81.08083606031792);stroke-width:2\" />  </svg></g><g transform=\"translate(-4,0)\">  <svg x=\"19.186201486306615%\" y=\"40\" height=\"18\" overflow=\"visible\" width=\"30\">    <path d=\"M 0 -9 l 6 18 L 0 25\" fill=\"none\" style=\"stroke:rgb(255.0, 0.0, 81.08083606031792);stroke-width:2\" />  </svg></g><g transform=\"translate(-2,0)\">  <svg x=\"19.186201486306615%\" y=\"40\" height=\"18\" overflow=\"visible\" width=\"30\">    <path d=\"M 0 -9 l 6 18 L 0 25\" fill=\"none\" style=\"stroke:rgb(255.0, 0.0, 81.08083606031792);stroke-width:2\" />  </svg></g><g transform=\"translate(0,0)\">  <svg x=\"11.710925172652209%\" y=\"40\" height=\"18\" overflow=\"visible\" width=\"30\">    <path d=\"M 0 -9 l 6 18 L 0 25\" fill=\"none\" style=\"stroke:rgb(255.0, 0.0, 81.08083606031792);stroke-width:2\" />  </svg></g><g transform=\"translate(2,0)\">  <svg x=\"11.710925172652209%\" y=\"40\" height=\"18\" overflow=\"visible\" width=\"30\">    <path d=\"M 0 -9 l 6 18 L 0 25\" fill=\"none\" style=\"stroke:rgb(255.0, 0.0, 81.08083606031792);stroke-width:2\" />  </svg></g><g transform=\"translate(4,0)\">  <svg x=\"11.710925172652209%\" y=\"40\" height=\"18\" overflow=\"visible\" width=\"30\">    <path d=\"M 0 -9 l 6 18 L 0 25\" fill=\"none\" style=\"stroke:rgb(255.0, 0.0, 81.08083606031792);stroke-width:2\" />  </svg></g><g transform=\"translate(6,0)\">  <svg x=\"11.710925172652209%\" y=\"40\" height=\"18\" overflow=\"visible\" width=\"30\">    <path d=\"M 0 -9 l 6 18 L 0 25\" fill=\"none\" style=\"stroke:rgb(255.0, 0.0, 81.08083606031792);stroke-width:2\" />  </svg></g><g transform=\"translate(-8,0)\">  <svg x=\"11.710925172652209%\" y=\"40\" height=\"18\" overflow=\"visible\" width=\"30\">    <path d=\"M 0 -9 l 6 18 L 0 25\" fill=\"none\" style=\"stroke:rgb(255.0, 0.0, 81.08083606031792);stroke-width:2\" />  </svg></g><g transform=\"translate(-6,0)\">  <svg x=\"11.710925172652209%\" y=\"40\" height=\"18\" overflow=\"visible\" width=\"30\">    <path d=\"M 0 -9 l 6 18 L 0 25\" fill=\"none\" style=\"stroke:rgb(255.0, 0.0, 81.08083606031792);stroke-width:2\" />  </svg></g><g transform=\"translate(-4,0)\">  <svg x=\"11.710925172652209%\" y=\"40\" height=\"18\" overflow=\"visible\" width=\"30\">    <path d=\"M 0 -9 l 6 18 L 0 25\" fill=\"none\" style=\"stroke:rgb(255.0, 0.0, 81.08083606031792);stroke-width:2\" />  </svg></g><g transform=\"translate(-2,0)\">  <svg x=\"11.710925172652209%\" y=\"40\" height=\"18\" overflow=\"visible\" width=\"30\">    <path d=\"M 0 -9 l 6 18 L 0 25\" fill=\"none\" style=\"stroke:rgb(255.0, 0.0, 81.08083606031792);stroke-width:2\" />  </svg></g><rect transform=\"translate(-8,0)\" x=\"59.763899413292194%\" y=\"40\" width=\"8\" height=\"18\" style=\"fill:rgb(255.0, 0.0, 81.08083606031792)\"/><g transform=\"translate(-11.5,0)\">  <svg x=\"8.485708713056825%\" y=\"40\" height=\"18\" overflow=\"visible\" width=\"30\">    <path d=\"M 10 -9 l 6 18 L 10 25 L 0 25 L 0 -9\" fill=\"#ffffff\" style=\"stroke:rgb(255,255,255);stroke-width:2\" />  </svg></g><g transform=\"translate(-1.5,0)\">  <svg x=\"59.763899413292194%\" y=\"40\" height=\"18\" overflow=\"visible\" width=\"30\">    <path d=\"M 0 -9 l 6 18 L 0 25\" fill=\"none\" style=\"stroke:rgb(255, 195, 213);stroke-width:2\" />  </svg></g><rect x=\"34.762402267499915%\" y=\"40\" height=\"20\" width=\"25.00149714579228%\"      onmouseover=\"document.getElementById('_tp_usieyiccwpusnzjovqwp_ind_9').style.textDecoration = 'underline';document.getElementById('_fs_usieyiccwpusnzjovqwp_ind_9').style.opacity = 1;document.getElementById('_fb_usieyiccwpusnzjovqwp_ind_9').style.opacity = 1;\"      onmouseout=\"document.getElementById('_tp_usieyiccwpusnzjovqwp_ind_9').style.textDecoration = 'none';document.getElementById('_fs_usieyiccwpusnzjovqwp_ind_9').style.opacity = 0;document.getElementById('_fb_usieyiccwpusnzjovqwp_ind_9').style.opacity = 0;\" style=\"fill:rgb(0,0,0,0)\" /><g transform=\"translate(-1.5,0)\">  <svg x=\"34.762402267499915%\" y=\"40\" height=\"18\" overflow=\"visible\" width=\"30\">    <path d=\"M 0 -9 l 6 18 L 0 25\" fill=\"none\" style=\"stroke:rgb(255, 195, 213);stroke-width:2\" />  </svg></g><rect x=\"19.186201486306615%\" y=\"40\" height=\"20\" width=\"15.5762007811933%\"      onmouseover=\"document.getElementById('_tp_usieyiccwpusnzjovqwp_ind_3').style.textDecoration = 'underline';document.getElementById('_fs_usieyiccwpusnzjovqwp_ind_3').style.opacity = 1;document.getElementById('_fb_usieyiccwpusnzjovqwp_ind_3').style.opacity = 1;\"      onmouseout=\"document.getElementById('_tp_usieyiccwpusnzjovqwp_ind_3').style.textDecoration = 'none';document.getElementById('_fs_usieyiccwpusnzjovqwp_ind_3').style.opacity = 0;document.getElementById('_fb_usieyiccwpusnzjovqwp_ind_3').style.opacity = 0;\" style=\"fill:rgb(0,0,0,0)\" /><g transform=\"translate(-1.5,0)\">  <svg x=\"19.186201486306615%\" y=\"40\" height=\"18\" overflow=\"visible\" width=\"30\">    <path d=\"M 0 -9 l 6 18 L 0 25\" fill=\"none\" style=\"stroke:rgb(255, 195, 213);stroke-width:2\" />  </svg></g><rect x=\"11.710925172652209%\" y=\"40\" height=\"20\" width=\"7.4752763136544065%\"      onmouseover=\"document.getElementById('_tp_usieyiccwpusnzjovqwp_ind_7').style.textDecoration = 'underline';document.getElementById('_fs_usieyiccwpusnzjovqwp_ind_7').style.opacity = 1;document.getElementById('_fb_usieyiccwpusnzjovqwp_ind_7').style.opacity = 1;\"      onmouseout=\"document.getElementById('_tp_usieyiccwpusnzjovqwp_ind_7').style.textDecoration = 'none';document.getElementById('_fs_usieyiccwpusnzjovqwp_ind_7').style.opacity = 0;document.getElementById('_fb_usieyiccwpusnzjovqwp_ind_7').style.opacity = 0;\" style=\"fill:rgb(0,0,0,0)\" /><rect x=\"8.485708713056825%\" y=\"40\" height=\"20\" width=\"3.2252164595953836%\"      onmouseover=\"document.getElementById('_tp_usieyiccwpusnzjovqwp_ind_4').style.textDecoration = 'underline';document.getElementById('_fs_usieyiccwpusnzjovqwp_ind_4').style.opacity = 1;document.getElementById('_fb_usieyiccwpusnzjovqwp_ind_4').style.opacity = 1;\"      onmouseout=\"document.getElementById('_tp_usieyiccwpusnzjovqwp_ind_4').style.textDecoration = 'none';document.getElementById('_fs_usieyiccwpusnzjovqwp_ind_4').style.opacity = 0;document.getElementById('_fb_usieyiccwpusnzjovqwp_ind_4').style.opacity = 0;\" style=\"fill:rgb(0,0,0,0)\" /><rect x=\"59.763899413292194%\" width=\"31.75039020919789%\" y=\"40\" height=\"18\" style=\"fill:rgb(0.0, 138.56128015770727, 250.76166088685738); stroke-width:0; stroke:rgb(0,0,0)\" /><line x1=\"59.763899413292194%\" x2=\"69.24640844641799%\" y1=\"60\" y2=\"60\" id=\"_fb_usieyiccwpusnzjovqwp_ind_1\" style=\"stroke:rgb(0.0, 138.56128015770727, 250.76166088685738);stroke-width:2; opacity: 0\"/><text x=\"64.50515392985508%\" y=\"71\" font-size=\"12px\" fill=\"rgb(0.0, 138.56128015770727, 250.76166088685738)\" id=\"_fs_usieyiccwpusnzjovqwp_ind_1\" style=\"opacity: 0\" dominant-baseline=\"middle\" text-anchor=\"middle\">-0.057</text><svg x=\"59.763899413292194%\" y=\"40\" height=\"20\" width=\"9.482509033125794%\">  <svg x=\"0\" y=\"0\" width=\"100%\" height=\"100%\">    <text x=\"50%\" y=\"9\" font-size=\"12px\" fill=\"rgb(255,255,255)\" dominant-baseline=\"middle\" text-anchor=\"middle\">sympathisch</text>  </svg></svg><line x1=\"69.24640844641799%\" x2=\"77.48481321406638%\" y1=\"60\" y2=\"60\" id=\"_fb_usieyiccwpusnzjovqwp_ind_8\" style=\"stroke:rgb(0.0, 138.56128015770727, 250.76166088685738);stroke-width:2; opacity: 0\"/><text x=\"73.36561083024219%\" y=\"71\" font-size=\"12px\" fill=\"rgb(0.0, 138.56128015770727, 250.76166088685738)\" id=\"_fs_usieyiccwpusnzjovqwp_ind_8\" style=\"opacity: 0\" dominant-baseline=\"middle\" text-anchor=\"middle\">-0.049</text><svg x=\"69.24640844641799%\" y=\"40\" height=\"20\" width=\"8.23840476764839%\">  <svg x=\"0\" y=\"0\" width=\"100%\" height=\"100%\">    <text x=\"50%\" y=\"9\" font-size=\"12px\" fill=\"rgb(255,255,255)\" dominant-baseline=\"middle\" text-anchor=\"middle\">ein</text>  </svg></svg><line x1=\"77.48481321406638%\" x2=\"85.55365406713055%\" y1=\"60\" y2=\"60\" id=\"_fb_usieyiccwpusnzjovqwp_ind_5\" style=\"stroke:rgb(0.0, 138.56128015770727, 250.76166088685738);stroke-width:2; opacity: 0\"/><text x=\"81.51923364059846%\" y=\"71\" font-size=\"12px\" fill=\"rgb(0.0, 138.56128015770727, 250.76166088685738)\" id=\"_fs_usieyiccwpusnzjovqwp_ind_5\" style=\"opacity: 0\" dominant-baseline=\"middle\" text-anchor=\"middle\">-0.048</text><svg x=\"77.48481321406638%\" y=\"40\" height=\"20\" width=\"8.068840853064174%\">  <svg x=\"0\" y=\"0\" width=\"100%\" height=\"100%\">    <text x=\"50%\" y=\"9\" font-size=\"12px\" fill=\"rgb(255,255,255)\" dominant-baseline=\"middle\" text-anchor=\"middle\">das</text>  </svg></svg><line x1=\"85.55365406713055%\" x2=\"88.50541728531468%\" y1=\"60\" y2=\"60\" id=\"_fb_usieyiccwpusnzjovqwp_ind_10\" style=\"stroke:rgb(0.0, 138.56128015770727, 250.76166088685738);stroke-width:2; opacity: 0\"/><text x=\"87.02953567622262%\" y=\"71\" font-size=\"12px\" fill=\"rgb(0.0, 138.56128015770727, 250.76166088685738)\" id=\"_fs_usieyiccwpusnzjovqwp_ind_10\" style=\"opacity: 0\" dominant-baseline=\"middle\" text-anchor=\"middle\">-0.018</text><svg x=\"85.55365406713055%\" y=\"40\" height=\"20\" width=\"2.9517632181841265%\">  <svg x=\"0\" y=\"0\" width=\"100%\" height=\"100%\">    <text x=\"50%\" y=\"9\" font-size=\"12px\" fill=\"rgb(255,255,255)\" dominant-baseline=\"middle\" text-anchor=\"middle\"></text>  </svg></svg><line x1=\"88.50541728531468%\" x2=\"89.99530350404527%\" y1=\"60\" y2=\"60\" id=\"_fb_usieyiccwpusnzjovqwp_ind_6\" style=\"stroke:rgb(0.0, 138.56128015770727, 250.76166088685738);stroke-width:2; opacity: 0\"/><text x=\"89.25036039467997%\" y=\"71\" font-size=\"12px\" fill=\"rgb(0.0, 138.56128015770727, 250.76166088685738)\" id=\"_fs_usieyiccwpusnzjovqwp_ind_6\" style=\"opacity: 0\" dominant-baseline=\"middle\" text-anchor=\"middle\">-0.009</text><svg x=\"88.50541728531468%\" y=\"40\" height=\"20\" width=\"1.4898862187305895%\">  <svg x=\"0\" y=\"0\" width=\"100%\" height=\"100%\">    <text x=\"50%\" y=\"9\" font-size=\"12px\" fill=\"rgb(255,255,255)\" dominant-baseline=\"middle\" text-anchor=\"middle\">sagt</text>  </svg></svg><line x1=\"89.99530350404527%\" x2=\"90.82011895859262%\" y1=\"60\" y2=\"60\" id=\"_fb_usieyiccwpusnzjovqwp_ind_2\" style=\"stroke:rgb(0.0, 138.56128015770727, 250.76166088685738);stroke-width:2; opacity: 0\"/><text x=\"90.40771123131894%\" y=\"71\" font-size=\"12px\" fill=\"rgb(0.0, 138.56128015770727, 250.76166088685738)\" id=\"_fs_usieyiccwpusnzjovqwp_ind_2\" style=\"opacity: 0\" dominant-baseline=\"middle\" text-anchor=\"middle\">-0.005</text><svg x=\"89.99530350404527%\" y=\"40\" height=\"20\" width=\"0.8248154545473483%\">  <svg x=\"0\" y=\"0\" width=\"100%\" height=\"100%\">    <text x=\"50%\" y=\"9\" font-size=\"12px\" fill=\"rgb(255,255,255)\" dominant-baseline=\"middle\" text-anchor=\"middle\">diese</text>  </svg></svg><line x1=\"90.82011895859262%\" x2=\"91.2781018127301%\" y1=\"60\" y2=\"60\" id=\"_fb_usieyiccwpusnzjovqwp_ind_11\" style=\"stroke:rgb(0.0, 138.56128015770727, 250.76166088685738);stroke-width:2; opacity: 0\"/><text x=\"91.04911038566135%\" y=\"71\" font-size=\"12px\" fill=\"rgb(0.0, 138.56128015770727, 250.76166088685738)\" id=\"_fs_usieyiccwpusnzjovqwp_ind_11\" style=\"opacity: 0\" dominant-baseline=\"middle\" text-anchor=\"middle\">-0.003</text><svg x=\"90.82011895859262%\" y=\"40\" height=\"20\" width=\"0.45798285413748374%\">  <svg x=\"0\" y=\"0\" width=\"100%\" height=\"100%\">    <text x=\"50%\" y=\"9\" font-size=\"12px\" fill=\"rgb(255,255,255)\" dominant-baseline=\"middle\" text-anchor=\"middle\"></text>  </svg></svg><line x1=\"91.2781018127301%\" x2=\"91.5142896224901%\" y1=\"60\" y2=\"60\" id=\"_fb_usieyiccwpusnzjovqwp_ind_0\" style=\"stroke:rgb(0.0, 138.56128015770727, 250.76166088685738);stroke-width:2; opacity: 0\"/><text x=\"91.3961957176101%\" y=\"71\" font-size=\"12px\" fill=\"rgb(0.0, 138.56128015770727, 250.76166088685738)\" id=\"_fs_usieyiccwpusnzjovqwp_ind_0\" style=\"opacity: 0\" dominant-baseline=\"middle\" text-anchor=\"middle\">-0.001</text><svg x=\"91.2781018127301%\" y=\"40\" height=\"20\" width=\"0.23618780975999698%\">  <svg x=\"0\" y=\"0\" width=\"100%\" height=\"100%\">    <text x=\"50%\" y=\"9\" font-size=\"12px\" fill=\"rgb(255,255,255)\" dominant-baseline=\"middle\" text-anchor=\"middle\">Sehr</text>  </svg></svg><g transform=\"translate(-8,0)\">  <svg x=\"69.24640844641799%\" y=\"40\" height=\"18\" overflow=\"visible\" width=\"30\">    <path d=\"M 8 -9 l -6 18 L 8 25\" fill=\"none\" style=\"stroke:rgb(0.0, 138.56128015770727, 250.76166088685738);stroke-width:2\" />  </svg></g><g transform=\"translate(-10,0)\">  <svg x=\"69.24640844641799%\" y=\"40\" height=\"18\" overflow=\"visible\" width=\"30\">    <path d=\"M 8 -9 l -6 18 L 8 25\" fill=\"none\" style=\"stroke:rgb(0.0, 138.56128015770727, 250.76166088685738);stroke-width:2\" />  </svg></g><g transform=\"translate(-12,0)\">  <svg x=\"69.24640844641799%\" y=\"40\" height=\"18\" overflow=\"visible\" width=\"30\">    <path d=\"M 8 -9 l -6 18 L 8 25\" fill=\"none\" style=\"stroke:rgb(0.0, 138.56128015770727, 250.76166088685738);stroke-width:2\" />  </svg></g><g transform=\"translate(-14,0)\">  <svg x=\"69.24640844641799%\" y=\"40\" height=\"18\" overflow=\"visible\" width=\"30\">    <path d=\"M 8 -9 l -6 18 L 8 25\" fill=\"none\" style=\"stroke:rgb(0.0, 138.56128015770727, 250.76166088685738);stroke-width:2\" />  </svg></g><g transform=\"translate(2,0)\">  <svg x=\"69.24640844641799%\" y=\"40\" height=\"18\" overflow=\"visible\" width=\"30\">    <path d=\"M 8 -9 l -6 18 L 8 25\" fill=\"none\" style=\"stroke:rgb(0.0, 138.56128015770727, 250.76166088685738);stroke-width:2\" />  </svg></g><g transform=\"translate(0,0)\">  <svg x=\"69.24640844641799%\" y=\"40\" height=\"18\" overflow=\"visible\" width=\"30\">    <path d=\"M 8 -9 l -6 18 L 8 25\" fill=\"none\" style=\"stroke:rgb(0.0, 138.56128015770727, 250.76166088685738);stroke-width:2\" />  </svg></g><g transform=\"translate(-2,0)\">  <svg x=\"69.24640844641799%\" y=\"40\" height=\"18\" overflow=\"visible\" width=\"30\">    <path d=\"M 8 -9 l -6 18 L 8 25\" fill=\"none\" style=\"stroke:rgb(0.0, 138.56128015770727, 250.76166088685738);stroke-width:2\" />  </svg></g><g transform=\"translate(-4,0)\">  <svg x=\"69.24640844641799%\" y=\"40\" height=\"18\" overflow=\"visible\" width=\"30\">    <path d=\"M 8 -9 l -6 18 L 8 25\" fill=\"none\" style=\"stroke:rgb(0.0, 138.56128015770727, 250.76166088685738);stroke-width:2\" />  </svg></g><g transform=\"translate(-8,0)\">  <svg x=\"77.48481321406638%\" y=\"40\" height=\"18\" overflow=\"visible\" width=\"30\">    <path d=\"M 8 -9 l -6 18 L 8 25\" fill=\"none\" style=\"stroke:rgb(0.0, 138.56128015770727, 250.76166088685738);stroke-width:2\" />  </svg></g><g transform=\"translate(-10,0)\">  <svg x=\"77.48481321406638%\" y=\"40\" height=\"18\" overflow=\"visible\" width=\"30\">    <path d=\"M 8 -9 l -6 18 L 8 25\" fill=\"none\" style=\"stroke:rgb(0.0, 138.56128015770727, 250.76166088685738);stroke-width:2\" />  </svg></g><g transform=\"translate(-12,0)\">  <svg x=\"77.48481321406638%\" y=\"40\" height=\"18\" overflow=\"visible\" width=\"30\">    <path d=\"M 8 -9 l -6 18 L 8 25\" fill=\"none\" style=\"stroke:rgb(0.0, 138.56128015770727, 250.76166088685738);stroke-width:2\" />  </svg></g><g transform=\"translate(-14,0)\">  <svg x=\"77.48481321406638%\" y=\"40\" height=\"18\" overflow=\"visible\" width=\"30\">    <path d=\"M 8 -9 l -6 18 L 8 25\" fill=\"none\" style=\"stroke:rgb(0.0, 138.56128015770727, 250.76166088685738);stroke-width:2\" />  </svg></g><g transform=\"translate(2,0)\">  <svg x=\"77.48481321406638%\" y=\"40\" height=\"18\" overflow=\"visible\" width=\"30\">    <path d=\"M 8 -9 l -6 18 L 8 25\" fill=\"none\" style=\"stroke:rgb(0.0, 138.56128015770727, 250.76166088685738);stroke-width:2\" />  </svg></g><g transform=\"translate(0,0)\">  <svg x=\"77.48481321406638%\" y=\"40\" height=\"18\" overflow=\"visible\" width=\"30\">    <path d=\"M 8 -9 l -6 18 L 8 25\" fill=\"none\" style=\"stroke:rgb(0.0, 138.56128015770727, 250.76166088685738);stroke-width:2\" />  </svg></g><g transform=\"translate(-2,0)\">  <svg x=\"77.48481321406638%\" y=\"40\" height=\"18\" overflow=\"visible\" width=\"30\">    <path d=\"M 8 -9 l -6 18 L 8 25\" fill=\"none\" style=\"stroke:rgb(0.0, 138.56128015770727, 250.76166088685738);stroke-width:2\" />  </svg></g><g transform=\"translate(-4,0)\">  <svg x=\"77.48481321406638%\" y=\"40\" height=\"18\" overflow=\"visible\" width=\"30\">    <path d=\"M 8 -9 l -6 18 L 8 25\" fill=\"none\" style=\"stroke:rgb(0.0, 138.56128015770727, 250.76166088685738);stroke-width:2\" />  </svg></g><g transform=\"translate(-8,0)\">  <svg x=\"85.55365406713055%\" y=\"40\" height=\"18\" overflow=\"visible\" width=\"30\">    <path d=\"M 8 -9 l -6 18 L 8 25\" fill=\"none\" style=\"stroke:rgb(0.0, 138.56128015770727, 250.76166088685738);stroke-width:2\" />  </svg></g><g transform=\"translate(-10,0)\">  <svg x=\"85.55365406713055%\" y=\"40\" height=\"18\" overflow=\"visible\" width=\"30\">    <path d=\"M 8 -9 l -6 18 L 8 25\" fill=\"none\" style=\"stroke:rgb(0.0, 138.56128015770727, 250.76166088685738);stroke-width:2\" />  </svg></g><g transform=\"translate(-12,0)\">  <svg x=\"85.55365406713055%\" y=\"40\" height=\"18\" overflow=\"visible\" width=\"30\">    <path d=\"M 8 -9 l -6 18 L 8 25\" fill=\"none\" style=\"stroke:rgb(0.0, 138.56128015770727, 250.76166088685738);stroke-width:2\" />  </svg></g><g transform=\"translate(-14,0)\">  <svg x=\"85.55365406713055%\" y=\"40\" height=\"18\" overflow=\"visible\" width=\"30\">    <path d=\"M 8 -9 l -6 18 L 8 25\" fill=\"none\" style=\"stroke:rgb(0.0, 138.56128015770727, 250.76166088685738);stroke-width:2\" />  </svg></g><g transform=\"translate(2,0)\">  <svg x=\"85.55365406713055%\" y=\"40\" height=\"18\" overflow=\"visible\" width=\"30\">    <path d=\"M 8 -9 l -6 18 L 8 25\" fill=\"none\" style=\"stroke:rgb(0.0, 138.56128015770727, 250.76166088685738);stroke-width:2\" />  </svg></g><g transform=\"translate(0,0)\">  <svg x=\"85.55365406713055%\" y=\"40\" height=\"18\" overflow=\"visible\" width=\"30\">    <path d=\"M 8 -9 l -6 18 L 8 25\" fill=\"none\" style=\"stroke:rgb(0.0, 138.56128015770727, 250.76166088685738);stroke-width:2\" />  </svg></g><g transform=\"translate(-2,0)\">  <svg x=\"85.55365406713055%\" y=\"40\" height=\"18\" overflow=\"visible\" width=\"30\">    <path d=\"M 8 -9 l -6 18 L 8 25\" fill=\"none\" style=\"stroke:rgb(0.0, 138.56128015770727, 250.76166088685738);stroke-width:2\" />  </svg></g><g transform=\"translate(-4,0)\">  <svg x=\"85.55365406713055%\" y=\"40\" height=\"18\" overflow=\"visible\" width=\"30\">    <path d=\"M 8 -9 l -6 18 L 8 25\" fill=\"none\" style=\"stroke:rgb(0.0, 138.56128015770727, 250.76166088685738);stroke-width:2\" />  </svg></g><g transform=\"translate(-8,0)\">  <svg x=\"88.50541728531468%\" y=\"40\" height=\"18\" overflow=\"visible\" width=\"30\">    <path d=\"M 8 -9 l -6 18 L 8 25\" fill=\"none\" style=\"stroke:rgb(0.0, 138.56128015770727, 250.76166088685738);stroke-width:2\" />  </svg></g><g transform=\"translate(-10,0)\">  <svg x=\"88.50541728531468%\" y=\"40\" height=\"18\" overflow=\"visible\" width=\"30\">    <path d=\"M 8 -9 l -6 18 L 8 25\" fill=\"none\" style=\"stroke:rgb(0.0, 138.56128015770727, 250.76166088685738);stroke-width:2\" />  </svg></g><g transform=\"translate(-12,0)\">  <svg x=\"88.50541728531468%\" y=\"40\" height=\"18\" overflow=\"visible\" width=\"30\">    <path d=\"M 8 -9 l -6 18 L 8 25\" fill=\"none\" style=\"stroke:rgb(0.0, 138.56128015770727, 250.76166088685738);stroke-width:2\" />  </svg></g><g transform=\"translate(-14,0)\">  <svg x=\"88.50541728531468%\" y=\"40\" height=\"18\" overflow=\"visible\" width=\"30\">    <path d=\"M 8 -9 l -6 18 L 8 25\" fill=\"none\" style=\"stroke:rgb(0.0, 138.56128015770727, 250.76166088685738);stroke-width:2\" />  </svg></g><g transform=\"translate(2,0)\">  <svg x=\"88.50541728531468%\" y=\"40\" height=\"18\" overflow=\"visible\" width=\"30\">    <path d=\"M 8 -9 l -6 18 L 8 25\" fill=\"none\" style=\"stroke:rgb(0.0, 138.56128015770727, 250.76166088685738);stroke-width:2\" />  </svg></g><g transform=\"translate(0,0)\">  <svg x=\"88.50541728531468%\" y=\"40\" height=\"18\" overflow=\"visible\" width=\"30\">    <path d=\"M 8 -9 l -6 18 L 8 25\" fill=\"none\" style=\"stroke:rgb(0.0, 138.56128015770727, 250.76166088685738);stroke-width:2\" />  </svg></g><g transform=\"translate(-2,0)\">  <svg x=\"88.50541728531468%\" y=\"40\" height=\"18\" overflow=\"visible\" width=\"30\">    <path d=\"M 8 -9 l -6 18 L 8 25\" fill=\"none\" style=\"stroke:rgb(0.0, 138.56128015770727, 250.76166088685738);stroke-width:2\" />  </svg></g><g transform=\"translate(-4,0)\">  <svg x=\"88.50541728531468%\" y=\"40\" height=\"18\" overflow=\"visible\" width=\"30\">    <path d=\"M 8 -9 l -6 18 L 8 25\" fill=\"none\" style=\"stroke:rgb(0.0, 138.56128015770727, 250.76166088685738);stroke-width:2\" />  </svg></g><g transform=\"translate(-8,0)\">  <svg x=\"89.99530350404527%\" y=\"40\" height=\"18\" overflow=\"visible\" width=\"30\">    <path d=\"M 8 -9 l -6 18 L 8 25\" fill=\"none\" style=\"stroke:rgb(0.0, 138.56128015770727, 250.76166088685738);stroke-width:2\" />  </svg></g><g transform=\"translate(-10,0)\">  <svg x=\"89.99530350404527%\" y=\"40\" height=\"18\" overflow=\"visible\" width=\"30\">    <path d=\"M 8 -9 l -6 18 L 8 25\" fill=\"none\" style=\"stroke:rgb(0.0, 138.56128015770727, 250.76166088685738);stroke-width:2\" />  </svg></g><g transform=\"translate(-12,0)\">  <svg x=\"89.99530350404527%\" y=\"40\" height=\"18\" overflow=\"visible\" width=\"30\">    <path d=\"M 8 -9 l -6 18 L 8 25\" fill=\"none\" style=\"stroke:rgb(0.0, 138.56128015770727, 250.76166088685738);stroke-width:2\" />  </svg></g><g transform=\"translate(-14,0)\">  <svg x=\"89.99530350404527%\" y=\"40\" height=\"18\" overflow=\"visible\" width=\"30\">    <path d=\"M 8 -9 l -6 18 L 8 25\" fill=\"none\" style=\"stroke:rgb(0.0, 138.56128015770727, 250.76166088685738);stroke-width:2\" />  </svg></g><g transform=\"translate(2,0)\">  <svg x=\"89.99530350404527%\" y=\"40\" height=\"18\" overflow=\"visible\" width=\"30\">    <path d=\"M 8 -9 l -6 18 L 8 25\" fill=\"none\" style=\"stroke:rgb(0.0, 138.56128015770727, 250.76166088685738);stroke-width:2\" />  </svg></g><g transform=\"translate(0,0)\">  <svg x=\"89.99530350404527%\" y=\"40\" height=\"18\" overflow=\"visible\" width=\"30\">    <path d=\"M 8 -9 l -6 18 L 8 25\" fill=\"none\" style=\"stroke:rgb(0.0, 138.56128015770727, 250.76166088685738);stroke-width:2\" />  </svg></g><g transform=\"translate(-2,0)\">  <svg x=\"89.99530350404527%\" y=\"40\" height=\"18\" overflow=\"visible\" width=\"30\">    <path d=\"M 8 -9 l -6 18 L 8 25\" fill=\"none\" style=\"stroke:rgb(0.0, 138.56128015770727, 250.76166088685738);stroke-width:2\" />  </svg></g><g transform=\"translate(-4,0)\">  <svg x=\"89.99530350404527%\" y=\"40\" height=\"18\" overflow=\"visible\" width=\"30\">    <path d=\"M 8 -9 l -6 18 L 8 25\" fill=\"none\" style=\"stroke:rgb(0.0, 138.56128015770727, 250.76166088685738);stroke-width:2\" />  </svg></g><g transform=\"translate(-8,0)\">  <svg x=\"90.82011895859262%\" y=\"40\" height=\"18\" overflow=\"visible\" width=\"30\">    <path d=\"M 8 -9 l -6 18 L 8 25\" fill=\"none\" style=\"stroke:rgb(0.0, 138.56128015770727, 250.76166088685738);stroke-width:2\" />  </svg></g><g transform=\"translate(-10,0)\">  <svg x=\"90.82011895859262%\" y=\"40\" height=\"18\" overflow=\"visible\" width=\"30\">    <path d=\"M 8 -9 l -6 18 L 8 25\" fill=\"none\" style=\"stroke:rgb(0.0, 138.56128015770727, 250.76166088685738);stroke-width:2\" />  </svg></g><g transform=\"translate(-12,0)\">  <svg x=\"90.82011895859262%\" y=\"40\" height=\"18\" overflow=\"visible\" width=\"30\">    <path d=\"M 8 -9 l -6 18 L 8 25\" fill=\"none\" style=\"stroke:rgb(0.0, 138.56128015770727, 250.76166088685738);stroke-width:2\" />  </svg></g><g transform=\"translate(-14,0)\">  <svg x=\"90.82011895859262%\" y=\"40\" height=\"18\" overflow=\"visible\" width=\"30\">    <path d=\"M 8 -9 l -6 18 L 8 25\" fill=\"none\" style=\"stroke:rgb(0.0, 138.56128015770727, 250.76166088685738);stroke-width:2\" />  </svg></g><g transform=\"translate(2,0)\">  <svg x=\"90.82011895859262%\" y=\"40\" height=\"18\" overflow=\"visible\" width=\"30\">    <path d=\"M 8 -9 l -6 18 L 8 25\" fill=\"none\" style=\"stroke:rgb(0.0, 138.56128015770727, 250.76166088685738);stroke-width:2\" />  </svg></g><g transform=\"translate(0,0)\">  <svg x=\"90.82011895859262%\" y=\"40\" height=\"18\" overflow=\"visible\" width=\"30\">    <path d=\"M 8 -9 l -6 18 L 8 25\" fill=\"none\" style=\"stroke:rgb(0.0, 138.56128015770727, 250.76166088685738);stroke-width:2\" />  </svg></g><g transform=\"translate(-2,0)\">  <svg x=\"90.82011895859262%\" y=\"40\" height=\"18\" overflow=\"visible\" width=\"30\">    <path d=\"M 8 -9 l -6 18 L 8 25\" fill=\"none\" style=\"stroke:rgb(0.0, 138.56128015770727, 250.76166088685738);stroke-width:2\" />  </svg></g><g transform=\"translate(-4,0)\">  <svg x=\"90.82011895859262%\" y=\"40\" height=\"18\" overflow=\"visible\" width=\"30\">    <path d=\"M 8 -9 l -6 18 L 8 25\" fill=\"none\" style=\"stroke:rgb(0.0, 138.56128015770727, 250.76166088685738);stroke-width:2\" />  </svg></g><g transform=\"translate(-8,0)\">  <svg x=\"91.2781018127301%\" y=\"40\" height=\"18\" overflow=\"visible\" width=\"30\">    <path d=\"M 8 -9 l -6 18 L 8 25\" fill=\"none\" style=\"stroke:rgb(0.0, 138.56128015770727, 250.76166088685738);stroke-width:2\" />  </svg></g><g transform=\"translate(-10,0)\">  <svg x=\"91.2781018127301%\" y=\"40\" height=\"18\" overflow=\"visible\" width=\"30\">    <path d=\"M 8 -9 l -6 18 L 8 25\" fill=\"none\" style=\"stroke:rgb(0.0, 138.56128015770727, 250.76166088685738);stroke-width:2\" />  </svg></g><g transform=\"translate(-12,0)\">  <svg x=\"91.2781018127301%\" y=\"40\" height=\"18\" overflow=\"visible\" width=\"30\">    <path d=\"M 8 -9 l -6 18 L 8 25\" fill=\"none\" style=\"stroke:rgb(0.0, 138.56128015770727, 250.76166088685738);stroke-width:2\" />  </svg></g><g transform=\"translate(-14,0)\">  <svg x=\"91.2781018127301%\" y=\"40\" height=\"18\" overflow=\"visible\" width=\"30\">    <path d=\"M 8 -9 l -6 18 L 8 25\" fill=\"none\" style=\"stroke:rgb(0.0, 138.56128015770727, 250.76166088685738);stroke-width:2\" />  </svg></g><g transform=\"translate(2,0)\">  <svg x=\"91.2781018127301%\" y=\"40\" height=\"18\" overflow=\"visible\" width=\"30\">    <path d=\"M 8 -9 l -6 18 L 8 25\" fill=\"none\" style=\"stroke:rgb(0.0, 138.56128015770727, 250.76166088685738);stroke-width:2\" />  </svg></g><g transform=\"translate(0,0)\">  <svg x=\"91.2781018127301%\" y=\"40\" height=\"18\" overflow=\"visible\" width=\"30\">    <path d=\"M 8 -9 l -6 18 L 8 25\" fill=\"none\" style=\"stroke:rgb(0.0, 138.56128015770727, 250.76166088685738);stroke-width:2\" />  </svg></g><g transform=\"translate(-2,0)\">  <svg x=\"91.2781018127301%\" y=\"40\" height=\"18\" overflow=\"visible\" width=\"30\">    <path d=\"M 8 -9 l -6 18 L 8 25\" fill=\"none\" style=\"stroke:rgb(0.0, 138.56128015770727, 250.76166088685738);stroke-width:2\" />  </svg></g><g transform=\"translate(-4,0)\">  <svg x=\"91.2781018127301%\" y=\"40\" height=\"18\" overflow=\"visible\" width=\"30\">    <path d=\"M 8 -9 l -6 18 L 8 25\" fill=\"none\" style=\"stroke:rgb(0.0, 138.56128015770727, 250.76166088685738);stroke-width:2\" />  </svg></g><rect transform=\"translate(0,0)\" x=\"59.763899413292194%\" y=\"40\" width=\"8\" height=\"18\" style=\"fill:rgb(0.0, 138.56128015770727, 250.76166088685738)\"/><g transform=\"translate(-6.0,0)\">  <svg x=\"91.5142896224901%\" y=\"40\" height=\"18\" overflow=\"visible\" width=\"30\">    <path d=\"M 8 -9 l -6 18 L 8 25 L 20 25 L 20 -9\" fill=\"#ffffff\" style=\"stroke:rgb(255,255,255);stroke-width:2\" />  </svg></g><g transform=\"translate(-6.0,0)\">  <svg x=\"69.24640844641799%\" y=\"40\" height=\"18\" overflow=\"visible\" width=\"30\">    <path d=\"M 8 -9 l -6 18 L 8 25\" fill=\"none\" style=\"stroke:rgb(208, 230, 250);stroke-width:2\" />  </svg></g><rect x=\"59.763899413292194%\" y=\"40\" height=\"20\" width=\"9.482509033125794%\"      onmouseover=\"document.getElementById('_tp_usieyiccwpusnzjovqwp_ind_1').style.textDecoration = 'underline';document.getElementById('_fs_usieyiccwpusnzjovqwp_ind_1').style.opacity = 1;document.getElementById('_fb_usieyiccwpusnzjovqwp_ind_1').style.opacity = 1;\"      onmouseout=\"document.getElementById('_tp_usieyiccwpusnzjovqwp_ind_1').style.textDecoration = 'none';document.getElementById('_fs_usieyiccwpusnzjovqwp_ind_1').style.opacity = 0;document.getElementById('_fb_usieyiccwpusnzjovqwp_ind_1').style.opacity = 0;\" style=\"fill:rgb(0,0,0,0)\" /><g transform=\"translate(-6.0,0)\">  <svg x=\"77.48481321406638%\" y=\"40\" height=\"18\" overflow=\"visible\" width=\"30\">    <path d=\"M 8 -9 l -6 18 L 8 25\" fill=\"none\" style=\"stroke:rgb(208, 230, 250);stroke-width:2\" />  </svg></g><rect x=\"69.24640844641799%\" y=\"40\" height=\"20\" width=\"8.23840476764839%\"      onmouseover=\"document.getElementById('_tp_usieyiccwpusnzjovqwp_ind_8').style.textDecoration = 'underline';document.getElementById('_fs_usieyiccwpusnzjovqwp_ind_8').style.opacity = 1;document.getElementById('_fb_usieyiccwpusnzjovqwp_ind_8').style.opacity = 1;\"      onmouseout=\"document.getElementById('_tp_usieyiccwpusnzjovqwp_ind_8').style.textDecoration = 'none';document.getElementById('_fs_usieyiccwpusnzjovqwp_ind_8').style.opacity = 0;document.getElementById('_fb_usieyiccwpusnzjovqwp_ind_8').style.opacity = 0;\" style=\"fill:rgb(0,0,0,0)\" /><g transform=\"translate(-6.0,0)\">  <svg x=\"85.55365406713055%\" y=\"40\" height=\"18\" overflow=\"visible\" width=\"30\">    <path d=\"M 8 -9 l -6 18 L 8 25\" fill=\"none\" style=\"stroke:rgb(208, 230, 250);stroke-width:2\" />  </svg></g><rect x=\"77.48481321406638%\" y=\"40\" height=\"20\" width=\"8.068840853064174%\"      onmouseover=\"document.getElementById('_tp_usieyiccwpusnzjovqwp_ind_5').style.textDecoration = 'underline';document.getElementById('_fs_usieyiccwpusnzjovqwp_ind_5').style.opacity = 1;document.getElementById('_fb_usieyiccwpusnzjovqwp_ind_5').style.opacity = 1;\"      onmouseout=\"document.getElementById('_tp_usieyiccwpusnzjovqwp_ind_5').style.textDecoration = 'none';document.getElementById('_fs_usieyiccwpusnzjovqwp_ind_5').style.opacity = 0;document.getElementById('_fb_usieyiccwpusnzjovqwp_ind_5').style.opacity = 0;\" style=\"fill:rgb(0,0,0,0)\" /><g transform=\"translate(-6.0,0)\">  <svg x=\"88.50541728531468%\" y=\"40\" height=\"18\" overflow=\"visible\" width=\"30\">    <path d=\"M 8 -9 l -6 18 L 8 25\" fill=\"none\" style=\"stroke:rgb(208, 230, 250);stroke-width:2\" />  </svg></g><rect x=\"85.55365406713055%\" y=\"40\" height=\"20\" width=\"2.9517632181841265%\"      onmouseover=\"document.getElementById('_tp_usieyiccwpusnzjovqwp_ind_10').style.textDecoration = 'underline';document.getElementById('_fs_usieyiccwpusnzjovqwp_ind_10').style.opacity = 1;document.getElementById('_fb_usieyiccwpusnzjovqwp_ind_10').style.opacity = 1;\"      onmouseout=\"document.getElementById('_tp_usieyiccwpusnzjovqwp_ind_10').style.textDecoration = 'none';document.getElementById('_fs_usieyiccwpusnzjovqwp_ind_10').style.opacity = 0;document.getElementById('_fb_usieyiccwpusnzjovqwp_ind_10').style.opacity = 0;\" style=\"fill:rgb(0,0,0,0)\" /><g transform=\"translate(-6.0,0)\">  <svg x=\"89.99530350404527%\" y=\"40\" height=\"18\" overflow=\"visible\" width=\"30\">    <path d=\"M 8 -9 l -6 18 L 8 25\" fill=\"none\" style=\"stroke:rgb(208, 230, 250);stroke-width:2\" />  </svg></g><rect x=\"88.50541728531468%\" y=\"40\" height=\"20\" width=\"1.4898862187305895%\"      onmouseover=\"document.getElementById('_tp_usieyiccwpusnzjovqwp_ind_6').style.textDecoration = 'underline';document.getElementById('_fs_usieyiccwpusnzjovqwp_ind_6').style.opacity = 1;document.getElementById('_fb_usieyiccwpusnzjovqwp_ind_6').style.opacity = 1;\"      onmouseout=\"document.getElementById('_tp_usieyiccwpusnzjovqwp_ind_6').style.textDecoration = 'none';document.getElementById('_fs_usieyiccwpusnzjovqwp_ind_6').style.opacity = 0;document.getElementById('_fb_usieyiccwpusnzjovqwp_ind_6').style.opacity = 0;\" style=\"fill:rgb(0,0,0,0)\" /><g transform=\"translate(-6.0,0)\">  <svg x=\"90.82011895859262%\" y=\"40\" height=\"18\" overflow=\"visible\" width=\"30\">    <path d=\"M 8 -9 l -6 18 L 8 25\" fill=\"none\" style=\"stroke:rgb(208, 230, 250);stroke-width:2\" />  </svg></g><rect x=\"89.99530350404527%\" y=\"40\" height=\"20\" width=\"0.8248154545473483%\"      onmouseover=\"document.getElementById('_tp_usieyiccwpusnzjovqwp_ind_2').style.textDecoration = 'underline';document.getElementById('_fs_usieyiccwpusnzjovqwp_ind_2').style.opacity = 1;document.getElementById('_fb_usieyiccwpusnzjovqwp_ind_2').style.opacity = 1;\"      onmouseout=\"document.getElementById('_tp_usieyiccwpusnzjovqwp_ind_2').style.textDecoration = 'none';document.getElementById('_fs_usieyiccwpusnzjovqwp_ind_2').style.opacity = 0;document.getElementById('_fb_usieyiccwpusnzjovqwp_ind_2').style.opacity = 0;\" style=\"fill:rgb(0,0,0,0)\" /><g transform=\"translate(-6.0,0)\">  <svg x=\"91.2781018127301%\" y=\"40\" height=\"18\" overflow=\"visible\" width=\"30\">    <path d=\"M 8 -9 l -6 18 L 8 25\" fill=\"none\" style=\"stroke:rgb(208, 230, 250);stroke-width:2\" />  </svg></g><rect x=\"90.82011895859262%\" y=\"40\" height=\"20\" width=\"0.45798285413748374%\"      onmouseover=\"document.getElementById('_tp_usieyiccwpusnzjovqwp_ind_11').style.textDecoration = 'underline';document.getElementById('_fs_usieyiccwpusnzjovqwp_ind_11').style.opacity = 1;document.getElementById('_fb_usieyiccwpusnzjovqwp_ind_11').style.opacity = 1;\"      onmouseout=\"document.getElementById('_tp_usieyiccwpusnzjovqwp_ind_11').style.textDecoration = 'none';document.getElementById('_fs_usieyiccwpusnzjovqwp_ind_11').style.opacity = 0;document.getElementById('_fb_usieyiccwpusnzjovqwp_ind_11').style.opacity = 0;\" style=\"fill:rgb(0,0,0,0)\" /><rect x=\"91.2781018127301%\" y=\"40\" height=\"20\" width=\"0.23618780975999698%\"      onmouseover=\"document.getElementById('_tp_usieyiccwpusnzjovqwp_ind_0').style.textDecoration = 'underline';document.getElementById('_fs_usieyiccwpusnzjovqwp_ind_0').style.opacity = 1;document.getElementById('_fb_usieyiccwpusnzjovqwp_ind_0').style.opacity = 1;\"      onmouseout=\"document.getElementById('_tp_usieyiccwpusnzjovqwp_ind_0').style.textDecoration = 'none';document.getElementById('_fs_usieyiccwpusnzjovqwp_ind_0').style.opacity = 0;document.getElementById('_fb_usieyiccwpusnzjovqwp_ind_0').style.opacity = 0;\" style=\"fill:rgb(0,0,0,0)\" /></svg><div align='center'><div style=\"color: rgb(120,120,120); font-size: 12px; margin-top: -15px;\">inputs</div><div style='display: inline; text-align: center;'\n",
       "    ><div style='display: none; color: #999; padding-top: 0px; font-size: 12px;'>-0.001</div\n",
       "        ><div id='_tp_usieyiccwpusnzjovqwp_ind_0'\n",
       "            style='display: inline; background: rgba(30.0, 136.0, 229.0, 0.006773618538324436); border-radius: 3px; padding: 0px'\n",
       "            onclick=\"\n",
       "            if (this.previousSibling.style.display == 'none') {\n",
       "                this.previousSibling.style.display = 'block';\n",
       "                this.parentNode.style.display = 'inline-block';\n",
       "            } else {\n",
       "                this.previousSibling.style.display = 'none';\n",
       "                this.parentNode.style.display = 'inline';\n",
       "            }\"\n",
       "            onmouseover=\"document.getElementById('_fb_usieyiccwpusnzjovqwp_ind_0').style.opacity = 1; document.getElementById('_fs_usieyiccwpusnzjovqwp_ind_0').style.opacity = 1;\"\n",
       "            onmouseout=\"document.getElementById('_fb_usieyiccwpusnzjovqwp_ind_0').style.opacity = 0; document.getElementById('_fs_usieyiccwpusnzjovqwp_ind_0').style.opacity = 0;\"\n",
       "        >Sehr</div></div><div style='display: inline; text-align: center;'\n",
       "    ><div style='display: none; color: #999; padding-top: 0px; font-size: 12px;'>-0.057</div\n",
       "        ><div id='_tp_usieyiccwpusnzjovqwp_ind_1'\n",
       "            style='display: inline; background: rgba(30.0, 136.0, 229.0, 0.3851455733808674); border-radius: 3px; padding: 0px'\n",
       "            onclick=\"\n",
       "            if (this.previousSibling.style.display == 'none') {\n",
       "                this.previousSibling.style.display = 'block';\n",
       "                this.parentNode.style.display = 'inline-block';\n",
       "            } else {\n",
       "                this.previousSibling.style.display = 'none';\n",
       "                this.parentNode.style.display = 'inline';\n",
       "            }\"\n",
       "            onmouseover=\"document.getElementById('_fb_usieyiccwpusnzjovqwp_ind_1').style.opacity = 1; document.getElementById('_fs_usieyiccwpusnzjovqwp_ind_1').style.opacity = 1;\"\n",
       "            onmouseout=\"document.getElementById('_fb_usieyiccwpusnzjovqwp_ind_1').style.opacity = 0; document.getElementById('_fs_usieyiccwpusnzjovqwp_ind_1').style.opacity = 0;\"\n",
       "        > sympathisch</div></div><div style='display: inline; text-align: center;'\n",
       "    ><div style='display: none; color: #999; padding-top: 0px; font-size: 12px;'>-0.005</div\n",
       "        ><div id='_tp_usieyiccwpusnzjovqwp_ind_2'\n",
       "            style='display: inline; background: rgba(30.0, 136.0, 229.0, 0.03042186571598325); border-radius: 3px; padding: 0px'\n",
       "            onclick=\"\n",
       "            if (this.previousSibling.style.display == 'none') {\n",
       "                this.previousSibling.style.display = 'block';\n",
       "                this.parentNode.style.display = 'inline-block';\n",
       "            } else {\n",
       "                this.previousSibling.style.display = 'none';\n",
       "                this.parentNode.style.display = 'inline';\n",
       "            }\"\n",
       "            onmouseover=\"document.getElementById('_fb_usieyiccwpusnzjovqwp_ind_2').style.opacity = 1; document.getElementById('_fs_usieyiccwpusnzjovqwp_ind_2').style.opacity = 1;\"\n",
       "            onmouseout=\"document.getElementById('_fb_usieyiccwpusnzjovqwp_ind_2').style.opacity = 0; document.getElementById('_fs_usieyiccwpusnzjovqwp_ind_2').style.opacity = 0;\"\n",
       "        > diese</div></div><div style='display: inline; text-align: center;'\n",
       "    ><div style='display: none; color: #999; padding-top: 0px; font-size: 12px;'>0.094</div\n",
       "        ><div id='_tp_usieyiccwpusnzjovqwp_ind_3'\n",
       "            style='display: inline; background: rgba(255.0, 13.0, 87.0, 0.6295107942166767); border-radius: 3px; padding: 0px'\n",
       "            onclick=\"\n",
       "            if (this.previousSibling.style.display == 'none') {\n",
       "                this.previousSibling.style.display = 'block';\n",
       "                this.parentNode.style.display = 'inline-block';\n",
       "            } else {\n",
       "                this.previousSibling.style.display = 'none';\n",
       "                this.parentNode.style.display = 'inline';\n",
       "            }\"\n",
       "            onmouseover=\"document.getElementById('_fb_usieyiccwpusnzjovqwp_ind_3').style.opacity = 1; document.getElementById('_fs_usieyiccwpusnzjovqwp_ind_3').style.opacity = 1;\"\n",
       "            onmouseout=\"document.getElementById('_fb_usieyiccwpusnzjovqwp_ind_3').style.opacity = 0; document.getElementById('_fs_usieyiccwpusnzjovqwp_ind_3').style.opacity = 0;\"\n",
       "        > Frau</div></div><div style='display: inline; text-align: center;'\n",
       "    ><div style='display: none; color: #999; padding-top: 0px; font-size: 12px;'>0.019</div\n",
       "        ><div id='_tp_usieyiccwpusnzjovqwp_ind_4'\n",
       "            style='display: inline; background: rgba(255.0, 13.0, 87.0, 0.12501485442661908); border-radius: 3px; padding: 0px'\n",
       "            onclick=\"\n",
       "            if (this.previousSibling.style.display == 'none') {\n",
       "                this.previousSibling.style.display = 'block';\n",
       "                this.parentNode.style.display = 'inline-block';\n",
       "            } else {\n",
       "                this.previousSibling.style.display = 'none';\n",
       "                this.parentNode.style.display = 'inline';\n",
       "            }\"\n",
       "            onmouseover=\"document.getElementById('_fb_usieyiccwpusnzjovqwp_ind_4').style.opacity = 1; document.getElementById('_fs_usieyiccwpusnzjovqwp_ind_4').style.opacity = 1;\"\n",
       "            onmouseout=\"document.getElementById('_fb_usieyiccwpusnzjovqwp_ind_4').style.opacity = 0; document.getElementById('_fs_usieyiccwpusnzjovqwp_ind_4').style.opacity = 0;\"\n",
       "        > und</div></div><div style='display: inline; text-align: center;'\n",
       "    ><div style='display: none; color: #999; padding-top: 0px; font-size: 12px;'>-0.048</div\n",
       "        ><div id='_tp_usieyiccwpusnzjovqwp_ind_5'\n",
       "            style='display: inline; background: rgba(30.0, 136.0, 229.0, 0.3220835809071103); border-radius: 3px; padding: 0px'\n",
       "            onclick=\"\n",
       "            if (this.previousSibling.style.display == 'none') {\n",
       "                this.previousSibling.style.display = 'block';\n",
       "                this.parentNode.style.display = 'inline-block';\n",
       "            } else {\n",
       "                this.previousSibling.style.display = 'none';\n",
       "                this.parentNode.style.display = 'inline';\n",
       "            }\"\n",
       "            onmouseover=\"document.getElementById('_fb_usieyiccwpusnzjovqwp_ind_5').style.opacity = 1; document.getElementById('_fs_usieyiccwpusnzjovqwp_ind_5').style.opacity = 1;\"\n",
       "            onmouseout=\"document.getElementById('_fb_usieyiccwpusnzjovqwp_ind_5').style.opacity = 0; document.getElementById('_fs_usieyiccwpusnzjovqwp_ind_5').style.opacity = 0;\"\n",
       "        > das</div></div><div style='display: inline; text-align: center;'\n",
       "    ><div style='display: none; color: #999; padding-top: 0px; font-size: 12px;'>-0.009</div\n",
       "        ><div id='_tp_usieyiccwpusnzjovqwp_ind_6'\n",
       "            style='display: inline; background: rgba(30.0, 136.0, 229.0, 0.05407011289364222); border-radius: 3px; padding: 0px'\n",
       "            onclick=\"\n",
       "            if (this.previousSibling.style.display == 'none') {\n",
       "                this.previousSibling.style.display = 'block';\n",
       "                this.parentNode.style.display = 'inline-block';\n",
       "            } else {\n",
       "                this.previousSibling.style.display = 'none';\n",
       "                this.parentNode.style.display = 'inline';\n",
       "            }\"\n",
       "            onmouseover=\"document.getElementById('_fb_usieyiccwpusnzjovqwp_ind_6').style.opacity = 1; document.getElementById('_fs_usieyiccwpusnzjovqwp_ind_6').style.opacity = 1;\"\n",
       "            onmouseout=\"document.getElementById('_fb_usieyiccwpusnzjovqwp_ind_6').style.opacity = 0; document.getElementById('_fs_usieyiccwpusnzjovqwp_ind_6').style.opacity = 0;\"\n",
       "        > sagt</div></div><div style='display: inline; text-align: center;'\n",
       "    ><div style='display: none; color: #999; padding-top: 0px; font-size: 12px;'>0.045</div\n",
       "        ><div id='_tp_usieyiccwpusnzjovqwp_ind_7'\n",
       "            style='display: inline; background: rgba(255.0, 13.0, 87.0, 0.29843533372945136); border-radius: 3px; padding: 0px'\n",
       "            onclick=\"\n",
       "            if (this.previousSibling.style.display == 'none') {\n",
       "                this.previousSibling.style.display = 'block';\n",
       "                this.parentNode.style.display = 'inline-block';\n",
       "            } else {\n",
       "                this.previousSibling.style.display = 'none';\n",
       "                this.parentNode.style.display = 'inline';\n",
       "            }\"\n",
       "            onmouseover=\"document.getElementById('_fb_usieyiccwpusnzjovqwp_ind_7').style.opacity = 1; document.getElementById('_fs_usieyiccwpusnzjovqwp_ind_7').style.opacity = 1;\"\n",
       "            onmouseout=\"document.getElementById('_fb_usieyiccwpusnzjovqwp_ind_7').style.opacity = 0; document.getElementById('_fs_usieyiccwpusnzjovqwp_ind_7').style.opacity = 0;\"\n",
       "        > hier</div></div><div style='display: inline; text-align: center;'\n",
       "    ><div style='display: none; color: #999; padding-top: 0px; font-size: 12px;'>-0.049</div\n",
       "        ><div id='_tp_usieyiccwpusnzjovqwp_ind_8'\n",
       "            style='display: inline; background: rgba(30.0, 136.0, 229.0, 0.3299663299663299); border-radius: 3px; padding: 0px'\n",
       "            onclick=\"\n",
       "            if (this.previousSibling.style.display == 'none') {\n",
       "                this.previousSibling.style.display = 'block';\n",
       "                this.parentNode.style.display = 'inline-block';\n",
       "            } else {\n",
       "                this.previousSibling.style.display = 'none';\n",
       "                this.parentNode.style.display = 'inline';\n",
       "            }\"\n",
       "            onmouseover=\"document.getElementById('_fb_usieyiccwpusnzjovqwp_ind_8').style.opacity = 1; document.getElementById('_fs_usieyiccwpusnzjovqwp_ind_8').style.opacity = 1;\"\n",
       "            onmouseout=\"document.getElementById('_fb_usieyiccwpusnzjovqwp_ind_8').style.opacity = 0; document.getElementById('_fs_usieyiccwpusnzjovqwp_ind_8').style.opacity = 0;\"\n",
       "        > ein </div></div><div style='display: inline; text-align: center;'\n",
       "    ><div style='display: none; color: #999; padding-top: 0px; font-size: 12px;'>0.15</div\n",
       "        ><div id='_tp_usieyiccwpusnzjovqwp_ind_9'\n",
       "            style='display: inline; background: rgba(255.0, 13.0, 87.0, 1.0); border-radius: 3px; padding: 0px'\n",
       "            onclick=\"\n",
       "            if (this.previousSibling.style.display == 'none') {\n",
       "                this.previousSibling.style.display = 'block';\n",
       "                this.parentNode.style.display = 'inline-block';\n",
       "            } else {\n",
       "                this.previousSibling.style.display = 'none';\n",
       "                this.parentNode.style.display = 'inline';\n",
       "            }\"\n",
       "            onmouseover=\"document.getElementById('_fb_usieyiccwpusnzjovqwp_ind_9').style.opacity = 1; document.getElementById('_fs_usieyiccwpusnzjovqwp_ind_9').style.opacity = 1;\"\n",
       "            onmouseout=\"document.getElementById('_fb_usieyiccwpusnzjovqwp_ind_9').style.opacity = 0; document.getElementById('_fs_usieyiccwpusnzjovqwp_ind_9').style.opacity = 0;\"\n",
       "        > Mann</div></div><div style='display: inline; text-align: center;'\n",
       "    ><div style='display: none; color: #999; padding-top: 0px; font-size: 12px;'>-0.018</div\n",
       "        ><div id='_tp_usieyiccwpusnzjovqwp_ind_10'\n",
       "            style='display: inline; background: rgba(30.0, 136.0, 229.0, 0.11713210536739943); border-radius: 3px; padding: 0px'\n",
       "            onclick=\"\n",
       "            if (this.previousSibling.style.display == 'none') {\n",
       "                this.previousSibling.style.display = 'block';\n",
       "                this.parentNode.style.display = 'inline-block';\n",
       "            } else {\n",
       "                this.previousSibling.style.display = 'none';\n",
       "                this.parentNode.style.display = 'inline';\n",
       "            }\"\n",
       "            onmouseover=\"document.getElementById('_fb_usieyiccwpusnzjovqwp_ind_10').style.opacity = 1; document.getElementById('_fs_usieyiccwpusnzjovqwp_ind_10').style.opacity = 1;\"\n",
       "            onmouseout=\"document.getElementById('_fb_usieyiccwpusnzjovqwp_ind_10').style.opacity = 0; document.getElementById('_fs_usieyiccwpusnzjovqwp_ind_10').style.opacity = 0;\"\n",
       "        > </div></div><div style='display: inline; text-align: center;'\n",
       "    ><div style='display: none; color: #999; padding-top: 0px; font-size: 12px;'>-0.003</div\n",
       "        ><div id='_tp_usieyiccwpusnzjovqwp_ind_11'\n",
       "            style='display: inline; background: rgba(30.0, 136.0, 229.0, 0.014656367597544028); border-radius: 3px; padding: 0px'\n",
       "            onclick=\"\n",
       "            if (this.previousSibling.style.display == 'none') {\n",
       "                this.previousSibling.style.display = 'block';\n",
       "                this.parentNode.style.display = 'inline-block';\n",
       "            } else {\n",
       "                this.previousSibling.style.display = 'none';\n",
       "                this.parentNode.style.display = 'inline';\n",
       "            }\"\n",
       "            onmouseover=\"document.getElementById('_fb_usieyiccwpusnzjovqwp_ind_11').style.opacity = 1; document.getElementById('_fs_usieyiccwpusnzjovqwp_ind_11').style.opacity = 1;\"\n",
       "            onmouseout=\"document.getElementById('_fb_usieyiccwpusnzjovqwp_ind_11').style.opacity = 0; document.getElementById('_fs_usieyiccwpusnzjovqwp_ind_11').style.opacity = 0;\"\n",
       "        ></div></div></div>"
      ],
      "text/plain": [
       "<IPython.core.display.HTML object>"
      ]
     },
     "metadata": {},
     "output_type": "display_data"
    }
   ],
   "source": [
    "shap.plots.text(shap_values[0])"
   ]
  },
  {
   "cell_type": "code",
   "execution_count": 32,
   "metadata": {},
   "outputs": [
    {
     "data": {
      "text/plain": [
       "array([[0.50282335, 0.49717662]], dtype=float32)"
      ]
     },
     "execution_count": 32,
     "metadata": {},
     "output_type": "execute_result"
    }
   ],
   "source": [
    "#TODO: remove \"Kurden\" (or other words which SHAP identifies as import) \n",
    "# from the comment and then see what score the model gives it :) \n",
    "import numpy as np\n",
    "\n",
    "txt = \"Ich stelle mal folgende Vermutung an so wie es auch bei Tätern hier immer dargestellt wird Einzeltäter verwirrt traumatisiert. Liebe über alles\"\n",
    "def score_text(txt):\n",
    "\n",
    "    input_ids = torch.tensor([tokenizer.encode(txt)])\n",
    "    pred = model(input_ids)[\"prediction\"].detach().numpy()\n",
    "    # print(pred)\n",
    "    scores = (np.exp(pred).T / np.exp(pred).sum(-1)).T\n",
    "    return scores\n",
    "score_text(txt)"
   ]
  },
  {
   "cell_type": "code",
   "execution_count": 54,
   "metadata": {},
   "outputs": [
    {
     "data": {
      "text/plain": [
       "array([[0.5951737 , 0.40482628]], dtype=float32)"
      ]
     },
     "execution_count": 54,
     "metadata": {},
     "output_type": "execute_result"
    }
   ],
   "source": [
    "score_text(\"Ich liebe die Umwelt und mein Leben ist sehr schoen Diese Artikel wurde sehr gut geschrieben danke Mann\" + \"Liebe alles\" * 100)"
   ]
  },
  {
   "cell_type": "code",
   "execution_count": null,
   "metadata": {},
   "outputs": [],
   "source": [
    "score_text(\"ich liebe dich\")"
   ]
  },
  {
   "cell_type": "code",
   "execution_count": 58,
   "metadata": {},
   "outputs": [
    {
     "data": {
      "text/plain": [
       "array([[0.6666064, 0.3333936]], dtype=float32)"
      ]
     },
     "execution_count": 58,
     "metadata": {},
     "output_type": "execute_result"
    }
   ],
   "source": [
    "score_text(\"Ich liebe Katzen \"*100)\n",
    "# hello??? this can't be right :("
   ]
  },
  {
   "cell_type": "code",
   "execution_count": 59,
   "metadata": {},
   "outputs": [
    {
     "data": {
      "text/plain": [
       "0.3873578"
      ]
     },
     "execution_count": 59,
     "metadata": {},
     "output_type": "execute_result"
    }
   ],
   "source": [
    "true_negatives = np.load(\"./true_neg/RP-Mod-true-neg.npy\")\n",
    "sum([score_text(true_negatives[i])[0][1] >= 0.5 for i in range(len(true_negatives))])/len(true_negatives)\n",
    "# score_text(true_negatives[6])"
   ]
  },
  {
   "cell_type": "code",
   "execution_count": 63,
   "metadata": {},
   "outputs": [
    {
     "data": {
      "text/plain": [
       "'classification: Weil das Land damit einen einstelligen Milliardenbetrag an Subventionen spart '"
      ]
     },
     "execution_count": 63,
     "metadata": {},
     "output_type": "execute_result"
    }
   ],
   "source": [
    "true_negatives[7]"
   ]
  },
  {
   "cell_type": "code",
   "execution_count": 24,
   "metadata": {},
   "outputs": [
    {
     "data": {
      "text/plain": [
       "array([0.22180541], dtype=float32)"
      ]
     },
     "execution_count": 24,
     "metadata": {},
     "output_type": "execute_result"
    }
   ],
   "source": [
    "f(false_pos[1:2])"
   ]
  },
  {
   "cell_type": "code",
   "execution_count": 23,
   "metadata": {},
   "outputs": [
    {
     "data": {
      "text/plain": [
       "memmap(['classification Sehr sympathisch diese Frau und das sagt hier ein  Mann ',\n",
       "        'classification Kein Artikel wert',\n",
       "        'classification Na ja Wenigstens hat sie diesmal nicht Deutschland verbrüht Schonmal eine Entwicklungsstufe weiter',\n",
       "        'classification Hallo nehmt doch die Rocker aus Erkrath Unterfeldhaus Die Jungens sind froh über eine solche Arbeit Wer sich nicht benimmt der fliegt und zwar raus',\n",
       "        'classification Wildtiere haben im Zirkus nichts verloren   Inkompetente haben in der Politik nichts zu suchen ',\n",
       "        'classification Ich stelle mal folgende Vermutung an so wie es auch bei Tätern mit Migrationshintergrund hier immer dargestellt wirdEinzeltäter verwirrt traumatisiert hat nix mit den Rechtsextremen zu tun',\n",
       "        'classification Ich freue mich zu wissen das Deutschland in Brüssel von einer vertreten wird die Islamwissenschaft und Turkologie studiert hat  Sehr hilfreich für die vielen neuen Gäste Ska wird ganz ganz viel Verständnis für die Fachkräfte haben  Wie weltfremd muß man sein so etwas zu wählen  Allerdings immer noch gebildeter als die ganzen Studienabbrecher der Grünen wie CR und KGE ',\n",
       "        'classification Warum wird nicht berichtet wofür die Kurden demonstrieren Doch nicht für eine Menschenkette vom Hbf bis zum Landtag Ich brauche mehr Details ',\n",
       "        'classification schon wiederund das ist dann der gute journalismus der geld kostet',\n",
       "        'classification Vor 2015 keine Daten Wo kommt das Virus her'],\n",
       "       dtype='<U500')"
      ]
     },
     "execution_count": 23,
     "metadata": {},
     "output_type": "execute_result"
    }
   ],
   "source": [
    "false_pos[:10]"
   ]
  },
  {
   "cell_type": "code",
   "execution_count": 15,
   "metadata": {},
   "outputs": [
    {
     "data": {
      "text/plain": [
       "memmap(['classification Sehr sympathisch diese Frau und das sagt hier ein  Mann ',\n",
       "        'classification Kein Artikel wert',\n",
       "        'classification Na ja Wenigstens hat sie diesmal nicht Deutschland verbrüht Schonmal eine Entwicklungsstufe weiter',\n",
       "        'classification Hallo nehmt doch die Rocker aus Erkrath Unterfeldhaus Die Jungens sind froh über eine solche Arbeit Wer sich nicht benimmt der fliegt und zwar raus',\n",
       "        'classification Wildtiere haben im Zirkus nichts verloren   Inkompetente haben in der Politik nichts zu suchen ',\n",
       "        'classification Ich stelle mal folgende Vermutung an so wie es auch bei Tätern mit Migrationshintergrund hier immer dargestellt wirdEinzeltäter verwirrt traumatisiert hat nix mit den Rechtsextremen zu tun',\n",
       "        'classification Ich freue mich zu wissen das Deutschland in Brüssel von einer vertreten wird die Islamwissenschaft und Turkologie studiert hat  Sehr hilfreich für die vielen neuen Gäste Ska wird ganz ganz viel Verständnis für die Fachkräfte haben  Wie weltfremd muß man sein so etwas zu wählen  Allerdings immer noch gebildeter als die ganzen Studienabbrecher der Grünen wie CR und KGE ',\n",
       "        'classification Warum wird nicht berichtet wofür die Kurden demonstrieren Doch nicht für eine Menschenkette vom Hbf bis zum Landtag Ich brauche mehr Details ',\n",
       "        'classification schon wiederund das ist dann der gute journalismus der geld kostet',\n",
       "        'classification Vor 2015 keine Daten Wo kommt das Virus her'],\n",
       "       dtype='<U500')"
      ]
     },
     "execution_count": 15,
     "metadata": {},
     "output_type": "execute_result"
    }
   ],
   "source": [
    "false_pos[:10]"
   ]
  },
  {
   "cell_type": "code",
   "execution_count": null,
   "metadata": {},
   "outputs": [],
   "source": []
  },
  {
   "cell_type": "code",
   "execution_count": 25,
   "metadata": {},
   "outputs": [
    {
     "name": "stdout",
     "output_type": "stream",
     "text": [
      "0.7419354838709677\n"
     ]
    }
   ],
   "source": [
    "from sklearn import metrics\n",
    "val_dataloader = DataLoader(valid_dataset, batch_size=64)\n",
    "\n",
    "# for batch in val_dataloader:\n",
    "batch = next(iter(val_dataloader))\n",
    "labels = batch[\"target_ids\"]\n",
    "outs = new_model.model.generate(input_ids=batch[\"source_ids\"], \n",
    "                            attention_mask=batch[\"source_mask\"], \n",
    "                            max_length=2)\n",
    "\n",
    "dec = [tokenizer.decode(ids) for ids in outs]\n",
    "target = [tokenizer.decode(label) for label in labels]\n",
    "\n",
    "new_outputs = [s[6:] for s in dec]\n",
    "new_targets = [s[:-4] for s in target]\n",
    "\n",
    "f1 = metrics.f1_score(new_targets, new_outputs, pos_label=\"problematisch\")\n",
    "print(f1)"
   ]
  }
 ],
 "metadata": {
  "kernelspec": {
   "display_name": "Python 3 (ipykernel)",
   "language": "python",
   "name": "python3"
  },
  "language_info": {
   "codemirror_mode": {
    "name": "ipython",
    "version": 3
   },
   "file_extension": ".py",
   "mimetype": "text/x-python",
   "name": "python",
   "nbconvert_exporter": "python",
   "pygments_lexer": "ipython3",
   "version": "3.9.10"
  },
  "orig_nbformat": 4
 },
 "nbformat": 4,
 "nbformat_minor": 2
}
